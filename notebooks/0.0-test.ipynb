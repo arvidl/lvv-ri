{
 "cells": [
  {
   "cell_type": "markdown",
   "metadata": {},
   "source": [
    "**0.0-test.ipynb** for testing your `lvv-ri` environment\n",
    "\n",
    "Copyright (c) 2019, Arvid Lundervold"
   ]
  },
  {
   "cell_type": "markdown",
   "metadata": {},
   "source": [
    "# python, numpy, pandas, matplotlib, rpy2 and more"
   ]
  },
  {
   "cell_type": "markdown",
   "metadata": {},
   "source": [
    "If you successfully run through this notebook, then your Python environment is configured correctly. "
   ]
  },
  {
   "cell_type": "markdown",
   "metadata": {},
   "source": [
    "# How to use the Jupyter Notebook?"
   ]
  },
  {
   "cell_type": "markdown",
   "metadata": {},
   "source": [
    "[Jupyter Notebook](http://jupyter.org/) is a useful tool for experimenting with code. Everything of code and text is written in HTML, Markdown and Python.\n",
    "\n",
    "Use arrow keys to navigate between cells. Hit ENTER on a cell to switch to editing mode. ESC to get back."
   ]
  },
  {
   "cell_type": "code",
   "execution_count": 56,
   "metadata": {},
   "outputs": [
    {
     "name": "stdout",
     "output_type": "stream",
     "text": [
      "This is a Jupyter cell containing Python code. Hit 'Run' in the menu to execute the cell. \n"
     ]
    }
   ],
   "source": [
    "print(\"This is a Jupyter cell containing Python code. Hit 'Run' in the menu to execute the cell. \")"
   ]
  },
  {
   "cell_type": "markdown",
   "metadata": {},
   "source": [
    "You can also run cells by typing **Shift+Enter** or **Ctrl+Enter**. Try running the cell above by using both of these."
   ]
  },
  {
   "cell_type": "markdown",
   "metadata": {},
   "source": [
    "You will find more information via the Help menu above."
   ]
  },
  {
   "cell_type": "markdown",
   "metadata": {},
   "source": [
    "`lvv-ri` is using Jupyter Notebooks with both Python and R for the coding. <br>Here is a good tutorial on Jupyter Notebook: [Jupyter Notebook Tutorial: The Definitive Guide](https://www.datacamp.com/community/tutorials/tutorial-jupyter-notebook)."
   ]
  },
  {
   "cell_type": "markdown",
   "metadata": {},
   "source": [
    "# Import libraries"
   ]
  },
  {
   "cell_type": "markdown",
   "metadata": {},
   "source": [
    "These are libaries that will be frequently used in the course:"
   ]
  },
  {
   "cell_type": "code",
   "execution_count": 57,
   "metadata": {},
   "outputs": [],
   "source": [
    "# To diosplay plots directly in the notebook:\n",
    "%matplotlib inline"
   ]
  },
  {
   "cell_type": "code",
   "execution_count": 58,
   "metadata": {},
   "outputs": [],
   "source": [
    "# A frequently used plotting libraryp:\n",
    "import matplotlib\n",
    "import matplotlib.pyplot as plt"
   ]
  },
  {
   "cell_type": "code",
   "execution_count": 59,
   "metadata": {},
   "outputs": [],
   "source": [
    "# An extension of matplotlib making it easy to generate even nicer plots:\n",
    "import seaborn as sns"
   ]
  },
  {
   "cell_type": "code",
   "execution_count": 60,
   "metadata": {},
   "outputs": [],
   "source": [
    "# A numerical libray for efficient manipulation of matrices (and more):\n",
    "import numpy as np"
   ]
  },
  {
   "cell_type": "code",
   "execution_count": 61,
   "metadata": {},
   "outputs": [],
   "source": [
    "# To read, write and proecess tabular data:\n",
    "import pandas as pd"
   ]
  },
  {
   "cell_type": "code",
   "execution_count": 62,
   "metadata": {},
   "outputs": [],
   "source": [
    "# For machine learning:\n",
    "import sklearn"
   ]
  },
  {
   "cell_type": "code",
   "execution_count": 63,
   "metadata": {},
   "outputs": [],
   "source": [
    "# For using R:\n",
    "import rpy2\n",
    "from rpy2.robjects import r, pandas2ri\n",
    "pandas2ri.activate()\n",
    "from rpy2.robjects.lib.tidyr import DataFrame"
   ]
  },
  {
   "cell_type": "markdown",
   "metadata": {},
   "source": [
    "If errors like<br>\n",
    "```python\n",
    "RRuntimeError: Error in loadNamespace(name) : there is no package called 'tidyr'\n",
    "```\n",
    "see cell below:"
   ]
  },
  {
   "cell_type": "code",
   "execution_count": 64,
   "metadata": {},
   "outputs": [
    {
     "data": {
      "text/plain": [
       "rpy2.rinterface.NULL"
      ]
     },
     "execution_count": 64,
     "metadata": {},
     "output_type": "execute_result"
    }
   ],
   "source": [
    "from rpy2.robjects.packages import importr\n",
    "utils = importr('utils')\n",
    "# If needed to install - uncomment the following\n",
    "utils.install_packages('tidyr')\n",
    "utils.install_packages('lazyeval')\n",
    "utils.install_packages('lme4')\n",
    "utils.install_packages('ggplot2')\n",
    "utils.install_packages('GGally')\n",
    "utils.install_packages('foreign')\n",
    "\n",
    "# Extra:\n",
    "#utils.install_packages('caret')\n",
    "#utils.install_packages('tidyverse')\n",
    "#utils.install_packages('devtools')\n",
    "#utils.install_packages('rlang')\n",
    "#utils.install_packages('Rccp')\n",
    "#utils.install_packages('tikzDevice')\n",
    "#utils.install_packages('stargazer')\n",
    "#utils.install_packages('readxl')\n",
    "#utils.install_packages('stringi')\n",
    "#utils.install_packages('r-cran-stringi')\n",
    "#utils.install_packages('foreign')"
   ]
  },
  {
   "cell_type": "code",
   "execution_count": 67,
   "metadata": {},
   "outputs": [],
   "source": [
    "%reload_ext rpy2.ipython"
   ]
  },
  {
   "cell_type": "code",
   "execution_count": 68,
   "metadata": {},
   "outputs": [
    {
     "data": {
      "text/plain": [
       "array(['x86_64, mingw32'], dtype='<U15')"
      ]
     },
     "execution_count": 68,
     "metadata": {},
     "output_type": "execute_result"
    }
   ],
   "source": [
    "%R R.version$system"
   ]
  },
  {
   "cell_type": "code",
   "execution_count": 69,
   "metadata": {},
   "outputs": [
    {
     "data": {
      "text/plain": [
       "array(['R version 3.4.1 (2017-06-30)'], dtype='<U28')"
      ]
     },
     "execution_count": 69,
     "metadata": {},
     "output_type": "execute_result"
    }
   ],
   "source": [
    "%R R.version$version.str"
   ]
  },
  {
   "cell_type": "code",
   "execution_count": 70,
   "metadata": {},
   "outputs": [],
   "source": [
    "%R library(foreign); #library(readxl)"
   ]
  },
  {
   "cell_type": "markdown",
   "metadata": {},
   "source": [
    "# Test libraries"
   ]
  },
  {
   "cell_type": "markdown",
   "metadata": {},
   "source": [
    "**REMARK:**  The aim of the following is to test the installation, not doing relevant `lvv-ri`analysis."
   ]
  },
  {
   "cell_type": "markdown",
   "metadata": {},
   "source": [
    "## `Numpy`"
   ]
  },
  {
   "cell_type": "code",
   "execution_count": 71,
   "metadata": {},
   "outputs": [],
   "source": [
    "import numpy as np"
   ]
  },
  {
   "cell_type": "code",
   "execution_count": 72,
   "metadata": {},
   "outputs": [
    {
     "name": "stdout",
     "output_type": "stream",
     "text": [
      "<class 'numpy.ndarray'>\n"
     ]
    }
   ],
   "source": [
    "a = np.array([1, 2, 3])\n",
    "print(type(a))"
   ]
  },
  {
   "cell_type": "code",
   "execution_count": 73,
   "metadata": {},
   "outputs": [
    {
     "data": {
      "text/plain": [
       "array([[0.04943736, 0.91547509, 0.92131277],\n",
       "       [0.33699013, 0.82974852, 0.70147462],\n",
       "       [0.00760369, 0.32886869, 0.04723545]])"
      ]
     },
     "execution_count": 73,
     "metadata": {},
     "output_type": "execute_result"
    }
   ],
   "source": [
    "e = np.random.random((3,3))\n",
    "e"
   ]
  },
  {
   "cell_type": "markdown",
   "metadata": {},
   "source": [
    "## `matplotlib`: a simple plot"
   ]
  },
  {
   "cell_type": "code",
   "execution_count": 74,
   "metadata": {},
   "outputs": [],
   "source": [
    "%matplotlib inline\n",
    "import matplotlib.pyplot as plt"
   ]
  },
  {
   "cell_type": "markdown",
   "metadata": {},
   "source": [
    "The following will give a figure displaying a sine function:"
   ]
  },
  {
   "cell_type": "code",
   "execution_count": 75,
   "metadata": {},
   "outputs": [
    {
     "data": {
      "image/png": "[encoded data removed]",
      "text/plain": [
       "<Figure size 576x288 with 1 Axes>"
      ]
     },
     "metadata": {
      "needs_background": "light"
     },
     "output_type": "display_data"
    }
   ],
   "source": [
    "# Data to be plotted (generated by Numpy)\n",
    "t = np.arange(0.0, 2.0, 0.01)\n",
    "s = 1 + np.sin(2 * np.pi * t)\n",
    "\n",
    "# Make a figure of given size\n",
    "f, ax = plt.subplots(figsize=(8,4))\n",
    "\n",
    "# Plot t versus s\n",
    "plt.plot(t, s)\n",
    "\n",
    "# Add a title and labels:\n",
    "plt.title('A simple plot')\n",
    "plt.xlabel('time (s)')\n",
    "plt.ylabel('voltage')\n",
    "\n",
    "# Show plot:\n",
    "plt.show()"
   ]
  },
  {
   "cell_type": "markdown",
   "metadata": {},
   "source": [
    "## `Seaborn`: a more advanced plot"
   ]
  },
  {
   "cell_type": "code",
   "execution_count": 76,
   "metadata": {},
   "outputs": [],
   "source": [
    "import seaborn as sns"
   ]
  },
  {
   "cell_type": "markdown",
   "metadata": {},
   "source": [
    "Source: [Link](https://seaborn.pydata.org/examples/scatterplot_categorical.html)"
   ]
  },
  {
   "cell_type": "code",
   "execution_count": 77,
   "metadata": {},
   "outputs": [
    {
     "data": {
      "image/png": "[encoded data removed]",
      "text/plain": [
       "<Figure size 576x576 with 1 Axes>"
      ]
     },
     "metadata": {},
     "output_type": "display_data"
    }
   ],
   "source": [
    "sns.set(style=\"whitegrid\", palette=\"muted\")\n",
    "\n",
    "# Load the iris dataset\n",
    "iris = sns.load_dataset(\"iris\")\n",
    "\n",
    "# \"Melt\" dataset to \"long-form\" or \"tidy\" representation\n",
    "iris = pd.melt(iris, \"species\", var_name=\"measurement\")\n",
    "\n",
    "# Make a figure with given size\n",
    "f, ax = plt.subplots(figsize=(8,8))\n",
    "\n",
    "# Draw a categorical scatterplot to show each observation\n",
    "sns.swarmplot(x=\"measurement\", y=\"value\", hue=\"species\", data=iris, size=5, ax=ax)\n",
    "\n",
    "plt.show()"
   ]
  },
  {
   "cell_type": "markdown",
   "metadata": {},
   "source": [
    "## `Pandas`"
   ]
  },
  {
   "cell_type": "code",
   "execution_count": 78,
   "metadata": {},
   "outputs": [],
   "source": [
    "import pandas as pd"
   ]
  },
  {
   "cell_type": "code",
   "execution_count": 79,
   "metadata": {},
   "outputs": [],
   "source": [
    "df = pd.read_csv('../testdata/0.0-test_data.csv')"
   ]
  },
  {
   "cell_type": "code",
   "execution_count": 80,
   "metadata": {},
   "outputs": [
    {
     "data": {
      "text/html": [
       "<div>\n",
       "<style scoped>\n",
       "    .dataframe tbody tr th:only-of-type {\n",
       "        vertical-align: middle;\n",
       "    }\n",
       "\n",
       "    .dataframe tbody tr th {\n",
       "        vertical-align: top;\n",
       "    }\n",
       "\n",
       "    .dataframe thead th {\n",
       "        text-align: right;\n",
       "    }\n",
       "</style>\n",
       "<table border=\"1\" class=\"dataframe\">\n",
       "  <thead>\n",
       "    <tr style=\"text-align: right;\">\n",
       "      <th></th>\n",
       "      <th>pregnancies</th>\n",
       "      <th>glucose</th>\n",
       "      <th>diastolic</th>\n",
       "      <th>triceps</th>\n",
       "      <th>insulin</th>\n",
       "      <th>bmi</th>\n",
       "      <th>dpf</th>\n",
       "      <th>age</th>\n",
       "      <th>diabetes</th>\n",
       "    </tr>\n",
       "  </thead>\n",
       "  <tbody>\n",
       "    <tr>\n",
       "      <th>0</th>\n",
       "      <td>6</td>\n",
       "      <td>148</td>\n",
       "      <td>72</td>\n",
       "      <td>35</td>\n",
       "      <td>0</td>\n",
       "      <td>33.6</td>\n",
       "      <td>0.627</td>\n",
       "      <td>50</td>\n",
       "      <td>1</td>\n",
       "    </tr>\n",
       "    <tr>\n",
       "      <th>1</th>\n",
       "      <td>1</td>\n",
       "      <td>85</td>\n",
       "      <td>66</td>\n",
       "      <td>29</td>\n",
       "      <td>0</td>\n",
       "      <td>26.6</td>\n",
       "      <td>0.351</td>\n",
       "      <td>31</td>\n",
       "      <td>0</td>\n",
       "    </tr>\n",
       "    <tr>\n",
       "      <th>2</th>\n",
       "      <td>8</td>\n",
       "      <td>183</td>\n",
       "      <td>64</td>\n",
       "      <td>0</td>\n",
       "      <td>0</td>\n",
       "      <td>23.3</td>\n",
       "      <td>0.672</td>\n",
       "      <td>32</td>\n",
       "      <td>1</td>\n",
       "    </tr>\n",
       "    <tr>\n",
       "      <th>3</th>\n",
       "      <td>1</td>\n",
       "      <td>89</td>\n",
       "      <td>66</td>\n",
       "      <td>23</td>\n",
       "      <td>94</td>\n",
       "      <td>28.1</td>\n",
       "      <td>0.167</td>\n",
       "      <td>21</td>\n",
       "      <td>0</td>\n",
       "    </tr>\n",
       "    <tr>\n",
       "      <th>4</th>\n",
       "      <td>0</td>\n",
       "      <td>137</td>\n",
       "      <td>40</td>\n",
       "      <td>35</td>\n",
       "      <td>168</td>\n",
       "      <td>43.1</td>\n",
       "      <td>2.288</td>\n",
       "      <td>33</td>\n",
       "      <td>1</td>\n",
       "    </tr>\n",
       "  </tbody>\n",
       "</table>\n",
       "</div>"
      ],
      "text/plain": [
       "   pregnancies  glucose  diastolic  triceps  insulin   bmi    dpf  age  \\\n",
       "0            6      148         72       35        0  33.6  0.627   50   \n",
       "1            1       85         66       29        0  26.6  0.351   31   \n",
       "2            8      183         64        0        0  23.3  0.672   32   \n",
       "3            1       89         66       23       94  28.1  0.167   21   \n",
       "4            0      137         40       35      168  43.1  2.288   33   \n",
       "\n",
       "   diabetes  \n",
       "0         1  \n",
       "1         0  \n",
       "2         1  \n",
       "3         0  \n",
       "4         1  "
      ]
     },
     "execution_count": 80,
     "metadata": {},
     "output_type": "execute_result"
    }
   ],
   "source": [
    "df.head()"
   ]
  },
  {
   "cell_type": "code",
   "execution_count": 81,
   "metadata": {},
   "outputs": [
    {
     "data": {
      "image/png": "[encoded data removed]",
      "text/plain": [
       "<Figure size 432x288 with 1 Axes>"
      ]
     },
     "metadata": {},
     "output_type": "display_data"
    }
   ],
   "source": [
    "df['age'].hist()\n",
    "plt.title(\"Histogram of age\")\n",
    "plt.xlabel(\"Age\")\n",
    "plt.show()"
   ]
  },
  {
   "cell_type": "markdown",
   "metadata": {},
   "source": [
    "## `scikit-learn`: machine learning"
   ]
  },
  {
   "cell_type": "code",
   "execution_count": 82,
   "metadata": {},
   "outputs": [],
   "source": [
    "from sklearn import datasets\n",
    "from sklearn.model_selection import train_test_split\n",
    "from sklearn.ensemble import RandomForestClassifier\n",
    "from sklearn.metrics import accuracy_score"
   ]
  },
  {
   "cell_type": "code",
   "execution_count": 83,
   "metadata": {},
   "outputs": [],
   "source": [
    "data = datasets.load_breast_cancer()"
   ]
  },
  {
   "cell_type": "code",
   "execution_count": 84,
   "metadata": {},
   "outputs": [],
   "source": [
    "X = data['data']\n",
    "y = data['target']\n",
    "features = data['feature_names']\n",
    "labels = data['target_names']"
   ]
  },
  {
   "cell_type": "code",
   "execution_count": 85,
   "metadata": {},
   "outputs": [
    {
     "name": "stdout",
     "output_type": "stream",
     "text": [
      "['mean radius' 'mean texture' 'mean perimeter' 'mean area'\n",
      " 'mean smoothness' 'mean compactness' 'mean concavity'\n",
      " 'mean concave points' 'mean symmetry' 'mean fractal dimension'\n",
      " 'radius error' 'texture error' 'perimeter error' 'area error'\n",
      " 'smoothness error' 'compactness error' 'concavity error'\n",
      " 'concave points error' 'symmetry error' 'fractal dimension error'\n",
      " 'worst radius' 'worst texture' 'worst perimeter' 'worst area'\n",
      " 'worst smoothness' 'worst compactness' 'worst concavity'\n",
      " 'worst concave points' 'worst symmetry' 'worst fractal dimension']\n"
     ]
    }
   ],
   "source": [
    "print(features)"
   ]
  },
  {
   "cell_type": "code",
   "execution_count": 86,
   "metadata": {},
   "outputs": [
    {
     "name": "stdout",
     "output_type": "stream",
     "text": [
      "['malignant' 'benign']\n"
     ]
    }
   ],
   "source": [
    "print(labels)"
   ]
  },
  {
   "cell_type": "code",
   "execution_count": 87,
   "metadata": {},
   "outputs": [],
   "source": [
    "X_train, X_test, y_train, y_test = train_test_split(X, y)"
   ]
  },
  {
   "cell_type": "code",
   "execution_count": 88,
   "metadata": {},
   "outputs": [],
   "source": [
    "rf = RandomForestClassifier(n_estimators=100)"
   ]
  },
  {
   "cell_type": "code",
   "execution_count": 89,
   "metadata": {},
   "outputs": [
    {
     "data": {
      "text/plain": [
       "RandomForestClassifier(bootstrap=True, class_weight=None, criterion='gini',\n",
       "            max_depth=None, max_features='auto', max_leaf_nodes=None,\n",
       "            min_impurity_decrease=0.0, min_impurity_split=None,\n",
       "            min_samples_leaf=1, min_samples_split=2,\n",
       "            min_weight_fraction_leaf=0.0, n_estimators=100, n_jobs=None,\n",
       "            oob_score=False, random_state=None, verbose=0,\n",
       "            warm_start=False)"
      ]
     },
     "execution_count": 89,
     "metadata": {},
     "output_type": "execute_result"
    }
   ],
   "source": [
    "rf.fit(X_train, y_train)"
   ]
  },
  {
   "cell_type": "code",
   "execution_count": 90,
   "metadata": {},
   "outputs": [],
   "source": [
    "predictions = rf.predict(X_test)"
   ]
  },
  {
   "cell_type": "code",
   "execution_count": 91,
   "metadata": {},
   "outputs": [
    {
     "data": {
      "text/plain": [
       "97.2027972027972"
      ]
     },
     "execution_count": 91,
     "metadata": {},
     "output_type": "execute_result"
    }
   ],
   "source": [
    "accuracy_score(y_test, predictions) * 100"
   ]
  },
  {
   "cell_type": "markdown",
   "metadata": {},
   "source": [
    "## `rpy2`, `lmer` and `ggplot`: Analysis in R"
   ]
  },
  {
   "cell_type": "code",
   "execution_count": 92,
   "metadata": {},
   "outputs": [],
   "source": [
    "%%R\n",
    "\n",
    "# library(foreign)\n",
    "\n",
    "Rdf <- read.csv(file=\"../data/lvv_ri_data.csv\",head=TRUE, sep=\",\")"
   ]
  },
  {
   "cell_type": "code",
   "execution_count": 93,
   "metadata": {},
   "outputs": [
    {
     "data": {
      "text/plain": [
       "array(['Subject', 'Sex', 'AcquisitionYearsW1', 'AcquisitionYearsW2',\n",
       "       'AcquisitionYearsW3', 'Left.Lateral.Ventricle_W1',\n",
       "       'Left.Lateral.Ventricle_W2', 'Left.Lateral.Ventricle_W3',\n",
       "       'Right.Lateral.Ventricle_W1', 'Right.Lateral.Ventricle_W2',\n",
       "       'Right.Lateral.Ventricle_W3', 'EstimatedTotalIntraCranialVol_W3',\n",
       "       'Stroop_3_R_W3'], dtype='<U32')"
      ]
     },
     "execution_count": 93,
     "metadata": {},
     "output_type": "execute_result"
    }
   ],
   "source": [
    "%R names(Rdf)"
   ]
  },
  {
   "cell_type": "code",
   "execution_count": 94,
   "metadata": {},
   "outputs": [
    {
     "data": {
      "text/plain": [
       "array([74, 13], dtype=int32)"
      ]
     },
     "execution_count": 94,
     "metadata": {},
     "output_type": "execute_result"
    }
   ],
   "source": [
    "%R dim(Rdf)"
   ]
  },
  {
   "cell_type": "code",
   "execution_count": 98,
   "metadata": {},
   "outputs": [
    {
     "data": {
      "text/plain": [
       "array([ 66.,  85.,  71.,  41.,  62.,  89.,  46.,  57.,  48.,  50.,  59.,\n",
       "        56.,  40.,  51.,  57.,  54.,  52.,  78.,  54.,  53.,  47.,  46.,\n",
       "        45.,  41.,  57.,  71.,  73.,  41.,  57.,  56., 102.,  78.,  68.,\n",
       "        60.,  48.,  39.,  41.,  55.,  55.,  57.,  42.,  44.,  55.,  51.,\n",
       "        51.,  50.,  44.,  66.,  65.,  63.,  59.,  60.,  54.,  41.,  94.,\n",
       "        78.,  49.,  80.,  51.,  42.,  88.,  58.,  83.,  60.,  51.,  45.,\n",
       "        44.,  45.,  50.,  35.,  42.,  42.,  55.,  74.])"
      ]
     },
     "execution_count": 98,
     "metadata": {},
     "output_type": "execute_result"
    }
   ],
   "source": [
    "%R Rdf$Stroop_3_R_W3"
   ]
  },
  {
   "cell_type": "code",
   "execution_count": 99,
   "metadata": {},
   "outputs": [
    {
     "data": {
      "text/plain": [
       "array([14994.0972973])"
      ]
     },
     "execution_count": 99,
     "metadata": {},
     "output_type": "execute_result"
    }
   ],
   "source": [
    "%R mean(Rdf$Left.Lateral.Ventricle_W1)"
   ]
  },
  {
   "cell_type": "code",
   "execution_count": 100,
   "metadata": {},
   "outputs": [
    {
     "data": {
      "text/plain": [
       "array([8584.6772172])"
      ]
     },
     "execution_count": 100,
     "metadata": {},
     "output_type": "execute_result"
    }
   ],
   "source": [
    "%R sd(Rdf$Left.Lateral.Ventricle_W1)"
   ]
  },
  {
   "cell_type": "code",
   "execution_count": 101,
   "metadata": {},
   "outputs": [
    {
     "data": {
      "text/plain": [
       "array([46.66])"
      ]
     },
     "execution_count": 101,
     "metadata": {},
     "output_type": "execute_result"
    }
   ],
   "source": [
    "%R min(Rdf$AcquisitionYearsW1)"
   ]
  },
  {
   "cell_type": "code",
   "execution_count": 102,
   "metadata": {},
   "outputs": [
    {
     "data": {
      "text/plain": [
       "array([77.63])"
      ]
     },
     "execution_count": 102,
     "metadata": {},
     "output_type": "execute_result"
    }
   ],
   "source": [
    "%R max(Rdf$AcquisitionYearsW1)"
   ]
  },
  {
   "cell_type": "code",
   "execution_count": 103,
   "metadata": {},
   "outputs": [],
   "source": [
    "%%R\n",
    "\n",
    "RdfModel <- na.omit(Rdf, select=c(Subject, Stroop_3_R_W3, Left.Lateral.Ventricle_W1, Left.Lateral.Ventricle_W2, Left.Lateral.Ventricle_W3))\n",
    "RfitLVV <- lm(Stroop_3_R_W3 ~ Left.Lateral.Ventricle_W1 + Left.Lateral.Ventricle_W2 + Left.Lateral.Ventricle_W3, data=RdfModel)"
   ]
  },
  {
   "cell_type": "code",
   "execution_count": 104,
   "metadata": {},
   "outputs": [
    {
     "data": {
      "text/html": [
       "\n",
       "    <span>ListVector with 11 elements.</span>\n",
       "    <table>\n",
       "      <tbody>\n",
       "      \n",
       "      <tr>\n",
       "      <th>\n",
       "        call\n",
       "      </th>\n",
       "      <td>\n",
       "        \n",
       "    <span>Vector with 3 elements.</span>\n",
       "    <table>\n",
       "      <tbody>\n",
       "      <tr>\n",
       "      \n",
       "      <td>\n",
       "        RObject\n",
       "      </td>\n",
       "      \n",
       "      <td>\n",
       "        Vector\n",
       "      </td>\n",
       "      \n",
       "      <td>\n",
       "        RObject\n",
       "      </td>\n",
       "      \n",
       "      </tr>\n",
       "      </tbody>\n",
       "    </table>\n",
       "    \n",
       "      </td>\n",
       "      </tr>\n",
       "      \n",
       "      <tr>\n",
       "      <th>\n",
       "        terms\n",
       "      </th>\n",
       "      <td>\n",
       "        Stroop_3_R_W3 ~ Left.Lateral.Ventricle_W1 + Left.Lateral.Ventricle_W2 + \n",
       "\r\n",
       "    Left.Lateral.Ventricle_W3\n",
       "\r\n",
       "attr(,\"variables\")\n",
       "\r\n",
       "list(Stroop_3_R_W3, Left.Lateral.Ventricle_W1, Left.Lateral.Ventricle_W2, \n",
       "\r\n",
       "    Left.Lateral.Ventricle_W3)\n",
       "\r\n",
       "attr(,\"factors\")\n",
       "\r\n",
       "                          Left.Lateral.Ventricle_W1 Left.Lateral.Ventricle_W2\n",
       "\r\n",
       "Stroop_3_R_W3                                     0                         0\n",
       "\r\n",
       "Left.Lateral.Ventricle_W1                         1                         0\n",
       "\r\n",
       "Left.Lateral.Ventricle_W2                         0                         1\n",
       "\r\n",
       "Left.Lateral.Ventricle_W3                         0                         0\n",
       "\r\n",
       "                          Left.Lateral.Ventricle_W3\n",
       "\r\n",
       "Stroop_3_R_W3                                     0\n",
       "\r\n",
       "Left.Lateral.Ventricle_W1                         0\n",
       "\r\n",
       "Left.Lateral.Ventricle_W2                         0\n",
       "\r\n",
       "Left.Lateral.Ventricle_W3                         1\n",
       "\r\n",
       "attr(,\"term.labels\")\n",
       "\r\n",
       "[1] \"Left.Lateral.Ventricle_W1\" \"Left.Lateral.Ventricle_W2\"\n",
       "\r\n",
       "[3] \"Left.Lateral.Ventricle_W3\"\n",
       "\r\n",
       "attr(,\"order\")\n",
       "\r\n",
       "[1] 1 1 1\n",
       "\r\n",
       "attr(,\"intercept\")\n",
       "\r\n",
       "[1] 1\n",
       "\r\n",
       "attr(,\"response\")\n",
       "\r\n",
       "[1] 1\n",
       "\r\n",
       "attr(,\".Environment\")\n",
       "\r\n",
       "<environment: R_GlobalEnv>\n",
       "\r\n",
       "attr(,\"predvars\")\n",
       "\r\n",
       "list(Stroop_3_R_W3, Left.Lateral.Ventricle_W1, Left.Lateral.Ventricle_W2, \n",
       "\r\n",
       "    Left.Lateral.Ventricle_W3)\n",
       "\r\n",
       "attr(,\"dataClasses\")\n",
       "\r\n",
       "            Stroop_3_R_W3 Left.Lateral.Ventricle_W1 Left.Lateral.Ventricle_W2 \n",
       "\r\n",
       "                \"numeric\"                 \"numeric\"                 \"numeric\" \n",
       "\r\n",
       "Left.Lateral.Ventricle_W3 \n",
       "\r\n",
       "                \"numeric\" \n",
       "\n",
       "      </td>\n",
       "      </tr>\n",
       "      \n",
       "      <tr>\n",
       "      <th>\n",
       "        residuals\n",
       "      </th>\n",
       "      <td>\n",
       "        \n",
       "    <span>FloatVector with 74 elements.</span>\n",
       "    <table>\n",
       "      <tbody>\n",
       "      <tr>\n",
       "      \n",
       "      <td>\n",
       "        11.773199\n",
       "      </td>\n",
       "      \n",
       "      <td>\n",
       "        32.021743\n",
       "      </td>\n",
       "      \n",
       "      <td>\n",
       "        0.073029\n",
       "      </td>\n",
       "      \n",
       "      <td>\n",
       "        -21.817724\n",
       "      </td>\n",
       "      \n",
       "      <td>\n",
       "        ...\n",
       "      </td>\n",
       "      \n",
       "      <td>\n",
       "        -11.487475\n",
       "      </td>\n",
       "      \n",
       "      <td>\n",
       "        -12.203326\n",
       "      </td>\n",
       "      \n",
       "      <td>\n",
       "        -1.590332\n",
       "      </td>\n",
       "      \n",
       "      <td>\n",
       "        11.706603\n",
       "      </td>\n",
       "      \n",
       "      </tr>\n",
       "      </tbody>\n",
       "    </table>\n",
       "    \n",
       "      </td>\n",
       "      </tr>\n",
       "      \n",
       "      <tr>\n",
       "      <th>\n",
       "        ...\n",
       "      </th>\n",
       "      <td>\n",
       "        ...\n",
       "      </td>\n",
       "      </tr>\n",
       "      \n",
       "      <tr>\n",
       "      <th>\n",
       "        adj.r.squared\n",
       "      </th>\n",
       "      <td>\n",
       "        \n",
       "    <span>FloatVector with 1 elements.</span>\n",
       "    <table>\n",
       "      <tbody>\n",
       "      <tr>\n",
       "      \n",
       "      <td>\n",
       "        0.184048\n",
       "      </td>\n",
       "      \n",
       "      </tr>\n",
       "      </tbody>\n",
       "    </table>\n",
       "    \n",
       "      </td>\n",
       "      </tr>\n",
       "      \n",
       "      <tr>\n",
       "      <th>\n",
       "        fstatistic\n",
       "      </th>\n",
       "      <td>\n",
       "        \n",
       "    <span>FloatVector with 3 elements.</span>\n",
       "    <table>\n",
       "      <tbody>\n",
       "      <tr>\n",
       "      \n",
       "      <td>\n",
       "        6.488669\n",
       "      </td>\n",
       "      \n",
       "      <td>\n",
       "        3.000000\n",
       "      </td>\n",
       "      \n",
       "      <td>\n",
       "        70.000000\n",
       "      </td>\n",
       "      \n",
       "      </tr>\n",
       "      </tbody>\n",
       "    </table>\n",
       "    \n",
       "      </td>\n",
       "      </tr>\n",
       "      \n",
       "      <tr>\n",
       "      <th>\n",
       "        cov.unscaled\n",
       "      </th>\n",
       "      <td>\n",
       "        \n",
       "    <span>Matrix with 16 elements.</span>\n",
       "    <table>\n",
       "      <tbody>\n",
       "      <tr>\n",
       "      \n",
       "      <td>\n",
       "        0.055522\n",
       "      </td>\n",
       "      \n",
       "      <td>\n",
       "        -0.000004\n",
       "      </td>\n",
       "      \n",
       "      <td>\n",
       "        0.000001\n",
       "      </td>\n",
       "      \n",
       "      <td>\n",
       "        0.000000\n",
       "      </td>\n",
       "      \n",
       "      <td>\n",
       "        ...\n",
       "      </td>\n",
       "      \n",
       "      <td>\n",
       "        0.000000\n",
       "      </td>\n",
       "      \n",
       "      <td>\n",
       "        0.000000\n",
       "      </td>\n",
       "      \n",
       "      <td>\n",
       "        -0.000000\n",
       "      </td>\n",
       "      \n",
       "      <td>\n",
       "        0.000000\n",
       "      </td>\n",
       "      \n",
       "      </tr>\n",
       "      </tbody>\n",
       "    </table>\n",
       "    \n",
       "      </td>\n",
       "      </tr>\n",
       "      \n",
       "      </tbody>\n",
       "    </table>\n",
       "    "
      ],
      "text/plain": [
       "R object with classes: ('summary.lm',) mapped to:\n",
       "<ListVector - Python:0x000001FAC316E8C8 / R:0x000001FABE258310>\n",
       "[Vector, Formula, FloatVector, Matrix, ..., FloatVector, FloatVector, FloatVector, Matrix]\n",
       "  call: <class 'rpy2.robjects.vectors.Vector'>\n",
       "  R object with classes: ('lm',) mapped to:\n",
       "<Vector - Python:0x000001FAC316E448 / R:0x000001FAC08CE3F0>\n",
       "[RObject, Vector, RObject]\n",
       "  terms: <class 'rpy2.robjects.Formula'>\n",
       "  R object with classes: ('terms', 'formula') mapped to:\n",
       "<Formula - Python:0x000001FAC316F2C8 / R:0x000001FAC06954A0>\n",
       "  residuals: <class 'rpy2.robjects.vectors.FloatVector'>\n",
       "  R object with classes: ('numeric',) mapped to:\n",
       "<FloatVector - Python:0x000001FABD093BC8 / R:0x000001FABE8790B0>\n",
       "[11.773199, 32.021743, 0.073029, -21.817724, ..., -11.487475, -12.203326, -1.590332, 11.706603]\n",
       "  coefficients: <class 'rpy2.robjects.vectors.Matrix'>\n",
       "  R object with classes: ('matrix',) mapped to:\n",
       "<Matrix - Python:0x000001FABD093888 / R:0x000001FABE257FC8>\n",
       "[52.349909, 0.001122, -0.007949, 0.006735, ..., 0.000000, 0.426450, 0.001510, 0.000144]\n",
       "...\n",
       "  sigma: <class 'rpy2.robjects.vectors.FloatVector'>\n",
       "  R object with classes: ('numeric',) mapped to:\n",
       "<FloatVector - Python:0x000001FAC316D9C8 / R:0x000001FAC0DA8AC8>\n",
       "[0.217580]\n",
       "  df: <class 'rpy2.robjects.vectors.FloatVector'>\n",
       "  R object with classes: ('numeric',) mapped to:\n",
       "<FloatVector - Python:0x000001FAC316DD88 / R:0x000001FAC0DA8AF8>\n",
       "[0.184048]\n",
       "  r.squared: <class 'rpy2.robjects.vectors.FloatVector'>\n",
       "  R object with classes: ('numeric',) mapped to:\n",
       "<FloatVector - Python:0x000001FAC316D1C8 / R:0x000001FABAAA2F18>\n",
       "[6.488669, 3.000000, 70.000000]\n",
       "  adj.r.squared: <class 'rpy2.robjects.vectors.Matrix'>\n",
       "  R object with classes: ('matrix',) mapped to:\n",
       "<Matrix - Python:0x000001FAC316D688 / R:0x000001FABE256E60>\n",
       "[0.055522, -0.000004, 0.000001, 0.000000, ..., 0.000000, 0.000000, -0.000000, 0.000000]"
      ]
     },
     "execution_count": 104,
     "metadata": {},
     "output_type": "execute_result"
    }
   ],
   "source": [
    "%R summary(RfitLVV)"
   ]
  },
  {
   "cell_type": "code",
   "execution_count": 105,
   "metadata": {},
   "outputs": [
    {
     "name": "stderr",
     "output_type": "stream",
     "text": [
      "C:\\Users\\arvid\\Anaconda3\\envs\\lvv-ri\\lib\\site-packages\\rpy2\\robjects\\pandas2ri.py:190: FutureWarning: from_items is deprecated. Please use DataFrame.from_dict(dict(items), ...) instead. DataFrame.from_dict(OrderedDict(items)) may be used to preserve the key order.\n",
      "  res = PandasDataFrame.from_items(items)\n"
     ]
    },
    {
     "data": {
      "text/html": [
       "<div>\n",
       "<style scoped>\n",
       "    .dataframe tbody tr th:only-of-type {\n",
       "        vertical-align: middle;\n",
       "    }\n",
       "\n",
       "    .dataframe tbody tr th {\n",
       "        vertical-align: top;\n",
       "    }\n",
       "\n",
       "    .dataframe thead th {\n",
       "        text-align: right;\n",
       "    }\n",
       "</style>\n",
       "<table border=\"1\" class=\"dataframe\">\n",
       "  <thead>\n",
       "    <tr style=\"text-align: right;\">\n",
       "      <th></th>\n",
       "      <th>Df</th>\n",
       "      <th>Sum Sq</th>\n",
       "      <th>Mean Sq</th>\n",
       "      <th>F value</th>\n",
       "      <th>Pr(&gt;F)</th>\n",
       "    </tr>\n",
       "  </thead>\n",
       "  <tbody>\n",
       "    <tr>\n",
       "      <th>0</th>\n",
       "      <td>1</td>\n",
       "      <td>546.862290</td>\n",
       "      <td>546.862290</td>\n",
       "      <td>3.204246</td>\n",
       "      <td>0.077772</td>\n",
       "    </tr>\n",
       "    <tr>\n",
       "      <th>1</th>\n",
       "      <td>1</td>\n",
       "      <td>16.334967</td>\n",
       "      <td>16.334967</td>\n",
       "      <td>0.095712</td>\n",
       "      <td>0.757956</td>\n",
       "    </tr>\n",
       "    <tr>\n",
       "      <th>2</th>\n",
       "      <td>1</td>\n",
       "      <td>2759.027640</td>\n",
       "      <td>2759.027640</td>\n",
       "      <td>16.166049</td>\n",
       "      <td>0.000144</td>\n",
       "    </tr>\n",
       "    <tr>\n",
       "      <th>3</th>\n",
       "      <td>70</td>\n",
       "      <td>11946.761588</td>\n",
       "      <td>170.668023</td>\n",
       "      <td>NaN</td>\n",
       "      <td>NaN</td>\n",
       "    </tr>\n",
       "  </tbody>\n",
       "</table>\n",
       "</div>"
      ],
      "text/plain": [
       "   Df        Sum Sq      Mean Sq    F value    Pr(>F)\n",
       "0   1    546.862290   546.862290   3.204246  0.077772\n",
       "1   1     16.334967    16.334967   0.095712  0.757956\n",
       "2   1   2759.027640  2759.027640  16.166049  0.000144\n",
       "3  70  11946.761588   170.668023        NaN       NaN"
      ]
     },
     "execution_count": 105,
     "metadata": {},
     "output_type": "execute_result"
    }
   ],
   "source": [
    "%R anova(RfitLVV)"
   ]
  },
  {
   "cell_type": "code",
   "execution_count": 108,
   "metadata": {},
   "outputs": [],
   "source": [
    "%%R\n",
    "\n",
    "RdfModel$resid <- RfitLVV$resid\n",
    "Rdf$resid <- RfitLVV$resid"
   ]
  },
  {
   "cell_type": "code",
   "execution_count": 109,
   "metadata": {},
   "outputs": [
    {
     "data": {
      "image/png": "[encoded data removed]"
     },
     "metadata": {},
     "output_type": "display_data"
    }
   ],
   "source": [
    "%R plot(RdfModel$resid)"
   ]
  },
  {
   "cell_type": "code",
   "execution_count": 110,
   "metadata": {},
   "outputs": [
    {
     "data": {
      "image/png": "[encoded data removed]"
     },
     "metadata": {},
     "output_type": "display_data"
    },
    {
     "data": {
      "text/html": [
       "\n",
       "    <span>ListVector with 6 elements.</span>\n",
       "    <table>\n",
       "      <tbody>\n",
       "      \n",
       "      <tr>\n",
       "      <th>\n",
       "        breaks\n",
       "      </th>\n",
       "      <td>\n",
       "        \n",
       "    <span>FloatVector with 8 elements.</span>\n",
       "    <table>\n",
       "      <tbody>\n",
       "      <tr>\n",
       "      \n",
       "      <td>\n",
       "        -30.000000\n",
       "      </td>\n",
       "      \n",
       "      <td>\n",
       "        -20.000000\n",
       "      </td>\n",
       "      \n",
       "      <td>\n",
       "        -10.000000\n",
       "      </td>\n",
       "      \n",
       "      <td>\n",
       "        0.000000\n",
       "      </td>\n",
       "      \n",
       "      <td>\n",
       "        10.000000\n",
       "      </td>\n",
       "      \n",
       "      <td>\n",
       "        20.000000\n",
       "      </td>\n",
       "      \n",
       "      <td>\n",
       "        30.000000\n",
       "      </td>\n",
       "      \n",
       "      <td>\n",
       "        40.000000\n",
       "      </td>\n",
       "      \n",
       "      </tr>\n",
       "      </tbody>\n",
       "    </table>\n",
       "    \n",
       "      </td>\n",
       "      </tr>\n",
       "      \n",
       "      <tr>\n",
       "      <th>\n",
       "        counts\n",
       "      </th>\n",
       "      <td>\n",
       "        \n",
       "    <span>IntVector with 7 elements.</span>\n",
       "    <table>\n",
       "      <tbody>\n",
       "      <tr>\n",
       "      \n",
       "      <td>\n",
       "        2\n",
       "      </td>\n",
       "      \n",
       "      <td>\n",
       "        13\n",
       "      </td>\n",
       "      \n",
       "      <td>\n",
       "        26\n",
       "      </td>\n",
       "      \n",
       "      <td>\n",
       "        20\n",
       "      </td>\n",
       "      \n",
       "      <td>\n",
       "        6\n",
       "      </td>\n",
       "      \n",
       "      <td>\n",
       "        4\n",
       "      </td>\n",
       "      \n",
       "      <td>\n",
       "        3\n",
       "      </td>\n",
       "      \n",
       "      </tr>\n",
       "      </tbody>\n",
       "    </table>\n",
       "    \n",
       "      </td>\n",
       "      </tr>\n",
       "      \n",
       "      <tr>\n",
       "      <th>\n",
       "        density\n",
       "      </th>\n",
       "      <td>\n",
       "        \n",
       "    <span>FloatVector with 7 elements.</span>\n",
       "    <table>\n",
       "      <tbody>\n",
       "      <tr>\n",
       "      \n",
       "      <td>\n",
       "        0.002703\n",
       "      </td>\n",
       "      \n",
       "      <td>\n",
       "        0.017568\n",
       "      </td>\n",
       "      \n",
       "      <td>\n",
       "        0.035135\n",
       "      </td>\n",
       "      \n",
       "      <td>\n",
       "        0.027027\n",
       "      </td>\n",
       "      \n",
       "      <td>\n",
       "        0.008108\n",
       "      </td>\n",
       "      \n",
       "      <td>\n",
       "        0.005405\n",
       "      </td>\n",
       "      \n",
       "      <td>\n",
       "        0.004054\n",
       "      </td>\n",
       "      \n",
       "      </tr>\n",
       "      </tbody>\n",
       "    </table>\n",
       "    \n",
       "      </td>\n",
       "      </tr>\n",
       "      \n",
       "      <tr>\n",
       "      <th>\n",
       "        mids\n",
       "      </th>\n",
       "      <td>\n",
       "        \n",
       "    <span>FloatVector with 7 elements.</span>\n",
       "    <table>\n",
       "      <tbody>\n",
       "      <tr>\n",
       "      \n",
       "      <td>\n",
       "        -25.000000\n",
       "      </td>\n",
       "      \n",
       "      <td>\n",
       "        -15.000000\n",
       "      </td>\n",
       "      \n",
       "      <td>\n",
       "        -5.000000\n",
       "      </td>\n",
       "      \n",
       "      <td>\n",
       "        5.000000\n",
       "      </td>\n",
       "      \n",
       "      <td>\n",
       "        15.000000\n",
       "      </td>\n",
       "      \n",
       "      <td>\n",
       "        25.000000\n",
       "      </td>\n",
       "      \n",
       "      <td>\n",
       "        35.000000\n",
       "      </td>\n",
       "      \n",
       "      </tr>\n",
       "      </tbody>\n",
       "    </table>\n",
       "    \n",
       "      </td>\n",
       "      </tr>\n",
       "      \n",
       "      <tr>\n",
       "      <th>\n",
       "        xname\n",
       "      </th>\n",
       "      <td>\n",
       "        \n",
       "    <span>StrVector with 1 elements.</span>\n",
       "    <table>\n",
       "      <tbody>\n",
       "      <tr>\n",
       "      \n",
       "      <td>\n",
       "        'RdfModel$resid'\n",
       "      </td>\n",
       "      \n",
       "      </tr>\n",
       "      </tbody>\n",
       "    </table>\n",
       "    \n",
       "      </td>\n",
       "      </tr>\n",
       "      \n",
       "      <tr>\n",
       "      <th>\n",
       "        equidist\n",
       "      </th>\n",
       "      <td>\n",
       "        \n",
       "    <span>BoolVector with 1 elements.</span>\n",
       "    <table>\n",
       "      <tbody>\n",
       "      <tr>\n",
       "      \n",
       "      <td>\n",
       "               1\n",
       "      </td>\n",
       "      \n",
       "      </tr>\n",
       "      </tbody>\n",
       "    </table>\n",
       "    \n",
       "      </td>\n",
       "      </tr>\n",
       "      \n",
       "      </tbody>\n",
       "    </table>\n",
       "    "
      ],
      "text/plain": [
       "R object with classes: ('histogram',) mapped to:\n",
       "<ListVector - Python:0x000001FAC2883848 / R:0x000001FAC1DB9DB8>\n",
       "[Float..., IntVe..., Float..., Float..., StrVe..., BoolV...]\n",
       "  breaks: <class 'rpy2.robjects.vectors.FloatVector'>\n",
       "  R object with classes: ('numeric',) mapped to:\n",
       "<FloatVector - Python:0x000001FAC286AD08 / R:0x000001FAC1DB63F8>\n",
       "[-30.000000, -20.000000, -10.000000, 0.000000, 10.000000, 20.000000, 30.000000, 40.000000]\n",
       "  counts: <class 'rpy2.robjects.vectors.IntVector'>\n",
       "  R object with classes: ('integer',) mapped to:\n",
       "<IntVector - Python:0x000001FAC316BB48 / R:0x000001FABE5F62E8>\n",
       "[2, 13, 26, 20, 6, 4, 3]\n",
       "  density: <class 'rpy2.robjects.vectors.FloatVector'>\n",
       "  R object with classes: ('numeric',) mapped to:\n",
       "<FloatVector - Python:0x000001FABD0B1C88 / R:0x000001FAC1DB5F18>\n",
       "[0.002703, 0.017568, 0.035135, 0.027027, 0.008108, 0.005405, 0.004054]\n",
       "  mids: <class 'rpy2.robjects.vectors.FloatVector'>\n",
       "  R object with classes: ('numeric',) mapped to:\n",
       "<FloatVector - Python:0x000001FAC316F108 / R:0x000001FAC1DB5D78>\n",
       "[-25.000000, -15.000000, -5.000000, 5.000000, 15.000000, 25.000000, 35.000000]\n",
       "  xname: <class 'rpy2.robjects.vectors.StrVector'>\n",
       "  R object with classes: ('character',) mapped to:\n",
       "<StrVector - Python:0x000001FAC3169608 / R:0x000001FAC05B5530>\n",
       "['RdfModel$resid']\n",
       "  equidist: <class 'rpy2.robjects.vectors.BoolVector'>\n",
       "  R object with classes: ('logical',) mapped to:\n",
       "<BoolVector - Python:0x000001FAC31691C8 / R:0x000001FAB9450F20>\n",
       "[       1]"
      ]
     },
     "execution_count": 110,
     "metadata": {},
     "output_type": "execute_result"
    }
   ],
   "source": [
    "%R hist(RdfModel$resid)"
   ]
  },
  {
   "cell_type": "markdown",
   "metadata": {},
   "source": [
    "\n",
    "A group of diagnostic plots (residual, qq, scale-location, leverage) to assess model performance when applied to a fitted linear regression model.\n",
    "\n",
    "https://data.library.virginia.edu/diagnostic-plots/"
   ]
  },
  {
   "cell_type": "code",
   "execution_count": 113,
   "metadata": {},
   "outputs": [
    {
     "data": {
      "image/png": "[encoded data removed]"
     },
     "metadata": {},
     "output_type": "display_data"
    }
   ],
   "source": [
    "%R par(mfrow=c(2,2));  plot(RfitLVV)  # Plot four panels on the same figure"
   ]
  },
  {
   "cell_type": "code",
   "execution_count": null,
   "metadata": {},
   "outputs": [],
   "source": []
  }
 ],
 "metadata": {
  "kernelspec": {
   "display_name": "LVV-RI",
   "language": "python",
   "name": "lvv-ri"
  },
  "language_info": {
   "codemirror_mode": {
    "name": "ipython",
    "version": 3
   },
   "file_extension": ".py",
   "mimetype": "text/x-python",
   "name": "python",
   "nbconvert_exporter": "python",
   "pygments_lexer": "ipython3",
   "version": "3.6.7"
  },
  "toc": {
   "base_numbering": 1,
   "nav_menu": {},
   "number_sections": true,
   "sideBar": true,
   "skip_h1_title": false,
   "title_cell": "Table of Contents",
   "title_sidebar": "Contents",
   "toc_cell": false,
   "toc_position": {},
   "toc_section_display": true,
   "toc_window_display": false
  }
 },
 "nbformat": 4,
 "nbformat_minor": 2
}
