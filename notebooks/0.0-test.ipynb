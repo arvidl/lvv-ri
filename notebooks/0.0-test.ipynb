{
 "cells": [
  {
   "cell_type": "markdown",
   "metadata": {},
   "source": [
    "**0.0-test.ipynb** for testing your `lvv-ri` environment\n",
    "\n",
    "Copyright (c) 2019, Arvid Lundervold  (2020-01-17)"
   ]
  },
  {
   "cell_type": "markdown",
   "metadata": {},
   "source": [
    "# python, numpy, pandas, matplotlib, rpy2 and more"
   ]
  },
  {
   "cell_type": "markdown",
   "metadata": {},
   "source": [
    "If you successfully run through this notebook, then your Python environment is configured correctly. "
   ]
  },
  {
   "cell_type": "markdown",
   "metadata": {},
   "source": [
    "# How to use the Jupyter Notebook?"
   ]
  },
  {
   "cell_type": "markdown",
   "metadata": {},
   "source": [
    "[Jupyter Notebook](http://jupyter.org/) is a useful tool for experimenting with code. Everything of code and text is written in HTML, Markdown and Python.\n",
    "\n",
    "Use arrow keys to navigate between cells. Hit ENTER on a cell to switch to editing mode. ESC to get back."
   ]
  },
  {
   "cell_type": "code",
   "execution_count": 1,
   "metadata": {},
   "outputs": [
    {
     "name": "stdout",
     "output_type": "stream",
     "text": [
      "This is a Jupyter cell containing Python code. Hit 'Run' in the menu to execute the cell. \n"
     ]
    }
   ],
   "source": [
    "print(\"This is a Jupyter cell containing Python code. Hit 'Run' in the menu to execute the cell. \")"
   ]
  },
  {
   "cell_type": "markdown",
   "metadata": {},
   "source": [
    "You can also run cells by typing **Shift+Enter** or **Ctrl+Enter**. Try running the cell above by using both of these."
   ]
  },
  {
   "cell_type": "markdown",
   "metadata": {},
   "source": [
    "You will find more information via the Help menu above."
   ]
  },
  {
   "cell_type": "markdown",
   "metadata": {},
   "source": [
    "`lvv-ri` is using Jupyter Notebooks with both Python and R for the coding. <br>Here is a good tutorial on Jupyter Notebook: [Jupyter Notebook Tutorial: The Definitive Guide](https://www.datacamp.com/community/tutorials/tutorial-jupyter-notebook)."
   ]
  },
  {
   "cell_type": "markdown",
   "metadata": {},
   "source": [
    "# Import libraries"
   ]
  },
  {
   "cell_type": "markdown",
   "metadata": {},
   "source": [
    "These are libaries that will be frequently used in the course:"
   ]
  },
  {
   "cell_type": "code",
   "execution_count": 2,
   "metadata": {},
   "outputs": [],
   "source": [
    "# To diosplay plots directly in the notebook:\n",
    "%matplotlib inline"
   ]
  },
  {
   "cell_type": "code",
   "execution_count": 3,
   "metadata": {},
   "outputs": [],
   "source": [
    "# A frequently used plotting libraryp:\n",
    "import matplotlib\n",
    "import matplotlib.pyplot as plt"
   ]
  },
  {
   "cell_type": "code",
   "execution_count": 4,
   "metadata": {},
   "outputs": [],
   "source": [
    "# An extension of matplotlib making it easy to generate even nicer plots:\n",
    "import seaborn as sns"
   ]
  },
  {
   "cell_type": "code",
   "execution_count": 5,
   "metadata": {},
   "outputs": [],
   "source": [
    "# A numerical libray for efficient manipulation of matrices (and more):\n",
    "import numpy as np"
   ]
  },
  {
   "cell_type": "code",
   "execution_count": 6,
   "metadata": {},
   "outputs": [],
   "source": [
    "# To read, write and proecess tabular data:\n",
    "import pandas as pd"
   ]
  },
  {
   "cell_type": "code",
   "execution_count": 7,
   "metadata": {},
   "outputs": [],
   "source": [
    "# For machine learning:\n",
    "import sklearn"
   ]
  },
  {
   "cell_type": "code",
   "execution_count": 8,
   "metadata": {},
   "outputs": [],
   "source": [
    "# For machine learning:\n",
    "#import pandas_ml (not compatible any longer)"
   ]
  },
  {
   "cell_type": "code",
   "execution_count": 9,
   "metadata": {},
   "outputs": [],
   "source": [
    "# For rpy2:\n",
    "import tzlocal"
   ]
  },
  {
   "cell_type": "code",
   "execution_count": 10,
   "metadata": {},
   "outputs": [],
   "source": [
    "# For using R:\n",
    "import rpy2\n",
    "from rpy2.robjects import r, pandas2ri"
   ]
  },
  {
   "cell_type": "code",
   "execution_count": 11,
   "metadata": {},
   "outputs": [],
   "source": [
    "from rpy2.robjects.packages import importr\n",
    "utils = importr('utils')\n",
    "# If needed to install - uncomment the following. NOTE: MacOS and 'stringi' might cause a challenge\n",
    "#     see https://stackoverflow.com/questions/31038636/package-stringi-does-not-work-after-updating-to-r3-2-1\n",
    "#     utils.install_packages('stringi', repos='http://cran.rstudio.com')\n",
    "#utils.install_packages('tidyr')\n",
    "#utils.install_packages('lazyeval')\n",
    "#utils.install_packages('lme4')\n",
    "#utils.install_packages('ggplot2')\n",
    "#utils.install_packages('GGally')\n",
    "#utils.install_packages('foreign')"
   ]
  },
  {
   "cell_type": "code",
   "execution_count": 12,
   "metadata": {},
   "outputs": [],
   "source": [
    "# Supress some warnings:\n",
    "import warnings\n",
    "warnings.filterwarnings('ignore')"
   ]
  },
  {
   "cell_type": "code",
   "execution_count": 13,
   "metadata": {},
   "outputs": [],
   "source": [
    "# For using pandas2ri:\n",
    "pandas2ri.activate()\n",
    "from rpy2.robjects.lib.tidyr import DataFrame"
   ]
  },
  {
   "cell_type": "markdown",
   "metadata": {},
   "source": [
    "If errors like<br>\n",
    "```python\n",
    "RRuntimeError: Error in loadNamespace(name) : there is no package called 'tidyr'\n",
    "```\n",
    "see cell below:"
   ]
  },
  {
   "cell_type": "code",
   "execution_count": 14,
   "metadata": {},
   "outputs": [],
   "source": [
    "%reload_ext rpy2.ipython"
   ]
  },
  {
   "cell_type": "code",
   "execution_count": 15,
   "metadata": {},
   "outputs": [
    {
     "data": {
      "text/plain": [
       "[1] \"x86_64, linux-gnu\"\n"
      ]
     },
     "metadata": {},
     "output_type": "display_data"
    }
   ],
   "source": [
    "%%R \n",
    "R.version$system"
   ]
  },
  {
   "cell_type": "code",
   "execution_count": 16,
   "metadata": {},
   "outputs": [
    {
     "data": {
      "text/plain": [
       "[1] \"R version 3.6.1 (2019-07-05)\"\n"
      ]
     },
     "metadata": {},
     "output_type": "display_data"
    }
   ],
   "source": [
    "%%R \n",
    "R.version$version.str"
   ]
  },
  {
   "cell_type": "code",
   "execution_count": 17,
   "metadata": {},
   "outputs": [],
   "source": [
    "%R library(foreign); #library(readxl)"
   ]
  },
  {
   "cell_type": "markdown",
   "metadata": {},
   "source": [
    "# Test libraries"
   ]
  },
  {
   "cell_type": "markdown",
   "metadata": {},
   "source": [
    "**REMARK:**  The aim of the following is to test the installation, not doing relevant `lvv-ri`analysis."
   ]
  },
  {
   "cell_type": "markdown",
   "metadata": {},
   "source": [
    "## `Numpy`"
   ]
  },
  {
   "cell_type": "code",
   "execution_count": 18,
   "metadata": {},
   "outputs": [],
   "source": [
    "import numpy as np"
   ]
  },
  {
   "cell_type": "code",
   "execution_count": 19,
   "metadata": {},
   "outputs": [
    {
     "name": "stdout",
     "output_type": "stream",
     "text": [
      "<class 'numpy.ndarray'>\n"
     ]
    }
   ],
   "source": [
    "a = np.array([1, 2, 3])\n",
    "print(type(a))"
   ]
  },
  {
   "cell_type": "code",
   "execution_count": 20,
   "metadata": {},
   "outputs": [
    {
     "data": {
      "text/plain": [
       "array([[0.17111458, 0.41728042, 0.77526032],\n",
       "       [0.63869545, 0.2476685 , 0.61687378],\n",
       "       [0.36851687, 0.19257041, 0.77502244]])"
      ]
     },
     "execution_count": 20,
     "metadata": {},
     "output_type": "execute_result"
    }
   ],
   "source": [
    "e = np.random.random((3,3))\n",
    "e"
   ]
  },
  {
   "cell_type": "markdown",
   "metadata": {},
   "source": [
    "## `matplotlib`: a simple plot"
   ]
  },
  {
   "cell_type": "code",
   "execution_count": 21,
   "metadata": {},
   "outputs": [],
   "source": [
    "%matplotlib inline\n",
    "import matplotlib.pyplot as plt"
   ]
  },
  {
   "cell_type": "markdown",
   "metadata": {},
   "source": [
    "The following will give a figure displaying a sine function:"
   ]
  },
  {
   "cell_type": "code",
   "execution_count": 22,
   "metadata": {},
   "outputs": [
    {
     "data": {
      "image/png": "[encoded data removed]",
      "text/plain": [
       "<Figure size 576x288 with 1 Axes>"
      ]
     },
     "metadata": {
      "needs_background": "light"
     },
     "output_type": "display_data"
    }
   ],
   "source": [
    "# Data to be plotted (generated by Numpy)\n",
    "t = np.arange(0.0, 2.0, 0.01)\n",
    "s = 1 + np.sin(2 * np.pi * t)\n",
    "\n",
    "# Make a figure of given size\n",
    "f, ax = plt.subplots(figsize=(8,4))\n",
    "\n",
    "# Plot t versus s\n",
    "plt.plot(t, s)\n",
    "\n",
    "# Add a title and labels:\n",
    "plt.title('A simple plot')\n",
    "plt.xlabel('time (s)')\n",
    "plt.ylabel('voltage')\n",
    "\n",
    "# Show plot:\n",
    "plt.show()"
   ]
  },
  {
   "cell_type": "markdown",
   "metadata": {},
   "source": [
    "## `Seaborn`: a more advanced plot"
   ]
  },
  {
   "cell_type": "code",
   "execution_count": 23,
   "metadata": {},
   "outputs": [],
   "source": [
    "import seaborn as sns"
   ]
  },
  {
   "cell_type": "markdown",
   "metadata": {},
   "source": [
    "Source: [Link](https://seaborn.pydata.org/examples/scatterplot_categorical.html)"
   ]
  },
  {
   "cell_type": "code",
   "execution_count": 24,
   "metadata": {},
   "outputs": [
    {
     "data": {
      "image/png": "[encoded data removed]",
      "text/plain": [
       "<Figure size 576x576 with 1 Axes>"
      ]
     },
     "metadata": {},
     "output_type": "display_data"
    }
   ],
   "source": [
    "sns.set(style=\"whitegrid\", palette=\"muted\")\n",
    "\n",
    "# Load the iris dataset\n",
    "iris = sns.load_dataset(\"iris\")\n",
    "\n",
    "# \"Melt\" dataset to \"long-form\" or \"tidy\" representation\n",
    "iris = pd.melt(iris, \"species\", var_name=\"measurement\")\n",
    "\n",
    "# Make a figure with given size\n",
    "f, ax = plt.subplots(figsize=(8,8))\n",
    "\n",
    "# Draw a categorical scatterplot to show each observation\n",
    "sns.swarmplot(x=\"measurement\", y=\"value\", hue=\"species\", data=iris, size=5, ax=ax)\n",
    "\n",
    "plt.show()"
   ]
  },
  {
   "cell_type": "markdown",
   "metadata": {},
   "source": [
    "## `Pandas`"
   ]
  },
  {
   "cell_type": "code",
   "execution_count": 25,
   "metadata": {},
   "outputs": [],
   "source": [
    "import pandas as pd"
   ]
  },
  {
   "cell_type": "code",
   "execution_count": 26,
   "metadata": {},
   "outputs": [],
   "source": [
    "df = pd.read_csv('../data/lvv_ri_data.csv')"
   ]
  },
  {
   "cell_type": "code",
   "execution_count": 27,
   "metadata": {},
   "outputs": [
    {
     "data": {
      "text/html": [
       "<div>\n",
       "<style scoped>\n",
       "    .dataframe tbody tr th:only-of-type {\n",
       "        vertical-align: middle;\n",
       "    }\n",
       "\n",
       "    .dataframe tbody tr th {\n",
       "        vertical-align: top;\n",
       "    }\n",
       "\n",
       "    .dataframe thead th {\n",
       "        text-align: right;\n",
       "    }\n",
       "</style>\n",
       "<table border=\"1\" class=\"dataframe\">\n",
       "  <thead>\n",
       "    <tr style=\"text-align: right;\">\n",
       "      <th></th>\n",
       "      <th>Subject</th>\n",
       "      <th>Sex</th>\n",
       "      <th>AcquisitionYearsW1</th>\n",
       "      <th>AcquisitionYearsW2</th>\n",
       "      <th>AcquisitionYearsW3</th>\n",
       "      <th>Left-Lateral-Ventricle_W1</th>\n",
       "      <th>Left-Lateral-Ventricle_W2</th>\n",
       "      <th>Left-Lateral-Ventricle_W3</th>\n",
       "      <th>Right-Lateral-Ventricle_W1</th>\n",
       "      <th>Right-Lateral-Ventricle_W2</th>\n",
       "      <th>Right-Lateral-Ventricle_W3</th>\n",
       "      <th>EstimatedTotalIntraCranialVol_W3</th>\n",
       "      <th>Stroop_3_R_W3</th>\n",
       "    </tr>\n",
       "  </thead>\n",
       "  <tbody>\n",
       "    <tr>\n",
       "      <th>0</th>\n",
       "      <td>subj_01</td>\n",
       "      <td>F</td>\n",
       "      <td>56.63</td>\n",
       "      <td>60.35</td>\n",
       "      <td>62.62</td>\n",
       "      <td>5321.4</td>\n",
       "      <td>5063.6</td>\n",
       "      <td>5368.3</td>\n",
       "      <td>6855.2</td>\n",
       "      <td>6729.2</td>\n",
       "      <td>7233.2</td>\n",
       "      <td>1.232679e+06</td>\n",
       "      <td>66.0</td>\n",
       "    </tr>\n",
       "    <tr>\n",
       "      <th>1</th>\n",
       "      <td>subj_02</td>\n",
       "      <td>M</td>\n",
       "      <td>49.07</td>\n",
       "      <td>52.58</td>\n",
       "      <td>55.05</td>\n",
       "      <td>11038.6</td>\n",
       "      <td>11912.2</td>\n",
       "      <td>12313.3</td>\n",
       "      <td>10611.6</td>\n",
       "      <td>11774.8</td>\n",
       "      <td>12070.5</td>\n",
       "      <td>1.464692e+06</td>\n",
       "      <td>85.0</td>\n",
       "    </tr>\n",
       "    <tr>\n",
       "      <th>2</th>\n",
       "      <td>subj_03</td>\n",
       "      <td>M</td>\n",
       "      <td>74.61</td>\n",
       "      <td>78.14</td>\n",
       "      <td>80.59</td>\n",
       "      <td>29718.4</td>\n",
       "      <td>32265.1</td>\n",
       "      <td>35887.0</td>\n",
       "      <td>34241.0</td>\n",
       "      <td>37155.2</td>\n",
       "      <td>41221.4</td>\n",
       "      <td>1.385841e+06</td>\n",
       "      <td>71.0</td>\n",
       "    </tr>\n",
       "    <tr>\n",
       "      <th>3</th>\n",
       "      <td>subj_04</td>\n",
       "      <td>M</td>\n",
       "      <td>56.23</td>\n",
       "      <td>59.78</td>\n",
       "      <td>62.68</td>\n",
       "      <td>21830.1</td>\n",
       "      <td>23933.6</td>\n",
       "      <td>26164.2</td>\n",
       "      <td>15243.9</td>\n",
       "      <td>16505.1</td>\n",
       "      <td>18509.1</td>\n",
       "      <td>1.529445e+06</td>\n",
       "      <td>41.0</td>\n",
       "    </tr>\n",
       "    <tr>\n",
       "      <th>4</th>\n",
       "      <td>subj_05</td>\n",
       "      <td>M</td>\n",
       "      <td>63.22</td>\n",
       "      <td>67.00</td>\n",
       "      <td>69.53</td>\n",
       "      <td>17205.1</td>\n",
       "      <td>16970.1</td>\n",
       "      <td>15858.1</td>\n",
       "      <td>13962.1</td>\n",
       "      <td>13755.5</td>\n",
       "      <td>13143.9</td>\n",
       "      <td>1.371460e+06</td>\n",
       "      <td>62.0</td>\n",
       "    </tr>\n",
       "  </tbody>\n",
       "</table>\n",
       "</div>"
      ],
      "text/plain": [
       "   Subject Sex  AcquisitionYearsW1  AcquisitionYearsW2  AcquisitionYearsW3  \\\n",
       "0  subj_01   F               56.63               60.35               62.62   \n",
       "1  subj_02   M               49.07               52.58               55.05   \n",
       "2  subj_03   M               74.61               78.14               80.59   \n",
       "3  subj_04   M               56.23               59.78               62.68   \n",
       "4  subj_05   M               63.22               67.00               69.53   \n",
       "\n",
       "   Left-Lateral-Ventricle_W1  Left-Lateral-Ventricle_W2  \\\n",
       "0                     5321.4                     5063.6   \n",
       "1                    11038.6                    11912.2   \n",
       "2                    29718.4                    32265.1   \n",
       "3                    21830.1                    23933.6   \n",
       "4                    17205.1                    16970.1   \n",
       "\n",
       "   Left-Lateral-Ventricle_W3  Right-Lateral-Ventricle_W1  \\\n",
       "0                     5368.3                      6855.2   \n",
       "1                    12313.3                     10611.6   \n",
       "2                    35887.0                     34241.0   \n",
       "3                    26164.2                     15243.9   \n",
       "4                    15858.1                     13962.1   \n",
       "\n",
       "   Right-Lateral-Ventricle_W2  Right-Lateral-Ventricle_W3  \\\n",
       "0                      6729.2                      7233.2   \n",
       "1                     11774.8                     12070.5   \n",
       "2                     37155.2                     41221.4   \n",
       "3                     16505.1                     18509.1   \n",
       "4                     13755.5                     13143.9   \n",
       "\n",
       "   EstimatedTotalIntraCranialVol_W3  Stroop_3_R_W3  \n",
       "0                      1.232679e+06           66.0  \n",
       "1                      1.464692e+06           85.0  \n",
       "2                      1.385841e+06           71.0  \n",
       "3                      1.529445e+06           41.0  \n",
       "4                      1.371460e+06           62.0  "
      ]
     },
     "execution_count": 27,
     "metadata": {},
     "output_type": "execute_result"
    }
   ],
   "source": [
    "df.head()"
   ]
  },
  {
   "cell_type": "code",
   "execution_count": 28,
   "metadata": {},
   "outputs": [
    {
     "data": {
      "image/png": "[encoded data removed]",
      "text/plain": [
       "<Figure size 432x288 with 1 Axes>"
      ]
     },
     "metadata": {},
     "output_type": "display_data"
    }
   ],
   "source": [
    "df['AcquisitionYearsW1'].hist()\n",
    "plt.title(\"Histogram of age at inclusion\")\n",
    "plt.xlabel(\"Age\")\n",
    "plt.show()"
   ]
  },
  {
   "cell_type": "markdown",
   "metadata": {},
   "source": [
    "## sklearn.metrics: `confusion_matrix`"
   ]
  },
  {
   "cell_type": "code",
   "execution_count": 29,
   "metadata": {},
   "outputs": [],
   "source": [
    "from sklearn.metrics import confusion_matrix"
   ]
  },
  {
   "cell_type": "code",
   "execution_count": 30,
   "metadata": {},
   "outputs": [],
   "source": [
    "y_true = ['slow', 'slow', 'slow', 'fast', 'slow', 'slow', 'fast', 'medium',\n",
    "       'fast', 'medium', 'slow', 'medium', 'fast', 'medium', 'medium',\n",
    "       'medium', 'medium', 'slow', 'medium', 'medium', 'fast', 'fast',\n",
    "       'fast', 'fast', 'medium', 'slow', 'slow', 'fast', 'medium',\n",
    "       'medium', 'slow', 'slow', 'slow', 'slow', 'fast', 'fast', 'fast',\n",
    "       'medium', 'medium', 'medium', 'fast', 'fast', 'medium', 'medium',\n",
    "       'medium', 'medium', 'fast', 'slow', 'slow', 'slow', 'slow', 'slow',\n",
    "       'medium', 'fast', 'slow', 'slow', 'fast', 'slow', 'medium', 'fast',\n",
    "       'slow', 'medium', 'slow', 'slow', 'medium', 'fast', 'fast', 'fast',\n",
    "       'fast', 'fast', 'fast', 'fast', 'medium', 'slow']"
   ]
  },
  {
   "cell_type": "code",
   "execution_count": 31,
   "metadata": {},
   "outputs": [],
   "source": [
    "y_pred = ['fast', 'medium', 'slow', 'medium', 'medium', 'slow', 'medium',\n",
    "       'fast', 'slow', 'medium', 'fast', 'fast', 'slow', 'medium',\n",
    "       'medium', 'medium', 'fast', 'fast', 'slow', 'fast', 'fast', 'fast',\n",
    "       'fast', 'slow', 'slow', 'slow', 'slow', 'slow', 'medium', 'fast',\n",
    "       'fast', 'fast', 'medium', 'fast', 'medium', 'medium', 'medium',\n",
    "       'slow', 'slow', 'medium', 'fast', 'fast', 'medium', 'medium',\n",
    "       'medium', 'fast', 'slow', 'medium', 'slow', 'slow', 'medium',\n",
    "       'fast', 'fast', 'fast', 'fast', 'slow', 'slow', 'fast', 'slow',\n",
    "       'fast', 'slow', 'medium', 'slow', 'slow', 'slow', 'fast', 'fast',\n",
    "       'fast', 'fast', 'fast', 'fast', 'fast', 'fast', 'fast']"
   ]
  },
  {
   "cell_type": "code",
   "execution_count": 32,
   "metadata": {},
   "outputs": [
    {
     "name": "stdout",
     "output_type": "stream",
     "text": [
      "y Confusion matrix:\n",
      "[[14  5  6]\n",
      " [ 8 10  6]\n",
      " [10  5 10]]\n"
     ]
    }
   ],
   "source": [
    "y_confusion_matrix = confusion_matrix(y_true, y_pred)\n",
    "print(\"y Confusion matrix:\\n%s\" % y_confusion_matrix)"
   ]
  },
  {
   "cell_type": "code",
   "execution_count": 33,
   "metadata": {},
   "outputs": [],
   "source": [
    "#y_confusion_matrix.stats()\n",
    "#y_confusion_matrix.print_stats()"
   ]
  },
  {
   "cell_type": "markdown",
   "metadata": {},
   "source": [
    "From previous pandas_ml\n",
    "```code\n",
    "Confusion Matrix:\n",
    "\n",
    "Predicted  fast  medium  slow  __all__\n",
    "Actual                                \n",
    "fast         14       5     6       25\n",
    "medium        8      10     6       24\n",
    "slow         10       5    10       25\n",
    "__all__      32      20    22       74\n",
    "\n",
    "\n",
    "Overall Statistics:\n",
    "\n",
    "Accuracy: 0.4594594594594595\n",
    "95% CI: (0.3429195917062334, 0.5793443273251775)\n",
    "No Information Rate: ToDo\n",
    "P-Value [Acc > NIR]: 0.3608177987401836\n",
    "Kappa: 0.18815139879319806\n",
    "Mcnemar's Test P-Value: ToDo\n",
    "\n",
    "\n",
    "Class Statistics:\n",
    "\n",
    "Classes                                    fast    medium      slow\n",
    "Population                                   74        74        74\n",
    "P: Condition positive                        25        24        25\n",
    "N: Condition negative                        49        50        49\n",
    "Test outcome positive                        32        20        22\n",
    "Test outcome negative                        42        54        52\n",
    "TP: True Positive                            14        10        10\n",
    "TN: True Negative                            31        40        37\n",
    "FP: False Positive                           18        10        12\n",
    "FN: False Negative                           11        14        15\n",
    "TPR: (Sensitivity, hit rate, recall)       0.56  0.416667       0.4\n",
    "TNR=SPC: (Specificity)                 0.632653       0.8  0.755102\n",
    "PPV: Pos Pred Value (Precision)          0.4375       0.5  0.454545\n",
    "NPV: Neg Pred Value                    0.738095  0.740741  0.711538\n",
    "FPR: False-out                         0.367347       0.2  0.244898\n",
    "FDR: False Discovery Rate                0.5625       0.5  0.545455\n",
    "FNR: Miss Rate                             0.44  0.583333       0.6\n",
    "ACC: Accuracy                          0.608108  0.675676  0.635135\n",
    "F1 score                               0.491228  0.454545  0.425532\n",
    "MCC: Matthews correlation coefficient  0.183927  0.228387  0.160499\n",
    "Informedness                           0.192653  0.216667  0.155102\n",
    "Markedness                             0.175595  0.240741  0.166084\n",
    "Prevalence                             0.337838  0.324324  0.337838\n",
    "LR+: Positive likelihood ratio          1.52444   2.08333   1.63333\n",
    "LR-: Negative likelihood ratio         0.695484  0.729167  0.794595\n",
    "DOR: Diagnostic odds ratio              2.19192   2.85714   2.05556\n",
    "FOR: False omission rate               0.261905  0.259259  0.288462\n",
    "```"
   ]
  },
  {
   "cell_type": "code",
   "execution_count": 34,
   "metadata": {},
   "outputs": [],
   "source": [
    "# Previously, using pandas_ml\n",
    "#y_confusion_matrix.plot()\n",
    "#plt.show()"
   ]
  },
  {
   "cell_type": "code",
   "execution_count": 35,
   "metadata": {},
   "outputs": [
    {
     "data": {
      "image/png": "[encoded data removed]",
      "text/plain": [
       "<Figure size 720x504 with 2 Axes>"
      ]
     },
     "metadata": {},
     "output_type": "display_data"
    }
   ],
   "source": [
    "import seaborn as sn\n",
    "\n",
    "class_names = ['fast', 'medium', 'slow']\n",
    "df_cm = pd.DataFrame(y_confusion_matrix, index = [i for i in class_names],\n",
    "                  columns = [i for i in class_names])\n",
    "\n",
    "plt.figure(figsize = (10,7))\n",
    "ax=sn.heatmap(df_cm, annot=True, fmt='d', square=True)\n",
    "bottom, top = ax.get_ylim()\n",
    "ax.set_ylim(bottom + 0.5, top - 0.5)\n",
    "plt.title('Confusion matrix', fontsize= 16)\n",
    "plt.xlabel('Predicted')\n",
    "plt.ylabel('Actual')\n",
    "plt.show()"
   ]
  },
  {
   "cell_type": "code",
   "execution_count": 36,
   "metadata": {},
   "outputs": [
    {
     "data": {
      "text/html": [
       "<div>\n",
       "<style scoped>\n",
       "    .dataframe tbody tr th:only-of-type {\n",
       "        vertical-align: middle;\n",
       "    }\n",
       "\n",
       "    .dataframe tbody tr th {\n",
       "        vertical-align: top;\n",
       "    }\n",
       "\n",
       "    .dataframe thead th {\n",
       "        text-align: right;\n",
       "    }\n",
       "</style>\n",
       "<table border=\"1\" class=\"dataframe\">\n",
       "  <thead>\n",
       "    <tr style=\"text-align: right;\">\n",
       "      <th></th>\n",
       "      <th>0</th>\n",
       "      <th>1</th>\n",
       "      <th>2</th>\n",
       "    </tr>\n",
       "  </thead>\n",
       "  <tbody>\n",
       "    <tr>\n",
       "      <th>0</th>\n",
       "      <td>14</td>\n",
       "      <td>5</td>\n",
       "      <td>6</td>\n",
       "    </tr>\n",
       "    <tr>\n",
       "      <th>1</th>\n",
       "      <td>8</td>\n",
       "      <td>10</td>\n",
       "      <td>6</td>\n",
       "    </tr>\n",
       "    <tr>\n",
       "      <th>2</th>\n",
       "      <td>10</td>\n",
       "      <td>5</td>\n",
       "      <td>10</td>\n",
       "    </tr>\n",
       "  </tbody>\n",
       "</table>\n",
       "</div>"
      ],
      "text/plain": [
       "    0   1   2\n",
       "0  14   5   6\n",
       "1   8  10   6\n",
       "2  10   5  10"
      ]
     },
     "execution_count": 36,
     "metadata": {},
     "output_type": "execute_result"
    }
   ],
   "source": [
    "#df_y_cm = y_confusion_matrix.to_dataframe()\n",
    "df_y_cm = pd.DataFrame.from_records(y_confusion_matrix)\n",
    "df_y_cm"
   ]
  },
  {
   "cell_type": "code",
   "execution_count": 37,
   "metadata": {},
   "outputs": [
    {
     "data": {
      "text/plain": [
       "array([[10,  5, 10],\n",
       "       [ 6, 10,  8],\n",
       "       [ 6,  5, 14]])"
      ]
     },
     "execution_count": 37,
     "metadata": {},
     "output_type": "execute_result"
    }
   ],
   "source": [
    "x = df_y_cm.values.copy()\n",
    "x[0][0] = df_y_cm.values[2][2]\n",
    "x[0][2] = df_y_cm.values[2][0]\n",
    "x[1][0] = df_y_cm.values[1][2]\n",
    "x[1][2] = df_y_cm.values[1][0]\n",
    "x[2][0] = df_y_cm.values[0][2]\n",
    "x[2][2] = df_y_cm.values[0][0]\n",
    "x"
   ]
  },
  {
   "cell_type": "markdown",
   "metadata": {},
   "source": [
    "## `utils.py`"
   ]
  },
  {
   "cell_type": "code",
   "execution_count": 38,
   "metadata": {
    "scrolled": true
   },
   "outputs": [
    {
     "data": {
      "image/png": "[encoded data removed]",
      "text/plain": [
       "<Figure size 360x360 with 2 Axes>"
      ]
     },
     "metadata": {},
     "output_type": "display_data"
    }
   ],
   "source": [
    "from utils import plot_confusion_matrix, plot_confusion_matrix_with_colorbar\n",
    "cm = x\n",
    "classes = ['slow', 'medium', 'fast'] \n",
    "\n",
    "\n",
    "plot_confusion_matrix_with_colorbar(cm, classes=classes, \n",
    "                                    title='Confusion matrix\\n',\n",
    "#                                    cmap='gray',\n",
    "                                    figsize=(5,5))\n",
    "plt.ylabel('Observed RI')\n",
    "plt.xlabel('Predicted RI')\n",
    "# fn_cm_pdf = '../figures/y_confusion_matrix.pdf'\n",
    "#plt.savefig(fn_cm_pdf, transparent=True)\n",
    "\n",
    "plt.show()"
   ]
  },
  {
   "cell_type": "markdown",
   "metadata": {},
   "source": [
    "## `scikit-learn`: machine learning"
   ]
  },
  {
   "cell_type": "code",
   "execution_count": 39,
   "metadata": {},
   "outputs": [],
   "source": [
    "from sklearn import datasets\n",
    "from sklearn.model_selection import train_test_split\n",
    "from sklearn.ensemble import RandomForestClassifier\n",
    "from sklearn.metrics import accuracy_score"
   ]
  },
  {
   "cell_type": "code",
   "execution_count": 40,
   "metadata": {},
   "outputs": [],
   "source": [
    "data = datasets.load_breast_cancer()"
   ]
  },
  {
   "cell_type": "code",
   "execution_count": 41,
   "metadata": {},
   "outputs": [],
   "source": [
    "X = data['data']\n",
    "y = data['target']\n",
    "features = data['feature_names']\n",
    "labels = data['target_names']"
   ]
  },
  {
   "cell_type": "code",
   "execution_count": 42,
   "metadata": {},
   "outputs": [
    {
     "name": "stdout",
     "output_type": "stream",
     "text": [
      "['mean radius' 'mean texture' 'mean perimeter' 'mean area'\n",
      " 'mean smoothness' 'mean compactness' 'mean concavity'\n",
      " 'mean concave points' 'mean symmetry' 'mean fractal dimension'\n",
      " 'radius error' 'texture error' 'perimeter error' 'area error'\n",
      " 'smoothness error' 'compactness error' 'concavity error'\n",
      " 'concave points error' 'symmetry error' 'fractal dimension error'\n",
      " 'worst radius' 'worst texture' 'worst perimeter' 'worst area'\n",
      " 'worst smoothness' 'worst compactness' 'worst concavity'\n",
      " 'worst concave points' 'worst symmetry' 'worst fractal dimension']\n"
     ]
    }
   ],
   "source": [
    "print(features)"
   ]
  },
  {
   "cell_type": "code",
   "execution_count": 43,
   "metadata": {},
   "outputs": [
    {
     "name": "stdout",
     "output_type": "stream",
     "text": [
      "['malignant' 'benign']\n"
     ]
    }
   ],
   "source": [
    "print(labels)"
   ]
  },
  {
   "cell_type": "code",
   "execution_count": 44,
   "metadata": {},
   "outputs": [],
   "source": [
    "X_train, X_test, y_train, y_test = train_test_split(X, y)"
   ]
  },
  {
   "cell_type": "code",
   "execution_count": 45,
   "metadata": {},
   "outputs": [],
   "source": [
    "rf = RandomForestClassifier(n_estimators=100)"
   ]
  },
  {
   "cell_type": "code",
   "execution_count": 46,
   "metadata": {},
   "outputs": [
    {
     "data": {
      "text/plain": [
       "RandomForestClassifier(bootstrap=True, ccp_alpha=0.0, class_weight=None,\n",
       "                       criterion='gini', max_depth=None, max_features='auto',\n",
       "                       max_leaf_nodes=None, max_samples=None,\n",
       "                       min_impurity_decrease=0.0, min_impurity_split=None,\n",
       "                       min_samples_leaf=1, min_samples_split=2,\n",
       "                       min_weight_fraction_leaf=0.0, n_estimators=100,\n",
       "                       n_jobs=None, oob_score=False, random_state=None,\n",
       "                       verbose=0, warm_start=False)"
      ]
     },
     "execution_count": 46,
     "metadata": {},
     "output_type": "execute_result"
    }
   ],
   "source": [
    "rf.fit(X_train, y_train)"
   ]
  },
  {
   "cell_type": "code",
   "execution_count": 47,
   "metadata": {},
   "outputs": [],
   "source": [
    "predictions = rf.predict(X_test)"
   ]
  },
  {
   "cell_type": "code",
   "execution_count": 48,
   "metadata": {},
   "outputs": [
    {
     "data": {
      "text/plain": [
       "97.9020979020979"
      ]
     },
     "execution_count": 48,
     "metadata": {},
     "output_type": "execute_result"
    }
   ],
   "source": [
    "accuracy_score(y_test, predictions) * 100"
   ]
  },
  {
   "cell_type": "markdown",
   "metadata": {},
   "source": [
    "## `rpy2`, `lmer` and `ggplot`: Analysis in R"
   ]
  },
  {
   "cell_type": "code",
   "execution_count": 49,
   "metadata": {},
   "outputs": [],
   "source": [
    "%%R\n",
    "\n",
    "# library(foreign)\n",
    "\n",
    "Rdf <- read.csv(file=\"../data/lvv_ri_data.csv\",head=TRUE, sep=\",\")"
   ]
  },
  {
   "cell_type": "code",
   "execution_count": 50,
   "metadata": {},
   "outputs": [
    {
     "data": {
      "text/plain": [
       " [1] \"Subject\"                          \"Sex\"                             \n",
       " [3] \"AcquisitionYearsW1\"               \"AcquisitionYearsW2\"              \n",
       " [5] \"AcquisitionYearsW3\"               \"Left.Lateral.Ventricle_W1\"       \n",
       " [7] \"Left.Lateral.Ventricle_W2\"        \"Left.Lateral.Ventricle_W3\"       \n",
       " [9] \"Right.Lateral.Ventricle_W1\"       \"Right.Lateral.Ventricle_W2\"      \n",
       "[11] \"Right.Lateral.Ventricle_W3\"       \"EstimatedTotalIntraCranialVol_W3\"\n",
       "[13] \"Stroop_3_R_W3\"                   \n"
      ]
     },
     "metadata": {},
     "output_type": "display_data"
    }
   ],
   "source": [
    "%%R \n",
    "names(Rdf)"
   ]
  },
  {
   "cell_type": "code",
   "execution_count": 51,
   "metadata": {},
   "outputs": [
    {
     "data": {
      "text/plain": [
       "[1] 74 13\n"
      ]
     },
     "metadata": {},
     "output_type": "display_data"
    }
   ],
   "source": [
    "%%R \n",
    "dim(Rdf)"
   ]
  },
  {
   "cell_type": "code",
   "execution_count": 52,
   "metadata": {},
   "outputs": [
    {
     "data": {
      "text/plain": [
       " [1]  66  85  71  41  62  89  46  57  48  50  59  56  40  51  57  54  52  78  54\n",
       "[20]  53  47  46  45  41  57  71  73  41  57  56 102  78  68  60  48  39  41  55\n",
       "[39]  55  57  42  44  55  51  51  50  44  66  65  63  59  60  54  41  94  78  49\n",
       "[58]  80  51  42  88  58  83  60  51  45  44  45  50  35  42  42  55  74\n"
      ]
     },
     "metadata": {},
     "output_type": "display_data"
    }
   ],
   "source": [
    "%%R \n",
    "Rdf$Stroop_3_R_W3"
   ]
  },
  {
   "cell_type": "code",
   "execution_count": 53,
   "metadata": {},
   "outputs": [
    {
     "data": {
      "text/plain": [
       "[1] 14994.1\n"
      ]
     },
     "metadata": {},
     "output_type": "display_data"
    }
   ],
   "source": [
    "%%R \n",
    "mean(Rdf$Left.Lateral.Ventricle_W1)"
   ]
  },
  {
   "cell_type": "code",
   "execution_count": 54,
   "metadata": {},
   "outputs": [
    {
     "data": {
      "text/plain": [
       "[1] 8584.677\n"
      ]
     },
     "metadata": {},
     "output_type": "display_data"
    }
   ],
   "source": [
    "%%R \n",
    "sd(Rdf$Left.Lateral.Ventricle_W1)"
   ]
  },
  {
   "cell_type": "code",
   "execution_count": 55,
   "metadata": {},
   "outputs": [
    {
     "data": {
      "text/plain": [
       "[1] 46.66\n"
      ]
     },
     "metadata": {},
     "output_type": "display_data"
    }
   ],
   "source": [
    "%%R \n",
    "min(Rdf$AcquisitionYearsW1)"
   ]
  },
  {
   "cell_type": "code",
   "execution_count": 56,
   "metadata": {},
   "outputs": [
    {
     "data": {
      "text/plain": [
       "[1] 77.63\n"
      ]
     },
     "metadata": {},
     "output_type": "display_data"
    }
   ],
   "source": [
    "%%R \n",
    "max(Rdf$AcquisitionYearsW1)"
   ]
  },
  {
   "cell_type": "code",
   "execution_count": 57,
   "metadata": {},
   "outputs": [],
   "source": [
    "%%R\n",
    "\n",
    "RdfS <- na.omit(Rdf, select=c(Subject, Stroop_3_R_W3, Left.Lateral.Ventricle_W1, Left.Lateral.Ventricle_W2, Left.Lateral.Ventricle_W3))\n",
    "RfitLVV <- lm(Stroop_3_R_W3 ~ Left.Lateral.Ventricle_W1 + Left.Lateral.Ventricle_W2 + Left.Lateral.Ventricle_W3, data=RdfS)"
   ]
  },
  {
   "cell_type": "code",
   "execution_count": 58,
   "metadata": {},
   "outputs": [
    {
     "data": {
      "text/plain": [
       " [1] \"coefficients\"  \"residuals\"     \"effects\"       \"rank\"         \n",
       " [5] \"fitted.values\" \"assign\"        \"qr\"            \"df.residual\"  \n",
       " [9] \"xlevels\"       \"call\"          \"terms\"         \"model\"        \n"
      ]
     },
     "metadata": {},
     "output_type": "display_data"
    }
   ],
   "source": [
    "%%R \n",
    "names(RfitLVV)"
   ]
  },
  {
   "cell_type": "code",
   "execution_count": 59,
   "metadata": {},
   "outputs": [
    {
     "data": {
      "text/plain": [
       "$coefficients\n",
       "              (Intercept) Left.Lateral.Ventricle_W1 Left.Lateral.Ventricle_W2 \n",
       "             52.349908701               0.001121977              -0.007949177 \n",
       "Left.Lateral.Ventricle_W3 \n",
       "              0.006735438 \n",
       "\n",
       "$residuals\n",
       "           1            2            3            4            5            6 \n",
       " 11.77319930  32.02174343   0.07302894 -21.81772392  18.43343022  38.50424568 \n",
       "           7            8            9           10           11           12 \n",
       "-11.13043752   1.82767752 -18.78274598  -6.37260943   4.07266245   3.76544682 \n",
       "          13           14           15           16           17           18 \n",
       "-16.31459636  -2.05335498  -2.43457463   5.10956856  -6.53411649  25.28171586 \n",
       "          19           20           21           22           23           24 \n",
       "  2.49193758  -0.12531225  -8.66124382  -8.42711309  -1.67240031 -14.57005524 \n",
       "          25           26           27           28           29           30 \n",
       "  1.03247984   9.44922981  14.97653826 -12.98741443   4.19057178   3.22416209 \n",
       "          31           32           33           34           35           36 \n",
       " 20.64413768  22.65858499  16.08771743   2.49912740  -4.10657732 -14.57393868 \n",
       "          37           38           39           40           41           42 \n",
       " -9.92693882  -3.47799941  -4.70051861   3.84958519 -12.62818319 -10.07158791 \n",
       "          43           44           45           46           47           48 \n",
       " -7.40451505   0.43227495  -3.20692171  -4.00746293  -9.75443165  -2.78465844 \n",
       "          49           50           51           52           53           54 \n",
       "  0.68955804   2.10077803   4.12182000  -0.48180497  -1.46014124 -13.54107949 \n",
       "          55           56           57           58           59           60 \n",
       " 35.66546417  16.13425479  -5.39354524  20.91343968  -8.51259252  -8.12726163 \n",
       "          61           62           63           64           65           66 \n",
       "  7.97235614   7.59610666   2.80113797   1.71994894  -4.95823914  -9.16224850 \n",
       "          67           68           69           70           71           72 \n",
       "-10.27655143  -9.61656284 -12.20701228 -26.27492842 -11.48747516 -12.20332606 \n",
       "          73           74 \n",
       " -1.59033198  11.70660286 \n",
       "\n",
       "$effects\n",
       "              (Intercept) Left.Lateral.Ventricle_W1 Left.Lateral.Ventricle_W2 \n",
       "             -490.2162926                23.3850869                 4.0416540 \n",
       "Left.Lateral.Ventricle_W3                                                     \n",
       "              -52.5264471                12.2751845                36.9247727 \n",
       "                                                                              \n",
       "              -11.0779379                -0.9986038               -14.5184479 \n",
       "                                                                              \n",
       "               -8.4638463                 1.3589935                -0.8351078 \n",
       "                                                                              \n",
       "              -17.8443561                -4.3151996                -0.8081061 \n",
       "                                                                              \n",
       "                1.4406306                -8.8817714                21.0200594 \n",
       "                                                                              \n",
       "                0.2483512                -4.0897552               -11.4828776 \n",
       "                                                                              \n",
       "              -12.8240223                -6.6858773               -15.9776833 \n",
       "                                                                              \n",
       "               -1.0596947                11.9849359                18.8446394 \n",
       "                                                                              \n",
       "              -14.9948507                 1.1070986                -0.6800771 \n",
       "                                                                              \n",
       "               26.8116397                18.8278871                11.7777431 \n",
       "                                                                              \n",
       "                0.4771912                -3.2457995               -19.6923537 \n",
       "                                                                              \n",
       "              -14.9350454                -2.4786155                -3.2074648 \n",
       "                                                                              \n",
       "                7.1995843               -15.5510438               -14.9322034 \n",
       "                                                                              \n",
       "                3.5694204                -5.0031008                -8.8082412 \n",
       "                                                                              \n",
       "               -7.3832762                -8.8053455                 3.9464256 \n",
       "                                                                              \n",
       "                5.7157915                 3.5789550                 1.5899073 \n",
       "                                                                              \n",
       "               -0.8779302                -3.8954181               -18.0483831 \n",
       "                                                                              \n",
       "               35.9992297                17.6576363                -8.0825513 \n",
       "                                                                              \n",
       "               19.4166987                -4.1689208               -12.5656086 \n",
       "                                                                              \n",
       "               15.3806869                 4.6009110                17.9505550 \n",
       "                                                                              \n",
       "                4.8295547                -3.7333013               -13.8733527 \n",
       "                                                                              \n",
       "              -13.5018147               -11.9623787               -11.0564599 \n",
       "                                                                              \n",
       "              -26.1243159               -14.8865478               -15.7195660 \n",
       "                                                    \n",
       "               -3.2601213                12.6504816 \n",
       "\n",
       "$rank\n",
       "[1] 4\n",
       "\n",
       "$fitted.values\n",
       "       1        2        3        4        5        6        7        8 \n",
       "54.22680 52.97826 70.92697 62.81772 43.56657 50.49575 57.13044 55.17232 \n",
       "       9       10       11       12       13       14       15       16 \n",
       "66.78275 56.37261 54.92734 52.23455 56.31460 53.05335 59.43457 48.89043 \n",
       "      17       18       19       20       21       22       23       24 \n",
       "58.53412 52.71828 51.50806 53.12531 55.66124 54.42711 46.67240 55.57006 \n",
       "      25       26       27       28       29       30       31       32 \n",
       "55.96752 61.55077 58.02346 53.98741 52.80943 52.77584 81.35586 55.34142 \n",
       "      33       34       35       36       37       38       39       40 \n",
       "51.91228 57.50087 52.10658 53.57394 50.92694 58.47800 59.70052 53.15041 \n",
       "      41       42       43       44       45       46       47       48 \n",
       "54.62818 54.07159 62.40452 50.56773 54.20692 54.00746 53.75443 68.78466 \n",
       "      49       50       51       52       53       54       55       56 \n",
       "64.31044 60.89922 54.87818 60.48180 55.46014 54.54108 58.33454 61.86575 \n",
       "      57       58       59       60       61       62       63       64 \n",
       "54.39355 59.08656 59.51259 50.12726 80.02764 50.40389 80.19886 58.28005 \n",
       "      65       66       67       68       69       70       71       72 \n",
       "55.95824 54.16225 54.27655 54.61656 62.20701 61.27493 53.48748 54.20333 \n",
       "      73       74 \n",
       "56.59033 62.29340 \n",
       "\n",
       "$assign\n",
       "[1] 0 1 2 3\n",
       "\n"
      ]
     },
     "metadata": {},
     "output_type": "display_data"
    }
   ],
   "source": [
    "%%R \n",
    "head(RfitLVV)"
   ]
  },
  {
   "cell_type": "code",
   "execution_count": 60,
   "metadata": {},
   "outputs": [
    {
     "name": "stdout",
     "output_type": "stream",
     "text": [
      "              (Intercept) Left.Lateral.Ventricle_W1 Left.Lateral.Ventricle_W2 \n",
      "             52.349908701               0.001121977              -0.007949177 \n",
      "Left.Lateral.Ventricle_W3 \n",
      "              0.006735438 \n",
      "\n",
      "[1] 4\n",
      "\n"
     ]
    }
   ],
   "source": [
    "from rpy2.robjects import r, pandas2ri\n",
    "pandas2ri.activate()\n",
    "\n",
    "pd_RfitLVV = r['RfitLVV']\n",
    "\n",
    "temp = pandas2ri.ri2py(pd_RfitLVV)\n",
    "print(temp[0])\n",
    "#print(temp[1])\n",
    "#print(temp[2])\n",
    "print(temp[3])\n",
    "#print(temp[4])\n",
    "#print(temp[5])\n",
    "#print(temp[6])\n",
    "#print(temp[7])\n",
    "#print(temp[8])"
   ]
  },
  {
   "cell_type": "code",
   "execution_count": 61,
   "metadata": {},
   "outputs": [
    {
     "name": "stdout",
     "output_type": "stream",
     "text": [
      " [1] \"coefficients\"  \"residuals\"     \"effects\"       \"rank\"         \n",
      " [5] \"fitted.values\" \"assign\"        \"qr\"            \"df.residual\"  \n",
      " [9] \"xlevels\"       \"call\"          \"terms\"         \"model\"        \n",
      "\n"
     ]
    },
    {
     "data": {
      "text/html": [
       "\n",
       "    <span>StrVector with 12 elements.</span>\n",
       "    <table>\n",
       "      <tbody>\n",
       "      <tr>\n",
       "      \n",
       "      <td>\n",
       "        'coeffici...\n",
       "      </td>\n",
       "      \n",
       "      <td>\n",
       "        'residuals'\n",
       "      </td>\n",
       "      \n",
       "      <td>\n",
       "        'effects'\n",
       "      </td>\n",
       "      \n",
       "      <td>\n",
       "        'rank'\n",
       "      </td>\n",
       "      \n",
       "      <td>\n",
       "        ...\n",
       "      </td>\n",
       "      \n",
       "      <td>\n",
       "        'xlevels'\n",
       "      </td>\n",
       "      \n",
       "      <td>\n",
       "        'call'\n",
       "      </td>\n",
       "      \n",
       "      <td>\n",
       "        'terms'\n",
       "      </td>\n",
       "      \n",
       "      <td>\n",
       "        'model'\n",
       "      </td>\n",
       "      \n",
       "      </tr>\n",
       "      </tbody>\n",
       "    </table>\n",
       "    "
      ],
      "text/plain": [
       "R object with classes: ('character',) mapped to:\n",
       "<StrVector - Python:0x7f61b2da3e60 / R:0x5635978a7d48>\n",
       "['coeffici..., 'residuals', 'effects', 'rank', ..., 'xlevels', 'call', 'terms', 'model']"
      ]
     },
     "execution_count": 61,
     "metadata": {},
     "output_type": "execute_result"
    }
   ],
   "source": [
    "print(pd_RfitLVV.names)\n",
    "pandas2ri.ri2py(pd_RfitLVV).names"
   ]
  },
  {
   "cell_type": "code",
   "execution_count": 62,
   "metadata": {},
   "outputs": [
    {
     "data": {
      "text/plain": [
       "\n",
       "Call:\n",
       "lm(formula = Stroop_3_R_W3 ~ Left.Lateral.Ventricle_W1 + Left.Lateral.Ventricle_W2 + \n",
       "    Left.Lateral.Ventricle_W3, data = RdfS)\n",
       "\n",
       "Residuals:\n",
       "    Min      1Q  Median      3Q     Max \n",
       "-26.275  -9.037  -1.631   4.110  38.504 \n",
       "\n",
       "Coefficients:\n",
       "                           Estimate Std. Error t value Pr(>|t|)    \n",
       "(Intercept)               52.349909   3.078282  17.006  < 2e-16 ***\n",
       "Left.Lateral.Ventricle_W1  0.001122   0.001403   0.800 0.426450    \n",
       "Left.Lateral.Ventricle_W2 -0.007949   0.002407  -3.303 0.001510 ** \n",
       "Left.Lateral.Ventricle_W3  0.006735   0.001675   4.021 0.000144 ***\n",
       "---\n",
       "Signif. codes:  0 ‘***’ 0.001 ‘**’ 0.01 ‘*’ 0.05 ‘.’ 0.1 ‘ ’ 1\n",
       "\n",
       "Residual standard error: 13.06 on 70 degrees of freedom\n",
       "Multiple R-squared:  0.2176,\tAdjusted R-squared:  0.184 \n",
       "F-statistic: 6.489 on 3 and 70 DF,  p-value: 0.0006146\n",
       "\n"
      ]
     },
     "metadata": {},
     "output_type": "display_data"
    }
   ],
   "source": [
    "%%R \n",
    "summary(RfitLVV)"
   ]
  },
  {
   "cell_type": "code",
   "execution_count": 63,
   "metadata": {},
   "outputs": [
    {
     "data": {
      "text/html": [
       "<div>\n",
       "<style scoped>\n",
       "    .dataframe tbody tr th:only-of-type {\n",
       "        vertical-align: middle;\n",
       "    }\n",
       "\n",
       "    .dataframe tbody tr th {\n",
       "        vertical-align: top;\n",
       "    }\n",
       "\n",
       "    .dataframe thead th {\n",
       "        text-align: right;\n",
       "    }\n",
       "</style>\n",
       "<table border=\"1\" class=\"dataframe\">\n",
       "  <thead>\n",
       "    <tr style=\"text-align: right;\">\n",
       "      <th></th>\n",
       "      <th>Df</th>\n",
       "      <th>Sum Sq</th>\n",
       "      <th>Mean Sq</th>\n",
       "      <th>F value</th>\n",
       "      <th>Pr(&gt;F)</th>\n",
       "    </tr>\n",
       "  </thead>\n",
       "  <tbody>\n",
       "    <tr>\n",
       "      <th>0</th>\n",
       "      <td>1</td>\n",
       "      <td>546.862290</td>\n",
       "      <td>546.862290</td>\n",
       "      <td>3.204246</td>\n",
       "      <td>0.077772</td>\n",
       "    </tr>\n",
       "    <tr>\n",
       "      <th>1</th>\n",
       "      <td>1</td>\n",
       "      <td>16.334967</td>\n",
       "      <td>16.334967</td>\n",
       "      <td>0.095712</td>\n",
       "      <td>0.757956</td>\n",
       "    </tr>\n",
       "    <tr>\n",
       "      <th>2</th>\n",
       "      <td>1</td>\n",
       "      <td>2759.027640</td>\n",
       "      <td>2759.027640</td>\n",
       "      <td>16.166049</td>\n",
       "      <td>0.000144</td>\n",
       "    </tr>\n",
       "    <tr>\n",
       "      <th>3</th>\n",
       "      <td>70</td>\n",
       "      <td>11946.761588</td>\n",
       "      <td>170.668023</td>\n",
       "      <td>NaN</td>\n",
       "      <td>NaN</td>\n",
       "    </tr>\n",
       "  </tbody>\n",
       "</table>\n",
       "</div>"
      ],
      "text/plain": [
       "   Df        Sum Sq      Mean Sq    F value    Pr(>F)\n",
       "0   1    546.862290   546.862290   3.204246  0.077772\n",
       "1   1     16.334967    16.334967   0.095712  0.757956\n",
       "2   1   2759.027640  2759.027640  16.166049  0.000144\n",
       "3  70  11946.761588   170.668023        NaN       NaN"
      ]
     },
     "execution_count": 63,
     "metadata": {},
     "output_type": "execute_result"
    }
   ],
   "source": [
    "%R anova(RfitLVV)"
   ]
  },
  {
   "cell_type": "code",
   "execution_count": 64,
   "metadata": {},
   "outputs": [
    {
     "data": {
      "image/png": "[encoded data removed]"
     },
     "metadata": {},
     "output_type": "display_data"
    }
   ],
   "source": [
    "%R plot(RfitLVV$resid)"
   ]
  },
  {
   "cell_type": "code",
   "execution_count": 65,
   "metadata": {},
   "outputs": [
    {
     "data": {
      "image/png": "[encoded data removed]"
     },
     "metadata": {},
     "output_type": "display_data"
    },
    {
     "data": {
      "text/html": [
       "\n",
       "    <span>ListVector with 6 elements.</span>\n",
       "    <table>\n",
       "      <tbody>\n",
       "      \n",
       "      <tr>\n",
       "      <th>\n",
       "        breaks\n",
       "      </th>\n",
       "      <td>\n",
       "        \n",
       "    <span>FloatVector with 8 elements.</span>\n",
       "    <table>\n",
       "      <tbody>\n",
       "      <tr>\n",
       "      \n",
       "      <td>\n",
       "        -30.000000\n",
       "      </td>\n",
       "      \n",
       "      <td>\n",
       "        -20.000000\n",
       "      </td>\n",
       "      \n",
       "      <td>\n",
       "        -10.000000\n",
       "      </td>\n",
       "      \n",
       "      <td>\n",
       "        0.000000\n",
       "      </td>\n",
       "      \n",
       "      <td>\n",
       "        10.000000\n",
       "      </td>\n",
       "      \n",
       "      <td>\n",
       "        20.000000\n",
       "      </td>\n",
       "      \n",
       "      <td>\n",
       "        30.000000\n",
       "      </td>\n",
       "      \n",
       "      <td>\n",
       "        40.000000\n",
       "      </td>\n",
       "      \n",
       "      </tr>\n",
       "      </tbody>\n",
       "    </table>\n",
       "    \n",
       "      </td>\n",
       "      </tr>\n",
       "      \n",
       "      <tr>\n",
       "      <th>\n",
       "        counts\n",
       "      </th>\n",
       "      <td>\n",
       "        \n",
       "    <span>IntVector with 7 elements.</span>\n",
       "    <table>\n",
       "      <tbody>\n",
       "      <tr>\n",
       "      \n",
       "      <td>\n",
       "        2\n",
       "      </td>\n",
       "      \n",
       "      <td>\n",
       "        13\n",
       "      </td>\n",
       "      \n",
       "      <td>\n",
       "        26\n",
       "      </td>\n",
       "      \n",
       "      <td>\n",
       "        20\n",
       "      </td>\n",
       "      \n",
       "      <td>\n",
       "        6\n",
       "      </td>\n",
       "      \n",
       "      <td>\n",
       "        4\n",
       "      </td>\n",
       "      \n",
       "      <td>\n",
       "        3\n",
       "      </td>\n",
       "      \n",
       "      </tr>\n",
       "      </tbody>\n",
       "    </table>\n",
       "    \n",
       "      </td>\n",
       "      </tr>\n",
       "      \n",
       "      <tr>\n",
       "      <th>\n",
       "        density\n",
       "      </th>\n",
       "      <td>\n",
       "        \n",
       "    <span>FloatVector with 7 elements.</span>\n",
       "    <table>\n",
       "      <tbody>\n",
       "      <tr>\n",
       "      \n",
       "      <td>\n",
       "        0.002703\n",
       "      </td>\n",
       "      \n",
       "      <td>\n",
       "        0.017568\n",
       "      </td>\n",
       "      \n",
       "      <td>\n",
       "        0.035135\n",
       "      </td>\n",
       "      \n",
       "      <td>\n",
       "        0.027027\n",
       "      </td>\n",
       "      \n",
       "      <td>\n",
       "        0.008108\n",
       "      </td>\n",
       "      \n",
       "      <td>\n",
       "        0.005405\n",
       "      </td>\n",
       "      \n",
       "      <td>\n",
       "        0.004054\n",
       "      </td>\n",
       "      \n",
       "      </tr>\n",
       "      </tbody>\n",
       "    </table>\n",
       "    \n",
       "      </td>\n",
       "      </tr>\n",
       "      \n",
       "      <tr>\n",
       "      <th>\n",
       "        mids\n",
       "      </th>\n",
       "      <td>\n",
       "        \n",
       "    <span>FloatVector with 7 elements.</span>\n",
       "    <table>\n",
       "      <tbody>\n",
       "      <tr>\n",
       "      \n",
       "      <td>\n",
       "        -25.000000\n",
       "      </td>\n",
       "      \n",
       "      <td>\n",
       "        -15.000000\n",
       "      </td>\n",
       "      \n",
       "      <td>\n",
       "        -5.000000\n",
       "      </td>\n",
       "      \n",
       "      <td>\n",
       "        5.000000\n",
       "      </td>\n",
       "      \n",
       "      <td>\n",
       "        15.000000\n",
       "      </td>\n",
       "      \n",
       "      <td>\n",
       "        25.000000\n",
       "      </td>\n",
       "      \n",
       "      <td>\n",
       "        35.000000\n",
       "      </td>\n",
       "      \n",
       "      </tr>\n",
       "      </tbody>\n",
       "    </table>\n",
       "    \n",
       "      </td>\n",
       "      </tr>\n",
       "      \n",
       "      <tr>\n",
       "      <th>\n",
       "        xname\n",
       "      </th>\n",
       "      <td>\n",
       "        \n",
       "    <span>StrVector with 1 elements.</span>\n",
       "    <table>\n",
       "      <tbody>\n",
       "      <tr>\n",
       "      \n",
       "      <td>\n",
       "        'RfitLVV$resid'\n",
       "      </td>\n",
       "      \n",
       "      </tr>\n",
       "      </tbody>\n",
       "    </table>\n",
       "    \n",
       "      </td>\n",
       "      </tr>\n",
       "      \n",
       "      <tr>\n",
       "      <th>\n",
       "        equidist\n",
       "      </th>\n",
       "      <td>\n",
       "        \n",
       "    <span>BoolVector with 1 elements.</span>\n",
       "    <table>\n",
       "      <tbody>\n",
       "      <tr>\n",
       "      \n",
       "      <td>\n",
       "               1\n",
       "      </td>\n",
       "      \n",
       "      </tr>\n",
       "      </tbody>\n",
       "    </table>\n",
       "    \n",
       "      </td>\n",
       "      </tr>\n",
       "      \n",
       "      </tbody>\n",
       "    </table>\n",
       "    "
      ],
      "text/plain": [
       "R object with classes: ('histogram',) mapped to:\n",
       "<ListVector - Python:0x7f61b2dd48c0 / R:0x563597cc9fb8>\n",
       "[Float..., IntVe..., Float..., Float..., StrVe..., BoolV...]\n",
       "  breaks: <class 'rpy2.robjects.vectors.FloatVector'>\n",
       "  R object with classes: ('numeric',) mapped to:\n",
       "<FloatVector - Python:0x7f61b2dd4f50 / R:0x563597ca3778>\n",
       "[-30.000000, -20.000000, -10.000000, 0.000000, 10.000000, 20.000000, 30.000000, 40.000000]\n",
       "  counts: <class 'rpy2.robjects.vectors.IntVector'>\n",
       "  R object with classes: ('integer',) mapped to:\n",
       "<IntVector - Python:0x7f61b2dd6550 / R:0x563598570808>\n",
       "[2, 13, 26, 20, 6, 4, 3]\n",
       "  density: <class 'rpy2.robjects.vectors.FloatVector'>\n",
       "  R object with classes: ('numeric',) mapped to:\n",
       "<FloatVector - Python:0x7f61b2dc7820 / R:0x563597cca3a8>\n",
       "[0.002703, 0.017568, 0.035135, 0.027027, 0.008108, 0.005405, 0.004054]\n",
       "  mids: <class 'rpy2.robjects.vectors.FloatVector'>\n",
       "  R object with classes: ('numeric',) mapped to:\n",
       "<FloatVector - Python:0x7f61b2dc7320 / R:0x563597cca1e8>\n",
       "[-25.000000, -15.000000, -5.000000, 5.000000, 15.000000, 25.000000, 35.000000]\n",
       "  xname: <class 'rpy2.robjects.vectors.StrVector'>\n",
       "  R object with classes: ('character',) mapped to:\n",
       "<StrVector - Python:0x7f61b7b0a6e0 / R:0x563596a8fd00>\n",
       "['RfitLVV$resid']\n",
       "  equidist: <class 'rpy2.robjects.vectors.BoolVector'>\n",
       "  R object with classes: ('logical',) mapped to:\n",
       "<BoolVector - Python:0x7f61b2dc4b40 / R:0x56359210d010>\n",
       "[       1]"
      ]
     },
     "execution_count": 65,
     "metadata": {},
     "output_type": "execute_result"
    }
   ],
   "source": [
    "%R hist(RfitLVV$resid)"
   ]
  },
  {
   "cell_type": "markdown",
   "metadata": {},
   "source": [
    "\n",
    "A group of diagnostic plots (residual, qq, scale-location, leverage) to assess model performance when applied to a fitted linear regression model.\n",
    "\n",
    "https://data.library.virginia.edu/diagnostic-plots/"
   ]
  },
  {
   "cell_type": "code",
   "execution_count": 66,
   "metadata": {},
   "outputs": [
    {
     "data": {
      "image/png": "[encoded data removed]"
     },
     "metadata": {},
     "output_type": "display_data"
    }
   ],
   "source": [
    "%R par(mfrow=c(2,2));  plot(RfitLVV)  # Plot four panels on the same figure"
   ]
  },
  {
   "cell_type": "code",
   "execution_count": 67,
   "metadata": {},
   "outputs": [
    {
     "data": {
      "text/html": [
       "<div>\n",
       "<style scoped>\n",
       "    .dataframe tbody tr th:only-of-type {\n",
       "        vertical-align: middle;\n",
       "    }\n",
       "\n",
       "    .dataframe tbody tr th {\n",
       "        vertical-align: top;\n",
       "    }\n",
       "\n",
       "    .dataframe thead th {\n",
       "        text-align: right;\n",
       "    }\n",
       "</style>\n",
       "<table border=\"1\" class=\"dataframe\">\n",
       "  <thead>\n",
       "    <tr style=\"text-align: right;\">\n",
       "      <th></th>\n",
       "      <th>0</th>\n",
       "      <th>1</th>\n",
       "      <th>2</th>\n",
       "      <th>3</th>\n",
       "      <th>4</th>\n",
       "      <th>5</th>\n",
       "      <th>6</th>\n",
       "    </tr>\n",
       "  </thead>\n",
       "  <tbody>\n",
       "    <tr>\n",
       "      <th>Subject</th>\n",
       "      <td>subj_01</td>\n",
       "      <td>subj_02</td>\n",
       "      <td>subj_03</td>\n",
       "      <td>subj_04</td>\n",
       "      <td>subj_05</td>\n",
       "      <td>subj_06</td>\n",
       "      <td>subj_07</td>\n",
       "    </tr>\n",
       "    <tr>\n",
       "      <th>Sex</th>\n",
       "      <td>F</td>\n",
       "      <td>M</td>\n",
       "      <td>M</td>\n",
       "      <td>M</td>\n",
       "      <td>M</td>\n",
       "      <td>F</td>\n",
       "      <td>M</td>\n",
       "    </tr>\n",
       "    <tr>\n",
       "      <th>AcquisitionYearsW1</th>\n",
       "      <td>56.63</td>\n",
       "      <td>49.07</td>\n",
       "      <td>74.61</td>\n",
       "      <td>56.23</td>\n",
       "      <td>63.22</td>\n",
       "      <td>60.51</td>\n",
       "      <td>58.87</td>\n",
       "    </tr>\n",
       "    <tr>\n",
       "      <th>AcquisitionYearsW2</th>\n",
       "      <td>60.35</td>\n",
       "      <td>52.58</td>\n",
       "      <td>78.14</td>\n",
       "      <td>59.78</td>\n",
       "      <td>67</td>\n",
       "      <td>64.29</td>\n",
       "      <td>62.42</td>\n",
       "    </tr>\n",
       "    <tr>\n",
       "      <th>AcquisitionYearsW3</th>\n",
       "      <td>62.62</td>\n",
       "      <td>55.05</td>\n",
       "      <td>80.59</td>\n",
       "      <td>62.68</td>\n",
       "      <td>69.53</td>\n",
       "      <td>66.82</td>\n",
       "      <td>64.87</td>\n",
       "    </tr>\n",
       "    <tr>\n",
       "      <th>Left-Lateral-Ventricle_W1</th>\n",
       "      <td>5321.4</td>\n",
       "      <td>11038.6</td>\n",
       "      <td>29718.4</td>\n",
       "      <td>21830.1</td>\n",
       "      <td>17205.1</td>\n",
       "      <td>14800.4</td>\n",
       "      <td>19864.5</td>\n",
       "    </tr>\n",
       "    <tr>\n",
       "      <th>Left-Lateral-Ventricle_W2</th>\n",
       "      <td>5063.6</td>\n",
       "      <td>11912.2</td>\n",
       "      <td>32265.1</td>\n",
       "      <td>23933.6</td>\n",
       "      <td>16970.1</td>\n",
       "      <td>18814.5</td>\n",
       "      <td>20962.8</td>\n",
       "    </tr>\n",
       "    <tr>\n",
       "      <th>Left-Lateral-Ventricle_W3</th>\n",
       "      <td>5368.3</td>\n",
       "      <td>12313.3</td>\n",
       "      <td>35887</td>\n",
       "      <td>26164.2</td>\n",
       "      <td>15858.1</td>\n",
       "      <td>19464.2</td>\n",
       "      <td>22141.1</td>\n",
       "    </tr>\n",
       "    <tr>\n",
       "      <th>Right-Lateral-Ventricle_W1</th>\n",
       "      <td>6855.2</td>\n",
       "      <td>10611.6</td>\n",
       "      <td>34241</td>\n",
       "      <td>15243.9</td>\n",
       "      <td>13962.1</td>\n",
       "      <td>12281.2</td>\n",
       "      <td>12133.7</td>\n",
       "    </tr>\n",
       "    <tr>\n",
       "      <th>Right-Lateral-Ventricle_W2</th>\n",
       "      <td>6729.2</td>\n",
       "      <td>11774.8</td>\n",
       "      <td>37155.2</td>\n",
       "      <td>16505.1</td>\n",
       "      <td>13755.5</td>\n",
       "      <td>16135.2</td>\n",
       "      <td>13055.5</td>\n",
       "    </tr>\n",
       "    <tr>\n",
       "      <th>Right-Lateral-Ventricle_W3</th>\n",
       "      <td>7233.2</td>\n",
       "      <td>12070.5</td>\n",
       "      <td>41221.4</td>\n",
       "      <td>18509.1</td>\n",
       "      <td>13143.9</td>\n",
       "      <td>17163.3</td>\n",
       "      <td>13651.7</td>\n",
       "    </tr>\n",
       "    <tr>\n",
       "      <th>EstimatedTotalIntraCranialVol_W3</th>\n",
       "      <td>1.23268e+06</td>\n",
       "      <td>1.46469e+06</td>\n",
       "      <td>1.38584e+06</td>\n",
       "      <td>1.52945e+06</td>\n",
       "      <td>1.37146e+06</td>\n",
       "      <td>1.42997e+06</td>\n",
       "      <td>1.76611e+06</td>\n",
       "    </tr>\n",
       "    <tr>\n",
       "      <th>Stroop_3_R_W3</th>\n",
       "      <td>66</td>\n",
       "      <td>85</td>\n",
       "      <td>71</td>\n",
       "      <td>41</td>\n",
       "      <td>62</td>\n",
       "      <td>89</td>\n",
       "      <td>46</td>\n",
       "    </tr>\n",
       "  </tbody>\n",
       "</table>\n",
       "</div>"
      ],
      "text/plain": [
       "                                            0            1            2  \\\n",
       "Subject                               subj_01      subj_02      subj_03   \n",
       "Sex                                         F            M            M   \n",
       "AcquisitionYearsW1                      56.63        49.07        74.61   \n",
       "AcquisitionYearsW2                      60.35        52.58        78.14   \n",
       "AcquisitionYearsW3                      62.62        55.05        80.59   \n",
       "Left-Lateral-Ventricle_W1              5321.4      11038.6      29718.4   \n",
       "Left-Lateral-Ventricle_W2              5063.6      11912.2      32265.1   \n",
       "Left-Lateral-Ventricle_W3              5368.3      12313.3        35887   \n",
       "Right-Lateral-Ventricle_W1             6855.2      10611.6        34241   \n",
       "Right-Lateral-Ventricle_W2             6729.2      11774.8      37155.2   \n",
       "Right-Lateral-Ventricle_W3             7233.2      12070.5      41221.4   \n",
       "EstimatedTotalIntraCranialVol_W3  1.23268e+06  1.46469e+06  1.38584e+06   \n",
       "Stroop_3_R_W3                              66           85           71   \n",
       "\n",
       "                                            3            4            5  \\\n",
       "Subject                               subj_04      subj_05      subj_06   \n",
       "Sex                                         M            M            F   \n",
       "AcquisitionYearsW1                      56.23        63.22        60.51   \n",
       "AcquisitionYearsW2                      59.78           67        64.29   \n",
       "AcquisitionYearsW3                      62.68        69.53        66.82   \n",
       "Left-Lateral-Ventricle_W1             21830.1      17205.1      14800.4   \n",
       "Left-Lateral-Ventricle_W2             23933.6      16970.1      18814.5   \n",
       "Left-Lateral-Ventricle_W3             26164.2      15858.1      19464.2   \n",
       "Right-Lateral-Ventricle_W1            15243.9      13962.1      12281.2   \n",
       "Right-Lateral-Ventricle_W2            16505.1      13755.5      16135.2   \n",
       "Right-Lateral-Ventricle_W3            18509.1      13143.9      17163.3   \n",
       "EstimatedTotalIntraCranialVol_W3  1.52945e+06  1.37146e+06  1.42997e+06   \n",
       "Stroop_3_R_W3                              41           62           89   \n",
       "\n",
       "                                            6  \n",
       "Subject                               subj_07  \n",
       "Sex                                         M  \n",
       "AcquisitionYearsW1                      58.87  \n",
       "AcquisitionYearsW2                      62.42  \n",
       "AcquisitionYearsW3                      64.87  \n",
       "Left-Lateral-Ventricle_W1             19864.5  \n",
       "Left-Lateral-Ventricle_W2             20962.8  \n",
       "Left-Lateral-Ventricle_W3             22141.1  \n",
       "Right-Lateral-Ventricle_W1            12133.7  \n",
       "Right-Lateral-Ventricle_W2            13055.5  \n",
       "Right-Lateral-Ventricle_W3            13651.7  \n",
       "EstimatedTotalIntraCranialVol_W3  1.76611e+06  \n",
       "Stroop_3_R_W3                              46  "
      ]
     },
     "execution_count": 67,
     "metadata": {},
     "output_type": "execute_result"
    }
   ],
   "source": [
    "df = pd.read_csv('../data/lvv_ri_data.csv')\n",
    "df.head(7).T"
   ]
  },
  {
   "cell_type": "markdown",
   "metadata": {},
   "source": [
    "Reading a Pandas dataframe (df) into R (data)"
   ]
  },
  {
   "cell_type": "code",
   "execution_count": 68,
   "metadata": {},
   "outputs": [],
   "source": [
    "# Previously:\n",
    "#%R -i df\n",
    "#\n",
    "#data = df"
   ]
  },
  {
   "cell_type": "code",
   "execution_count": 69,
   "metadata": {},
   "outputs": [
    {
     "name": "stdout",
     "output_type": "stream",
     "text": [
      "   Subject Sex AcquisitionYearsW1 AcquisitionYearsW2 AcquisitionYearsW3\n",
      "0  subj_01   F              56,63              60,35              62,62\n",
      "1  subj_02   M              49,07              52,58              55,05\n",
      "2  subj_03   M              74,61              78,14              80,59\n",
      "3  subj_04   M              56,23              59,78              62,68\n",
      "4  subj_05   M              63,22              67,00              69,53\n",
      "5  subj_06   F              60,51              64,29              66,82\n",
      "6  subj_07   M              58,87              62,42              64,87\n",
      "7  subj_08   M              69,54              73,04              75,47\n",
      "8  subj_09   M              59,33              62,98              65,59\n",
      "9  subj_10   F              54,63              58,18              60,63\n",
      "10 subj_11   M              60,00              63,72              66,45\n",
      "11 subj_12   F              60,16              63,67              66,16\n",
      "12 subj_13   M              55,43              59,11              61,37\n",
      "13 subj_14   F              54,30              58,00              60,74\n",
      "14 subj_15   M              54,42              57,91              60,73\n",
      "15 subj_16   F              54,83              58,33              60,80\n",
      "16 subj_17   F              50,63              54,08              57,24\n",
      "17 subj_18   F              59,19              62,84              65,45\n",
      "18 subj_19   F              60,20              63,90              66,51\n",
      "19 subj_20   F              52,83              56,34              58,82\n",
      "20 subj_21   F              65,29              68,99              71,92\n",
      "21 subj_22   F              53,49              57,01              60,15\n",
      "22 subj_23   F              66,84              70,52              72,66\n",
      "23 subj_24   F              56,87              59,70              62,65\n",
      "24 subj_25   M              58,15              61,82              63,97\n",
      "25 subj_26   M              73,02              76,56              79,00\n",
      "26 subj_27   F              71,61              75,15              77,59\n",
      "27 subj_28   M              60,85              64,36              67,50\n",
      "28 subj_29   F              54,07              57,53              60,34\n",
      "29 subj_30   F              55,94              59,64              61,92\n",
      "30 subj_31   F              69,59              73,46              75,90\n",
      "31 subj_32   F              59,67              63,20              65,64\n",
      "32 subj_33   F              55,55              59,25              61,84\n",
      "33 subj_34   F              59,75              63,44              66,03\n",
      "34 subj_35   F              65,10              68,15              70,89\n",
      "35 subj_36   F              46,73              50,45              52,57\n",
      "36 subj_37   F              47,50              51,18              53,46\n",
      "37 subj_38   F              70,22              73,66              76,48\n",
      "38 subj_39   F              74,69              78,41              80,54\n",
      "39 subj_40   M              62,39              66,09              68,81\n",
      "40 subj_41   F              57,70              61,25              64,35\n",
      "41 subj_42   F              55,81              59,71              62,24\n",
      "42 subj_43   M              60,25              63,93              66,21\n",
      "43 subj_44   F              50,40              53,87              56,24\n",
      "44 subj_45   M              46,66              50,11              52,46\n",
      "45 subj_46   F              69,42              73,09              75,35\n",
      "46 subj_47   M              52,69              56,18              58,64\n",
      "47 subj_48   M              59,33              62,98              65,93\n",
      "48 subj_49   F              70,64              74,08              76,46\n",
      "49 subj_50   M              73,65              77,09              79,47\n",
      "50 subj_51   F              69,22              72,87              75,48\n",
      "51 subj_52   F              58,84              62,30              64,79\n",
      "52 subj_53   M              61,24              64,92              67,08\n",
      "53 subj_54   F              59,61              63,29              65,44\n",
      "54 subj_55   M              67,36              70,86              73,15\n",
      "55 subj_56   M              52,22              55,72              58,02\n",
      "56 subj_57   F              52,50              56,23              59,10\n",
      "57 subj_58   F              60,91              64,58              66,84\n",
      "58 subj_59   M              77,63              81,33              84,05\n",
      "59 subj_60   F              54,11              57,76              59,90\n",
      "60 subj_61   F              66,37              69,20              72,15\n",
      "61 subj_62   F              56,61              60,35              63,01\n",
      "62 subj_63   F              69,82              72,66              75,01\n",
      "63 subj_64   F              67,77              71,21              73,56\n",
      "64 subj_65   M              61,47              64,93              67,88\n",
      "65 subj_66   F              58,01              61,49              63,80\n",
      "66 subj_67   F              71,21              74,70              77,17\n",
      "67 subj_68   F              60,19              63,94              66,01\n",
      "68 subj_69   F              61,19              64,94              67,82\n",
      "69 subj_70   F              55,80              59,52              62,40\n",
      "70 subj_71   F              67,80              70,62              73,00\n",
      "71 subj_72   F              66,40              69,24              71,59\n",
      "72 subj_73   M              64,94              68,06              70,72\n",
      "73 subj_74   M              65,65              68,77              70,83\n",
      "   Left.Lateral.Ventricle_W1 Left.Lateral.Ventricle_W2\n",
      "0                     5321,4                    5063,6\n",
      "1                    11038,6                   11912,2\n",
      "2                    29718,4                   32265,1\n",
      "3                    21830,1                   23933,6\n",
      "4                    17205,1                   16970,1\n",
      "5                    14800,4                   18814,5\n",
      "6                    19864,5                   20962,8\n",
      "7                    12080,9                   12293,3\n",
      "8                    17406,7                   20601,1\n",
      "9                    12438,3                   13028,2\n",
      "10                    9237,1                   10744,8\n",
      "11                    6983,1                    7753,3\n",
      "12                   11744,1                   13516,4\n",
      "13                   12758,7                   14882,1\n",
      "14                   21319,3                   23144,5\n",
      "15                   15474,5                   16793,6\n",
      "16                    8639,1                    8859,1\n",
      "17                    6287,3                    7565,6\n",
      "18                   15134,9                   17370,7\n",
      "19                    8202,0                    9074,0\n",
      "20                   11873,9                   11881,7\n",
      "21                    7112,3                    6900,9\n",
      "22                   12638,4                   14024,9\n",
      "23                   15534,5                   16642,0\n",
      "24                   12070,9                   13019,0\n",
      "25                   20446,6                   22822,3\n",
      "26                   25373,1                   30271,4\n",
      "27                   13390,9                   15171,4\n",
      "28                   11805,4                   13060,9\n",
      "29                    8641,8                    9663,6\n",
      "30                    9064,8                    9768,1\n",
      "31                    6793,9                    7081,9\n",
      "32                   10476,5                   10712,6\n",
      "33                    9178,3                   10340,9\n",
      "34                   28126,2                   30623,1\n",
      "35                    5677,7                    5277,7\n",
      "36                    6882,5                    7781,5\n",
      "37                   17169,1                   19945,8\n",
      "38                   17042,9                   19957,3\n",
      "39                   30976,2                   35939,2\n",
      "40                   10685,2                   11531,9\n",
      "41                    5303,1                    5161,8\n",
      "42                   54646,7                   58559,1\n",
      "43                   10062,2                    9389,7\n",
      "44                    7370,7                    5242,4\n",
      "45                    9845,3                   10602,1\n",
      "46                   13732,5                   20332,8\n",
      "47                   29464,2                   31391,2\n",
      "48                   28767,5                   30751,5\n",
      "49                   24163,3                   23929,7\n",
      "50                   18461,4                   17144,1\n",
      "51                    9353,2                   11372,3\n",
      "52                   11982,0                   12696,7\n",
      "53                    6469,8                    6232,5\n",
      "54                   17364,4                   19076,4\n",
      "55                   17833,4                   19274,8\n",
      "56                   11074,9                   12304,1\n",
      "57                    8448,4                    9795,9\n",
      "58                   29454,7                   32870,8\n",
      "59                   10008,1                   11228,1\n",
      "60                   16457,1                   17420,6\n",
      "61                   18033,2                   18697,7\n",
      "62                   36640,3                   43187,6\n",
      "63                   27778,1                   30475,2\n",
      "64                   20081,2                   23687,7\n",
      "65                    5321,2                    5364,1\n",
      "66                   10385,4                   11046,7\n",
      "67                   11179,4                   12801,3\n",
      "68                   14527,3                   16294,3\n",
      "69                   10058,9                   12266,3\n",
      "70                    8583,8                   10034,2\n",
      "71                    8472,6                    9356,6\n",
      "72                   13761,7                   14458,4\n",
      "73                   16031,6                   16899,5\n",
      "   Left.Lateral.Ventricle_W3 Right.Lateral.Ventricle_W1\n",
      "0                     5368,3                     6855,2\n",
      "1                    12313,3                    10611,6\n",
      "2                    35887,0                    34241,0\n",
      "3                    26164,2                    15243,9\n",
      "4                    15858,1                    13962,1\n",
      "5                    19464,2                    12281,2\n",
      "6                    22141,1                    12133,7\n",
      "7                    12915,2                    11336,5\n",
      "8                    23556,7                    19342,6\n",
      "9                    13901,2                    10401,4\n",
      "10                   11525,0                    10951,3\n",
      "11                    7970,1                     6698,7\n",
      "12                   14584,4                    13137,1\n",
      "13                   15543,0                     9522,5\n",
      "14                   24815,7                    16960,1\n",
      "15                   16728,5                    13374,3\n",
      "16                    9934,6                     7606,3\n",
      "17                    7936,3                     8722,4\n",
      "18                   17854,8                    14277,9\n",
      "19                    9458,0                     8374,4\n",
      "20                   12536,5                    13731,4\n",
      "21                    7268,1                     8742,0\n",
      "22                   13604,0                    12909,6\n",
      "23                   17531,3                    14930,3\n",
      "24                   13891,4                    14000,2\n",
      "25                   24895,0                    26219,3\n",
      "26                   32342,1                    25861,0\n",
      "27                   15917,8                    13888,5\n",
      "28                   13516,2                     9521,2\n",
      "29                   10028,7                     6707,8\n",
      "30                   14324,8                     7736,6\n",
      "31                    7670,5                     6252,8\n",
      "32                   10832,9                     8949,8\n",
      "33                   11440,2                     7533,4\n",
      "34                   31420,1                    16372,8\n",
      "35                    5464,7                     5547,6\n",
      "36                    7826,0                     6638,0\n",
      "37                   21589,9                    15596,8\n",
      "38                   21806,0                    17987,4\n",
      "39                   37374,4                    20519,5\n",
      "40                   12168,3                     8451,9\n",
      "41                    5464,2                     4907,2\n",
      "42                   61501,4                    37379,1\n",
      "43                    9141,0                     8374,9\n",
      "44                    5235,0                     4408,3\n",
      "45                   11118,7                    10901,9\n",
      "46                   21917,8                    12505,1\n",
      "47                   34579,9                    24740,8\n",
      "48                   33276,7                    27305,8\n",
      "49                   25486,1                    26003,5\n",
      "50                   17533,6                    16639,3\n",
      "51                   13070,9                     6861,1\n",
      "52                   13450,5                    12230,0\n",
      "53                    6603,2                     6073,5\n",
      "54                   20510,0                    15573,1\n",
      "55                   21190,3                    20766,7\n",
      "56                   12979,9                    12490,4\n",
      "57                   11154,0                     6100,7\n",
      "58                   34951,1                    25954,2\n",
      "59                   11254,3                     9146,2\n",
      "60                   21927,7                    23222,2\n",
      "61                   18774,2                    12964,8\n",
      "62                   49001,3                    40721,3\n",
      "63                   32220,1                    25771,7\n",
      "64                   25146,9                    22542,6\n",
      "65                    5713,4                     6261,0\n",
      "66                   11593,4                     9966,0\n",
      "67                   13582,4                     9431,2\n",
      "68                   18274,1                     9223,8\n",
      "69                   14126,2                     9376,7\n",
      "70                   10581,4                     5876,8\n",
      "71                    9906,5                     7858,1\n",
      "72                   15401,0                    10104,5\n",
      "73                   18750,6                    13703,9\n",
      "   Right.Lateral.Ventricle_W2 Right.Lateral.Ventricle_W3\n",
      "0                      6729,2                     7233,2\n",
      "1                     11774,8                    12070,5\n",
      "2                     37155,2                    41221,4\n",
      "3                     16505,1                    18509,1\n",
      "4                     13755,5                    13143,9\n",
      "5                     16135,2                    17163,3\n",
      "6                     13055,5                    13651,7\n",
      "7                     11729,4                    12308,5\n",
      "8                     23205,6                    26889,3\n",
      "9                     10923,3                    11690,9\n",
      "10                    12096,1                    13035,3\n",
      "11                     7458,8                     7799,9\n",
      "12                    14309,4                    15211,3\n",
      "13                    10897,3                    11556,4\n",
      "14                    18430,2                    19667,3\n",
      "15                    14418,6                    14530,2\n",
      "16                     7598,5                     8435,2\n",
      "17                    10431,8                    10836,6\n",
      "18                    16017,1                    16491,3\n",
      "19                     9449,9                    10028,5\n",
      "20                    13762,5                    14551,3\n",
      "21                     8657,9                     9291,5\n",
      "22                    14040,5                    14146,1\n",
      "23                    16290,8                    17135,4\n",
      "24                    15138,9                    16175,3\n",
      "25                    29726,8                    32457,2\n",
      "26                    31561,6                    34304,9\n",
      "27                    15845,8                    16747,4\n",
      "28                    10417,1                    10752,1\n",
      "29                     7479,1                     7887,8\n",
      "30                     8549,8                    14323,7\n",
      "31                     6574,3                     7157,6\n",
      "32                     9022,6                     9395,1\n",
      "33                     8239,8                     9138,5\n",
      "34                    18081,3                    18995,1\n",
      "35                     6039,9                     6221,9\n",
      "36                     7448,4                     7388,2\n",
      "37                    18024,5                    19997,0\n",
      "38                    21215,0                    23593,8\n",
      "39                    23171,8                    23754,5\n",
      "40                     9169,2                     9934,8\n",
      "41                     4642,7                     5100,4\n",
      "42                    40134,6                    42271,7\n",
      "43                     8003,4                     7681,6\n",
      "44                     3777,0                     3810,2\n",
      "45                    12013,9                    13056,1\n",
      "46                    18594,1                    19400,7\n",
      "47                    26402,4                    29003,3\n",
      "48                    29464,8                    31812,1\n",
      "49                    26033,0                    27756,3\n",
      "50                    15380,5                    15853,4\n",
      "51                     8220,5                     9509,7\n",
      "52                    13124,3                    13812,7\n",
      "53                     6335,8                     6916,1\n",
      "54                    17732,9                    18505,4\n",
      "55                    21580,3                    23696,2\n",
      "56                    14163,5                    14863,0\n",
      "57                     6600,4                     7359,1\n",
      "58                    29977,1                    31927,2\n",
      "59                    10377,5                    10314,5\n",
      "60                    24359,3                    30908,7\n",
      "61                    13689,5                    14056,4\n",
      "62                    47038,5                    52859,4\n",
      "63                    28823,9                    30465,0\n",
      "64                    26405,4                    27993,7\n",
      "65                     6502,7                     6918,1\n",
      "66                    10246,6                    10750,9\n",
      "67                    10931,6                    11711,0\n",
      "68                    10613,9                    11992,8\n",
      "69                    11134,5                    12632,4\n",
      "70                     6630,1                     6973,0\n",
      "71                     8874,6                     9297,7\n",
      "72                    10634,4                    11892,1\n",
      "73                    14620,6                    16278,6\n",
      "   EstimatedTotalIntraCranialVol_W3 Stroop_3_R_W3\n",
      "0                           1232679            66\n",
      "1                           1464692            85\n",
      "2                           1385841            71\n",
      "3                           1529445            41\n",
      "4                           1371460            62\n",
      "5                           1429970            89\n",
      "6                           1766114            46\n",
      "7                           1315566            57\n",
      "8                           1557664            48\n",
      "9                           1447418            50\n",
      "10                          1542689            59\n",
      "11                          1215548            56\n",
      "12                          1514705            40\n",
      "13                          1394609            51\n",
      "14                          1542724            57\n",
      "15                          1273902            54\n",
      "16                          1192932            52\n",
      "17                          1307388            78\n",
      "18                          1249144            54\n",
      "19                          1471209            53\n",
      "20                          1244471            47\n",
      "21                          1417179            46\n",
      "22                          1053943            45\n",
      "23                          1155156            41\n",
      "24                          1500198            57\n",
      "25                          1560002            71\n",
      "26                          1410448            73\n",
      "27                          1389027            41\n",
      "28                          1332222            57\n",
      "29                          1246515            56\n",
      "30                          1247444           102\n",
      "31                          1059804            78\n",
      "32                          1482887            68\n",
      "33                          1141136            60\n",
      "34                          1416448            48\n",
      "35                          1315420            39\n",
      "36                          1344289            41\n",
      "37                          1213995            55\n",
      "38                          1096990            55\n",
      "39                          1223127            57\n",
      "40                          1363953            42\n",
      "41                          1063289            44\n",
      "42                          1657877            55\n",
      "43                          1426872            51\n",
      "44                          1411563            51\n",
      "45                          1301862            50\n",
      "46                          1424293            44\n",
      "47                          1433523            66\n",
      "48                          1278218            65\n",
      "49                          1448102            63\n",
      "50                          1258722            59\n",
      "51                          1242676            60\n",
      "52                          1654697            54\n",
      "53                          1372598            41\n",
      "54                          1429222            94\n",
      "55                          1578656            78\n",
      "56                          1450103            49\n",
      "57                          1213547            80\n",
      "58                          1411845            51\n",
      "59                          1398268            42\n",
      "60                          1373438            88\n",
      "61                          1421255            58\n",
      "62                          1575330            83\n",
      "63                          1344647            60\n",
      "64                          1547234            51\n",
      "65                          1270003            45\n",
      "66                          1182692            44\n",
      "67                          1210935            45\n",
      "68                          1346777            50\n",
      "69                          1311282            35\n",
      "70                          1061528            42\n",
      "71                          1241762            42\n",
      "72                          1345172            55\n",
      "73                          1584154            74\n",
      "\n"
     ]
    }
   ],
   "source": [
    "import pandas as pd\n",
    "import rpy2.robjects as ro\n",
    "from rpy2.robjects.packages import importr\n",
    "from rpy2.robjects import pandas2ri\n",
    "from rpy2.robjects.conversion import localconverter\n",
    "\n",
    "with localconverter(ro.default_converter + pandas2ri.converter):\n",
    "  data = ro.conversion.py2ro(df)\n",
    "print(data)"
   ]
  },
  {
   "cell_type": "code",
   "execution_count": 70,
   "metadata": {},
   "outputs": [
    {
     "data": {
      "text/plain": [
       "NULL\n"
      ]
     },
     "metadata": {},
     "output_type": "display_data"
    }
   ],
   "source": [
    "%%R\n",
    "names(data)"
   ]
  },
  {
   "cell_type": "code",
   "execution_count": 71,
   "metadata": {},
   "outputs": [
    {
     "name": "stdout",
     "output_type": "stream",
     "text": [
      "\n",
      "Error in data$Sex : object of type 'closure' is not subsettable\n"
     ]
    }
   ],
   "source": [
    "%%R\n",
    "\n",
    "library(ggplot2)\n",
    "library(GGally)\n",
    "\n",
    "data$Gender = data$Sex\n",
    "\n",
    "pm <- ggpairs(\n",
    "    data, mapping = aes(color = Gender), \n",
    "    title = \"Pairs plot by gender\",\n",
    "    legend = 1,\n",
    "    columns = c('AcquisitionYearsW1',\n",
    "                'Left.Lateral.Ventricle_W1',\n",
    "                'Left.Lateral.Ventricle_W2', \n",
    "                'Left.Lateral.Ventricle_W3', \n",
    "                'EstimatedTotalIntraCranialVol_W3', \n",
    "                'Stroop_3_R_W3'),\n",
    "  lower = list(\n",
    "    continuous = 'smooth'\n",
    "  ))   \n",
    "\n",
    "\n",
    "pm = pm + theme(axis.text.x = element_text(angle = 90, hjust = 1))\n",
    "\n",
    "pm = pm + theme(\n",
    "  axis.text = element_text(size = 10),\n",
    "  axis.title = element_text(size = 10),\n",
    "  legend.background = element_rect(fill = \"white\"),\n",
    "  panel.grid.major = element_line(colour = NA),\n",
    "#  panel.grid.minor = element_blank(),\n",
    "  panel.grid.minor = element_line(size = 0.25, linetype = 'solid', colour = \"white\"),\n",
    "  panel.background = element_rect(fill = \"grey95\"),\n",
    "  plot.title = element_text(size=24)\n",
    ")\n",
    "\n",
    "print(pm)"
   ]
  },
  {
   "cell_type": "markdown",
   "metadata": {},
   "source": [
    "Converting the R dataframes to Pandas DataFrames using `rpy2` <br>"
   ]
  },
  {
   "cell_type": "code",
   "execution_count": 72,
   "metadata": {},
   "outputs": [
    {
     "data": {
      "text/html": [
       "\n",
       "    <span>R/rpy2 DataFrame (74 x 13)</span>\n",
       "    <table>\n",
       "      <thead>\n",
       "        <tr>\n",
       "        \n",
       "          <th>Subject</th>\n",
       "        \n",
       "          <th>Sex</th>\n",
       "        \n",
       "          <th>AcquisitionYearsW1</th>\n",
       "        \n",
       "          <th>...</th>\n",
       "        \n",
       "          <th>Right.Lateral.Ventricle_W3</th>\n",
       "        \n",
       "          <th>EstimatedTotalIntraCranialVol_W3</th>\n",
       "        \n",
       "          <th>Stroop_3_R_W3</th>\n",
       "        \n",
       "        </tr>\n",
       "      </thead>\n",
       "      <tbody>\n",
       "      \n",
       "      <tr>\n",
       "      \n",
       "      <td>\n",
       "        'subj_01'\n",
       "      </td>\n",
       "      \n",
       "      <td>\n",
       "        'F'\n",
       "      </td>\n",
       "      \n",
       "      <td>\n",
       "        56.630000\n",
       "      </td>\n",
       "      \n",
       "      <td>\n",
       "        ...\n",
       "      </td>\n",
       "      \n",
       "      <td>\n",
       "        7233.200000\n",
       "      </td>\n",
       "      \n",
       "      <td>\n",
       "        1232679.438610\n",
       "      </td>\n",
       "      \n",
       "      <td>\n",
       "        66.000000\n",
       "      </td>\n",
       "      \n",
       "      </tr>\n",
       "      \n",
       "      <tr>\n",
       "      \n",
       "      <td>\n",
       "        'subj_02'\n",
       "      </td>\n",
       "      \n",
       "      <td>\n",
       "        'M'\n",
       "      </td>\n",
       "      \n",
       "      <td>\n",
       "        49.070000\n",
       "      </td>\n",
       "      \n",
       "      <td>\n",
       "        ...\n",
       "      </td>\n",
       "      \n",
       "      <td>\n",
       "        12070.500000\n",
       "      </td>\n",
       "      \n",
       "      <td>\n",
       "        1464692.206690\n",
       "      </td>\n",
       "      \n",
       "      <td>\n",
       "        85.000000\n",
       "      </td>\n",
       "      \n",
       "      </tr>\n",
       "      \n",
       "      <tr>\n",
       "      \n",
       "      <td>\n",
       "        'subj_03'\n",
       "      </td>\n",
       "      \n",
       "      <td>\n",
       "        'M'\n",
       "      </td>\n",
       "      \n",
       "      <td>\n",
       "        74.610000\n",
       "      </td>\n",
       "      \n",
       "      <td>\n",
       "        ...\n",
       "      </td>\n",
       "      \n",
       "      <td>\n",
       "        41221.400000\n",
       "      </td>\n",
       "      \n",
       "      <td>\n",
       "        1385840.724880\n",
       "      </td>\n",
       "      \n",
       "      <td>\n",
       "        71.000000\n",
       "      </td>\n",
       "      \n",
       "      </tr>\n",
       "      \n",
       "      <tr>\n",
       "      \n",
       "      <td>\n",
       "        'subj_04'\n",
       "      </td>\n",
       "      \n",
       "      <td>\n",
       "        'M'\n",
       "      </td>\n",
       "      \n",
       "      <td>\n",
       "        56.230000\n",
       "      </td>\n",
       "      \n",
       "      <td>\n",
       "        ...\n",
       "      </td>\n",
       "      \n",
       "      <td>\n",
       "        18509.100000\n",
       "      </td>\n",
       "      \n",
       "      <td>\n",
       "        1529445.098310\n",
       "      </td>\n",
       "      \n",
       "      <td>\n",
       "        41.000000\n",
       "      </td>\n",
       "      \n",
       "      </tr>\n",
       "      \n",
       "      <tr>\n",
       "      \n",
       "      <td>\n",
       "        ...\n",
       "      </td>\n",
       "      \n",
       "      <td>\n",
       "        ...\n",
       "      </td>\n",
       "      \n",
       "      <td>\n",
       "        ...\n",
       "      </td>\n",
       "      \n",
       "      <td>\n",
       "        ...\n",
       "      </td>\n",
       "      \n",
       "      <td>\n",
       "        ...\n",
       "      </td>\n",
       "      \n",
       "      <td>\n",
       "        ...\n",
       "      </td>\n",
       "      \n",
       "      <td>\n",
       "        ...\n",
       "      </td>\n",
       "      \n",
       "      </tr>\n",
       "      \n",
       "      <tr>\n",
       "      \n",
       "      <td>\n",
       "        'subj_71'\n",
       "      </td>\n",
       "      \n",
       "      <td>\n",
       "        'F'\n",
       "      </td>\n",
       "      \n",
       "      <td>\n",
       "        67.800000\n",
       "      </td>\n",
       "      \n",
       "      <td>\n",
       "        ...\n",
       "      </td>\n",
       "      \n",
       "      <td>\n",
       "        6973.000000\n",
       "      </td>\n",
       "      \n",
       "      <td>\n",
       "        1061528.200730\n",
       "      </td>\n",
       "      \n",
       "      <td>\n",
       "        42.000000\n",
       "      </td>\n",
       "      \n",
       "      </tr>\n",
       "      \n",
       "      <tr>\n",
       "      \n",
       "      <td>\n",
       "        'subj_72'\n",
       "      </td>\n",
       "      \n",
       "      <td>\n",
       "        'F'\n",
       "      </td>\n",
       "      \n",
       "      <td>\n",
       "        66.400000\n",
       "      </td>\n",
       "      \n",
       "      <td>\n",
       "        ...\n",
       "      </td>\n",
       "      \n",
       "      <td>\n",
       "        9297.700000\n",
       "      </td>\n",
       "      \n",
       "      <td>\n",
       "        1241761.657350\n",
       "      </td>\n",
       "      \n",
       "      <td>\n",
       "        42.000000\n",
       "      </td>\n",
       "      \n",
       "      </tr>\n",
       "      \n",
       "      <tr>\n",
       "      \n",
       "      <td>\n",
       "        'subj_73'\n",
       "      </td>\n",
       "      \n",
       "      <td>\n",
       "        'M'\n",
       "      </td>\n",
       "      \n",
       "      <td>\n",
       "        64.940000\n",
       "      </td>\n",
       "      \n",
       "      <td>\n",
       "        ...\n",
       "      </td>\n",
       "      \n",
       "      <td>\n",
       "        11892.100000\n",
       "      </td>\n",
       "      \n",
       "      <td>\n",
       "        1345172.349040\n",
       "      </td>\n",
       "      \n",
       "      <td>\n",
       "        55.000000\n",
       "      </td>\n",
       "      \n",
       "      </tr>\n",
       "      \n",
       "      <tr>\n",
       "      \n",
       "      <td>\n",
       "        'subj_74'\n",
       "      </td>\n",
       "      \n",
       "      <td>\n",
       "        'M'\n",
       "      </td>\n",
       "      \n",
       "      <td>\n",
       "        65.650000\n",
       "      </td>\n",
       "      \n",
       "      <td>\n",
       "        ...\n",
       "      </td>\n",
       "      \n",
       "      <td>\n",
       "        16278.600000\n",
       "      </td>\n",
       "      \n",
       "      <td>\n",
       "        1584154.399360\n",
       "      </td>\n",
       "      \n",
       "      <td>\n",
       "        74.000000\n",
       "      </td>\n",
       "      \n",
       "      </tr>\n",
       "      \n",
       "      </tbody>\n",
       "    </table>\n",
       "    "
      ],
      "text/plain": [
       "R object with classes: ('data.frame',) mapped to:\n",
       "<DataFrame - Python:0x7f61b2dd4230 / R:0x563598441518>\n",
       "[StrVector, StrVector, FloatVector, FloatVector, ..., FloatVector, FloatVector, FloatVector, FloatVector]\n",
       "  Subject: <class 'rpy2.robjects.vectors.StrVector'>\n",
       "  R object with classes: ('character',) mapped to:\n",
       "<StrVector - Python:0x7f61ba7fceb0 / R:0x563596756748>\n",
       "['subj_01', 'subj_02', 'subj_03', 'subj_04', ..., 'subj_71', 'subj_72', 'subj_73', 'subj_74']\n",
       "  Sex: <class 'rpy2.robjects.vectors.StrVector'>\n",
       "  R object with classes: ('character',) mapped to:\n",
       "<StrVector - Python:0x7f61b2dc71e0 / R:0x56359675bda8>\n",
       "['F', 'M', 'M', 'M', ..., 'F', 'F', 'M', 'M']\n",
       "  AcquisitionYearsW1: <class 'rpy2.robjects.vectors.FloatVector'>\n",
       "  R object with classes: ('numeric',) mapped to:\n",
       "<FloatVector - Python:0x7f61b2db90a0 / R:0x5635967621d0>\n",
       "[56.630000, 49.070000, 74.610000, 56.230000, ..., 67.800000, 66.400000, 64.940000, 65.650000]\n",
       "  AcquisitionYearsW2: <class 'rpy2.robjects.vectors.FloatVector'>\n",
       "  R object with classes: ('numeric',) mapped to:\n",
       "<FloatVector - Python:0x7f61b2d67370 / R:0x563596769f30>\n",
       "[60.350000, 52.580000, 78.140000, 59.780000, ..., 70.620000, 69.240000, 68.060000, 68.770000]\n",
       "...\n",
       "  Left.Lateral.Ventricle_W1: <class 'rpy2.robjects.vectors.FloatVector'>\n",
       "  R object with classes: ('numeric',) mapped to:\n",
       "<FloatVector - Python:0x7f61b2d6a9b0 / R:0x56359678d098>\n",
       "[6729.200000, 11774.800000, 37155.200000, 16505.100000, ..., 6630.100000, 8874.600000, 10634.400000, 14620.600000]\n",
       "  Left.Lateral.Ventricle_W2: <class 'rpy2.robjects.vectors.FloatVector'>\n",
       "  R object with classes: ('numeric',) mapped to:\n",
       "<FloatVector - Python:0x7f61b2db25a0 / R:0x563596795060>\n",
       "[7233.200000, 12070.500000, 41221.400000, 18509.100000, ..., 6973.000000, 9297.700000, 11892.100000, 16278.600000]\n",
       "  Left.Lateral.Ventricle_W3: <class 'rpy2.robjects.vectors.FloatVector'>\n",
       "  R object with classes: ('numeric',) mapped to:\n",
       "<FloatVector - Python:0x7f61b2d6c460 / R:0x56359679b1e8>\n",
       "[1232679.438610, 1464692.206690, 1385840.724880, 1529445.098310, ..., 1061528.200730, 1241761.657350, 1345172.349040, 1584154.399360]\n",
       "  Right.Lateral.Ventricle_W1: <class 'rpy2.robjects.vectors.FloatVector'>\n",
       "  R object with classes: ('numeric',) mapped to:\n",
       "<FloatVector - Python:0x7f61b2d71870 / R:0x5635967a1370>\n",
       "[66.000000, 85.000000, 71.000000, 41.000000, ..., 42.000000, 42.000000, 55.000000, 74.000000]"
      ]
     },
     "execution_count": 72,
     "metadata": {},
     "output_type": "execute_result"
    }
   ],
   "source": [
    "with localconverter(ro.default_converter + pandas2ri.converter):\n",
    "  pd_data = ro.conversion.ri2ro(data)\n",
    "\n",
    "pd_data"
   ]
  },
  {
   "cell_type": "code",
   "execution_count": 73,
   "metadata": {},
   "outputs": [
    {
     "data": {
      "text/html": [
       "\n",
       "    <span>R/rpy2 DataFrame (6 x 13)</span>\n",
       "    <table>\n",
       "      <thead>\n",
       "        <tr>\n",
       "        \n",
       "          <th>Subject</th>\n",
       "        \n",
       "          <th>Sex</th>\n",
       "        \n",
       "          <th>AcquisitionYearsW1</th>\n",
       "        \n",
       "          <th>...</th>\n",
       "        \n",
       "          <th>Right.Lateral.Ventricle_W3</th>\n",
       "        \n",
       "          <th>EstimatedTotalIntraCranialVol_W3</th>\n",
       "        \n",
       "          <th>Stroop_3_R_W3</th>\n",
       "        \n",
       "        </tr>\n",
       "      </thead>\n",
       "      <tbody>\n",
       "      \n",
       "      <tr>\n",
       "      \n",
       "      <td>\n",
       "        'subj...\n",
       "      </td>\n",
       "      \n",
       "      <td>\n",
       "        'F'\n",
       "      </td>\n",
       "      \n",
       "      <td>\n",
       "        56.630000\n",
       "      </td>\n",
       "      \n",
       "      <td>\n",
       "        ...\n",
       "      </td>\n",
       "      \n",
       "      <td>\n",
       "        7233.200000\n",
       "      </td>\n",
       "      \n",
       "      <td>\n",
       "        1232679.438610\n",
       "      </td>\n",
       "      \n",
       "      <td>\n",
       "        66.000000\n",
       "      </td>\n",
       "      \n",
       "      </tr>\n",
       "      \n",
       "      <tr>\n",
       "      \n",
       "      <td>\n",
       "        'subj...\n",
       "      </td>\n",
       "      \n",
       "      <td>\n",
       "        'M'\n",
       "      </td>\n",
       "      \n",
       "      <td>\n",
       "        49.070000\n",
       "      </td>\n",
       "      \n",
       "      <td>\n",
       "        ...\n",
       "      </td>\n",
       "      \n",
       "      <td>\n",
       "        12070.500000\n",
       "      </td>\n",
       "      \n",
       "      <td>\n",
       "        1464692.206690\n",
       "      </td>\n",
       "      \n",
       "      <td>\n",
       "        85.000000\n",
       "      </td>\n",
       "      \n",
       "      </tr>\n",
       "      \n",
       "      <tr>\n",
       "      \n",
       "      <td>\n",
       "        'subj...\n",
       "      </td>\n",
       "      \n",
       "      <td>\n",
       "        'M'\n",
       "      </td>\n",
       "      \n",
       "      <td>\n",
       "        74.610000\n",
       "      </td>\n",
       "      \n",
       "      <td>\n",
       "        ...\n",
       "      </td>\n",
       "      \n",
       "      <td>\n",
       "        41221.400000\n",
       "      </td>\n",
       "      \n",
       "      <td>\n",
       "        1385840.724880\n",
       "      </td>\n",
       "      \n",
       "      <td>\n",
       "        71.000000\n",
       "      </td>\n",
       "      \n",
       "      </tr>\n",
       "      \n",
       "      <tr>\n",
       "      \n",
       "      <td>\n",
       "        'subj...\n",
       "      </td>\n",
       "      \n",
       "      <td>\n",
       "        'M'\n",
       "      </td>\n",
       "      \n",
       "      <td>\n",
       "        56.230000\n",
       "      </td>\n",
       "      \n",
       "      <td>\n",
       "        ...\n",
       "      </td>\n",
       "      \n",
       "      <td>\n",
       "        18509.100000\n",
       "      </td>\n",
       "      \n",
       "      <td>\n",
       "        1529445.098310\n",
       "      </td>\n",
       "      \n",
       "      <td>\n",
       "        41.000000\n",
       "      </td>\n",
       "      \n",
       "      </tr>\n",
       "      \n",
       "      <tr>\n",
       "      \n",
       "      <td>\n",
       "        'subj...\n",
       "      </td>\n",
       "      \n",
       "      <td>\n",
       "        'M'\n",
       "      </td>\n",
       "      \n",
       "      <td>\n",
       "        63.220000\n",
       "      </td>\n",
       "      \n",
       "      <td>\n",
       "        ...\n",
       "      </td>\n",
       "      \n",
       "      <td>\n",
       "        13143.900000\n",
       "      </td>\n",
       "      \n",
       "      <td>\n",
       "        1371459.990200\n",
       "      </td>\n",
       "      \n",
       "      <td>\n",
       "        62.000000\n",
       "      </td>\n",
       "      \n",
       "      </tr>\n",
       "      \n",
       "      <tr>\n",
       "      \n",
       "      <td>\n",
       "        'subj...\n",
       "      </td>\n",
       "      \n",
       "      <td>\n",
       "        'F'\n",
       "      </td>\n",
       "      \n",
       "      <td>\n",
       "        60.510000\n",
       "      </td>\n",
       "      \n",
       "      <td>\n",
       "        ...\n",
       "      </td>\n",
       "      \n",
       "      <td>\n",
       "        17163.300000\n",
       "      </td>\n",
       "      \n",
       "      <td>\n",
       "        1429970.394690\n",
       "      </td>\n",
       "      \n",
       "      <td>\n",
       "        89.000000\n",
       "      </td>\n",
       "      \n",
       "      </tr>\n",
       "      \n",
       "      </tbody>\n",
       "    </table>\n",
       "    "
      ],
      "text/plain": [
       "R object with classes: ('data.frame',) mapped to:\n",
       "<DataFrame - Python:0x7f61b2d73b90 / R:0x5635952e7b38>\n",
       "[StrVector, StrVector, FloatVector, FloatVector, ..., FloatVector, FloatVector, FloatVector, FloatVector]\n",
       "  Subject: <class 'rpy2.robjects.vectors.StrVector'>\n",
       "  R object with classes: ('character',) mapped to:\n",
       "<StrVector - Python:0x7f61b2d73960 / R:0x563594e07808>\n",
       "['subj..., 'subj..., 'subj..., 'subj..., 'subj..., 'subj...]\n",
       "  Sex: <class 'rpy2.robjects.vectors.StrVector'>\n",
       "  R object with classes: ('character',) mapped to:\n",
       "<StrVector - Python:0x7f61b2d73d20 / R:0x563594d8ea88>\n",
       "['F', 'M', 'M', 'M', 'M', 'F']\n",
       "  AcquisitionYearsW1: <class 'rpy2.robjects.vectors.FloatVector'>\n",
       "  R object with classes: ('numeric',) mapped to:\n",
       "<FloatVector - Python:0x7f61b2d739b0 / R:0x563594c806f8>\n",
       "[56.630000, 49.070000, 74.610000, 56.230000, 63.220000, 60.510000]\n",
       "  AcquisitionYearsW2: <class 'rpy2.robjects.vectors.FloatVector'>\n",
       "  R object with classes: ('numeric',) mapped to:\n",
       "<FloatVector - Python:0x7f61b2d73870 / R:0x56359519da08>\n",
       "[60.350000, 52.580000, 78.140000, 59.780000, 67.000000, 64.290000]\n",
       "...\n",
       "  Left.Lateral.Ventricle_W1: <class 'rpy2.robjects.vectors.FloatVector'>\n",
       "  R object with classes: ('numeric',) mapped to:\n",
       "<FloatVector - Python:0x7f61b2d73aa0 / R:0x563594c54988>\n",
       "[6729.200000, 11774.800000, 37155.200000, 16505.100000, 13755.500000, 16135.200000]\n",
       "  Left.Lateral.Ventricle_W2: <class 'rpy2.robjects.vectors.FloatVector'>\n",
       "  R object with classes: ('numeric',) mapped to:\n",
       "<FloatVector - Python:0x7f61b2d73910 / R:0x563594c53f08>\n",
       "[7233.200000, 12070.500000, 41221.400000, 18509.100000, 13143.900000, 17163.300000]\n",
       "  Left.Lateral.Ventricle_W3: <class 'rpy2.robjects.vectors.FloatVector'>\n",
       "  R object with classes: ('numeric',) mapped to:\n",
       "<FloatVector - Python:0x7f61b2d73820 / R:0x5635943d2688>\n",
       "[1232679.438610, 1464692.206690, 1385840.724880, 1529445.098310, 1371459.990200, 1429970.394690]\n",
       "  Right.Lateral.Ventricle_W1: <class 'rpy2.robjects.vectors.FloatVector'>\n",
       "  R object with classes: ('numeric',) mapped to:\n",
       "<FloatVector - Python:0x7f61b2d73690 / R:0x5635943d1ce8>\n",
       "[66.000000, 85.000000, 71.000000, 41.000000, 62.000000, 89.000000]"
      ]
     },
     "execution_count": 73,
     "metadata": {},
     "output_type": "execute_result"
    }
   ],
   "source": [
    "pd_data.head()"
   ]
  },
  {
   "cell_type": "markdown",
   "metadata": {},
   "source": [
    "LME example uning `lmer` from `lme4` and the ChickWeight data https://stat.ethz.ch/R-manual/R-devel/library/datasets/html/ChickWeight.html"
   ]
  },
  {
   "cell_type": "code",
   "execution_count": 74,
   "metadata": {},
   "outputs": [],
   "source": [
    "%%R\n",
    "\n",
    "library(lme4)\n",
    "\n",
    "data = ChickWeight"
   ]
  },
  {
   "cell_type": "code",
   "execution_count": 75,
   "metadata": {},
   "outputs": [],
   "source": [
    "from rpy2.robjects import r, pandas2ri\n",
    "pandas2ri.activate()\n",
    "\n",
    "pd_data = r['data']"
   ]
  },
  {
   "cell_type": "code",
   "execution_count": 76,
   "metadata": {},
   "outputs": [
    {
     "data": {
      "text/html": [
       "\n",
       "    <span>StrVector with 4 elements.</span>\n",
       "    <table>\n",
       "      <tbody>\n",
       "      <tr>\n",
       "      \n",
       "      <td>\n",
       "        'weight'\n",
       "      </td>\n",
       "      \n",
       "      <td>\n",
       "        'Time'\n",
       "      </td>\n",
       "      \n",
       "      <td>\n",
       "        'Chick'\n",
       "      </td>\n",
       "      \n",
       "      <td>\n",
       "        'Diet'\n",
       "      </td>\n",
       "      \n",
       "      </tr>\n",
       "      </tbody>\n",
       "    </table>\n",
       "    "
      ],
      "text/plain": [
       "R object with classes: ('character',) mapped to:\n",
       "<StrVector - Python:0x7f61b2d81eb0 / R:0x56359c0c4ec8>\n",
       "['weight', 'Time', 'Chick', 'Diet']"
      ]
     },
     "execution_count": 76,
     "metadata": {},
     "output_type": "execute_result"
    }
   ],
   "source": [
    "pd_data.names"
   ]
  },
  {
   "cell_type": "code",
   "execution_count": 77,
   "metadata": {},
   "outputs": [
    {
     "name": "stdout",
     "output_type": "stream",
     "text": [
      "Grouped Data: weight ~ Time | Chick\n",
      "   weight Time Chick Diet\n",
      "1      42    0     1    1\n",
      "2      51    2     1    1\n",
      "3      59    4     1    1\n",
      "4      64    6     1    1\n",
      "5      76    8     1    1\n",
      "6      93   10     1    1\n",
      "7     106   12     1    1\n",
      "8     125   14     1    1\n",
      "9     149   16     1    1\n",
      "10    171   18     1    1\n",
      "11    199   20     1    1\n",
      "12    205   21     1    1\n",
      "\n"
     ]
    }
   ],
   "source": [
    "import rpy2.ipython.html\n",
    "rpy2.ipython.html.init_printing()\n",
    "\n",
    "print(pd_data.head(12))"
   ]
  },
  {
   "cell_type": "markdown",
   "metadata": {},
   "source": [
    "##### Now using https://stackoverflow.com/questions/35757994/converting-lme4-ranef-output-to-data-frame-with-rpy2"
   ]
  },
  {
   "cell_type": "code",
   "execution_count": 78,
   "metadata": {},
   "outputs": [],
   "source": [
    "%reload_ext rpy2.ipython\n",
    "%Rpush pd_data"
   ]
  },
  {
   "cell_type": "code",
   "execution_count": 79,
   "metadata": {},
   "outputs": [
    {
     "data": {
      "text/plain": [
       "[1] \"(Intercept)\" \"Time\"        \"Diet2\"       \"Diet3\"       \"Diet4\"      \n",
       "[6] \"Time:Diet2\"  \"Time:Diet3\"  \"Time:Diet4\" \n"
      ]
     },
     "metadata": {},
     "output_type": "display_data"
    }
   ],
   "source": [
    "%%R\n",
    "\n",
    "library(lme4)\n",
    "\n",
    "m <- lmer(weight ~ Time * Diet + (1 + Time | Chick), data=pd_data, REML=F)\n",
    "\n",
    "rfs <- ranef(m)$cat\n",
    "ffs <- fixef(m) \n",
    "\n",
    "print(names(ffs))"
   ]
  },
  {
   "cell_type": "code",
   "execution_count": 80,
   "metadata": {},
   "outputs": [],
   "source": [
    "%Rpull ffs"
   ]
  },
  {
   "cell_type": "code",
   "execution_count": 81,
   "metadata": {},
   "outputs": [
    {
     "name": "stdout",
     "output_type": "stream",
     "text": [
      "33.65409623578436\n",
      "6.279864028362544\n",
      "-5.020500713172012\n",
      "-15.403771020235581\n"
     ]
    }
   ],
   "source": [
    "print(ffs[0])\n",
    "print(ffs[1])\n",
    "print(ffs[2])\n",
    "print(ffs[3])"
   ]
  },
  {
   "cell_type": "code",
   "execution_count": 82,
   "metadata": {},
   "outputs": [],
   "source": [
    "#%R summary(m)"
   ]
  },
  {
   "cell_type": "code",
   "execution_count": 83,
   "metadata": {
    "scrolled": true
   },
   "outputs": [
    {
     "data": {
      "image/png": "[encoded data removed]"
     },
     "metadata": {},
     "output_type": "display_data"
    }
   ],
   "source": [
    "%%R\n",
    "\n",
    "plot(m)"
   ]
  },
  {
   "cell_type": "markdown",
   "metadata": {},
   "source": [
    "## Python and statsmodels\n",
    "\n",
    "https://medium.com/@emredjan/emulating-r-regression-plots-in-python-43741952c034\n",
    "\n",
    "https://emredjan.github.io/blog/2017/07/11/emulating-r-plots-in-python/\n",
    "\n",
    "Think Stats: Exploratory Data Analysis in Python (http://www.greenteapress.com/thinkstats2/html/index.html)"
   ]
  },
  {
   "cell_type": "code",
   "execution_count": 84,
   "metadata": {},
   "outputs": [],
   "source": [
    "%matplotlib inline\n",
    "import numpy as np\n",
    "import pandas as pd\n",
    "import seaborn as sns\n",
    "import matplotlib.pyplot as plt\n",
    "import statsmodels.formula.api as smf\n",
    "import statsmodels.stats.multicomp\n",
    "from statsmodels.graphics.gofplots import ProbPlot"
   ]
  },
  {
   "cell_type": "code",
   "execution_count": 85,
   "metadata": {},
   "outputs": [],
   "source": [
    "cwit = pd.read_csv('../data/cwit_data.csv')"
   ]
  },
  {
   "cell_type": "code",
   "execution_count": 86,
   "metadata": {},
   "outputs": [
    {
     "data": {
      "text/html": [
       "<div>\n",
       "<style scoped>\n",
       "    .dataframe tbody tr th:only-of-type {\n",
       "        vertical-align: middle;\n",
       "    }\n",
       "\n",
       "    .dataframe tbody tr th {\n",
       "        vertical-align: top;\n",
       "    }\n",
       "\n",
       "    .dataframe thead th {\n",
       "        text-align: right;\n",
       "    }\n",
       "</style>\n",
       "<table border=\"1\" class=\"dataframe\">\n",
       "  <thead>\n",
       "    <tr style=\"text-align: right;\">\n",
       "      <th></th>\n",
       "      <th>Stroop_1_R_W3</th>\n",
       "      <th>Stroop_2_R_W3</th>\n",
       "      <th>Stroop_3_R_W3</th>\n",
       "      <th>Stroop_4_R_W3</th>\n",
       "    </tr>\n",
       "  </thead>\n",
       "  <tbody>\n",
       "    <tr>\n",
       "      <th>count</th>\n",
       "      <td>74.000000</td>\n",
       "      <td>74.000000</td>\n",
       "      <td>74.000000</td>\n",
       "      <td>74.000000</td>\n",
       "    </tr>\n",
       "    <tr>\n",
       "      <th>mean</th>\n",
       "      <td>29.864865</td>\n",
       "      <td>22.162162</td>\n",
       "      <td>56.986486</td>\n",
       "      <td>69.891892</td>\n",
       "    </tr>\n",
       "    <tr>\n",
       "      <th>std</th>\n",
       "      <td>5.437879</td>\n",
       "      <td>4.478341</td>\n",
       "      <td>14.462510</td>\n",
       "      <td>22.006579</td>\n",
       "    </tr>\n",
       "    <tr>\n",
       "      <th>min</th>\n",
       "      <td>20.000000</td>\n",
       "      <td>14.000000</td>\n",
       "      <td>35.000000</td>\n",
       "      <td>36.000000</td>\n",
       "    </tr>\n",
       "    <tr>\n",
       "      <th>25%</th>\n",
       "      <td>26.250000</td>\n",
       "      <td>19.000000</td>\n",
       "      <td>46.000000</td>\n",
       "      <td>54.000000</td>\n",
       "    </tr>\n",
       "    <tr>\n",
       "      <th>50%</th>\n",
       "      <td>30.000000</td>\n",
       "      <td>21.000000</td>\n",
       "      <td>54.500000</td>\n",
       "      <td>64.500000</td>\n",
       "    </tr>\n",
       "    <tr>\n",
       "      <th>75%</th>\n",
       "      <td>32.000000</td>\n",
       "      <td>24.000000</td>\n",
       "      <td>62.750000</td>\n",
       "      <td>83.750000</td>\n",
       "    </tr>\n",
       "    <tr>\n",
       "      <th>max</th>\n",
       "      <td>52.000000</td>\n",
       "      <td>39.000000</td>\n",
       "      <td>102.000000</td>\n",
       "      <td>136.000000</td>\n",
       "    </tr>\n",
       "  </tbody>\n",
       "</table>\n",
       "</div>"
      ],
      "text/plain": [
       "       Stroop_1_R_W3  Stroop_2_R_W3  Stroop_3_R_W3  Stroop_4_R_W3\n",
       "count      74.000000      74.000000      74.000000      74.000000\n",
       "mean       29.864865      22.162162      56.986486      69.891892\n",
       "std         5.437879       4.478341      14.462510      22.006579\n",
       "min        20.000000      14.000000      35.000000      36.000000\n",
       "25%        26.250000      19.000000      46.000000      54.000000\n",
       "50%        30.000000      21.000000      54.500000      64.500000\n",
       "75%        32.000000      24.000000      62.750000      83.750000\n",
       "max        52.000000      39.000000     102.000000     136.000000"
      ]
     },
     "execution_count": 86,
     "metadata": {},
     "output_type": "execute_result"
    }
   ],
   "source": [
    "cwit.describe()"
   ]
  },
  {
   "cell_type": "code",
   "execution_count": 87,
   "metadata": {},
   "outputs": [],
   "source": [
    "model_f12 = 'Stroop_3_R_W3 ~ Stroop_1_R_W3 + Stroop_2_R_W3'\n",
    "model_f2 = 'Stroop_3_R_W3 ~ Stroop_2_R_W3'\n",
    "model_f1 = 'Stroop_3_R_W3 ~ Stroop_1_R_W3'\n",
    "\n",
    "model12 = smf.ols(formula=model_f12, data=cwit)\n",
    "model12_fit = model12.fit()\n",
    "\n",
    "model2 = smf.ols(formula=model_f2, data=cwit)\n",
    "model2_fit = model2.fit()\n",
    "\n",
    "model1 = smf.ols(formula=model_f1, data=cwit)\n",
    "model1_fit = model1.fit()"
   ]
  },
  {
   "cell_type": "markdown",
   "metadata": {},
   "source": [
    "**model1: 'Stroop_3_R_W3 ~ Stroop_1_R_W3'**"
   ]
  },
  {
   "cell_type": "code",
   "execution_count": 88,
   "metadata": {},
   "outputs": [
    {
     "name": "stdout",
     "output_type": "stream",
     "text": [
      "Overall model F( 1, 72) =  31.063, p =  0.0000\n"
     ]
    }
   ],
   "source": [
    "# Seeing if the overall model is significant\n",
    "print(f\"Overall model F({model1_fit.df_model: .0f},{model1_fit.df_resid: .0f}) = {model1_fit.fvalue: .3f}, p = {model1_fit.f_pvalue: .4f}\")"
   ]
  },
  {
   "cell_type": "code",
   "execution_count": 89,
   "metadata": {},
   "outputs": [
    {
     "data": {
      "text/html": [
       "<table class=\"simpletable\">\n",
       "<caption>OLS Regression Results</caption>\n",
       "<tr>\n",
       "  <th>Dep. Variable:</th>      <td>Stroop_3_R_W3</td>   <th>  R-squared:         </th> <td>   0.301</td>\n",
       "</tr>\n",
       "<tr>\n",
       "  <th>Model:</th>                   <td>OLS</td>        <th>  Adj. R-squared:    </th> <td>   0.292</td>\n",
       "</tr>\n",
       "<tr>\n",
       "  <th>Method:</th>             <td>Least Squares</td>   <th>  F-statistic:       </th> <td>   31.06</td>\n",
       "</tr>\n",
       "<tr>\n",
       "  <th>Date:</th>             <td>fr., 17 jan. 2020</td> <th>  Prob (F-statistic):</th> <td>4.09e-07</td>\n",
       "</tr>\n",
       "<tr>\n",
       "  <th>Time:</th>                 <td>23:33:04</td>      <th>  Log-Likelihood:    </th> <td> -288.92</td>\n",
       "</tr>\n",
       "<tr>\n",
       "  <th>No. Observations:</th>      <td>    74</td>       <th>  AIC:               </th> <td>   581.8</td>\n",
       "</tr>\n",
       "<tr>\n",
       "  <th>Df Residuals:</th>          <td>    72</td>       <th>  BIC:               </th> <td>   586.5</td>\n",
       "</tr>\n",
       "<tr>\n",
       "  <th>Df Model:</th>              <td>     1</td>       <th>                     </th>     <td> </td>   \n",
       "</tr>\n",
       "<tr>\n",
       "  <th>Covariance Type:</th>      <td>nonrobust</td>     <th>                     </th>     <td> </td>   \n",
       "</tr>\n",
       "</table>"
      ],
      "text/plain": [
       "<IPython.core.display.HTML object>"
      ]
     },
     "execution_count": 89,
     "metadata": {},
     "output_type": "execute_result"
    }
   ],
   "source": [
    "from IPython.core.display import HTML\n",
    "HTML(model1_fit.summary().tables[0].as_html())"
   ]
  },
  {
   "cell_type": "code",
   "execution_count": 90,
   "metadata": {},
   "outputs": [
    {
     "data": {
      "text/html": [
       "<table class=\"simpletable\">\n",
       "<tr>\n",
       "        <td></td>           <th>coef</th>     <th>std err</th>      <th>t</th>      <th>P>|t|</th>  <th>[0.025</th>    <th>0.975]</th>  \n",
       "</tr>\n",
       "<tr>\n",
       "  <th>Intercept</th>     <td>   13.3805</td> <td>    7.951</td> <td>    1.683</td> <td> 0.097</td> <td>   -2.469</td> <td>   29.230</td>\n",
       "</tr>\n",
       "<tr>\n",
       "  <th>Stroop_1_R_W3</th> <td>    1.4601</td> <td>    0.262</td> <td>    5.573</td> <td> 0.000</td> <td>    0.938</td> <td>    1.982</td>\n",
       "</tr>\n",
       "</table>"
      ],
      "text/plain": [
       "<IPython.core.display.HTML object>"
      ]
     },
     "execution_count": 90,
     "metadata": {},
     "output_type": "execute_result"
    }
   ],
   "source": [
    "HTML(model1_fit.summary().tables[1].as_html())"
   ]
  },
  {
   "cell_type": "code",
   "execution_count": 91,
   "metadata": {},
   "outputs": [
    {
     "data": {
      "text/html": [
       "<table class=\"simpletable\">\n",
       "<tr>\n",
       "  <th>Omnibus:</th>       <td>20.450</td> <th>  Durbin-Watson:     </th> <td>   1.630</td>\n",
       "</tr>\n",
       "<tr>\n",
       "  <th>Prob(Omnibus):</th> <td> 0.000</td> <th>  Jarque-Bera (JB):  </th> <td>  26.399</td>\n",
       "</tr>\n",
       "<tr>\n",
       "  <th>Skew:</th>          <td> 1.248</td> <th>  Prob(JB):          </th> <td>1.85e-06</td>\n",
       "</tr>\n",
       "<tr>\n",
       "  <th>Kurtosis:</th>      <td> 4.526</td> <th>  Cond. No.          </th> <td>    171.</td>\n",
       "</tr>\n",
       "</table>"
      ],
      "text/plain": [
       "<IPython.core.display.HTML object>"
      ]
     },
     "execution_count": 91,
     "metadata": {},
     "output_type": "execute_result"
    }
   ],
   "source": [
    "HTML(model1_fit.summary().tables[2].as_html())"
   ]
  },
  {
   "cell_type": "markdown",
   "metadata": {},
   "source": [
    "The *Durban-Watson* tests is to detect the presence of autocorrelation, *Jarque-Bera* tests the assumption of normality, *Omnibus* tests the assumption of homogeneity of variance, and the *Condition Number* assess multicollinearity. Condition Number values over 20 are indicative of multicollinearity."
   ]
  },
  {
   "cell_type": "markdown",
   "metadata": {},
   "source": [
    "**model2: 'Stroop_3_R_W3 ~ Stroop_2_R_W3'**"
   ]
  },
  {
   "cell_type": "code",
   "execution_count": 92,
   "metadata": {},
   "outputs": [
    {
     "name": "stdout",
     "output_type": "stream",
     "text": [
      "Overall model F( 1, 72) =  20.746, p =  0.0000\n"
     ]
    }
   ],
   "source": [
    "# Seeing if the overall model is significant\n",
    "print(f\"Overall model F({model2_fit.df_model: .0f},{model2_fit.df_resid: .0f}) = {model2_fit.fvalue: .3f}, p = {model2_fit.f_pvalue: .4f}\")"
   ]
  },
  {
   "cell_type": "code",
   "execution_count": 93,
   "metadata": {},
   "outputs": [
    {
     "data": {
      "text/html": [
       "<table class=\"simpletable\">\n",
       "<caption>OLS Regression Results</caption>\n",
       "<tr>\n",
       "  <th>Dep. Variable:</th>      <td>Stroop_3_R_W3</td>   <th>  R-squared:         </th> <td>   0.224</td>\n",
       "</tr>\n",
       "<tr>\n",
       "  <th>Model:</th>                   <td>OLS</td>        <th>  Adj. R-squared:    </th> <td>   0.213</td>\n",
       "</tr>\n",
       "<tr>\n",
       "  <th>Method:</th>             <td>Least Squares</td>   <th>  F-statistic:       </th> <td>   20.75</td>\n",
       "</tr>\n",
       "<tr>\n",
       "  <th>Date:</th>             <td>fr., 17 jan. 2020</td> <th>  Prob (F-statistic):</th> <td>2.09e-05</td>\n",
       "</tr>\n",
       "<tr>\n",
       "  <th>Time:</th>                 <td>23:33:04</td>      <th>  Log-Likelihood:    </th> <td> -292.83</td>\n",
       "</tr>\n",
       "<tr>\n",
       "  <th>No. Observations:</th>      <td>    74</td>       <th>  AIC:               </th> <td>   589.7</td>\n",
       "</tr>\n",
       "<tr>\n",
       "  <th>Df Residuals:</th>          <td>    72</td>       <th>  BIC:               </th> <td>   594.3</td>\n",
       "</tr>\n",
       "<tr>\n",
       "  <th>Df Model:</th>              <td>     1</td>       <th>                     </th>     <td> </td>   \n",
       "</tr>\n",
       "<tr>\n",
       "  <th>Covariance Type:</th>      <td>nonrobust</td>     <th>                     </th>     <td> </td>   \n",
       "</tr>\n",
       "</table>"
      ],
      "text/plain": [
       "<IPython.core.display.HTML object>"
      ]
     },
     "execution_count": 93,
     "metadata": {},
     "output_type": "execute_result"
    }
   ],
   "source": [
    "HTML(model2_fit.summary().tables[0].as_html())"
   ]
  },
  {
   "cell_type": "code",
   "execution_count": 94,
   "metadata": {},
   "outputs": [
    {
     "data": {
      "text/html": [
       "<table class=\"simpletable\">\n",
       "<tr>\n",
       "        <td></td>           <th>coef</th>     <th>std err</th>      <th>t</th>      <th>P>|t|</th>  <th>[0.025</th>    <th>0.975]</th>  \n",
       "</tr>\n",
       "<tr>\n",
       "  <th>Intercept</th>     <td>   23.1365</td> <td>    7.580</td> <td>    3.052</td> <td> 0.003</td> <td>    8.026</td> <td>   38.247</td>\n",
       "</tr>\n",
       "<tr>\n",
       "  <th>Stroop_2_R_W3</th> <td>    1.5274</td> <td>    0.335</td> <td>    4.555</td> <td> 0.000</td> <td>    0.859</td> <td>    2.196</td>\n",
       "</tr>\n",
       "</table>"
      ],
      "text/plain": [
       "<IPython.core.display.HTML object>"
      ]
     },
     "execution_count": 94,
     "metadata": {},
     "output_type": "execute_result"
    }
   ],
   "source": [
    "HTML(model2_fit.summary().tables[1].as_html())"
   ]
  },
  {
   "cell_type": "code",
   "execution_count": 95,
   "metadata": {},
   "outputs": [
    {
     "data": {
      "text/html": [
       "<table class=\"simpletable\">\n",
       "<tr>\n",
       "  <th>Omnibus:</th>       <td> 4.554</td> <th>  Durbin-Watson:     </th> <td>   1.483</td>\n",
       "</tr>\n",
       "<tr>\n",
       "  <th>Prob(Omnibus):</th> <td> 0.103</td> <th>  Jarque-Bera (JB):  </th> <td>   4.399</td>\n",
       "</tr>\n",
       "<tr>\n",
       "  <th>Skew:</th>          <td> 0.594</td> <th>  Prob(JB):          </th> <td>   0.111</td>\n",
       "</tr>\n",
       "<tr>\n",
       "  <th>Kurtosis:</th>      <td> 2.876</td> <th>  Cond. No.          </th> <td>    115.</td>\n",
       "</tr>\n",
       "</table>"
      ],
      "text/plain": [
       "<IPython.core.display.HTML object>"
      ]
     },
     "execution_count": 95,
     "metadata": {},
     "output_type": "execute_result"
    }
   ],
   "source": [
    "HTML(model2_fit.summary().tables[2].as_html())"
   ]
  },
  {
   "cell_type": "markdown",
   "metadata": {},
   "source": [
    "**model12: 'Stroop_3_R_W3 ~ Stroop_1_R_W3 + Stroop_2_R_W3'**"
   ]
  },
  {
   "cell_type": "code",
   "execution_count": 96,
   "metadata": {},
   "outputs": [
    {
     "name": "stdout",
     "output_type": "stream",
     "text": [
      "Overall model F( 2, 71) =  19.118, p =  0.0000\n"
     ]
    }
   ],
   "source": [
    "# Seeing if the overall model is significant\n",
    "print(f\"Overall model F({model12_fit.df_model: .0f},{model12_fit.df_resid: .0f}) = {model12_fit.fvalue: .3f}, p = {model12_fit.f_pvalue: .4f}\")"
   ]
  },
  {
   "cell_type": "code",
   "execution_count": 97,
   "metadata": {},
   "outputs": [
    {
     "data": {
      "text/html": [
       "<table class=\"simpletable\">\n",
       "<caption>OLS Regression Results</caption>\n",
       "<tr>\n",
       "  <th>Dep. Variable:</th>      <td>Stroop_3_R_W3</td>   <th>  R-squared:         </th> <td>   0.350</td>\n",
       "</tr>\n",
       "<tr>\n",
       "  <th>Model:</th>                   <td>OLS</td>        <th>  Adj. R-squared:    </th> <td>   0.332</td>\n",
       "</tr>\n",
       "<tr>\n",
       "  <th>Method:</th>             <td>Least Squares</td>   <th>  F-statistic:       </th> <td>   19.12</td>\n",
       "</tr>\n",
       "<tr>\n",
       "  <th>Date:</th>             <td>fr., 17 jan. 2020</td> <th>  Prob (F-statistic):</th> <td>2.28e-07</td>\n",
       "</tr>\n",
       "<tr>\n",
       "  <th>Time:</th>                 <td>23:33:04</td>      <th>  Log-Likelihood:    </th> <td> -286.25</td>\n",
       "</tr>\n",
       "<tr>\n",
       "  <th>No. Observations:</th>      <td>    74</td>       <th>  AIC:               </th> <td>   578.5</td>\n",
       "</tr>\n",
       "<tr>\n",
       "  <th>Df Residuals:</th>          <td>    71</td>       <th>  BIC:               </th> <td>   585.4</td>\n",
       "</tr>\n",
       "<tr>\n",
       "  <th>Df Model:</th>              <td>     2</td>       <th>                     </th>     <td> </td>   \n",
       "</tr>\n",
       "<tr>\n",
       "  <th>Covariance Type:</th>      <td>nonrobust</td>     <th>                     </th>     <td> </td>   \n",
       "</tr>\n",
       "</table>"
      ],
      "text/plain": [
       "<IPython.core.display.HTML object>"
      ]
     },
     "execution_count": 97,
     "metadata": {},
     "output_type": "execute_result"
    }
   ],
   "source": [
    "HTML(model12_fit.summary().tables[0].as_html())"
   ]
  },
  {
   "cell_type": "code",
   "execution_count": 98,
   "metadata": {},
   "outputs": [
    {
     "data": {
      "text/html": [
       "<table class=\"simpletable\">\n",
       "<tr>\n",
       "        <td></td>           <th>coef</th>     <th>std err</th>      <th>t</th>      <th>P>|t|</th>  <th>[0.025</th>    <th>0.975]</th>  \n",
       "</tr>\n",
       "<tr>\n",
       "  <th>Intercept</th>     <td>    5.5340</td> <td>    8.440</td> <td>    0.656</td> <td> 0.514</td> <td>  -11.295</td> <td>   22.363</td>\n",
       "</tr>\n",
       "<tr>\n",
       "  <th>Stroop_1_R_W3</th> <td>    1.1051</td> <td>    0.297</td> <td>    3.715</td> <td> 0.000</td> <td>    0.512</td> <td>    1.698</td>\n",
       "</tr>\n",
       "<tr>\n",
       "  <th>Stroop_2_R_W3</th> <td>    0.8325</td> <td>    0.361</td> <td>    2.305</td> <td> 0.024</td> <td>    0.112</td> <td>    1.553</td>\n",
       "</tr>\n",
       "</table>"
      ],
      "text/plain": [
       "<IPython.core.display.HTML object>"
      ]
     },
     "execution_count": 98,
     "metadata": {},
     "output_type": "execute_result"
    }
   ],
   "source": [
    "HTML(model12_fit.summary().tables[1].as_html())"
   ]
  },
  {
   "cell_type": "code",
   "execution_count": 99,
   "metadata": {},
   "outputs": [
    {
     "data": {
      "text/html": [
       "<table class=\"simpletable\">\n",
       "<tr>\n",
       "  <th>Omnibus:</th>       <td> 8.194</td> <th>  Durbin-Watson:     </th> <td>   1.596</td>\n",
       "</tr>\n",
       "<tr>\n",
       "  <th>Prob(Omnibus):</th> <td> 0.017</td> <th>  Jarque-Bera (JB):  </th> <td>   7.965</td>\n",
       "</tr>\n",
       "<tr>\n",
       "  <th>Skew:</th>          <td> 0.792</td> <th>  Prob(JB):          </th> <td>  0.0186</td>\n",
       "</tr>\n",
       "<tr>\n",
       "  <th>Kurtosis:</th>      <td> 3.270</td> <th>  Cond. No.          </th> <td>    232.</td>\n",
       "</tr>\n",
       "</table>"
      ],
      "text/plain": [
       "<IPython.core.display.HTML object>"
      ]
     },
     "execution_count": 99,
     "metadata": {},
     "output_type": "execute_result"
    }
   ],
   "source": [
    "HTML(model12_fit.summary().tables[2].as_html())"
   ]
  },
  {
   "cell_type": "markdown",
   "metadata": {},
   "source": [
    "**model2: Get an instance of Influence with influence and outlier measures**"
   ]
  },
  {
   "cell_type": "code",
   "execution_count": 100,
   "metadata": {},
   "outputs": [],
   "source": [
    "infl12 = model12_fit.get_influence()"
   ]
  },
  {
   "cell_type": "code",
   "execution_count": 101,
   "metadata": {},
   "outputs": [
    {
     "data": {
      "text/html": [
       "<div>\n",
       "<style scoped>\n",
       "    .dataframe tbody tr th:only-of-type {\n",
       "        vertical-align: middle;\n",
       "    }\n",
       "\n",
       "    .dataframe tbody tr th {\n",
       "        vertical-align: top;\n",
       "    }\n",
       "\n",
       "    .dataframe thead th {\n",
       "        text-align: right;\n",
       "    }\n",
       "</style>\n",
       "<table border=\"1\" class=\"dataframe\">\n",
       "  <thead>\n",
       "    <tr style=\"text-align: right;\">\n",
       "      <th></th>\n",
       "      <th>dfb_Intercept</th>\n",
       "      <th>dfb_Stroop_1_R_W3</th>\n",
       "      <th>dfb_Stroop_2_R_W3</th>\n",
       "      <th>cooks_d</th>\n",
       "      <th>standard_resid</th>\n",
       "      <th>hat_diag</th>\n",
       "      <th>dffits_internal</th>\n",
       "      <th>student_resid</th>\n",
       "      <th>dffits</th>\n",
       "    </tr>\n",
       "  </thead>\n",
       "  <tbody>\n",
       "    <tr>\n",
       "      <th>0</th>\n",
       "      <td>-0.000318</td>\n",
       "      <td>0.096039</td>\n",
       "      <td>-0.093805</td>\n",
       "      <td>0.005760</td>\n",
       "      <td>0.612178</td>\n",
       "      <td>0.044080</td>\n",
       "      <td>0.131458</td>\n",
       "      <td>0.609462</td>\n",
       "      <td>0.130875</td>\n",
       "    </tr>\n",
       "    <tr>\n",
       "      <th>1</th>\n",
       "      <td>-0.203563</td>\n",
       "      <td>0.157260</td>\n",
       "      <td>0.058356</td>\n",
       "      <td>0.020978</td>\n",
       "      <td>0.880859</td>\n",
       "      <td>0.075025</td>\n",
       "      <td>0.250868</td>\n",
       "      <td>0.879452</td>\n",
       "      <td>0.250468</td>\n",
       "    </tr>\n",
       "    <tr>\n",
       "      <th>2</th>\n",
       "      <td>-0.014324</td>\n",
       "      <td>0.175413</td>\n",
       "      <td>-0.160033</td>\n",
       "      <td>0.016774</td>\n",
       "      <td>0.953319</td>\n",
       "      <td>0.052466</td>\n",
       "      <td>0.224325</td>\n",
       "      <td>0.952699</td>\n",
       "      <td>0.224179</td>\n",
       "    </tr>\n",
       "    <tr>\n",
       "      <th>3</th>\n",
       "      <td>-0.066519</td>\n",
       "      <td>0.073546</td>\n",
       "      <td>-0.019259</td>\n",
       "      <td>0.002680</td>\n",
       "      <td>-0.381455</td>\n",
       "      <td>0.052364</td>\n",
       "      <td>-0.089668</td>\n",
       "      <td>-0.379148</td>\n",
       "      <td>-0.089126</td>\n",
       "    </tr>\n",
       "    <tr>\n",
       "      <th>4</th>\n",
       "      <td>0.022060</td>\n",
       "      <td>-0.060264</td>\n",
       "      <td>0.038228</td>\n",
       "      <td>0.001583</td>\n",
       "      <td>-0.263081</td>\n",
       "      <td>0.064194</td>\n",
       "      <td>-0.068904</td>\n",
       "      <td>-0.261349</td>\n",
       "      <td>-0.068450</td>\n",
       "    </tr>\n",
       "  </tbody>\n",
       "</table>\n",
       "</div>"
      ],
      "text/plain": [
       "   dfb_Intercept  dfb_Stroop_1_R_W3  dfb_Stroop_2_R_W3   cooks_d  \\\n",
       "0      -0.000318           0.096039          -0.093805  0.005760   \n",
       "1      -0.203563           0.157260           0.058356  0.020978   \n",
       "2      -0.014324           0.175413          -0.160033  0.016774   \n",
       "3      -0.066519           0.073546          -0.019259  0.002680   \n",
       "4       0.022060          -0.060264           0.038228  0.001583   \n",
       "\n",
       "   standard_resid  hat_diag  dffits_internal  student_resid    dffits  \n",
       "0        0.612178  0.044080         0.131458       0.609462  0.130875  \n",
       "1        0.880859  0.075025         0.250868       0.879452  0.250468  \n",
       "2        0.953319  0.052466         0.224325       0.952699  0.224179  \n",
       "3       -0.381455  0.052364        -0.089668      -0.379148 -0.089126  \n",
       "4       -0.263081  0.064194        -0.068904      -0.261349 -0.068450  "
      ]
     },
     "execution_count": 101,
     "metadata": {},
     "output_type": "execute_result"
    }
   ],
   "source": [
    "df_infl12 = infl12.summary_frame()\n",
    "df_infl12.head()"
   ]
  },
  {
   "cell_type": "markdown",
   "metadata": {},
   "source": [
    "**Anova table for one or more fitted linear models**<br>\n",
    "Model statistics are given in the order of args. Models must have been fit using the formula api.\n",
    "\n",
    "Python for Data Science (https://pythonfordatascience.org/anova-2-way-n-way)\n",
    "\n",
    "There are 3 types of sum of squares that should be considered when conducting an ANOVA, by default Python and R uses Type 2, whereas SAS tends to use Type 3. The differences in the types of sum of squares is out of this page’s scope; but you should research the differences to decide which type you should use for your study."
   ]
  },
  {
   "cell_type": "code",
   "execution_count": 102,
   "metadata": {},
   "outputs": [
    {
     "data": {
      "text/html": [
       "<div>\n",
       "<style scoped>\n",
       "    .dataframe tbody tr th:only-of-type {\n",
       "        vertical-align: middle;\n",
       "    }\n",
       "\n",
       "    .dataframe tbody tr th {\n",
       "        vertical-align: top;\n",
       "    }\n",
       "\n",
       "    .dataframe thead th {\n",
       "        text-align: right;\n",
       "    }\n",
       "</style>\n",
       "<table border=\"1\" class=\"dataframe\">\n",
       "  <thead>\n",
       "    <tr style=\"text-align: right;\">\n",
       "      <th></th>\n",
       "      <th>sum_sq</th>\n",
       "      <th>df</th>\n",
       "      <th>F</th>\n",
       "      <th>PR(&gt;F)</th>\n",
       "    </tr>\n",
       "  </thead>\n",
       "  <tbody>\n",
       "    <tr>\n",
       "      <th>Stroop_2_R_W3</th>\n",
       "      <td>3415.462156</td>\n",
       "      <td>1.0</td>\n",
       "      <td>20.746005</td>\n",
       "      <td>0.000021</td>\n",
       "    </tr>\n",
       "    <tr>\n",
       "      <th>Residual</th>\n",
       "      <td>11853.524331</td>\n",
       "      <td>72.0</td>\n",
       "      <td>NaN</td>\n",
       "      <td>NaN</td>\n",
       "    </tr>\n",
       "  </tbody>\n",
       "</table>\n",
       "</div>"
      ],
      "text/plain": [
       "                     sum_sq    df          F    PR(>F)\n",
       "Stroop_2_R_W3   3415.462156   1.0  20.746005  0.000021\n",
       "Residual       11853.524331  72.0        NaN       NaN"
      ]
     },
     "execution_count": 102,
     "metadata": {},
     "output_type": "execute_result"
    }
   ],
   "source": [
    "import statsmodels.api as sm\n",
    "sm.stats.anova_lm(model2_fit, typ=2)"
   ]
  },
  {
   "cell_type": "code",
   "execution_count": 103,
   "metadata": {},
   "outputs": [
    {
     "data": {
      "text/html": [
       "<div>\n",
       "<style scoped>\n",
       "    .dataframe tbody tr th:only-of-type {\n",
       "        vertical-align: middle;\n",
       "    }\n",
       "\n",
       "    .dataframe tbody tr th {\n",
       "        vertical-align: top;\n",
       "    }\n",
       "\n",
       "    .dataframe thead th {\n",
       "        text-align: right;\n",
       "    }\n",
       "</style>\n",
       "<table border=\"1\" class=\"dataframe\">\n",
       "  <thead>\n",
       "    <tr style=\"text-align: right;\">\n",
       "      <th></th>\n",
       "      <th>sum_sq</th>\n",
       "      <th>df</th>\n",
       "      <th>F</th>\n",
       "      <th>PR(&gt;F)</th>\n",
       "    </tr>\n",
       "  </thead>\n",
       "  <tbody>\n",
       "    <tr>\n",
       "      <th>Stroop_1_R_W3</th>\n",
       "      <td>1929.150751</td>\n",
       "      <td>1.0</td>\n",
       "      <td>13.801345</td>\n",
       "      <td>0.000402</td>\n",
       "    </tr>\n",
       "    <tr>\n",
       "      <th>Stroop_2_R_W3</th>\n",
       "      <td>742.542935</td>\n",
       "      <td>1.0</td>\n",
       "      <td>5.312229</td>\n",
       "      <td>0.024104</td>\n",
       "    </tr>\n",
       "    <tr>\n",
       "      <th>Residual</th>\n",
       "      <td>9924.373580</td>\n",
       "      <td>71.0</td>\n",
       "      <td>NaN</td>\n",
       "      <td>NaN</td>\n",
       "    </tr>\n",
       "  </tbody>\n",
       "</table>\n",
       "</div>"
      ],
      "text/plain": [
       "                    sum_sq    df          F    PR(>F)\n",
       "Stroop_1_R_W3  1929.150751   1.0  13.801345  0.000402\n",
       "Stroop_2_R_W3   742.542935   1.0   5.312229  0.024104\n",
       "Residual       9924.373580  71.0        NaN       NaN"
      ]
     },
     "execution_count": 103,
     "metadata": {},
     "output_type": "execute_result"
    }
   ],
   "source": [
    "anov12 = sm.stats.anova_lm(model12_fit, typ=2)\n",
    "anov12"
   ]
  },
  {
   "cell_type": "markdown",
   "metadata": {},
   "source": [
    "i.e. each factor has an independent significant effect on the mean Stroop_3_R_W3"
   ]
  },
  {
   "cell_type": "markdown",
   "metadata": {},
   "source": [
    "**Calculating effect size**"
   ]
  },
  {
   "cell_type": "code",
   "execution_count": 104,
   "metadata": {},
   "outputs": [
    {
     "data": {
      "text/html": [
       "<div>\n",
       "<style scoped>\n",
       "    .dataframe tbody tr th:only-of-type {\n",
       "        vertical-align: middle;\n",
       "    }\n",
       "\n",
       "    .dataframe tbody tr th {\n",
       "        vertical-align: top;\n",
       "    }\n",
       "\n",
       "    .dataframe thead th {\n",
       "        text-align: right;\n",
       "    }\n",
       "</style>\n",
       "<table border=\"1\" class=\"dataframe\">\n",
       "  <thead>\n",
       "    <tr style=\"text-align: right;\">\n",
       "      <th></th>\n",
       "      <th>sum_sq</th>\n",
       "      <th>mean_sq</th>\n",
       "      <th>df</th>\n",
       "      <th>F</th>\n",
       "      <th>PR(&gt;F)</th>\n",
       "      <th>eta_sq</th>\n",
       "      <th>omega_sq</th>\n",
       "    </tr>\n",
       "  </thead>\n",
       "  <tbody>\n",
       "    <tr>\n",
       "      <th>Stroop_1_R_W3</th>\n",
       "      <td>1929.150751</td>\n",
       "      <td>1929.150751</td>\n",
       "      <td>1.0</td>\n",
       "      <td>13.801345</td>\n",
       "      <td>0.000402</td>\n",
       "      <td>0.153155</td>\n",
       "      <td>0.140499</td>\n",
       "    </tr>\n",
       "    <tr>\n",
       "      <th>Stroop_2_R_W3</th>\n",
       "      <td>742.542935</td>\n",
       "      <td>742.542935</td>\n",
       "      <td>1.0</td>\n",
       "      <td>5.312229</td>\n",
       "      <td>0.024104</td>\n",
       "      <td>0.058950</td>\n",
       "      <td>0.047328</td>\n",
       "    </tr>\n",
       "    <tr>\n",
       "      <th>Residual</th>\n",
       "      <td>9924.373580</td>\n",
       "      <td>139.779910</td>\n",
       "      <td>71.0</td>\n",
       "      <td>NaN</td>\n",
       "      <td>NaN</td>\n",
       "      <td>NaN</td>\n",
       "      <td>NaN</td>\n",
       "    </tr>\n",
       "  </tbody>\n",
       "</table>\n",
       "</div>"
      ],
      "text/plain": [
       "                    sum_sq      mean_sq    df          F    PR(>F)    eta_sq  \\\n",
       "Stroop_1_R_W3  1929.150751  1929.150751   1.0  13.801345  0.000402  0.153155   \n",
       "Stroop_2_R_W3   742.542935   742.542935   1.0   5.312229  0.024104  0.058950   \n",
       "Residual       9924.373580   139.779910  71.0        NaN       NaN       NaN   \n",
       "\n",
       "               omega_sq  \n",
       "Stroop_1_R_W3  0.140499  \n",
       "Stroop_2_R_W3  0.047328  \n",
       "Residual            NaN  "
      ]
     },
     "execution_count": 104,
     "metadata": {},
     "output_type": "execute_result"
    }
   ],
   "source": [
    "def anova_table(aov):\n",
    "    aov['mean_sq'] = aov[:]['sum_sq']/aov[:]['df']\n",
    "    \n",
    "    aov['eta_sq'] = aov[:-1]['sum_sq']/sum(aov['sum_sq'])\n",
    "    \n",
    "    aov['omega_sq'] = (aov[:-1]['sum_sq']-(aov[:-1]['df']*aov['mean_sq'][-1]))/(sum(aov['sum_sq'])+aov['mean_sq'][-1])\n",
    "    \n",
    "    cols = ['sum_sq', 'mean_sq', 'df', 'F', 'PR(>F)', 'eta_sq', 'omega_sq']\n",
    "    aov = aov[cols]\n",
    "    return aov\n",
    "\n",
    "anova_table(anov12)"
   ]
  },
  {
   "cell_type": "markdown",
   "metadata": {},
   "source": [
    "$\\omega^2$ is a better measure of effect size since it’s unbiased in it’s calculation. It takes into account the degrees of freedom, whereas $\\eta^2$ does not. Side note, $\\eta^2$ and $R^2$ are the same thing in the ANOVA framework. Each factor, Stroop_1 and Stroop_2, has a small effect on the mean Stroop_3_R_W3 reaction time"
   ]
  },
  {
   "cell_type": "markdown",
   "metadata": {},
   "source": [
    "**Comparing models**<br>\n",
    "When you use `anova(lm.1,lm.2,test=\"Chisq\")`, it performs the Chi-square test to compare lm.1 and lm.2 (i.e. it tests whether reduction in the residual sum of squares are statistically significant or not). Note that this makes sense only if lm.1 and lm.2 are nested models.<br>\n",
    "https://stat.ethz.ch/R-manual/R-patched/library/stats/html/anova.lm.html"
   ]
  },
  {
   "cell_type": "code",
   "execution_count": 105,
   "metadata": {},
   "outputs": [
    {
     "name": "stdout",
     "output_type": "stream",
     "text": [
      "   df_resid           ssr  df_diff     ss_diff         F    Pr(>F)\n",
      "0      72.0  10666.916514      0.0         NaN       NaN       NaN\n",
      "1      71.0   9924.373580      1.0  742.542935  5.312229  0.024104\n"
     ]
    }
   ],
   "source": [
    "from statsmodels.stats.api import anova_lm\n",
    "table1_12 = anova_lm(model1_fit, model12_fit, test=\"F\")\n",
    "print(table1_12)"
   ]
  },
  {
   "cell_type": "code",
   "execution_count": 106,
   "metadata": {},
   "outputs": [
    {
     "name": "stdout",
     "output_type": "stream",
     "text": [
      "   df_resid           ssr  df_diff      ss_diff          F    Pr(>F)\n",
      "0      72.0  11853.524331      0.0          NaN        NaN       NaN\n",
      "1      71.0   9924.373580      1.0  1929.150751  13.801345  0.000402\n"
     ]
    }
   ],
   "source": [
    "table2_12 = anova_lm(model2_fit, model12_fit,  test=\"F\")\n",
    "print(table2_12)"
   ]
  },
  {
   "cell_type": "code",
   "execution_count": 107,
   "metadata": {},
   "outputs": [],
   "source": [
    "model = model12\n",
    "model_fit = model12_fit\n",
    "\n",
    "# fitted values (need a constant term for intercept)\n",
    "model_fitted_y = model_fit.fittedvalues\n",
    "\n",
    "# model residuals\n",
    "model_residuals = model_fit.resid\n",
    "\n",
    "# normalized residuals\n",
    "model_norm_residuals = model_fit.get_influence().resid_studentized_internal\n",
    "\n",
    "# absolute squared normalized residuals\n",
    "model_norm_residuals_abs_sqrt = np.sqrt(np.abs(model_norm_residuals))\n",
    "\n",
    "# absolute residuals\n",
    "model_abs_resid = np.abs(model_residuals)\n",
    "\n",
    "# leverage, from statsmodels internals\n",
    "model_leverage = model_fit.get_influence().hat_matrix_diag\n",
    "\n",
    "# cook's distance, from statsmodels internals\n",
    "model_cooks = model_fit.get_influence().cooks_distance[0]"
   ]
  },
  {
   "cell_type": "code",
   "execution_count": 108,
   "metadata": {},
   "outputs": [
    {
     "data": {
      "image/png": "[encoded data removed]",
      "text/plain": [
       "<Figure size 432x288 with 1 Axes>"
      ]
     },
     "metadata": {
      "needs_background": "light"
     },
     "output_type": "display_data"
    }
   ],
   "source": [
    "plt.hist(model_residuals, facecolor='w', edgecolor='k', lw=2, alpha=1.0)\n",
    "plt.title('Residuals')\n",
    "plt.show()"
   ]
  },
  {
   "cell_type": "markdown",
   "metadata": {},
   "source": [
    "**Residual plot**"
   ]
  },
  {
   "cell_type": "code",
   "execution_count": 109,
   "metadata": {},
   "outputs": [
    {
     "data": {
      "image/png": "[encoded data removed]",
      "text/plain": [
       "<Figure size 864x576 with 1 Axes>"
      ]
     },
     "metadata": {
      "needs_background": "light"
     },
     "output_type": "display_data"
    }
   ],
   "source": [
    "plot_lm_1 = plt.figure(1)\n",
    "plot_lm_1.set_figheight(8)\n",
    "plot_lm_1.set_figwidth(12)\n",
    "\n",
    "plot_lm_1.axes[0] = sns.residplot(model_fitted_y, 'Stroop_3_R_W3', data=cwit, \n",
    "                          lowess=True, \n",
    "                          scatter_kws={'alpha': 0.5}, \n",
    "                          line_kws={'color': 'red', 'lw': 1, 'alpha': 0.8})\n",
    "\n",
    "plot_lm_1.axes[0].set_title('Residuals vs Fitted')\n",
    "plot_lm_1.axes[0].set_xlabel('Fitted values')\n",
    "plot_lm_1.axes[0].set_ylabel('Residuals')\n",
    "\n",
    "# annotations\n",
    "abs_resid = model_abs_resid.sort_values(ascending=False)\n",
    "abs_resid_top_3 = abs_resid[:3]\n",
    "\n",
    "for i in abs_resid_top_3.index:\n",
    "    plot_lm_1.axes[0].annotate(i, \n",
    "                               xy=(model_fitted_y[i], \n",
    "                                   model_residuals[i]));"
   ]
  },
  {
   "cell_type": "markdown",
   "metadata": {},
   "source": [
    "**QQ-plot**"
   ]
  },
  {
   "cell_type": "code",
   "execution_count": 110,
   "metadata": {},
   "outputs": [
    {
     "data": {
      "image/png": "[encoded data removed]",
      "text/plain": [
       "<Figure size 864x576 with 1 Axes>"
      ]
     },
     "metadata": {
      "needs_background": "light"
     },
     "output_type": "display_data"
    }
   ],
   "source": [
    "QQ = ProbPlot(model_norm_residuals)\n",
    "plot_lm_2 = QQ.qqplot(line='45', alpha=0.5, color='#4C72B0', lw=1)\n",
    "\n",
    "plot_lm_2.set_figheight(8)\n",
    "plot_lm_2.set_figwidth(12)\n",
    "\n",
    "plot_lm_2.axes[0].set_title('Normal Q-Q')\n",
    "plot_lm_2.axes[0].set_xlabel('Theoretical Quantiles')\n",
    "plot_lm_2.axes[0].set_ylabel('Standardized Residuals');\n",
    "\n",
    "# annotations\n",
    "abs_norm_resid = np.flip(np.argsort(np.abs(model_norm_residuals)), 0)\n",
    "abs_norm_resid_top_3 = abs_norm_resid[:3]\n",
    "\n",
    "for r, i in enumerate(abs_norm_resid_top_3):\n",
    "    plot_lm_2.axes[0].annotate(i, \n",
    "                               xy=(np.flip(QQ.theoretical_quantiles, 0)[r],\n",
    "                                   model_norm_residuals[i]));"
   ]
  },
  {
   "cell_type": "markdown",
   "metadata": {},
   "source": [
    "**Scale-location plot**"
   ]
  },
  {
   "cell_type": "code",
   "execution_count": 111,
   "metadata": {},
   "outputs": [
    {
     "data": {
      "image/png": "[encoded data removed]",
      "text/plain": [
       "<Figure size 864x576 with 1 Axes>"
      ]
     },
     "metadata": {
      "needs_background": "light"
     },
     "output_type": "display_data"
    }
   ],
   "source": [
    "plot_lm_3 = plt.figure(3)\n",
    "plot_lm_3.set_figheight(8)\n",
    "plot_lm_3.set_figwidth(12)\n",
    "\n",
    "plt.scatter(model_fitted_y, model_norm_residuals_abs_sqrt, alpha=0.5)\n",
    "sns.regplot(model_fitted_y, model_norm_residuals_abs_sqrt, \n",
    "            scatter=False, \n",
    "            ci=False, \n",
    "            lowess=True,\n",
    "            line_kws={'color': 'red', 'lw': 1, 'alpha': 0.8})\n",
    "\n",
    "plot_lm_3.axes[0].set_title('Scale-Location')\n",
    "plot_lm_3.axes[0].set_xlabel('Fitted values')\n",
    "plot_lm_3.axes[0].set_ylabel('$\\sqrt{|Standardized Residuals|}$');\n",
    "\n",
    "# annotations\n",
    "abs_sq_norm_resid = np.flip(np.argsort(model_norm_residuals_abs_sqrt), 0)\n",
    "abs_sq_norm_resid_top_3 = abs_sq_norm_resid[:3]\n",
    "\n",
    "for i in abs_norm_resid_top_3:\n",
    "    plot_lm_3.axes[0].annotate(i, \n",
    "                               xy=(model_fitted_y[i], \n",
    "                                   model_norm_residuals_abs_sqrt[i]));"
   ]
  },
  {
   "cell_type": "markdown",
   "metadata": {},
   "source": [
    "**Leverage plot**"
   ]
  },
  {
   "cell_type": "code",
   "execution_count": 112,
   "metadata": {},
   "outputs": [
    {
     "data": {
      "image/png": "[encoded data removed]",
      "text/plain": [
       "<Figure size 864x576 with 1 Axes>"
      ]
     },
     "metadata": {
      "needs_background": "light"
     },
     "output_type": "display_data"
    }
   ],
   "source": [
    "plot_lm_4 = plt.figure(4)\n",
    "plot_lm_4.set_figheight(8)\n",
    "plot_lm_4.set_figwidth(12)\n",
    "\n",
    "plt.scatter(model_leverage, model_norm_residuals, alpha=0.5)\n",
    "sns.regplot(model_leverage, model_norm_residuals, \n",
    "            scatter=False, \n",
    "            ci=False, \n",
    "            lowess=True,\n",
    "            line_kws={'color': 'red', 'lw': 1, 'alpha': 0.8})\n",
    "\n",
    "plot_lm_4.axes[0].set_xlim(0, 0.20)\n",
    "plot_lm_4.axes[0].set_ylim(-3, 5)\n",
    "plot_lm_4.axes[0].set_title('Residuals vs Leverage')\n",
    "plot_lm_4.axes[0].set_xlabel('Leverage')\n",
    "plot_lm_4.axes[0].set_ylabel('Standardized Residuals')\n",
    "\n",
    "# annotations\n",
    "leverage_top_3 = np.flip(np.argsort(model_cooks), 0)[:3]\n",
    "\n",
    "for i in leverage_top_3:\n",
    "    plot_lm_4.axes[0].annotate(i, \n",
    "                               xy=(model_leverage[i], \n",
    "                                   model_norm_residuals[i]))\n",
    "    \n",
    "# shenanigans for cook's distance contours\n",
    "def graph(formula, x_range, label=None):\n",
    "    x = x_range\n",
    "    y = formula(x)\n",
    "    plt.plot(x, y, label=label, lw=1, ls='--', color='red')\n",
    "\n",
    "p = len(model_fit.params) # number of model parameters\n",
    "\n",
    "graph(lambda x: np.sqrt((0.5 * p * (1 - x)) / x), \n",
    "      np.linspace(0.001, 0.200, 50), \n",
    "      'Cook\\'s distance') # 0.5 line\n",
    "graph(lambda x: np.sqrt((1 * p * (1 - x)) / x), \n",
    "      np.linspace(0.001, 0.200, 50)) # 1 line\n",
    "plt.legend(loc='upper right');"
   ]
  },
  {
   "cell_type": "code",
   "execution_count": 113,
   "metadata": {},
   "outputs": [],
   "source": [
    "cwit['resid12'] =  np.array(model_residuals)"
   ]
  },
  {
   "cell_type": "code",
   "execution_count": 114,
   "metadata": {},
   "outputs": [
    {
     "data": {
      "text/html": [
       "<div>\n",
       "<style scoped>\n",
       "    .dataframe tbody tr th:only-of-type {\n",
       "        vertical-align: middle;\n",
       "    }\n",
       "\n",
       "    .dataframe tbody tr th {\n",
       "        vertical-align: top;\n",
       "    }\n",
       "\n",
       "    .dataframe thead th {\n",
       "        text-align: right;\n",
       "    }\n",
       "</style>\n",
       "<table border=\"1\" class=\"dataframe\">\n",
       "  <thead>\n",
       "    <tr style=\"text-align: right;\">\n",
       "      <th></th>\n",
       "      <th>Subject</th>\n",
       "      <th>Sex</th>\n",
       "      <th>Stroop_1_R_W3</th>\n",
       "      <th>Stroop_2_R_W3</th>\n",
       "      <th>Stroop_3_R_W3</th>\n",
       "      <th>Stroop_4_R_W3</th>\n",
       "      <th>resid12</th>\n",
       "    </tr>\n",
       "  </thead>\n",
       "  <tbody>\n",
       "    <tr>\n",
       "      <th>0</th>\n",
       "      <td>subj_01</td>\n",
       "      <td>F</td>\n",
       "      <td>34.0</td>\n",
       "      <td>19.0</td>\n",
       "      <td>66.0</td>\n",
       "      <td>92.0</td>\n",
       "      <td>7.076375</td>\n",
       "    </tr>\n",
       "    <tr>\n",
       "      <th>1</th>\n",
       "      <td>subj_02</td>\n",
       "      <td>M</td>\n",
       "      <td>41.0</td>\n",
       "      <td>29.0</td>\n",
       "      <td>85.0</td>\n",
       "      <td>90.0</td>\n",
       "      <td>10.015983</td>\n",
       "    </tr>\n",
       "    <tr>\n",
       "      <th>2</th>\n",
       "      <td>subj_03</td>\n",
       "      <td>M</td>\n",
       "      <td>35.0</td>\n",
       "      <td>19.0</td>\n",
       "      <td>71.0</td>\n",
       "      <td>79.0</td>\n",
       "      <td>10.971306</td>\n",
       "    </tr>\n",
       "    <tr>\n",
       "      <th>3</th>\n",
       "      <td>subj_04</td>\n",
       "      <td>M</td>\n",
       "      <td>21.0</td>\n",
       "      <td>20.0</td>\n",
       "      <td>41.0</td>\n",
       "      <td>96.0</td>\n",
       "      <td>-4.390219</td>\n",
       "    </tr>\n",
       "    <tr>\n",
       "      <th>4</th>\n",
       "      <td>subj_05</td>\n",
       "      <td>M</td>\n",
       "      <td>38.0</td>\n",
       "      <td>21.0</td>\n",
       "      <td>62.0</td>\n",
       "      <td>80.0</td>\n",
       "      <td>-3.008883</td>\n",
       "    </tr>\n",
       "  </tbody>\n",
       "</table>\n",
       "</div>"
      ],
      "text/plain": [
       "   Subject Sex  Stroop_1_R_W3  Stroop_2_R_W3  Stroop_3_R_W3  Stroop_4_R_W3  \\\n",
       "0  subj_01   F           34.0           19.0           66.0           92.0   \n",
       "1  subj_02   M           41.0           29.0           85.0           90.0   \n",
       "2  subj_03   M           35.0           19.0           71.0           79.0   \n",
       "3  subj_04   M           21.0           20.0           41.0           96.0   \n",
       "4  subj_05   M           38.0           21.0           62.0           80.0   \n",
       "\n",
       "     resid12  \n",
       "0   7.076375  \n",
       "1  10.015983  \n",
       "2  10.971306  \n",
       "3  -4.390219  \n",
       "4  -3.008883  "
      ]
     },
     "execution_count": 114,
     "metadata": {},
     "output_type": "execute_result"
    }
   ],
   "source": [
    "cwit.head()"
   ]
  },
  {
   "cell_type": "code",
   "execution_count": 115,
   "metadata": {},
   "outputs": [],
   "source": [
    "cwit_resid12 = pd.DataFrame([cwit['Subject'], cwit['Stroop_3_R_W3'], cwit['resid12']]).T"
   ]
  },
  {
   "cell_type": "code",
   "execution_count": 116,
   "metadata": {},
   "outputs": [
    {
     "data": {
      "text/html": [
       "<div>\n",
       "<style scoped>\n",
       "    .dataframe tbody tr th:only-of-type {\n",
       "        vertical-align: middle;\n",
       "    }\n",
       "\n",
       "    .dataframe tbody tr th {\n",
       "        vertical-align: top;\n",
       "    }\n",
       "\n",
       "    .dataframe thead th {\n",
       "        text-align: right;\n",
       "    }\n",
       "</style>\n",
       "<table border=\"1\" class=\"dataframe\">\n",
       "  <thead>\n",
       "    <tr style=\"text-align: right;\">\n",
       "      <th></th>\n",
       "      <th>Subject</th>\n",
       "      <th>Stroop_3_R_W3</th>\n",
       "      <th>resid12</th>\n",
       "    </tr>\n",
       "  </thead>\n",
       "  <tbody>\n",
       "    <tr>\n",
       "      <th>0</th>\n",
       "      <td>subj_01</td>\n",
       "      <td>66</td>\n",
       "      <td>7.07638</td>\n",
       "    </tr>\n",
       "    <tr>\n",
       "      <th>1</th>\n",
       "      <td>subj_02</td>\n",
       "      <td>85</td>\n",
       "      <td>10.016</td>\n",
       "    </tr>\n",
       "    <tr>\n",
       "      <th>2</th>\n",
       "      <td>subj_03</td>\n",
       "      <td>71</td>\n",
       "      <td>10.9713</td>\n",
       "    </tr>\n",
       "    <tr>\n",
       "      <th>3</th>\n",
       "      <td>subj_04</td>\n",
       "      <td>41</td>\n",
       "      <td>-4.39022</td>\n",
       "    </tr>\n",
       "    <tr>\n",
       "      <th>4</th>\n",
       "      <td>subj_05</td>\n",
       "      <td>62</td>\n",
       "      <td>-3.00888</td>\n",
       "    </tr>\n",
       "  </tbody>\n",
       "</table>\n",
       "</div>"
      ],
      "text/plain": [
       "   Subject Stroop_3_R_W3  resid12\n",
       "0  subj_01            66  7.07638\n",
       "1  subj_02            85   10.016\n",
       "2  subj_03            71  10.9713\n",
       "3  subj_04            41 -4.39022\n",
       "4  subj_05            62 -3.00888"
      ]
     },
     "execution_count": 116,
     "metadata": {},
     "output_type": "execute_result"
    }
   ],
   "source": [
    "cwit_resid12.head()"
   ]
  },
  {
   "cell_type": "code",
   "execution_count": 117,
   "metadata": {},
   "outputs": [],
   "source": [
    "#cwit_resid12.to_csv('../results/cwit_resid12.csv', index=False)"
   ]
  },
  {
   "cell_type": "code",
   "execution_count": null,
   "metadata": {},
   "outputs": [],
   "source": []
  }
 ],
 "metadata": {
  "kernelspec": {
   "display_name": "LVV-RI",
   "language": "python",
   "name": "lvv-ri"
  },
  "language_info": {
   "codemirror_mode": {
    "name": "ipython",
    "version": 3
   },
   "file_extension": ".py",
   "mimetype": "text/x-python",
   "name": "python",
   "nbconvert_exporter": "python",
   "pygments_lexer": "ipython3",
   "version": "3.7.4"
  },
  "toc": {
   "base_numbering": 1,
   "nav_menu": {},
   "number_sections": true,
   "sideBar": true,
   "skip_h1_title": false,
   "title_cell": "Table of Contents",
   "title_sidebar": "Contents",
   "toc_cell": false,
   "toc_position": {},
   "toc_section_display": true,
   "toc_window_display": false
  }
 },
 "nbformat": 4,
 "nbformat_minor": 2
}
