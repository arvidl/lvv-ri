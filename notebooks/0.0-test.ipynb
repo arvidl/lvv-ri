{
 "cells": [
  {
   "cell_type": "markdown",
   "metadata": {},
   "source": [
    "**0.0-test.ipynb** for testing your `lvv-ri` environment\n",
    "\n",
    "Copyright (c) 2019, Arvid Lundervold"
   ]
  },
  {
   "cell_type": "markdown",
   "metadata": {},
   "source": [
    "# python, numpy, pandas, matplotlib, rpy2 and more"
   ]
  },
  {
   "cell_type": "markdown",
   "metadata": {},
   "source": [
    "If you successfully run through this notebook, then your Python environment is configured correctly. "
   ]
  },
  {
   "cell_type": "markdown",
   "metadata": {},
   "source": [
    "# How to use the Jupyter Notebook?"
   ]
  },
  {
   "cell_type": "markdown",
   "metadata": {},
   "source": [
    "[Jupyter Notebook](http://jupyter.org/) is a useful tool for experimenting with code. Everything of code and text is written in HTML, Markdown and Python.\n",
    "\n",
    "Use arrow keys to navigate between cells. Hit ENTER on a cell to switch to editing mode. ESC to get back."
   ]
  },
  {
   "cell_type": "code",
   "execution_count": 1,
   "metadata": {},
   "outputs": [
    {
     "name": "stdout",
     "output_type": "stream",
     "text": [
      "This is a Jupyter cell containing Python code. Hit 'Run' in the menu to execute the cell. \n"
     ]
    }
   ],
   "source": [
    "print(\"This is a Jupyter cell containing Python code. Hit 'Run' in the menu to execute the cell. \")"
   ]
  },
  {
   "cell_type": "markdown",
   "metadata": {},
   "source": [
    "You can also run cells by typing **Shift+Enter** or **Ctrl+Enter**. Try running the cell above by using both of these."
   ]
  },
  {
   "cell_type": "markdown",
   "metadata": {},
   "source": [
    "You will find more information via the Help menu above."
   ]
  },
  {
   "cell_type": "markdown",
   "metadata": {},
   "source": [
    "`lvv-ri` is using Jupyter Notebooks with both Python and R for the coding. <br>Here is a good tutorial on Jupyter Notebook: [Jupyter Notebook Tutorial: The Definitive Guide](https://www.datacamp.com/community/tutorials/tutorial-jupyter-notebook)."
   ]
  },
  {
   "cell_type": "markdown",
   "metadata": {},
   "source": [
    "# Import libraries"
   ]
  },
  {
   "cell_type": "markdown",
   "metadata": {},
   "source": [
    "These are libaries that will be frequently used in the course:"
   ]
  },
  {
   "cell_type": "code",
   "execution_count": 21,
   "metadata": {},
   "outputs": [],
   "source": [
    "# To diosplay plots directly in the notebook:\n",
    "%matplotlib inline"
   ]
  },
  {
   "cell_type": "code",
   "execution_count": 22,
   "metadata": {},
   "outputs": [],
   "source": [
    "# A frequently used plotting libraryp:\n",
    "import matplotlib\n",
    "import matplotlib.pyplot as plt"
   ]
  },
  {
   "cell_type": "code",
   "execution_count": 23,
   "metadata": {},
   "outputs": [],
   "source": [
    "# An extension of matplotlib making it easy to generate even nicer plots:\n",
    "import seaborn as sns"
   ]
  },
  {
   "cell_type": "code",
   "execution_count": 24,
   "metadata": {},
   "outputs": [],
   "source": [
    "# A numerical libray for efficient manipulation of matrices (and more):\n",
    "import numpy as np"
   ]
  },
  {
   "cell_type": "code",
   "execution_count": 27,
   "metadata": {},
   "outputs": [],
   "source": [
    "# To read, write and proecess tabular data:\n",
    "import pandas as pd"
   ]
  },
  {
   "cell_type": "code",
   "execution_count": 26,
   "metadata": {},
   "outputs": [],
   "source": [
    "# For machine learning:\n",
    "import sklearn"
   ]
  },
  {
   "cell_type": "code",
   "execution_count": 1,
   "metadata": {},
   "outputs": [],
   "source": [
    "# For rpy2:\n",
    "import tzlocal"
   ]
  },
  {
   "cell_type": "code",
   "execution_count": 2,
   "metadata": {},
   "outputs": [
    {
     "name": "stderr",
     "output_type": "stream",
     "text": [
      "/Users/arvid/anaconda3/envs/lvv-ri/lib/python3.7/site-packages/rpy2/robjects/lib/tidyr.py:10: UserWarning: This was designed againt tidyr version 0.7.2 but you have 0.8.3\n",
      "  warnings.warn('This was designed againt tidyr version %s but you have %s' % (TARGET_VERSION, tidyr.__version__))\n",
      "/Users/arvid/anaconda3/envs/lvv-ri/lib/python3.7/site-packages/rpy2/robjects/lib/dplyr.py:24: UserWarning: This was designed againt dplyr version 0.7.5 but you have 0.7.6\n",
      "  warnings.warn('This was designed againt dplyr version %s but you have %s' % (TARGET_VERSION, dplyr.__version__))\n"
     ]
    }
   ],
   "source": [
    "# For using R:\n",
    "import rpy2\n",
    "from rpy2.robjects import r, pandas2ri\n",
    "pandas2ri.activate()\n",
    "from rpy2.robjects.lib.tidyr import DataFrame"
   ]
  },
  {
   "cell_type": "markdown",
   "metadata": {},
   "source": [
    "If errors like<br>\n",
    "```python\n",
    "RRuntimeError: Error in loadNamespace(name) : there is no package called 'tidyr'\n",
    "```\n",
    "see cell below:"
   ]
  },
  {
   "cell_type": "code",
   "execution_count": 3,
   "metadata": {},
   "outputs": [],
   "source": [
    "from rpy2.robjects.packages import importr\n",
    "utils = importr('utils')\n",
    "# If needed to install - uncomment the following\n",
    "#utils.install_packages('tidyr')\n",
    "#utils.install_packages('lazyeval')\n",
    "#utils.install_packages('lme4')\n",
    "#utils.install_packages('ggplot2')\n",
    "#utils.install_packages('GGally')\n",
    "#utils.install_packages('foreign')\n",
    "\n",
    "# Extra:\n",
    "#utils.install_packages('caret')\n",
    "#utils.install_packages('tidyverse')\n",
    "#utils.install_packages('devtools')\n",
    "#utils.install_packages('rlang')\n",
    "#utils.install_packages('Rccp')\n",
    "#utils.install_packages('tikzDevice')\n",
    "#utils.install_packages('stargazer')\n",
    "#utils.install_packages('readxl')\n",
    "#utils.install_packages('stringi')\n",
    "#utils.install_packages('r-cran-stringi')\n",
    "#utils.install_packages('foreign')"
   ]
  },
  {
   "cell_type": "code",
   "execution_count": 4,
   "metadata": {},
   "outputs": [],
   "source": [
    "%reload_ext rpy2.ipython"
   ]
  },
  {
   "cell_type": "code",
   "execution_count": 5,
   "metadata": {},
   "outputs": [
    {
     "data": {
      "text/plain": [
       "array(['x86_64, darwin13.4.0'], dtype='<U20')"
      ]
     },
     "execution_count": 5,
     "metadata": {},
     "output_type": "execute_result"
    }
   ],
   "source": [
    "%R R.version$system"
   ]
  },
  {
   "cell_type": "code",
   "execution_count": 6,
   "metadata": {},
   "outputs": [
    {
     "data": {
      "text/plain": [
       "array(['R version 3.5.1 (2018-07-02)'], dtype='<U28')"
      ]
     },
     "execution_count": 6,
     "metadata": {},
     "output_type": "execute_result"
    }
   ],
   "source": [
    "%R R.version$version.str"
   ]
  },
  {
   "cell_type": "code",
   "execution_count": 7,
   "metadata": {},
   "outputs": [],
   "source": [
    "%R library(foreign); #library(readxl)"
   ]
  },
  {
   "cell_type": "markdown",
   "metadata": {},
   "source": [
    "# Test libraries"
   ]
  },
  {
   "cell_type": "markdown",
   "metadata": {},
   "source": [
    "**REMARK:**  The aim of the following is to test the installation, not doing relevant `lvv-ri`analysis."
   ]
  },
  {
   "cell_type": "markdown",
   "metadata": {},
   "source": [
    "## `Numpy`"
   ]
  },
  {
   "cell_type": "code",
   "execution_count": 4,
   "metadata": {},
   "outputs": [],
   "source": [
    "import numpy as np"
   ]
  },
  {
   "cell_type": "code",
   "execution_count": 5,
   "metadata": {},
   "outputs": [
    {
     "name": "stdout",
     "output_type": "stream",
     "text": [
      "<class 'numpy.ndarray'>\n"
     ]
    }
   ],
   "source": [
    "a = np.array([1, 2, 3])\n",
    "print(type(a))"
   ]
  },
  {
   "cell_type": "code",
   "execution_count": 6,
   "metadata": {},
   "outputs": [
    {
     "data": {
      "text/plain": [
       "array([[0.42295248, 0.76041083, 0.96947872],\n",
       "       [0.66270009, 0.70824548, 0.42115144],\n",
       "       [0.69589176, 0.44898662, 0.58608437]])"
      ]
     },
     "execution_count": 6,
     "metadata": {},
     "output_type": "execute_result"
    }
   ],
   "source": [
    "e = np.random.random((3,3))\n",
    "e"
   ]
  },
  {
   "cell_type": "markdown",
   "metadata": {},
   "source": [
    "## `matplotlib`: a simple plot"
   ]
  },
  {
   "cell_type": "code",
   "execution_count": 7,
   "metadata": {},
   "outputs": [],
   "source": [
    "%matplotlib inline\n",
    "import matplotlib.pyplot as plt"
   ]
  },
  {
   "cell_type": "markdown",
   "metadata": {},
   "source": [
    "The following will give a figure displaying a sine function:"
   ]
  },
  {
   "cell_type": "code",
   "execution_count": 8,
   "metadata": {},
   "outputs": [
    {
     "data": {
      "image/png": "[encoded data removed]",
      "text/plain": [
       "<Figure size 576x288 with 1 Axes>"
      ]
     },
     "metadata": {
      "needs_background": "light"
     },
     "output_type": "display_data"
    }
   ],
   "source": [
    "# Data to be plotted (generated by Numpy)\n",
    "t = np.arange(0.0, 2.0, 0.01)\n",
    "s = 1 + np.sin(2 * np.pi * t)\n",
    "\n",
    "# Make a figure of given size\n",
    "f, ax = plt.subplots(figsize=(8,4))\n",
    "\n",
    "# Plot t versus s\n",
    "plt.plot(t, s)\n",
    "\n",
    "# Add a title and labels:\n",
    "plt.title('A simple plot')\n",
    "plt.xlabel('time (s)')\n",
    "plt.ylabel('voltage')\n",
    "\n",
    "# Show plot:\n",
    "plt.show()"
   ]
  },
  {
   "cell_type": "markdown",
   "metadata": {},
   "source": [
    "## `Seaborn`: a more advanced plot"
   ]
  },
  {
   "cell_type": "code",
   "execution_count": 12,
   "metadata": {},
   "outputs": [],
   "source": [
    "import seaborn as sns"
   ]
  },
  {
   "cell_type": "markdown",
   "metadata": {},
   "source": [
    "Source: [Link](https://seaborn.pydata.org/examples/scatterplot_categorical.html)"
   ]
  },
  {
   "cell_type": "code",
   "execution_count": 13,
   "metadata": {},
   "outputs": [
    {
     "data": {
      "image/png": "[encoded data removed]",
      "text/plain": [
       "<Figure size 576x576 with 1 Axes>"
      ]
     },
     "metadata": {},
     "output_type": "display_data"
    }
   ],
   "source": [
    "sns.set(style=\"whitegrid\", palette=\"muted\")\n",
    "\n",
    "# Load the iris dataset\n",
    "iris = sns.load_dataset(\"iris\")\n",
    "\n",
    "# \"Melt\" dataset to \"long-form\" or \"tidy\" representation\n",
    "iris = pd.melt(iris, \"species\", var_name=\"measurement\")\n",
    "\n",
    "# Make a figure with given size\n",
    "f, ax = plt.subplots(figsize=(8,8))\n",
    "\n",
    "# Draw a categorical scatterplot to show each observation\n",
    "sns.swarmplot(x=\"measurement\", y=\"value\", hue=\"species\", data=iris, size=5, ax=ax)\n",
    "\n",
    "plt.show()"
   ]
  },
  {
   "cell_type": "markdown",
   "metadata": {},
   "source": [
    "## `Pandas`"
   ]
  },
  {
   "cell_type": "code",
   "execution_count": 14,
   "metadata": {},
   "outputs": [],
   "source": [
    "import pandas as pd"
   ]
  },
  {
   "cell_type": "code",
   "execution_count": 15,
   "metadata": {},
   "outputs": [],
   "source": [
    "df = pd.read_csv('../data/lvv_ri_data.csv')"
   ]
  },
  {
   "cell_type": "code",
   "execution_count": 16,
   "metadata": {},
   "outputs": [
    {
     "data": {
      "text/html": [
       "<div>\n",
       "<style scoped>\n",
       "    .dataframe tbody tr th:only-of-type {\n",
       "        vertical-align: middle;\n",
       "    }\n",
       "\n",
       "    .dataframe tbody tr th {\n",
       "        vertical-align: top;\n",
       "    }\n",
       "\n",
       "    .dataframe thead th {\n",
       "        text-align: right;\n",
       "    }\n",
       "</style>\n",
       "<table border=\"1\" class=\"dataframe\">\n",
       "  <thead>\n",
       "    <tr style=\"text-align: right;\">\n",
       "      <th></th>\n",
       "      <th>Subject</th>\n",
       "      <th>Sex</th>\n",
       "      <th>AcquisitionYearsW1</th>\n",
       "      <th>AcquisitionYearsW2</th>\n",
       "      <th>AcquisitionYearsW3</th>\n",
       "      <th>Left-Lateral-Ventricle_W1</th>\n",
       "      <th>Left-Lateral-Ventricle_W2</th>\n",
       "      <th>Left-Lateral-Ventricle_W3</th>\n",
       "      <th>Right-Lateral-Ventricle_W1</th>\n",
       "      <th>Right-Lateral-Ventricle_W2</th>\n",
       "      <th>Right-Lateral-Ventricle_W3</th>\n",
       "      <th>EstimatedTotalIntraCranialVol_W3</th>\n",
       "      <th>Stroop_3_R_W3</th>\n",
       "    </tr>\n",
       "  </thead>\n",
       "  <tbody>\n",
       "    <tr>\n",
       "      <th>0</th>\n",
       "      <td>subj_01</td>\n",
       "      <td>F</td>\n",
       "      <td>56.63</td>\n",
       "      <td>60.35</td>\n",
       "      <td>62.62</td>\n",
       "      <td>5321.4</td>\n",
       "      <td>5063.6</td>\n",
       "      <td>5368.3</td>\n",
       "      <td>6855.2</td>\n",
       "      <td>6729.2</td>\n",
       "      <td>7233.2</td>\n",
       "      <td>1.232679e+06</td>\n",
       "      <td>66.0</td>\n",
       "    </tr>\n",
       "    <tr>\n",
       "      <th>1</th>\n",
       "      <td>subj_02</td>\n",
       "      <td>M</td>\n",
       "      <td>49.07</td>\n",
       "      <td>52.58</td>\n",
       "      <td>55.05</td>\n",
       "      <td>11038.6</td>\n",
       "      <td>11912.2</td>\n",
       "      <td>12313.3</td>\n",
       "      <td>10611.6</td>\n",
       "      <td>11774.8</td>\n",
       "      <td>12070.5</td>\n",
       "      <td>1.464692e+06</td>\n",
       "      <td>85.0</td>\n",
       "    </tr>\n",
       "    <tr>\n",
       "      <th>2</th>\n",
       "      <td>subj_03</td>\n",
       "      <td>M</td>\n",
       "      <td>74.61</td>\n",
       "      <td>78.14</td>\n",
       "      <td>80.59</td>\n",
       "      <td>29718.4</td>\n",
       "      <td>32265.1</td>\n",
       "      <td>35887.0</td>\n",
       "      <td>34241.0</td>\n",
       "      <td>37155.2</td>\n",
       "      <td>41221.4</td>\n",
       "      <td>1.385841e+06</td>\n",
       "      <td>71.0</td>\n",
       "    </tr>\n",
       "    <tr>\n",
       "      <th>3</th>\n",
       "      <td>subj_04</td>\n",
       "      <td>M</td>\n",
       "      <td>56.23</td>\n",
       "      <td>59.78</td>\n",
       "      <td>62.68</td>\n",
       "      <td>21830.1</td>\n",
       "      <td>23933.6</td>\n",
       "      <td>26164.2</td>\n",
       "      <td>15243.9</td>\n",
       "      <td>16505.1</td>\n",
       "      <td>18509.1</td>\n",
       "      <td>1.529445e+06</td>\n",
       "      <td>41.0</td>\n",
       "    </tr>\n",
       "    <tr>\n",
       "      <th>4</th>\n",
       "      <td>subj_05</td>\n",
       "      <td>M</td>\n",
       "      <td>63.22</td>\n",
       "      <td>67.00</td>\n",
       "      <td>69.53</td>\n",
       "      <td>17205.1</td>\n",
       "      <td>16970.1</td>\n",
       "      <td>15858.1</td>\n",
       "      <td>13962.1</td>\n",
       "      <td>13755.5</td>\n",
       "      <td>13143.9</td>\n",
       "      <td>1.371460e+06</td>\n",
       "      <td>62.0</td>\n",
       "    </tr>\n",
       "  </tbody>\n",
       "</table>\n",
       "</div>"
      ],
      "text/plain": [
       "   Subject Sex  AcquisitionYearsW1  AcquisitionYearsW2  AcquisitionYearsW3  \\\n",
       "0  subj_01   F               56.63               60.35               62.62   \n",
       "1  subj_02   M               49.07               52.58               55.05   \n",
       "2  subj_03   M               74.61               78.14               80.59   \n",
       "3  subj_04   M               56.23               59.78               62.68   \n",
       "4  subj_05   M               63.22               67.00               69.53   \n",
       "\n",
       "   Left-Lateral-Ventricle_W1  Left-Lateral-Ventricle_W2  \\\n",
       "0                     5321.4                     5063.6   \n",
       "1                    11038.6                    11912.2   \n",
       "2                    29718.4                    32265.1   \n",
       "3                    21830.1                    23933.6   \n",
       "4                    17205.1                    16970.1   \n",
       "\n",
       "   Left-Lateral-Ventricle_W3  Right-Lateral-Ventricle_W1  \\\n",
       "0                     5368.3                      6855.2   \n",
       "1                    12313.3                     10611.6   \n",
       "2                    35887.0                     34241.0   \n",
       "3                    26164.2                     15243.9   \n",
       "4                    15858.1                     13962.1   \n",
       "\n",
       "   Right-Lateral-Ventricle_W2  Right-Lateral-Ventricle_W3  \\\n",
       "0                      6729.2                      7233.2   \n",
       "1                     11774.8                     12070.5   \n",
       "2                     37155.2                     41221.4   \n",
       "3                     16505.1                     18509.1   \n",
       "4                     13755.5                     13143.9   \n",
       "\n",
       "   EstimatedTotalIntraCranialVol_W3  Stroop_3_R_W3  \n",
       "0                      1.232679e+06           66.0  \n",
       "1                      1.464692e+06           85.0  \n",
       "2                      1.385841e+06           71.0  \n",
       "3                      1.529445e+06           41.0  \n",
       "4                      1.371460e+06           62.0  "
      ]
     },
     "execution_count": 16,
     "metadata": {},
     "output_type": "execute_result"
    }
   ],
   "source": [
    "df.head()"
   ]
  },
  {
   "cell_type": "code",
   "execution_count": 17,
   "metadata": {},
   "outputs": [
    {
     "data": {
      "image/png": "[encoded data removed]",
      "text/plain": [
       "<Figure size 432x288 with 1 Axes>"
      ]
     },
     "metadata": {},
     "output_type": "display_data"
    }
   ],
   "source": [
    "df['AcquisitionYearsW1'].hist()\n",
    "plt.title(\"Histogram of age at inclusion\")\n",
    "plt.xlabel(\"Age\")\n",
    "plt.show()"
   ]
  },
  {
   "cell_type": "markdown",
   "metadata": {},
   "source": [
    "## `scikit-learn`: machine learning"
   ]
  },
  {
   "cell_type": "code",
   "execution_count": 18,
   "metadata": {},
   "outputs": [],
   "source": [
    "from sklearn import datasets\n",
    "from sklearn.model_selection import train_test_split\n",
    "from sklearn.ensemble import RandomForestClassifier\n",
    "from sklearn.metrics import accuracy_score"
   ]
  },
  {
   "cell_type": "code",
   "execution_count": 19,
   "metadata": {},
   "outputs": [],
   "source": [
    "data = datasets.load_breast_cancer()"
   ]
  },
  {
   "cell_type": "code",
   "execution_count": 20,
   "metadata": {},
   "outputs": [],
   "source": [
    "X = data['data']\n",
    "y = data['target']\n",
    "features = data['feature_names']\n",
    "labels = data['target_names']"
   ]
  },
  {
   "cell_type": "code",
   "execution_count": 21,
   "metadata": {},
   "outputs": [
    {
     "name": "stdout",
     "output_type": "stream",
     "text": [
      "['mean radius' 'mean texture' 'mean perimeter' 'mean area'\n",
      " 'mean smoothness' 'mean compactness' 'mean concavity'\n",
      " 'mean concave points' 'mean symmetry' 'mean fractal dimension'\n",
      " 'radius error' 'texture error' 'perimeter error' 'area error'\n",
      " 'smoothness error' 'compactness error' 'concavity error'\n",
      " 'concave points error' 'symmetry error' 'fractal dimension error'\n",
      " 'worst radius' 'worst texture' 'worst perimeter' 'worst area'\n",
      " 'worst smoothness' 'worst compactness' 'worst concavity'\n",
      " 'worst concave points' 'worst symmetry' 'worst fractal dimension']\n"
     ]
    }
   ],
   "source": [
    "print(features)"
   ]
  },
  {
   "cell_type": "code",
   "execution_count": 22,
   "metadata": {},
   "outputs": [
    {
     "name": "stdout",
     "output_type": "stream",
     "text": [
      "['malignant' 'benign']\n"
     ]
    }
   ],
   "source": [
    "print(labels)"
   ]
  },
  {
   "cell_type": "code",
   "execution_count": 23,
   "metadata": {},
   "outputs": [],
   "source": [
    "X_train, X_test, y_train, y_test = train_test_split(X, y)"
   ]
  },
  {
   "cell_type": "code",
   "execution_count": 24,
   "metadata": {},
   "outputs": [],
   "source": [
    "rf = RandomForestClassifier(n_estimators=100)"
   ]
  },
  {
   "cell_type": "code",
   "execution_count": 25,
   "metadata": {},
   "outputs": [
    {
     "data": {
      "text/plain": [
       "RandomForestClassifier(bootstrap=True, class_weight=None, criterion='gini',\n",
       "            max_depth=None, max_features='auto', max_leaf_nodes=None,\n",
       "            min_impurity_decrease=0.0, min_impurity_split=None,\n",
       "            min_samples_leaf=1, min_samples_split=2,\n",
       "            min_weight_fraction_leaf=0.0, n_estimators=100, n_jobs=None,\n",
       "            oob_score=False, random_state=None, verbose=0,\n",
       "            warm_start=False)"
      ]
     },
     "execution_count": 25,
     "metadata": {},
     "output_type": "execute_result"
    }
   ],
   "source": [
    "rf.fit(X_train, y_train)"
   ]
  },
  {
   "cell_type": "code",
   "execution_count": 26,
   "metadata": {},
   "outputs": [],
   "source": [
    "predictions = rf.predict(X_test)"
   ]
  },
  {
   "cell_type": "code",
   "execution_count": 27,
   "metadata": {},
   "outputs": [
    {
     "data": {
      "text/plain": [
       "90.9090909090909"
      ]
     },
     "execution_count": 27,
     "metadata": {},
     "output_type": "execute_result"
    }
   ],
   "source": [
    "accuracy_score(y_test, predictions) * 100"
   ]
  },
  {
   "cell_type": "markdown",
   "metadata": {},
   "source": [
    "## `rpy2`, `lmer` and `ggplot`: Analysis in R"
   ]
  },
  {
   "cell_type": "code",
   "execution_count": 8,
   "metadata": {},
   "outputs": [],
   "source": [
    "%%R\n",
    "\n",
    "# library(foreign)\n",
    "\n",
    "Rdf <- read.csv(file=\"../data/lvv_ri_data.csv\",head=TRUE, sep=\",\")"
   ]
  },
  {
   "cell_type": "code",
   "execution_count": 9,
   "metadata": {},
   "outputs": [
    {
     "data": {
      "text/plain": [
       "array(['Subject', 'Sex', 'AcquisitionYearsW1', 'AcquisitionYearsW2',\n",
       "       'AcquisitionYearsW3', 'Left.Lateral.Ventricle_W1',\n",
       "       'Left.Lateral.Ventricle_W2', 'Left.Lateral.Ventricle_W3',\n",
       "       'Right.Lateral.Ventricle_W1', 'Right.Lateral.Ventricle_W2',\n",
       "       'Right.Lateral.Ventricle_W3', 'EstimatedTotalIntraCranialVol_W3',\n",
       "       'Stroop_3_R_W3'], dtype='<U32')"
      ]
     },
     "execution_count": 9,
     "metadata": {},
     "output_type": "execute_result"
    }
   ],
   "source": [
    "%R names(Rdf)"
   ]
  },
  {
   "cell_type": "code",
   "execution_count": 10,
   "metadata": {},
   "outputs": [
    {
     "data": {
      "text/plain": [
       "array([74, 13], dtype=int32)"
      ]
     },
     "execution_count": 10,
     "metadata": {},
     "output_type": "execute_result"
    }
   ],
   "source": [
    "%R dim(Rdf)"
   ]
  },
  {
   "cell_type": "code",
   "execution_count": 11,
   "metadata": {},
   "outputs": [
    {
     "data": {
      "text/plain": [
       "array([ 66.,  85.,  71.,  41.,  62.,  89.,  46.,  57.,  48.,  50.,  59.,\n",
       "        56.,  40.,  51.,  57.,  54.,  52.,  78.,  54.,  53.,  47.,  46.,\n",
       "        45.,  41.,  57.,  71.,  73.,  41.,  57.,  56., 102.,  78.,  68.,\n",
       "        60.,  48.,  39.,  41.,  55.,  55.,  57.,  42.,  44.,  55.,  51.,\n",
       "        51.,  50.,  44.,  66.,  65.,  63.,  59.,  60.,  54.,  41.,  94.,\n",
       "        78.,  49.,  80.,  51.,  42.,  88.,  58.,  83.,  60.,  51.,  45.,\n",
       "        44.,  45.,  50.,  35.,  42.,  42.,  55.,  74.])"
      ]
     },
     "execution_count": 11,
     "metadata": {},
     "output_type": "execute_result"
    }
   ],
   "source": [
    "%R Rdf$Stroop_3_R_W3"
   ]
  },
  {
   "cell_type": "code",
   "execution_count": 12,
   "metadata": {},
   "outputs": [
    {
     "data": {
      "text/plain": [
       "array([14994.0972973])"
      ]
     },
     "execution_count": 12,
     "metadata": {},
     "output_type": "execute_result"
    }
   ],
   "source": [
    "%R mean(Rdf$Left.Lateral.Ventricle_W1)"
   ]
  },
  {
   "cell_type": "code",
   "execution_count": 13,
   "metadata": {},
   "outputs": [
    {
     "data": {
      "text/plain": [
       "array([8584.6772172])"
      ]
     },
     "execution_count": 13,
     "metadata": {},
     "output_type": "execute_result"
    }
   ],
   "source": [
    "%R sd(Rdf$Left.Lateral.Ventricle_W1)"
   ]
  },
  {
   "cell_type": "code",
   "execution_count": 14,
   "metadata": {},
   "outputs": [
    {
     "data": {
      "text/plain": [
       "array([46.66])"
      ]
     },
     "execution_count": 14,
     "metadata": {},
     "output_type": "execute_result"
    }
   ],
   "source": [
    "%R min(Rdf$AcquisitionYearsW1)"
   ]
  },
  {
   "cell_type": "code",
   "execution_count": 15,
   "metadata": {},
   "outputs": [
    {
     "data": {
      "text/plain": [
       "array([77.63])"
      ]
     },
     "execution_count": 15,
     "metadata": {},
     "output_type": "execute_result"
    }
   ],
   "source": [
    "%R max(Rdf$AcquisitionYearsW1)"
   ]
  },
  {
   "cell_type": "code",
   "execution_count": 16,
   "metadata": {},
   "outputs": [],
   "source": [
    "%%R\n",
    "\n",
    "RdfS <- na.omit(Rdf, select=c(Subject, Stroop_3_R_W3, Left.Lateral.Ventricle_W1, Left.Lateral.Ventricle_W2, Left.Lateral.Ventricle_W3))\n",
    "RfitLVV <- lm(Stroop_3_R_W3 ~ Left.Lateral.Ventricle_W1 + Left.Lateral.Ventricle_W2 + Left.Lateral.Ventricle_W3, data=RdfS)"
   ]
  },
  {
   "cell_type": "code",
   "execution_count": 17,
   "metadata": {},
   "outputs": [
    {
     "data": {
      "text/plain": [
       "array(['coefficients', 'residuals', 'effects', 'rank', 'fitted.values',\n",
       "       'assign', 'qr', 'df.residual', 'xlevels', 'call', 'terms', 'model'],\n",
       "      dtype='<U13')"
      ]
     },
     "execution_count": 17,
     "metadata": {},
     "output_type": "execute_result"
    }
   ],
   "source": [
    "%R names(RfitLVV)"
   ]
  },
  {
   "cell_type": "code",
   "execution_count": 18,
   "metadata": {},
   "outputs": [
    {
     "data": {
      "text/html": [
       "\n",
       "    <span>ListVector with 6 elements.</span>\n",
       "    <table>\n",
       "      <tbody>\n",
       "      \n",
       "      <tr>\n",
       "      <th>\n",
       "        coefficients\n",
       "      </th>\n",
       "      <td>\n",
       "        \n",
       "    <span>FloatVector with 4 elements.</span>\n",
       "    <table>\n",
       "      <tbody>\n",
       "      <tr>\n",
       "      \n",
       "      <td>\n",
       "        52.349909\n",
       "      </td>\n",
       "      \n",
       "      <td>\n",
       "        0.001122\n",
       "      </td>\n",
       "      \n",
       "      <td>\n",
       "        -0.007949\n",
       "      </td>\n",
       "      \n",
       "      <td>\n",
       "        0.006735\n",
       "      </td>\n",
       "      \n",
       "      </tr>\n",
       "      </tbody>\n",
       "    </table>\n",
       "    \n",
       "      </td>\n",
       "      </tr>\n",
       "      \n",
       "      <tr>\n",
       "      <th>\n",
       "        residuals\n",
       "      </th>\n",
       "      <td>\n",
       "        \n",
       "    <span>FloatVector with 74 elements.</span>\n",
       "    <table>\n",
       "      <tbody>\n",
       "      <tr>\n",
       "      \n",
       "      <td>\n",
       "        11.773199\n",
       "      </td>\n",
       "      \n",
       "      <td>\n",
       "        32.021743\n",
       "      </td>\n",
       "      \n",
       "      <td>\n",
       "        0.073029\n",
       "      </td>\n",
       "      \n",
       "      <td>\n",
       "        -21.817724\n",
       "      </td>\n",
       "      \n",
       "      <td>\n",
       "        ...\n",
       "      </td>\n",
       "      \n",
       "      <td>\n",
       "        -11.487475\n",
       "      </td>\n",
       "      \n",
       "      <td>\n",
       "        -12.203326\n",
       "      </td>\n",
       "      \n",
       "      <td>\n",
       "        -1.590332\n",
       "      </td>\n",
       "      \n",
       "      <td>\n",
       "        11.706603\n",
       "      </td>\n",
       "      \n",
       "      </tr>\n",
       "      </tbody>\n",
       "    </table>\n",
       "    \n",
       "      </td>\n",
       "      </tr>\n",
       "      \n",
       "      <tr>\n",
       "      <th>\n",
       "        effects\n",
       "      </th>\n",
       "      <td>\n",
       "        \n",
       "    <span>FloatVector with 74 elements.</span>\n",
       "    <table>\n",
       "      <tbody>\n",
       "      <tr>\n",
       "      \n",
       "      <td>\n",
       "        -490.216293\n",
       "      </td>\n",
       "      \n",
       "      <td>\n",
       "        23.385087\n",
       "      </td>\n",
       "      \n",
       "      <td>\n",
       "        4.041654\n",
       "      </td>\n",
       "      \n",
       "      <td>\n",
       "        -52.526447\n",
       "      </td>\n",
       "      \n",
       "      <td>\n",
       "        ...\n",
       "      </td>\n",
       "      \n",
       "      <td>\n",
       "        -14.886548\n",
       "      </td>\n",
       "      \n",
       "      <td>\n",
       "        -15.719566\n",
       "      </td>\n",
       "      \n",
       "      <td>\n",
       "        -3.260121\n",
       "      </td>\n",
       "      \n",
       "      <td>\n",
       "        12.650482\n",
       "      </td>\n",
       "      \n",
       "      </tr>\n",
       "      </tbody>\n",
       "    </table>\n",
       "    \n",
       "      </td>\n",
       "      </tr>\n",
       "      \n",
       "      <tr>\n",
       "      <th>\n",
       "        rank\n",
       "      </th>\n",
       "      <td>\n",
       "        \n",
       "    <span>IntVector with 1 elements.</span>\n",
       "    <table>\n",
       "      <tbody>\n",
       "      <tr>\n",
       "      \n",
       "      <td>\n",
       "        4\n",
       "      </td>\n",
       "      \n",
       "      </tr>\n",
       "      </tbody>\n",
       "    </table>\n",
       "    \n",
       "      </td>\n",
       "      </tr>\n",
       "      \n",
       "      <tr>\n",
       "      <th>\n",
       "        fitted.values\n",
       "      </th>\n",
       "      <td>\n",
       "        \n",
       "    <span>FloatVector with 74 elements.</span>\n",
       "    <table>\n",
       "      <tbody>\n",
       "      <tr>\n",
       "      \n",
       "      <td>\n",
       "        54.226801\n",
       "      </td>\n",
       "      \n",
       "      <td>\n",
       "        52.978257\n",
       "      </td>\n",
       "      \n",
       "      <td>\n",
       "        70.926971\n",
       "      </td>\n",
       "      \n",
       "      <td>\n",
       "        62.817724\n",
       "      </td>\n",
       "      \n",
       "      <td>\n",
       "        ...\n",
       "      </td>\n",
       "      \n",
       "      <td>\n",
       "        53.487475\n",
       "      </td>\n",
       "      \n",
       "      <td>\n",
       "        54.203326\n",
       "      </td>\n",
       "      \n",
       "      <td>\n",
       "        56.590332\n",
       "      </td>\n",
       "      \n",
       "      <td>\n",
       "        62.293397\n",
       "      </td>\n",
       "      \n",
       "      </tr>\n",
       "      </tbody>\n",
       "    </table>\n",
       "    \n",
       "      </td>\n",
       "      </tr>\n",
       "      \n",
       "      <tr>\n",
       "      <th>\n",
       "        assign\n",
       "      </th>\n",
       "      <td>\n",
       "        \n",
       "    <span>IntVector with 4 elements.</span>\n",
       "    <table>\n",
       "      <tbody>\n",
       "      <tr>\n",
       "      \n",
       "      <td>\n",
       "        0\n",
       "      </td>\n",
       "      \n",
       "      <td>\n",
       "        1\n",
       "      </td>\n",
       "      \n",
       "      <td>\n",
       "        2\n",
       "      </td>\n",
       "      \n",
       "      <td>\n",
       "        3\n",
       "      </td>\n",
       "      \n",
       "      </tr>\n",
       "      </tbody>\n",
       "    </table>\n",
       "    \n",
       "      </td>\n",
       "      </tr>\n",
       "      \n",
       "      </tbody>\n",
       "    </table>\n",
       "    "
      ],
      "text/plain": [
       "R object with classes: ('list',) mapped to:\n",
       "<ListVector - Python:0x12b818348 / R:0x7f8c9ed255d8>\n",
       "[Float..., Float..., Float..., IntVe..., Float..., IntVe...]\n",
       "  coefficients: <class 'rpy2.robjects.vectors.FloatVector'>\n",
       "  R object with classes: ('numeric',) mapped to:\n",
       "<FloatVector - Python:0x12b81e508 / R:0x7f8c9faa0608>\n",
       "[52.349909, 0.001122, -0.007949, 0.006735]\n",
       "  residuals: <class 'rpy2.robjects.vectors.FloatVector'>\n",
       "  R object with classes: ('numeric',) mapped to:\n",
       "<FloatVector - Python:0x12bb9cac8 / R:0x7f8c9db61b40>\n",
       "[11.773199, 32.021743, 0.073029, -21.817724, ..., -11.487475, -12.203326, -1.590332, 11.706603]\n",
       "  effects: <class 'rpy2.robjects.vectors.FloatVector'>\n",
       "  R object with classes: ('numeric',) mapped to:\n",
       "<FloatVector - Python:0x12bbb77c8 / R:0x7f8c9db61dc0>\n",
       "[-490.216293, 23.385087, 4.041654, -52.526447, ..., -14.886548, -15.719566, -3.260121, 12.650482]\n",
       "  rank: <class 'rpy2.robjects.vectors.IntVector'>\n",
       "  R object with classes: ('integer',) mapped to:\n",
       "<IntVector - Python:0x12bbb7108 / R:0x7f8c9fad78b0>\n",
       "[4]\n",
       "  fitted.values: <class 'rpy2.robjects.vectors.FloatVector'>\n",
       "  R object with classes: ('numeric',) mapped to:\n",
       "<FloatVector - Python:0x12b7f1d08 / R:0x7f8c9dabbec0>\n",
       "[54.226801, 52.978257, 70.926971, 62.817724, ..., 53.487475, 54.203326, 56.590332, 62.293397]\n",
       "  assign: <class 'rpy2.robjects.vectors.IntVector'>\n",
       "  R object with classes: ('integer',) mapped to:\n",
       "<IntVector - Python:0x12b856888 / R:0x7f8c9fa9b648>\n",
       "[0, 1, 2, 3]"
      ]
     },
     "execution_count": 18,
     "metadata": {},
     "output_type": "execute_result"
    }
   ],
   "source": [
    "%R head(RfitLVV)"
   ]
  },
  {
   "cell_type": "code",
   "execution_count": 19,
   "metadata": {},
   "outputs": [
    {
     "name": "stdout",
     "output_type": "stream",
     "text": [
      "              (Intercept) Left.Lateral.Ventricle_W1 Left.Lateral.Ventricle_W2 \n",
      "             52.349908701               0.001121977              -0.007949177 \n",
      "Left.Lateral.Ventricle_W3 \n",
      "              0.006735438 \n",
      "\n",
      "[1] 4\n",
      "\n"
     ]
    }
   ],
   "source": [
    "from rpy2.robjects import r, pandas2ri\n",
    "pandas2ri.activate()\n",
    "\n",
    "pd_RfitLVV = r['RfitLVV']\n",
    "\n",
    "temp = pandas2ri.ri2py(pd_RfitLVV)\n",
    "print(temp[0])\n",
    "#print(temp[1])\n",
    "#print(temp[2])\n",
    "print(temp[3])\n",
    "#print(temp[4])\n",
    "#print(temp[5])\n",
    "#print(temp[6])\n",
    "#print(temp[7])\n",
    "#print(temp[8])"
   ]
  },
  {
   "cell_type": "code",
   "execution_count": 20,
   "metadata": {},
   "outputs": [
    {
     "name": "stdout",
     "output_type": "stream",
     "text": [
      " [1] \"coefficients\"  \"residuals\"     \"effects\"       \"rank\"         \n",
      " [5] \"fitted.values\" \"assign\"        \"qr\"            \"df.residual\"  \n",
      " [9] \"xlevels\"       \"call\"          \"terms\"         \"model\"        \n",
      "\n",
      "['coefficients' 'residuals' 'effects' 'rank' 'fitted.values' 'assign' 'qr'\n",
      " 'df.residual' 'xlevels' 'call' 'terms' 'model']\n"
     ]
    }
   ],
   "source": [
    "print(pd_RfitLVV.names)\n",
    "print(pandas2ri.ri2py(pd_RfitLVV.names))"
   ]
  },
  {
   "cell_type": "code",
   "execution_count": 21,
   "metadata": {},
   "outputs": [
    {
     "data": {
      "text/html": [
       "\n",
       "    <span>ListVector with 11 elements.</span>\n",
       "    <table>\n",
       "      <tbody>\n",
       "      \n",
       "      <tr>\n",
       "      <th>\n",
       "        call\n",
       "      </th>\n",
       "      <td>\n",
       "        \n",
       "    <span>Vector with 3 elements.</span>\n",
       "    <table>\n",
       "      <tbody>\n",
       "      <tr>\n",
       "      \n",
       "      <td>\n",
       "        RObject\n",
       "      </td>\n",
       "      \n",
       "      <td>\n",
       "        Vector\n",
       "      </td>\n",
       "      \n",
       "      <td>\n",
       "        RObject\n",
       "      </td>\n",
       "      \n",
       "      </tr>\n",
       "      </tbody>\n",
       "    </table>\n",
       "    \n",
       "      </td>\n",
       "      </tr>\n",
       "      \n",
       "      <tr>\n",
       "      <th>\n",
       "        terms\n",
       "      </th>\n",
       "      <td>\n",
       "        Stroop_3_R_W3 ~ Left.Lateral.Ventricle_W1 + Left.Lateral.Ventricle_W2 + \n",
       "    Left.Lateral.Ventricle_W3\n",
       "attr(,\"variables\")\n",
       "list(Stroop_3_R_W3, Left.Lateral.Ventricle_W1, Left.Lateral.Ventricle_W2, \n",
       "    Left.Lateral.Ventricle_W3)\n",
       "attr(,\"factors\")\n",
       "                          Left.Lateral.Ventricle_W1 Left.Lateral.Ventricle_W2\n",
       "Stroop_3_R_W3                                     0                         0\n",
       "Left.Lateral.Ventricle_W1                         1                         0\n",
       "Left.Lateral.Ventricle_W2                         0                         1\n",
       "Left.Lateral.Ventricle_W3                         0                         0\n",
       "                          Left.Lateral.Ventricle_W3\n",
       "Stroop_3_R_W3                                     0\n",
       "Left.Lateral.Ventricle_W1                         0\n",
       "Left.Lateral.Ventricle_W2                         0\n",
       "Left.Lateral.Ventricle_W3                         1\n",
       "attr(,\"term.labels\")\n",
       "[1] \"Left.Lateral.Ventricle_W1\" \"Left.Lateral.Ventricle_W2\"\n",
       "[3] \"Left.Lateral.Ventricle_W3\"\n",
       "attr(,\"order\")\n",
       "[1] 1 1 1\n",
       "attr(,\"intercept\")\n",
       "[1] 1\n",
       "attr(,\"response\")\n",
       "[1] 1\n",
       "attr(,\".Environment\")\n",
       "<environment: R_GlobalEnv>\n",
       "attr(,\"predvars\")\n",
       "list(Stroop_3_R_W3, Left.Lateral.Ventricle_W1, Left.Lateral.Ventricle_W2, \n",
       "    Left.Lateral.Ventricle_W3)\n",
       "attr(,\"dataClasses\")\n",
       "            Stroop_3_R_W3 Left.Lateral.Ventricle_W1 Left.Lateral.Ventricle_W2 \n",
       "                \"numeric\"                 \"numeric\"                 \"numeric\" \n",
       "Left.Lateral.Ventricle_W3 \n",
       "                \"numeric\" \n",
       "\n",
       "      </td>\n",
       "      </tr>\n",
       "      \n",
       "      <tr>\n",
       "      <th>\n",
       "        residuals\n",
       "      </th>\n",
       "      <td>\n",
       "        \n",
       "    <span>FloatVector with 74 elements.</span>\n",
       "    <table>\n",
       "      <tbody>\n",
       "      <tr>\n",
       "      \n",
       "      <td>\n",
       "        11.773199\n",
       "      </td>\n",
       "      \n",
       "      <td>\n",
       "        32.021743\n",
       "      </td>\n",
       "      \n",
       "      <td>\n",
       "        0.073029\n",
       "      </td>\n",
       "      \n",
       "      <td>\n",
       "        -21.817724\n",
       "      </td>\n",
       "      \n",
       "      <td>\n",
       "        ...\n",
       "      </td>\n",
       "      \n",
       "      <td>\n",
       "        -11.487475\n",
       "      </td>\n",
       "      \n",
       "      <td>\n",
       "        -12.203326\n",
       "      </td>\n",
       "      \n",
       "      <td>\n",
       "        -1.590332\n",
       "      </td>\n",
       "      \n",
       "      <td>\n",
       "        11.706603\n",
       "      </td>\n",
       "      \n",
       "      </tr>\n",
       "      </tbody>\n",
       "    </table>\n",
       "    \n",
       "      </td>\n",
       "      </tr>\n",
       "      \n",
       "      <tr>\n",
       "      <th>\n",
       "        ...\n",
       "      </th>\n",
       "      <td>\n",
       "        ...\n",
       "      </td>\n",
       "      </tr>\n",
       "      \n",
       "      <tr>\n",
       "      <th>\n",
       "        adj.r.squared\n",
       "      </th>\n",
       "      <td>\n",
       "        \n",
       "    <span>FloatVector with 1 elements.</span>\n",
       "    <table>\n",
       "      <tbody>\n",
       "      <tr>\n",
       "      \n",
       "      <td>\n",
       "        0.184048\n",
       "      </td>\n",
       "      \n",
       "      </tr>\n",
       "      </tbody>\n",
       "    </table>\n",
       "    \n",
       "      </td>\n",
       "      </tr>\n",
       "      \n",
       "      <tr>\n",
       "      <th>\n",
       "        fstatistic\n",
       "      </th>\n",
       "      <td>\n",
       "        \n",
       "    <span>FloatVector with 3 elements.</span>\n",
       "    <table>\n",
       "      <tbody>\n",
       "      <tr>\n",
       "      \n",
       "      <td>\n",
       "        6.488669\n",
       "      </td>\n",
       "      \n",
       "      <td>\n",
       "        3.000000\n",
       "      </td>\n",
       "      \n",
       "      <td>\n",
       "        70.000000\n",
       "      </td>\n",
       "      \n",
       "      </tr>\n",
       "      </tbody>\n",
       "    </table>\n",
       "    \n",
       "      </td>\n",
       "      </tr>\n",
       "      \n",
       "      <tr>\n",
       "      <th>\n",
       "        cov.unscaled\n",
       "      </th>\n",
       "      <td>\n",
       "        \n",
       "    <span>Matrix with 16 elements.</span>\n",
       "    <table>\n",
       "      <tbody>\n",
       "      <tr>\n",
       "      \n",
       "      <td>\n",
       "        0.055522\n",
       "      </td>\n",
       "      \n",
       "      <td>\n",
       "        -0.000004\n",
       "      </td>\n",
       "      \n",
       "      <td>\n",
       "        0.000001\n",
       "      </td>\n",
       "      \n",
       "      <td>\n",
       "        0.000000\n",
       "      </td>\n",
       "      \n",
       "      <td>\n",
       "        ...\n",
       "      </td>\n",
       "      \n",
       "      <td>\n",
       "        0.000000\n",
       "      </td>\n",
       "      \n",
       "      <td>\n",
       "        0.000000\n",
       "      </td>\n",
       "      \n",
       "      <td>\n",
       "        -0.000000\n",
       "      </td>\n",
       "      \n",
       "      <td>\n",
       "        0.000000\n",
       "      </td>\n",
       "      \n",
       "      </tr>\n",
       "      </tbody>\n",
       "    </table>\n",
       "    \n",
       "      </td>\n",
       "      </tr>\n",
       "      \n",
       "      </tbody>\n",
       "    </table>\n",
       "    "
      ],
      "text/plain": [
       "R object with classes: ('summary.lm',) mapped to:\n",
       "<ListVector - Python:0x12bd08488 / R:0x7f8c97f52248>\n",
       "[Vector, Formula, FloatVector, Matrix, ..., FloatVector, FloatVector, FloatVector, Matrix]\n",
       "  call: <class 'rpy2.robjects.vectors.Vector'>\n",
       "  R object with classes: ('lm',) mapped to:\n",
       "<Vector - Python:0x12b88f388 / R:0x7f8c9f9e3050>\n",
       "[RObject, Vector, RObject]\n",
       "  terms: <class 'rpy2.robjects.Formula'>\n",
       "  R object with classes: ('terms', 'formula') mapped to:\n",
       "<Formula - Python:0x12b7f1a08 / R:0x7f8c9fa66f20>\n",
       "  residuals: <class 'rpy2.robjects.vectors.FloatVector'>\n",
       "  R object with classes: ('numeric',) mapped to:\n",
       "<FloatVector - Python:0x12bc1f248 / R:0x7f8c9db61b40>\n",
       "[11.773199, 32.021743, 0.073029, -21.817724, ..., -11.487475, -12.203326, -1.590332, 11.706603]\n",
       "  coefficients: <class 'rpy2.robjects.vectors.Matrix'>\n",
       "  R object with classes: ('matrix',) mapped to:\n",
       "<Matrix - Python:0x12b85aa08 / R:0x7f8c97f525b8>\n",
       "[52.349909, 0.001122, -0.007949, 0.006735, ..., 0.000000, 0.426450, 0.001510, 0.000144]\n",
       "...\n",
       "  sigma: <class 'rpy2.robjects.vectors.FloatVector'>\n",
       "  R object with classes: ('numeric',) mapped to:\n",
       "<FloatVector - Python:0x12b80f3c8 / R:0x7f8c9f4b0d70>\n",
       "[0.217580]\n",
       "  df: <class 'rpy2.robjects.vectors.FloatVector'>\n",
       "  R object with classes: ('numeric',) mapped to:\n",
       "<FloatVector - Python:0x12b82fbc8 / R:0x7f8c9f4b0d38>\n",
       "[0.184048]\n",
       "  r.squared: <class 'rpy2.robjects.vectors.FloatVector'>\n",
       "  R object with classes: ('numeric',) mapped to:\n",
       "<FloatVector - Python:0x12b80fc48 / R:0x7f8c9a060bc8>\n",
       "[6.488669, 3.000000, 70.000000]\n",
       "  adj.r.squared: <class 'rpy2.robjects.vectors.Matrix'>\n",
       "  R object with classes: ('matrix',) mapped to:\n",
       "<Matrix - Python:0x12b80f988 / R:0x7f8c97f520e8>\n",
       "[0.055522, -0.000004, 0.000001, 0.000000, ..., 0.000000, 0.000000, -0.000000, 0.000000]"
      ]
     },
     "execution_count": 21,
     "metadata": {},
     "output_type": "execute_result"
    }
   ],
   "source": [
    "%R summary(RfitLVV)"
   ]
  },
  {
   "cell_type": "code",
   "execution_count": 22,
   "metadata": {},
   "outputs": [
    {
     "name": "stderr",
     "output_type": "stream",
     "text": [
      "/Users/arvid/anaconda3/envs/lvv-ri/lib/python3.7/site-packages/rpy2/robjects/pandas2ri.py:191: FutureWarning: from_items is deprecated. Please use DataFrame.from_dict(dict(items), ...) instead. DataFrame.from_dict(OrderedDict(items)) may be used to preserve the key order.\n",
      "  res = PandasDataFrame.from_items(items)\n"
     ]
    },
    {
     "data": {
      "text/html": [
       "<div>\n",
       "<style scoped>\n",
       "    .dataframe tbody tr th:only-of-type {\n",
       "        vertical-align: middle;\n",
       "    }\n",
       "\n",
       "    .dataframe tbody tr th {\n",
       "        vertical-align: top;\n",
       "    }\n",
       "\n",
       "    .dataframe thead th {\n",
       "        text-align: right;\n",
       "    }\n",
       "</style>\n",
       "<table border=\"1\" class=\"dataframe\">\n",
       "  <thead>\n",
       "    <tr style=\"text-align: right;\">\n",
       "      <th></th>\n",
       "      <th>Df</th>\n",
       "      <th>Sum Sq</th>\n",
       "      <th>Mean Sq</th>\n",
       "      <th>F value</th>\n",
       "      <th>Pr(&gt;F)</th>\n",
       "    </tr>\n",
       "  </thead>\n",
       "  <tbody>\n",
       "    <tr>\n",
       "      <th>0</th>\n",
       "      <td>1</td>\n",
       "      <td>546.862290</td>\n",
       "      <td>546.862290</td>\n",
       "      <td>3.204246</td>\n",
       "      <td>0.077772</td>\n",
       "    </tr>\n",
       "    <tr>\n",
       "      <th>1</th>\n",
       "      <td>1</td>\n",
       "      <td>16.334967</td>\n",
       "      <td>16.334967</td>\n",
       "      <td>0.095712</td>\n",
       "      <td>0.757956</td>\n",
       "    </tr>\n",
       "    <tr>\n",
       "      <th>2</th>\n",
       "      <td>1</td>\n",
       "      <td>2759.027640</td>\n",
       "      <td>2759.027640</td>\n",
       "      <td>16.166049</td>\n",
       "      <td>0.000144</td>\n",
       "    </tr>\n",
       "    <tr>\n",
       "      <th>3</th>\n",
       "      <td>70</td>\n",
       "      <td>11946.761588</td>\n",
       "      <td>170.668023</td>\n",
       "      <td>NaN</td>\n",
       "      <td>NaN</td>\n",
       "    </tr>\n",
       "  </tbody>\n",
       "</table>\n",
       "</div>"
      ],
      "text/plain": [
       "   Df        Sum Sq      Mean Sq    F value    Pr(>F)\n",
       "0   1    546.862290   546.862290   3.204246  0.077772\n",
       "1   1     16.334967    16.334967   0.095712  0.757956\n",
       "2   1   2759.027640  2759.027640  16.166049  0.000144\n",
       "3  70  11946.761588   170.668023        NaN       NaN"
      ]
     },
     "execution_count": 22,
     "metadata": {},
     "output_type": "execute_result"
    }
   ],
   "source": [
    "%R anova(RfitLVV)"
   ]
  },
  {
   "cell_type": "code",
   "execution_count": 23,
   "metadata": {},
   "outputs": [
    {
     "data": {
      "image/png": "[encoded data removed]"
     },
     "metadata": {},
     "output_type": "display_data"
    }
   ],
   "source": [
    "%R plot(RfitLVV$resid)"
   ]
  },
  {
   "cell_type": "code",
   "execution_count": 24,
   "metadata": {},
   "outputs": [
    {
     "data": {
      "image/png": "[encoded data removed]"
     },
     "metadata": {},
     "output_type": "display_data"
    },
    {
     "data": {
      "text/html": [
       "\n",
       "    <span>ListVector with 6 elements.</span>\n",
       "    <table>\n",
       "      <tbody>\n",
       "      \n",
       "      <tr>\n",
       "      <th>\n",
       "        breaks\n",
       "      </th>\n",
       "      <td>\n",
       "        \n",
       "    <span>FloatVector with 8 elements.</span>\n",
       "    <table>\n",
       "      <tbody>\n",
       "      <tr>\n",
       "      \n",
       "      <td>\n",
       "        -30.000000\n",
       "      </td>\n",
       "      \n",
       "      <td>\n",
       "        -20.000000\n",
       "      </td>\n",
       "      \n",
       "      <td>\n",
       "        -10.000000\n",
       "      </td>\n",
       "      \n",
       "      <td>\n",
       "        0.000000\n",
       "      </td>\n",
       "      \n",
       "      <td>\n",
       "        10.000000\n",
       "      </td>\n",
       "      \n",
       "      <td>\n",
       "        20.000000\n",
       "      </td>\n",
       "      \n",
       "      <td>\n",
       "        30.000000\n",
       "      </td>\n",
       "      \n",
       "      <td>\n",
       "        40.000000\n",
       "      </td>\n",
       "      \n",
       "      </tr>\n",
       "      </tbody>\n",
       "    </table>\n",
       "    \n",
       "      </td>\n",
       "      </tr>\n",
       "      \n",
       "      <tr>\n",
       "      <th>\n",
       "        counts\n",
       "      </th>\n",
       "      <td>\n",
       "        \n",
       "    <span>IntVector with 7 elements.</span>\n",
       "    <table>\n",
       "      <tbody>\n",
       "      <tr>\n",
       "      \n",
       "      <td>\n",
       "        2\n",
       "      </td>\n",
       "      \n",
       "      <td>\n",
       "        13\n",
       "      </td>\n",
       "      \n",
       "      <td>\n",
       "        26\n",
       "      </td>\n",
       "      \n",
       "      <td>\n",
       "        20\n",
       "      </td>\n",
       "      \n",
       "      <td>\n",
       "        6\n",
       "      </td>\n",
       "      \n",
       "      <td>\n",
       "        4\n",
       "      </td>\n",
       "      \n",
       "      <td>\n",
       "        3\n",
       "      </td>\n",
       "      \n",
       "      </tr>\n",
       "      </tbody>\n",
       "    </table>\n",
       "    \n",
       "      </td>\n",
       "      </tr>\n",
       "      \n",
       "      <tr>\n",
       "      <th>\n",
       "        density\n",
       "      </th>\n",
       "      <td>\n",
       "        \n",
       "    <span>FloatVector with 7 elements.</span>\n",
       "    <table>\n",
       "      <tbody>\n",
       "      <tr>\n",
       "      \n",
       "      <td>\n",
       "        0.002703\n",
       "      </td>\n",
       "      \n",
       "      <td>\n",
       "        0.017568\n",
       "      </td>\n",
       "      \n",
       "      <td>\n",
       "        0.035135\n",
       "      </td>\n",
       "      \n",
       "      <td>\n",
       "        0.027027\n",
       "      </td>\n",
       "      \n",
       "      <td>\n",
       "        0.008108\n",
       "      </td>\n",
       "      \n",
       "      <td>\n",
       "        0.005405\n",
       "      </td>\n",
       "      \n",
       "      <td>\n",
       "        0.004054\n",
       "      </td>\n",
       "      \n",
       "      </tr>\n",
       "      </tbody>\n",
       "    </table>\n",
       "    \n",
       "      </td>\n",
       "      </tr>\n",
       "      \n",
       "      <tr>\n",
       "      <th>\n",
       "        mids\n",
       "      </th>\n",
       "      <td>\n",
       "        \n",
       "    <span>FloatVector with 7 elements.</span>\n",
       "    <table>\n",
       "      <tbody>\n",
       "      <tr>\n",
       "      \n",
       "      <td>\n",
       "        -25.000000\n",
       "      </td>\n",
       "      \n",
       "      <td>\n",
       "        -15.000000\n",
       "      </td>\n",
       "      \n",
       "      <td>\n",
       "        -5.000000\n",
       "      </td>\n",
       "      \n",
       "      <td>\n",
       "        5.000000\n",
       "      </td>\n",
       "      \n",
       "      <td>\n",
       "        15.000000\n",
       "      </td>\n",
       "      \n",
       "      <td>\n",
       "        25.000000\n",
       "      </td>\n",
       "      \n",
       "      <td>\n",
       "        35.000000\n",
       "      </td>\n",
       "      \n",
       "      </tr>\n",
       "      </tbody>\n",
       "    </table>\n",
       "    \n",
       "      </td>\n",
       "      </tr>\n",
       "      \n",
       "      <tr>\n",
       "      <th>\n",
       "        xname\n",
       "      </th>\n",
       "      <td>\n",
       "        \n",
       "    <span>StrVector with 1 elements.</span>\n",
       "    <table>\n",
       "      <tbody>\n",
       "      <tr>\n",
       "      \n",
       "      <td>\n",
       "        'RfitLVV$resid'\n",
       "      </td>\n",
       "      \n",
       "      </tr>\n",
       "      </tbody>\n",
       "    </table>\n",
       "    \n",
       "      </td>\n",
       "      </tr>\n",
       "      \n",
       "      <tr>\n",
       "      <th>\n",
       "        equidist\n",
       "      </th>\n",
       "      <td>\n",
       "        \n",
       "    <span>BoolVector with 1 elements.</span>\n",
       "    <table>\n",
       "      <tbody>\n",
       "      <tr>\n",
       "      \n",
       "      <td>\n",
       "               1\n",
       "      </td>\n",
       "      \n",
       "      </tr>\n",
       "      </tbody>\n",
       "    </table>\n",
       "    \n",
       "      </td>\n",
       "      </tr>\n",
       "      \n",
       "      </tbody>\n",
       "    </table>\n",
       "    "
      ],
      "text/plain": [
       "R object with classes: ('histogram',) mapped to:\n",
       "<ListVector - Python:0x12b814e48 / R:0x7f8ca00eb9e8>\n",
       "[Float..., IntVe..., Float..., Float..., StrVe..., BoolV...]\n",
       "  breaks: <class 'rpy2.robjects.vectors.FloatVector'>\n",
       "  R object with classes: ('numeric',) mapped to:\n",
       "<FloatVector - Python:0x12bbb7108 / R:0x7f8ca00ec318>\n",
       "[-30.000000, -20.000000, -10.000000, 0.000000, 10.000000, 20.000000, 30.000000, 40.000000]\n",
       "  counts: <class 'rpy2.robjects.vectors.IntVector'>\n",
       "  R object with classes: ('integer',) mapped to:\n",
       "<IntVector - Python:0x12b814d88 / R:0x7f8ca00f0068>\n",
       "[2, 13, 26, 20, 6, 4, 3]\n",
       "  density: <class 'rpy2.robjects.vectors.FloatVector'>\n",
       "  R object with classes: ('numeric',) mapped to:\n",
       "<FloatVector - Python:0x12b80f348 / R:0x7f8ca00ebdd8>\n",
       "[0.002703, 0.017568, 0.035135, 0.027027, 0.008108, 0.005405, 0.004054]\n",
       "  mids: <class 'rpy2.robjects.vectors.FloatVector'>\n",
       "  R object with classes: ('numeric',) mapped to:\n",
       "<FloatVector - Python:0x12bb99d48 / R:0x7f8ca00ebc18>\n",
       "[-25.000000, -15.000000, -5.000000, 5.000000, 15.000000, 25.000000, 35.000000]\n",
       "  xname: <class 'rpy2.robjects.vectors.StrVector'>\n",
       "  R object with classes: ('character',) mapped to:\n",
       "<StrVector - Python:0x12bb99e08 / R:0x7f8ca00e9c88>\n",
       "['RfitLVV$resid']\n",
       "  equidist: <class 'rpy2.robjects.vectors.BoolVector'>\n",
       "  R object with classes: ('logical',) mapped to:\n",
       "<BoolVector - Python:0x12bb99508 / R:0x7f8c9b8088e0>\n",
       "[       1]"
      ]
     },
     "execution_count": 24,
     "metadata": {},
     "output_type": "execute_result"
    }
   ],
   "source": [
    "%R hist(RfitLVV$resid)"
   ]
  },
  {
   "cell_type": "markdown",
   "metadata": {},
   "source": [
    "\n",
    "A group of diagnostic plots (residual, qq, scale-location, leverage) to assess model performance when applied to a fitted linear regression model.\n",
    "\n",
    "https://data.library.virginia.edu/diagnostic-plots/"
   ]
  },
  {
   "cell_type": "code",
   "execution_count": 25,
   "metadata": {},
   "outputs": [
    {
     "data": {
      "image/png": "[encoded data removed]"
     },
     "metadata": {},
     "output_type": "display_data"
    }
   ],
   "source": [
    "%R par(mfrow=c(2,2));  plot(RfitLVV)  # Plot four panels on the same figure"
   ]
  },
  {
   "cell_type": "code",
   "execution_count": 28,
   "metadata": {},
   "outputs": [
    {
     "data": {
      "text/html": [
       "<div>\n",
       "<style scoped>\n",
       "    .dataframe tbody tr th:only-of-type {\n",
       "        vertical-align: middle;\n",
       "    }\n",
       "\n",
       "    .dataframe tbody tr th {\n",
       "        vertical-align: top;\n",
       "    }\n",
       "\n",
       "    .dataframe thead th {\n",
       "        text-align: right;\n",
       "    }\n",
       "</style>\n",
       "<table border=\"1\" class=\"dataframe\">\n",
       "  <thead>\n",
       "    <tr style=\"text-align: right;\">\n",
       "      <th></th>\n",
       "      <th>0</th>\n",
       "      <th>1</th>\n",
       "      <th>2</th>\n",
       "      <th>3</th>\n",
       "      <th>4</th>\n",
       "      <th>5</th>\n",
       "      <th>6</th>\n",
       "    </tr>\n",
       "  </thead>\n",
       "  <tbody>\n",
       "    <tr>\n",
       "      <th>Subject</th>\n",
       "      <td>subj_01</td>\n",
       "      <td>subj_02</td>\n",
       "      <td>subj_03</td>\n",
       "      <td>subj_04</td>\n",
       "      <td>subj_05</td>\n",
       "      <td>subj_06</td>\n",
       "      <td>subj_07</td>\n",
       "    </tr>\n",
       "    <tr>\n",
       "      <th>Sex</th>\n",
       "      <td>F</td>\n",
       "      <td>M</td>\n",
       "      <td>M</td>\n",
       "      <td>M</td>\n",
       "      <td>M</td>\n",
       "      <td>F</td>\n",
       "      <td>M</td>\n",
       "    </tr>\n",
       "    <tr>\n",
       "      <th>AcquisitionYearsW1</th>\n",
       "      <td>56.63</td>\n",
       "      <td>49.07</td>\n",
       "      <td>74.61</td>\n",
       "      <td>56.23</td>\n",
       "      <td>63.22</td>\n",
       "      <td>60.51</td>\n",
       "      <td>58.87</td>\n",
       "    </tr>\n",
       "    <tr>\n",
       "      <th>AcquisitionYearsW2</th>\n",
       "      <td>60.35</td>\n",
       "      <td>52.58</td>\n",
       "      <td>78.14</td>\n",
       "      <td>59.78</td>\n",
       "      <td>67</td>\n",
       "      <td>64.29</td>\n",
       "      <td>62.42</td>\n",
       "    </tr>\n",
       "    <tr>\n",
       "      <th>AcquisitionYearsW3</th>\n",
       "      <td>62.62</td>\n",
       "      <td>55.05</td>\n",
       "      <td>80.59</td>\n",
       "      <td>62.68</td>\n",
       "      <td>69.53</td>\n",
       "      <td>66.82</td>\n",
       "      <td>64.87</td>\n",
       "    </tr>\n",
       "    <tr>\n",
       "      <th>Left-Lateral-Ventricle_W1</th>\n",
       "      <td>5321.4</td>\n",
       "      <td>11038.6</td>\n",
       "      <td>29718.4</td>\n",
       "      <td>21830.1</td>\n",
       "      <td>17205.1</td>\n",
       "      <td>14800.4</td>\n",
       "      <td>19864.5</td>\n",
       "    </tr>\n",
       "    <tr>\n",
       "      <th>Left-Lateral-Ventricle_W2</th>\n",
       "      <td>5063.6</td>\n",
       "      <td>11912.2</td>\n",
       "      <td>32265.1</td>\n",
       "      <td>23933.6</td>\n",
       "      <td>16970.1</td>\n",
       "      <td>18814.5</td>\n",
       "      <td>20962.8</td>\n",
       "    </tr>\n",
       "    <tr>\n",
       "      <th>Left-Lateral-Ventricle_W3</th>\n",
       "      <td>5368.3</td>\n",
       "      <td>12313.3</td>\n",
       "      <td>35887</td>\n",
       "      <td>26164.2</td>\n",
       "      <td>15858.1</td>\n",
       "      <td>19464.2</td>\n",
       "      <td>22141.1</td>\n",
       "    </tr>\n",
       "    <tr>\n",
       "      <th>Right-Lateral-Ventricle_W1</th>\n",
       "      <td>6855.2</td>\n",
       "      <td>10611.6</td>\n",
       "      <td>34241</td>\n",
       "      <td>15243.9</td>\n",
       "      <td>13962.1</td>\n",
       "      <td>12281.2</td>\n",
       "      <td>12133.7</td>\n",
       "    </tr>\n",
       "    <tr>\n",
       "      <th>Right-Lateral-Ventricle_W2</th>\n",
       "      <td>6729.2</td>\n",
       "      <td>11774.8</td>\n",
       "      <td>37155.2</td>\n",
       "      <td>16505.1</td>\n",
       "      <td>13755.5</td>\n",
       "      <td>16135.2</td>\n",
       "      <td>13055.5</td>\n",
       "    </tr>\n",
       "    <tr>\n",
       "      <th>Right-Lateral-Ventricle_W3</th>\n",
       "      <td>7233.2</td>\n",
       "      <td>12070.5</td>\n",
       "      <td>41221.4</td>\n",
       "      <td>18509.1</td>\n",
       "      <td>13143.9</td>\n",
       "      <td>17163.3</td>\n",
       "      <td>13651.7</td>\n",
       "    </tr>\n",
       "    <tr>\n",
       "      <th>EstimatedTotalIntraCranialVol_W3</th>\n",
       "      <td>1.23268e+06</td>\n",
       "      <td>1.46469e+06</td>\n",
       "      <td>1.38584e+06</td>\n",
       "      <td>1.52945e+06</td>\n",
       "      <td>1.37146e+06</td>\n",
       "      <td>1.42997e+06</td>\n",
       "      <td>1.76611e+06</td>\n",
       "    </tr>\n",
       "    <tr>\n",
       "      <th>Stroop_3_R_W3</th>\n",
       "      <td>66</td>\n",
       "      <td>85</td>\n",
       "      <td>71</td>\n",
       "      <td>41</td>\n",
       "      <td>62</td>\n",
       "      <td>89</td>\n",
       "      <td>46</td>\n",
       "    </tr>\n",
       "  </tbody>\n",
       "</table>\n",
       "</div>"
      ],
      "text/plain": [
       "                                            0            1            2  \\\n",
       "Subject                               subj_01      subj_02      subj_03   \n",
       "Sex                                         F            M            M   \n",
       "AcquisitionYearsW1                      56.63        49.07        74.61   \n",
       "AcquisitionYearsW2                      60.35        52.58        78.14   \n",
       "AcquisitionYearsW3                      62.62        55.05        80.59   \n",
       "Left-Lateral-Ventricle_W1              5321.4      11038.6      29718.4   \n",
       "Left-Lateral-Ventricle_W2              5063.6      11912.2      32265.1   \n",
       "Left-Lateral-Ventricle_W3              5368.3      12313.3        35887   \n",
       "Right-Lateral-Ventricle_W1             6855.2      10611.6        34241   \n",
       "Right-Lateral-Ventricle_W2             6729.2      11774.8      37155.2   \n",
       "Right-Lateral-Ventricle_W3             7233.2      12070.5      41221.4   \n",
       "EstimatedTotalIntraCranialVol_W3  1.23268e+06  1.46469e+06  1.38584e+06   \n",
       "Stroop_3_R_W3                              66           85           71   \n",
       "\n",
       "                                            3            4            5  \\\n",
       "Subject                               subj_04      subj_05      subj_06   \n",
       "Sex                                         M            M            F   \n",
       "AcquisitionYearsW1                      56.23        63.22        60.51   \n",
       "AcquisitionYearsW2                      59.78           67        64.29   \n",
       "AcquisitionYearsW3                      62.68        69.53        66.82   \n",
       "Left-Lateral-Ventricle_W1             21830.1      17205.1      14800.4   \n",
       "Left-Lateral-Ventricle_W2             23933.6      16970.1      18814.5   \n",
       "Left-Lateral-Ventricle_W3             26164.2      15858.1      19464.2   \n",
       "Right-Lateral-Ventricle_W1            15243.9      13962.1      12281.2   \n",
       "Right-Lateral-Ventricle_W2            16505.1      13755.5      16135.2   \n",
       "Right-Lateral-Ventricle_W3            18509.1      13143.9      17163.3   \n",
       "EstimatedTotalIntraCranialVol_W3  1.52945e+06  1.37146e+06  1.42997e+06   \n",
       "Stroop_3_R_W3                              41           62           89   \n",
       "\n",
       "                                            6  \n",
       "Subject                               subj_07  \n",
       "Sex                                         M  \n",
       "AcquisitionYearsW1                      58.87  \n",
       "AcquisitionYearsW2                      62.42  \n",
       "AcquisitionYearsW3                      64.87  \n",
       "Left-Lateral-Ventricle_W1             19864.5  \n",
       "Left-Lateral-Ventricle_W2             20962.8  \n",
       "Left-Lateral-Ventricle_W3             22141.1  \n",
       "Right-Lateral-Ventricle_W1            12133.7  \n",
       "Right-Lateral-Ventricle_W2            13055.5  \n",
       "Right-Lateral-Ventricle_W3            13651.7  \n",
       "EstimatedTotalIntraCranialVol_W3  1.76611e+06  \n",
       "Stroop_3_R_W3                              46  "
      ]
     },
     "execution_count": 28,
     "metadata": {},
     "output_type": "execute_result"
    }
   ],
   "source": [
    "df = pd.read_csv('../data/lvv_ri_data.csv')\n",
    "df.head(7).T"
   ]
  },
  {
   "cell_type": "markdown",
   "metadata": {},
   "source": [
    "Reading a Pandas dataframe (df) into R (data)"
   ]
  },
  {
   "cell_type": "code",
   "execution_count": 29,
   "metadata": {},
   "outputs": [],
   "source": [
    "%%R -i df\n",
    "\n",
    "data = df"
   ]
  },
  {
   "cell_type": "code",
   "execution_count": 30,
   "metadata": {},
   "outputs": [
    {
     "data": {
      "text/plain": [
       "array(['Subject', 'Sex', 'AcquisitionYearsW1', 'AcquisitionYearsW2',\n",
       "       'AcquisitionYearsW3', 'Left.Lateral.Ventricle_W1',\n",
       "       'Left.Lateral.Ventricle_W2', 'Left.Lateral.Ventricle_W3',\n",
       "       'Right.Lateral.Ventricle_W1', 'Right.Lateral.Ventricle_W2',\n",
       "       'Right.Lateral.Ventricle_W3', 'EstimatedTotalIntraCranialVol_W3',\n",
       "       'Stroop_3_R_W3'], dtype='<U32')"
      ]
     },
     "execution_count": 30,
     "metadata": {},
     "output_type": "execute_result"
    }
   ],
   "source": [
    "%R names(data)"
   ]
  },
  {
   "cell_type": "code",
   "execution_count": 31,
   "metadata": {},
   "outputs": [
    {
     "name": "stderr",
     "output_type": "stream",
     "text": [
      "/Users/arvid/anaconda3/envs/lvv-ri/lib/python3.7/site-packages/rpy2/rinterface/__init__.py:146: RRuntimeWarning: \n",
      "Attaching package: ‘GGally’\n",
      "\n",
      "\n",
      "  warnings.warn(x, RRuntimeWarning)\n",
      "/Users/arvid/anaconda3/envs/lvv-ri/lib/python3.7/site-packages/rpy2/rinterface/__init__.py:146: RRuntimeWarning: The following object is masked from ‘package:dplyr’:\n",
      "\n",
      "    nasa\n",
      "\n",
      "\n",
      "  warnings.warn(x, RRuntimeWarning)\n",
      "/Users/arvid/anaconda3/envs/lvv-ri/lib/python3.7/site-packages/rpy2/rinterface/__init__.py:146: RRuntimeWarning: \n",
      "  warnings.warn(x, RRuntimeWarning)\n",
      "/Users/arvid/anaconda3/envs/lvv-ri/lib/python3.7/site-packages/rpy2/rinterface/__init__.py:146: RRuntimeWarning:  plot: [1,1] [>-------------------------------------------------]  3% est: 0s \n",
      "  warnings.warn(x, RRuntimeWarning)\n",
      "/Users/arvid/anaconda3/envs/lvv-ri/lib/python3.7/site-packages/rpy2/rinterface/__init__.py:146: RRuntimeWarning:  plot: [1,2] [==>-----------------------------------------------]  6% est: 3s \n",
      "  warnings.warn(x, RRuntimeWarning)\n",
      "/Users/arvid/anaconda3/envs/lvv-ri/lib/python3.7/site-packages/rpy2/rinterface/__init__.py:146: RRuntimeWarning:  plot: [1,3] [===>----------------------------------------------]  8% est: 3s \n",
      "  warnings.warn(x, RRuntimeWarning)\n",
      "/Users/arvid/anaconda3/envs/lvv-ri/lib/python3.7/site-packages/rpy2/rinterface/__init__.py:146: RRuntimeWarning:  plot: [1,4] [=====>--------------------------------------------] 11% est: 2s \n",
      "  warnings.warn(x, RRuntimeWarning)\n",
      "/Users/arvid/anaconda3/envs/lvv-ri/lib/python3.7/site-packages/rpy2/rinterface/__init__.py:146: RRuntimeWarning:  plot: [1,5] [======>-------------------------------------------] 14% est: 2s \n",
      "  warnings.warn(x, RRuntimeWarning)\n",
      "/Users/arvid/anaconda3/envs/lvv-ri/lib/python3.7/site-packages/rpy2/rinterface/__init__.py:146: RRuntimeWarning:  plot: [1,6] [=======>------------------------------------------] 17% est: 2s \n",
      "  warnings.warn(x, RRuntimeWarning)\n",
      "/Users/arvid/anaconda3/envs/lvv-ri/lib/python3.7/site-packages/rpy2/rinterface/__init__.py:146: RRuntimeWarning:  plot: [2,1] [=========>----------------------------------------] 19% est: 2s \n",
      "  warnings.warn(x, RRuntimeWarning)\n",
      "/Users/arvid/anaconda3/envs/lvv-ri/lib/python3.7/site-packages/rpy2/rinterface/__init__.py:146: RRuntimeWarning:  plot: [2,2] [==========>---------------------------------------] 22% est: 2s \n",
      "  warnings.warn(x, RRuntimeWarning)\n",
      "/Users/arvid/anaconda3/envs/lvv-ri/lib/python3.7/site-packages/rpy2/rinterface/__init__.py:146: RRuntimeWarning:  plot: [2,3] [===========>--------------------------------------] 25% est: 2s \n",
      "  warnings.warn(x, RRuntimeWarning)\n",
      "/Users/arvid/anaconda3/envs/lvv-ri/lib/python3.7/site-packages/rpy2/rinterface/__init__.py:146: RRuntimeWarning:  plot: [2,4] [=============>------------------------------------] 28% est: 2s \n",
      "  warnings.warn(x, RRuntimeWarning)\n",
      "/Users/arvid/anaconda3/envs/lvv-ri/lib/python3.7/site-packages/rpy2/rinterface/__init__.py:146: RRuntimeWarning:  plot: [2,5] [==============>-----------------------------------] 31% est: 2s \n",
      "  warnings.warn(x, RRuntimeWarning)\n",
      "/Users/arvid/anaconda3/envs/lvv-ri/lib/python3.7/site-packages/rpy2/rinterface/__init__.py:146: RRuntimeWarning:  plot: [2,6] [================>---------------------------------] 33% est: 2s \n",
      "  warnings.warn(x, RRuntimeWarning)\n",
      "/Users/arvid/anaconda3/envs/lvv-ri/lib/python3.7/site-packages/rpy2/rinterface/__init__.py:146: RRuntimeWarning:  plot: [3,1] [=================>--------------------------------] 36% est: 2s \n",
      "  warnings.warn(x, RRuntimeWarning)\n",
      "/Users/arvid/anaconda3/envs/lvv-ri/lib/python3.7/site-packages/rpy2/rinterface/__init__.py:146: RRuntimeWarning:  plot: [3,2] [==================>-------------------------------] 39% est: 2s \n",
      "  warnings.warn(x, RRuntimeWarning)\n",
      "/Users/arvid/anaconda3/envs/lvv-ri/lib/python3.7/site-packages/rpy2/rinterface/__init__.py:146: RRuntimeWarning:  plot: [3,3] [====================>-----------------------------] 42% est: 2s \n",
      "  warnings.warn(x, RRuntimeWarning)\n",
      "/Users/arvid/anaconda3/envs/lvv-ri/lib/python3.7/site-packages/rpy2/rinterface/__init__.py:146: RRuntimeWarning:  plot: [3,4] [=====================>----------------------------] 44% est: 2s \n",
      "  warnings.warn(x, RRuntimeWarning)\n",
      "/Users/arvid/anaconda3/envs/lvv-ri/lib/python3.7/site-packages/rpy2/rinterface/__init__.py:146: RRuntimeWarning:  plot: [3,5] [=======================>--------------------------] 47% est: 2s \n",
      "  warnings.warn(x, RRuntimeWarning)\n",
      "/Users/arvid/anaconda3/envs/lvv-ri/lib/python3.7/site-packages/rpy2/rinterface/__init__.py:146: RRuntimeWarning:  plot: [3,6] [========================>-------------------------] 50% est: 2s \n",
      "  warnings.warn(x, RRuntimeWarning)\n",
      "/Users/arvid/anaconda3/envs/lvv-ri/lib/python3.7/site-packages/rpy2/rinterface/__init__.py:146: RRuntimeWarning:  plot: [4,1] [=========================>------------------------] 53% est: 2s \n",
      "  warnings.warn(x, RRuntimeWarning)\n",
      "/Users/arvid/anaconda3/envs/lvv-ri/lib/python3.7/site-packages/rpy2/rinterface/__init__.py:146: RRuntimeWarning:  plot: [4,2] [===========================>----------------------] 56% est: 1s \n",
      "  warnings.warn(x, RRuntimeWarning)\n",
      "/Users/arvid/anaconda3/envs/lvv-ri/lib/python3.7/site-packages/rpy2/rinterface/__init__.py:146: RRuntimeWarning:  plot: [4,3] [============================>---------------------] 58% est: 1s \n",
      "  warnings.warn(x, RRuntimeWarning)\n",
      "/Users/arvid/anaconda3/envs/lvv-ri/lib/python3.7/site-packages/rpy2/rinterface/__init__.py:146: RRuntimeWarning:  plot: [4,4] [==============================>-------------------] 61% est: 1s \n",
      "  warnings.warn(x, RRuntimeWarning)\n",
      "/Users/arvid/anaconda3/envs/lvv-ri/lib/python3.7/site-packages/rpy2/rinterface/__init__.py:146: RRuntimeWarning:  plot: [4,5] [===============================>------------------] 64% est: 1s \n",
      "  warnings.warn(x, RRuntimeWarning)\n",
      "/Users/arvid/anaconda3/envs/lvv-ri/lib/python3.7/site-packages/rpy2/rinterface/__init__.py:146: RRuntimeWarning:  plot: [4,6] [================================>-----------------] 67% est: 1s \n",
      "  warnings.warn(x, RRuntimeWarning)\n",
      "/Users/arvid/anaconda3/envs/lvv-ri/lib/python3.7/site-packages/rpy2/rinterface/__init__.py:146: RRuntimeWarning:  plot: [5,1] [==================================>---------------] 69% est: 1s \n",
      "  warnings.warn(x, RRuntimeWarning)\n",
      "/Users/arvid/anaconda3/envs/lvv-ri/lib/python3.7/site-packages/rpy2/rinterface/__init__.py:146: RRuntimeWarning:  plot: [5,2] [===================================>--------------] 72% est: 1s \n",
      "  warnings.warn(x, RRuntimeWarning)\n",
      "/Users/arvid/anaconda3/envs/lvv-ri/lib/python3.7/site-packages/rpy2/rinterface/__init__.py:146: RRuntimeWarning:  plot: [5,3] [=====================================>------------] 75% est: 1s \n",
      "  warnings.warn(x, RRuntimeWarning)\n",
      "/Users/arvid/anaconda3/envs/lvv-ri/lib/python3.7/site-packages/rpy2/rinterface/__init__.py:146: RRuntimeWarning:  plot: [5,4] [======================================>-----------] 78% est: 1s \n",
      "  warnings.warn(x, RRuntimeWarning)\n",
      "/Users/arvid/anaconda3/envs/lvv-ri/lib/python3.7/site-packages/rpy2/rinterface/__init__.py:146: RRuntimeWarning:  plot: [5,5] [=======================================>----------] 81% est: 1s \n",
      "  warnings.warn(x, RRuntimeWarning)\n",
      "/Users/arvid/anaconda3/envs/lvv-ri/lib/python3.7/site-packages/rpy2/rinterface/__init__.py:146: RRuntimeWarning:  plot: [5,6] [=========================================>--------] 83% est: 1s \n",
      "  warnings.warn(x, RRuntimeWarning)\n",
      "/Users/arvid/anaconda3/envs/lvv-ri/lib/python3.7/site-packages/rpy2/rinterface/__init__.py:146: RRuntimeWarning:  plot: [6,1] [==========================================>-------] 86% est: 1s \n",
      "  warnings.warn(x, RRuntimeWarning)\n",
      "/Users/arvid/anaconda3/envs/lvv-ri/lib/python3.7/site-packages/rpy2/rinterface/__init__.py:146: RRuntimeWarning:  plot: [6,2] [===========================================>------] 89% est: 0s \n",
      "  warnings.warn(x, RRuntimeWarning)\n",
      "/Users/arvid/anaconda3/envs/lvv-ri/lib/python3.7/site-packages/rpy2/rinterface/__init__.py:146: RRuntimeWarning:  plot: [6,3] [=============================================>----] 92% est: 0s \n",
      "  warnings.warn(x, RRuntimeWarning)\n",
      "/Users/arvid/anaconda3/envs/lvv-ri/lib/python3.7/site-packages/rpy2/rinterface/__init__.py:146: RRuntimeWarning:  plot: [6,4] [==============================================>---] 94% est: 0s \n",
      "  warnings.warn(x, RRuntimeWarning)\n",
      "/Users/arvid/anaconda3/envs/lvv-ri/lib/python3.7/site-packages/rpy2/rinterface/__init__.py:146: RRuntimeWarning:  plot: [6,5] [================================================>-] 97% est: 0s \n",
      "  warnings.warn(x, RRuntimeWarning)\n"
     ]
    },
    {
     "name": "stderr",
     "output_type": "stream",
     "text": [
      "/Users/arvid/anaconda3/envs/lvv-ri/lib/python3.7/site-packages/rpy2/rinterface/__init__.py:146: RRuntimeWarning:  plot: [6,6] [==================================================]100% est: 0s \n",
      "  warnings.warn(x, RRuntimeWarning)\n",
      "/Users/arvid/anaconda3/envs/lvv-ri/lib/python3.7/site-packages/rpy2/rinterface/__init__.py:146: RRuntimeWarning: \r",
      "                                                                              \n",
      "  warnings.warn(x, RRuntimeWarning)\n"
     ]
    },
    {
     "data": {
      "image/png": "[encoded data removed]"
     },
     "metadata": {},
     "output_type": "display_data"
    }
   ],
   "source": [
    "%%R -i df\n",
    "\n",
    "library(ggplot2)\n",
    "library(GGally)\n",
    "\n",
    "data = df\n",
    "data$Gender = data$Sex\n",
    "\n",
    "pm <- ggpairs(\n",
    "    data, mapping = aes(color = Gender), \n",
    "    title = \"Pairs plot by gender\",\n",
    "    legend = 1,\n",
    "    columns = c('AcquisitionYearsW1',\n",
    "                'Left.Lateral.Ventricle_W1',\n",
    "                'Left.Lateral.Ventricle_W2', \n",
    "                'Left.Lateral.Ventricle_W3', \n",
    "                'EstimatedTotalIntraCranialVol_W3', \n",
    "                'Stroop_3_R_W3'),\n",
    "  lower = list(\n",
    "    continuous = 'smooth'\n",
    "  ))   \n",
    "\n",
    "\n",
    "pm = pm + theme(axis.text.x = element_text(angle = 90, hjust = 1))\n",
    "\n",
    "pm = pm + theme(\n",
    "  axis.text = element_text(size = 10),\n",
    "  axis.title = element_text(size = 10),\n",
    "  legend.background = element_rect(fill = \"white\"),\n",
    "  panel.grid.major = element_line(colour = NA),\n",
    "#  panel.grid.minor = element_blank(),\n",
    "  panel.grid.minor = element_line(size = 0.25, linetype = 'solid', colour = \"white\"),\n",
    "  panel.background = element_rect(fill = \"grey95\"),\n",
    "  plot.title = element_text(size=24)\n",
    ")\n",
    "\n",
    "print(pm)"
   ]
  },
  {
   "cell_type": "markdown",
   "metadata": {},
   "source": [
    "Converting the R dataframes to Pandas DataFrames using `rpy2` <br>"
   ]
  },
  {
   "cell_type": "code",
   "execution_count": 32,
   "metadata": {},
   "outputs": [],
   "source": [
    "from rpy2.robjects import r, pandas2ri\n",
    "pandas2ri.activate()\n",
    "\n",
    "pd_data = r['data']"
   ]
  },
  {
   "cell_type": "code",
   "execution_count": 33,
   "metadata": {},
   "outputs": [
    {
     "data": {
      "text/html": [
       "<div>\n",
       "<style scoped>\n",
       "    .dataframe tbody tr th:only-of-type {\n",
       "        vertical-align: middle;\n",
       "    }\n",
       "\n",
       "    .dataframe tbody tr th {\n",
       "        vertical-align: top;\n",
       "    }\n",
       "\n",
       "    .dataframe thead th {\n",
       "        text-align: right;\n",
       "    }\n",
       "</style>\n",
       "<table border=\"1\" class=\"dataframe\">\n",
       "  <thead>\n",
       "    <tr style=\"text-align: right;\">\n",
       "      <th></th>\n",
       "      <th>0</th>\n",
       "      <th>1</th>\n",
       "      <th>2</th>\n",
       "      <th>3</th>\n",
       "      <th>4</th>\n",
       "    </tr>\n",
       "  </thead>\n",
       "  <tbody>\n",
       "    <tr>\n",
       "      <th>Subject</th>\n",
       "      <td>subj_01</td>\n",
       "      <td>subj_02</td>\n",
       "      <td>subj_03</td>\n",
       "      <td>subj_04</td>\n",
       "      <td>subj_05</td>\n",
       "    </tr>\n",
       "    <tr>\n",
       "      <th>Sex</th>\n",
       "      <td>F</td>\n",
       "      <td>M</td>\n",
       "      <td>M</td>\n",
       "      <td>M</td>\n",
       "      <td>M</td>\n",
       "    </tr>\n",
       "    <tr>\n",
       "      <th>AcquisitionYearsW1</th>\n",
       "      <td>56.63</td>\n",
       "      <td>49.07</td>\n",
       "      <td>74.61</td>\n",
       "      <td>56.23</td>\n",
       "      <td>63.22</td>\n",
       "    </tr>\n",
       "    <tr>\n",
       "      <th>AcquisitionYearsW2</th>\n",
       "      <td>60.35</td>\n",
       "      <td>52.58</td>\n",
       "      <td>78.14</td>\n",
       "      <td>59.78</td>\n",
       "      <td>67</td>\n",
       "    </tr>\n",
       "    <tr>\n",
       "      <th>AcquisitionYearsW3</th>\n",
       "      <td>62.62</td>\n",
       "      <td>55.05</td>\n",
       "      <td>80.59</td>\n",
       "      <td>62.68</td>\n",
       "      <td>69.53</td>\n",
       "    </tr>\n",
       "    <tr>\n",
       "      <th>Left.Lateral.Ventricle_W1</th>\n",
       "      <td>5321.4</td>\n",
       "      <td>11038.6</td>\n",
       "      <td>29718.4</td>\n",
       "      <td>21830.1</td>\n",
       "      <td>17205.1</td>\n",
       "    </tr>\n",
       "    <tr>\n",
       "      <th>Left.Lateral.Ventricle_W2</th>\n",
       "      <td>5063.6</td>\n",
       "      <td>11912.2</td>\n",
       "      <td>32265.1</td>\n",
       "      <td>23933.6</td>\n",
       "      <td>16970.1</td>\n",
       "    </tr>\n",
       "    <tr>\n",
       "      <th>Left.Lateral.Ventricle_W3</th>\n",
       "      <td>5368.3</td>\n",
       "      <td>12313.3</td>\n",
       "      <td>35887</td>\n",
       "      <td>26164.2</td>\n",
       "      <td>15858.1</td>\n",
       "    </tr>\n",
       "    <tr>\n",
       "      <th>Right.Lateral.Ventricle_W1</th>\n",
       "      <td>6855.2</td>\n",
       "      <td>10611.6</td>\n",
       "      <td>34241</td>\n",
       "      <td>15243.9</td>\n",
       "      <td>13962.1</td>\n",
       "    </tr>\n",
       "    <tr>\n",
       "      <th>Right.Lateral.Ventricle_W2</th>\n",
       "      <td>6729.2</td>\n",
       "      <td>11774.8</td>\n",
       "      <td>37155.2</td>\n",
       "      <td>16505.1</td>\n",
       "      <td>13755.5</td>\n",
       "    </tr>\n",
       "    <tr>\n",
       "      <th>Right.Lateral.Ventricle_W3</th>\n",
       "      <td>7233.2</td>\n",
       "      <td>12070.5</td>\n",
       "      <td>41221.4</td>\n",
       "      <td>18509.1</td>\n",
       "      <td>13143.9</td>\n",
       "    </tr>\n",
       "    <tr>\n",
       "      <th>EstimatedTotalIntraCranialVol_W3</th>\n",
       "      <td>1.23268e+06</td>\n",
       "      <td>1.46469e+06</td>\n",
       "      <td>1.38584e+06</td>\n",
       "      <td>1.52945e+06</td>\n",
       "      <td>1.37146e+06</td>\n",
       "    </tr>\n",
       "    <tr>\n",
       "      <th>Stroop_3_R_W3</th>\n",
       "      <td>66</td>\n",
       "      <td>85</td>\n",
       "      <td>71</td>\n",
       "      <td>41</td>\n",
       "      <td>62</td>\n",
       "    </tr>\n",
       "    <tr>\n",
       "      <th>Gender</th>\n",
       "      <td>F</td>\n",
       "      <td>M</td>\n",
       "      <td>M</td>\n",
       "      <td>M</td>\n",
       "      <td>M</td>\n",
       "    </tr>\n",
       "  </tbody>\n",
       "</table>\n",
       "</div>"
      ],
      "text/plain": [
       "                                            0            1            2  \\\n",
       "Subject                               subj_01      subj_02      subj_03   \n",
       "Sex                                         F            M            M   \n",
       "AcquisitionYearsW1                      56.63        49.07        74.61   \n",
       "AcquisitionYearsW2                      60.35        52.58        78.14   \n",
       "AcquisitionYearsW3                      62.62        55.05        80.59   \n",
       "Left.Lateral.Ventricle_W1              5321.4      11038.6      29718.4   \n",
       "Left.Lateral.Ventricle_W2              5063.6      11912.2      32265.1   \n",
       "Left.Lateral.Ventricle_W3              5368.3      12313.3        35887   \n",
       "Right.Lateral.Ventricle_W1             6855.2      10611.6        34241   \n",
       "Right.Lateral.Ventricle_W2             6729.2      11774.8      37155.2   \n",
       "Right.Lateral.Ventricle_W3             7233.2      12070.5      41221.4   \n",
       "EstimatedTotalIntraCranialVol_W3  1.23268e+06  1.46469e+06  1.38584e+06   \n",
       "Stroop_3_R_W3                              66           85           71   \n",
       "Gender                                      F            M            M   \n",
       "\n",
       "                                            3            4  \n",
       "Subject                               subj_04      subj_05  \n",
       "Sex                                         M            M  \n",
       "AcquisitionYearsW1                      56.23        63.22  \n",
       "AcquisitionYearsW2                      59.78           67  \n",
       "AcquisitionYearsW3                      62.68        69.53  \n",
       "Left.Lateral.Ventricle_W1             21830.1      17205.1  \n",
       "Left.Lateral.Ventricle_W2             23933.6      16970.1  \n",
       "Left.Lateral.Ventricle_W3             26164.2      15858.1  \n",
       "Right.Lateral.Ventricle_W1            15243.9      13962.1  \n",
       "Right.Lateral.Ventricle_W2            16505.1      13755.5  \n",
       "Right.Lateral.Ventricle_W3            18509.1      13143.9  \n",
       "EstimatedTotalIntraCranialVol_W3  1.52945e+06  1.37146e+06  \n",
       "Stroop_3_R_W3                              41           62  \n",
       "Gender                                      M            M  "
      ]
     },
     "execution_count": 33,
     "metadata": {},
     "output_type": "execute_result"
    }
   ],
   "source": [
    "pd_data.head().T"
   ]
  },
  {
   "cell_type": "markdown",
   "metadata": {},
   "source": [
    "LME example uning `lmer` from `lme4` and the ChickWeight data https://stat.ethz.ch/R-manual/R-devel/library/datasets/html/ChickWeight.html"
   ]
  },
  {
   "cell_type": "code",
   "execution_count": 34,
   "metadata": {},
   "outputs": [
    {
     "name": "stderr",
     "output_type": "stream",
     "text": [
      "/Users/arvid/anaconda3/envs/lvv-ri/lib/python3.7/site-packages/rpy2/rinterface/__init__.py:146: RRuntimeWarning: Loading required package: Matrix\n",
      "\n",
      "  warnings.warn(x, RRuntimeWarning)\n",
      "/Users/arvid/anaconda3/envs/lvv-ri/lib/python3.7/site-packages/rpy2/rinterface/__init__.py:146: RRuntimeWarning: \n",
      "Attaching package: ‘Matrix’\n",
      "\n",
      "\n",
      "  warnings.warn(x, RRuntimeWarning)\n",
      "/Users/arvid/anaconda3/envs/lvv-ri/lib/python3.7/site-packages/rpy2/rinterface/__init__.py:146: RRuntimeWarning: The following object is masked from ‘package:tidyr’:\n",
      "\n",
      "    expand\n",
      "\n",
      "\n",
      "  warnings.warn(x, RRuntimeWarning)\n"
     ]
    }
   ],
   "source": [
    "%%R\n",
    "\n",
    "library(lme4)\n",
    "\n",
    "data = ChickWeight"
   ]
  },
  {
   "cell_type": "code",
   "execution_count": 35,
   "metadata": {},
   "outputs": [],
   "source": [
    "from rpy2.robjects import r, pandas2ri\n",
    "pandas2ri.activate()\n",
    "\n",
    "pd_data = r['data']"
   ]
  },
  {
   "cell_type": "code",
   "execution_count": 36,
   "metadata": {},
   "outputs": [
    {
     "data": {
      "text/html": [
       "\n",
       "    <span>StrVector with 4 elements.</span>\n",
       "    <table>\n",
       "      <tbody>\n",
       "      <tr>\n",
       "      \n",
       "      <td>\n",
       "        'weight'\n",
       "      </td>\n",
       "      \n",
       "      <td>\n",
       "        'Time'\n",
       "      </td>\n",
       "      \n",
       "      <td>\n",
       "        'Chick'\n",
       "      </td>\n",
       "      \n",
       "      <td>\n",
       "        'Diet'\n",
       "      </td>\n",
       "      \n",
       "      </tr>\n",
       "      </tbody>\n",
       "    </table>\n",
       "    "
      ],
      "text/plain": [
       "R object with classes: ('character',) mapped to:\n",
       "<StrVector - Python:0x12f3da588 / R:0x7f8c87ac9458>\n",
       "['weight', 'Time', 'Chick', 'Diet']"
      ]
     },
     "execution_count": 36,
     "metadata": {},
     "output_type": "execute_result"
    }
   ],
   "source": [
    "pd_data.names"
   ]
  },
  {
   "cell_type": "code",
   "execution_count": 37,
   "metadata": {},
   "outputs": [
    {
     "name": "stdout",
     "output_type": "stream",
     "text": [
      "Grouped Data: weight ~ Time | Chick\n",
      "   weight Time Chick Diet\n",
      "1      42    0     1    1\n",
      "2      51    2     1    1\n",
      "3      59    4     1    1\n",
      "4      64    6     1    1\n",
      "5      76    8     1    1\n",
      "6      93   10     1    1\n",
      "7     106   12     1    1\n",
      "8     125   14     1    1\n",
      "9     149   16     1    1\n",
      "10    171   18     1    1\n",
      "11    199   20     1    1\n",
      "12    205   21     1    1\n",
      "\n"
     ]
    }
   ],
   "source": [
    "import rpy2.ipython.html\n",
    "rpy2.ipython.html.init_printing()\n",
    "\n",
    "print(pd_data.head(12))"
   ]
  },
  {
   "cell_type": "markdown",
   "metadata": {},
   "source": [
    "##### Now using https://stackoverflow.com/questions/35757994/converting-lme4-ranef-output-to-data-frame-with-rpy2"
   ]
  },
  {
   "cell_type": "code",
   "execution_count": 38,
   "metadata": {},
   "outputs": [],
   "source": [
    "%reload_ext rpy2.ipython\n",
    "%Rpush pd_data"
   ]
  },
  {
   "cell_type": "code",
   "execution_count": 39,
   "metadata": {},
   "outputs": [
    {
     "data": {
      "text/plain": [
       "[1] \"(Intercept)\" \"Time\"        \"Diet2\"       \"Diet3\"       \"Diet4\"      \n",
       "[6] \"Time:Diet2\"  \"Time:Diet3\"  \"Time:Diet4\" \n"
      ]
     },
     "metadata": {},
     "output_type": "display_data"
    }
   ],
   "source": [
    "%%R\n",
    "\n",
    "library(lme4)\n",
    "\n",
    "m <- lmer(weight ~ Time * Diet + (1 + Time | Chick), data=pd_data, REML=F)\n",
    "\n",
    "rfs <- ranef(m)$cat\n",
    "ffs <- fixef(m) \n",
    "\n",
    "print(names(ffs))"
   ]
  },
  {
   "cell_type": "code",
   "execution_count": 40,
   "metadata": {},
   "outputs": [],
   "source": [
    "%Rpull ffs"
   ]
  },
  {
   "cell_type": "code",
   "execution_count": 41,
   "metadata": {},
   "outputs": [
    {
     "name": "stdout",
     "output_type": "stream",
     "text": [
      "33.65409623578436\n",
      "6.279864028362544\n",
      "-5.020500713172012\n",
      "-15.403771020235581\n"
     ]
    }
   ],
   "source": [
    "print(ffs[0])\n",
    "print(ffs[1])\n",
    "print(ffs[2])\n",
    "print(ffs[3])"
   ]
  },
  {
   "cell_type": "code",
   "execution_count": 42,
   "metadata": {},
   "outputs": [],
   "source": [
    "#%R summary(m)"
   ]
  },
  {
   "cell_type": "code",
   "execution_count": 43,
   "metadata": {
    "scrolled": true
   },
   "outputs": [
    {
     "data": {
      "image/png": "[encoded data removed]"
     },
     "metadata": {},
     "output_type": "display_data"
    }
   ],
   "source": [
    "%%R\n",
    "\n",
    "plot(m)"
   ]
  },
  {
   "cell_type": "markdown",
   "metadata": {},
   "source": [
    "## Python and statsmodels\n",
    "\n",
    "https://medium.com/@emredjan/emulating-r-regression-plots-in-python-43741952c034\n",
    "\n",
    "https://emredjan.github.io/blog/2017/07/11/emulating-r-plots-in-python/\n",
    "\n",
    "Think Stats: Exploratory Data Analysis in Python (http://www.greenteapress.com/thinkstats2/html/index.html)"
   ]
  },
  {
   "cell_type": "code",
   "execution_count": 44,
   "metadata": {},
   "outputs": [],
   "source": [
    "%matplotlib inline\n",
    "import numpy as np\n",
    "import pandas as pd\n",
    "import seaborn as sns\n",
    "import matplotlib.pyplot as plt\n",
    "import statsmodels.formula.api as smf\n",
    "import statsmodels.stats.multicomp\n",
    "from statsmodels.graphics.gofplots import ProbPlot"
   ]
  },
  {
   "cell_type": "code",
   "execution_count": 45,
   "metadata": {},
   "outputs": [],
   "source": [
    "cwit = pd.read_csv('../data/cwit_data.csv')"
   ]
  },
  {
   "cell_type": "code",
   "execution_count": 46,
   "metadata": {},
   "outputs": [
    {
     "data": {
      "text/html": [
       "<div>\n",
       "<style scoped>\n",
       "    .dataframe tbody tr th:only-of-type {\n",
       "        vertical-align: middle;\n",
       "    }\n",
       "\n",
       "    .dataframe tbody tr th {\n",
       "        vertical-align: top;\n",
       "    }\n",
       "\n",
       "    .dataframe thead th {\n",
       "        text-align: right;\n",
       "    }\n",
       "</style>\n",
       "<table border=\"1\" class=\"dataframe\">\n",
       "  <thead>\n",
       "    <tr style=\"text-align: right;\">\n",
       "      <th></th>\n",
       "      <th>Stroop_1_R_W3</th>\n",
       "      <th>Stroop_2_R_W3</th>\n",
       "      <th>Stroop_3_R_W3</th>\n",
       "      <th>Stroop_4_R_W3</th>\n",
       "    </tr>\n",
       "  </thead>\n",
       "  <tbody>\n",
       "    <tr>\n",
       "      <th>count</th>\n",
       "      <td>74.000000</td>\n",
       "      <td>74.000000</td>\n",
       "      <td>74.000000</td>\n",
       "      <td>74.000000</td>\n",
       "    </tr>\n",
       "    <tr>\n",
       "      <th>mean</th>\n",
       "      <td>29.864865</td>\n",
       "      <td>22.162162</td>\n",
       "      <td>56.986486</td>\n",
       "      <td>69.891892</td>\n",
       "    </tr>\n",
       "    <tr>\n",
       "      <th>std</th>\n",
       "      <td>5.437879</td>\n",
       "      <td>4.478341</td>\n",
       "      <td>14.462510</td>\n",
       "      <td>22.006579</td>\n",
       "    </tr>\n",
       "    <tr>\n",
       "      <th>min</th>\n",
       "      <td>20.000000</td>\n",
       "      <td>14.000000</td>\n",
       "      <td>35.000000</td>\n",
       "      <td>36.000000</td>\n",
       "    </tr>\n",
       "    <tr>\n",
       "      <th>25%</th>\n",
       "      <td>26.250000</td>\n",
       "      <td>19.000000</td>\n",
       "      <td>46.000000</td>\n",
       "      <td>54.000000</td>\n",
       "    </tr>\n",
       "    <tr>\n",
       "      <th>50%</th>\n",
       "      <td>30.000000</td>\n",
       "      <td>21.000000</td>\n",
       "      <td>54.500000</td>\n",
       "      <td>64.500000</td>\n",
       "    </tr>\n",
       "    <tr>\n",
       "      <th>75%</th>\n",
       "      <td>32.000000</td>\n",
       "      <td>24.000000</td>\n",
       "      <td>62.750000</td>\n",
       "      <td>83.750000</td>\n",
       "    </tr>\n",
       "    <tr>\n",
       "      <th>max</th>\n",
       "      <td>52.000000</td>\n",
       "      <td>39.000000</td>\n",
       "      <td>102.000000</td>\n",
       "      <td>136.000000</td>\n",
       "    </tr>\n",
       "  </tbody>\n",
       "</table>\n",
       "</div>"
      ],
      "text/plain": [
       "       Stroop_1_R_W3  Stroop_2_R_W3  Stroop_3_R_W3  Stroop_4_R_W3\n",
       "count      74.000000      74.000000      74.000000      74.000000\n",
       "mean       29.864865      22.162162      56.986486      69.891892\n",
       "std         5.437879       4.478341      14.462510      22.006579\n",
       "min        20.000000      14.000000      35.000000      36.000000\n",
       "25%        26.250000      19.000000      46.000000      54.000000\n",
       "50%        30.000000      21.000000      54.500000      64.500000\n",
       "75%        32.000000      24.000000      62.750000      83.750000\n",
       "max        52.000000      39.000000     102.000000     136.000000"
      ]
     },
     "execution_count": 46,
     "metadata": {},
     "output_type": "execute_result"
    }
   ],
   "source": [
    "cwit.describe()"
   ]
  },
  {
   "cell_type": "code",
   "execution_count": 47,
   "metadata": {},
   "outputs": [],
   "source": [
    "model_f12 = 'Stroop_3_R_W3 ~ Stroop_1_R_W3 + Stroop_2_R_W3'\n",
    "model_f2 = 'Stroop_3_R_W3 ~ Stroop_2_R_W3'\n",
    "model_f1 = 'Stroop_3_R_W3 ~ Stroop_1_R_W3'\n",
    "\n",
    "model12 = smf.ols(formula=model_f12, data=cwit)\n",
    "model12_fit = model12.fit()\n",
    "\n",
    "model2 = smf.ols(formula=model_f2, data=cwit)\n",
    "model2_fit = model2.fit()\n",
    "\n",
    "model1 = smf.ols(formula=model_f1, data=cwit)\n",
    "model1_fit = model1.fit()"
   ]
  },
  {
   "cell_type": "markdown",
   "metadata": {},
   "source": [
    "**model1: 'Stroop_3_R_W3 ~ Stroop_1_R_W3'**"
   ]
  },
  {
   "cell_type": "code",
   "execution_count": 48,
   "metadata": {},
   "outputs": [
    {
     "name": "stdout",
     "output_type": "stream",
     "text": [
      "Overall model F( 1, 72) =  31.063, p =  0.0000\n"
     ]
    }
   ],
   "source": [
    "# Seeing if the overall model is significant\n",
    "print(f\"Overall model F({model1_fit.df_model: .0f},{model1_fit.df_resid: .0f}) = {model1_fit.fvalue: .3f}, p = {model1_fit.f_pvalue: .4f}\")"
   ]
  },
  {
   "cell_type": "code",
   "execution_count": 49,
   "metadata": {},
   "outputs": [
    {
     "data": {
      "text/html": [
       "<table class=\"simpletable\">\n",
       "<caption>OLS Regression Results</caption>\n",
       "<tr>\n",
       "  <th>Dep. Variable:</th>      <td>Stroop_3_R_W3</td>  <th>  R-squared:         </th> <td>   0.301</td>\n",
       "</tr>\n",
       "<tr>\n",
       "  <th>Model:</th>                   <td>OLS</td>       <th>  Adj. R-squared:    </th> <td>   0.292</td>\n",
       "</tr>\n",
       "<tr>\n",
       "  <th>Method:</th>             <td>Least Squares</td>  <th>  F-statistic:       </th> <td>   31.06</td>\n",
       "</tr>\n",
       "<tr>\n",
       "  <th>Date:</th>             <td>Thu, 07 Mar 2019</td> <th>  Prob (F-statistic):</th> <td>4.09e-07</td>\n",
       "</tr>\n",
       "<tr>\n",
       "  <th>Time:</th>                 <td>23:52:12</td>     <th>  Log-Likelihood:    </th> <td> -288.92</td>\n",
       "</tr>\n",
       "<tr>\n",
       "  <th>No. Observations:</th>      <td>    74</td>      <th>  AIC:               </th> <td>   581.8</td>\n",
       "</tr>\n",
       "<tr>\n",
       "  <th>Df Residuals:</th>          <td>    72</td>      <th>  BIC:               </th> <td>   586.5</td>\n",
       "</tr>\n",
       "<tr>\n",
       "  <th>Df Model:</th>              <td>     1</td>      <th>                     </th>     <td> </td>   \n",
       "</tr>\n",
       "<tr>\n",
       "  <th>Covariance Type:</th>      <td>nonrobust</td>    <th>                     </th>     <td> </td>   \n",
       "</tr>\n",
       "</table>"
      ],
      "text/plain": [
       "<IPython.core.display.HTML object>"
      ]
     },
     "execution_count": 49,
     "metadata": {},
     "output_type": "execute_result"
    }
   ],
   "source": [
    "from IPython.core.display import HTML\n",
    "HTML(model1_fit.summary().tables[0].as_html())"
   ]
  },
  {
   "cell_type": "code",
   "execution_count": 50,
   "metadata": {},
   "outputs": [
    {
     "data": {
      "text/html": [
       "<table class=\"simpletable\">\n",
       "<tr>\n",
       "        <td></td>           <th>coef</th>     <th>std err</th>      <th>t</th>      <th>P>|t|</th>  <th>[0.025</th>    <th>0.975]</th>  \n",
       "</tr>\n",
       "<tr>\n",
       "  <th>Intercept</th>     <td>   13.3805</td> <td>    7.951</td> <td>    1.683</td> <td> 0.097</td> <td>   -2.469</td> <td>   29.230</td>\n",
       "</tr>\n",
       "<tr>\n",
       "  <th>Stroop_1_R_W3</th> <td>    1.4601</td> <td>    0.262</td> <td>    5.573</td> <td> 0.000</td> <td>    0.938</td> <td>    1.982</td>\n",
       "</tr>\n",
       "</table>"
      ],
      "text/plain": [
       "<IPython.core.display.HTML object>"
      ]
     },
     "execution_count": 50,
     "metadata": {},
     "output_type": "execute_result"
    }
   ],
   "source": [
    "HTML(model1_fit.summary().tables[1].as_html())"
   ]
  },
  {
   "cell_type": "code",
   "execution_count": 51,
   "metadata": {},
   "outputs": [
    {
     "data": {
      "text/html": [
       "<table class=\"simpletable\">\n",
       "<tr>\n",
       "  <th>Omnibus:</th>       <td>20.450</td> <th>  Durbin-Watson:     </th> <td>   1.630</td>\n",
       "</tr>\n",
       "<tr>\n",
       "  <th>Prob(Omnibus):</th> <td> 0.000</td> <th>  Jarque-Bera (JB):  </th> <td>  26.399</td>\n",
       "</tr>\n",
       "<tr>\n",
       "  <th>Skew:</th>          <td> 1.248</td> <th>  Prob(JB):          </th> <td>1.85e-06</td>\n",
       "</tr>\n",
       "<tr>\n",
       "  <th>Kurtosis:</th>      <td> 4.526</td> <th>  Cond. No.          </th> <td>    171.</td>\n",
       "</tr>\n",
       "</table>"
      ],
      "text/plain": [
       "<IPython.core.display.HTML object>"
      ]
     },
     "execution_count": 51,
     "metadata": {},
     "output_type": "execute_result"
    }
   ],
   "source": [
    "HTML(model1_fit.summary().tables[2].as_html())"
   ]
  },
  {
   "cell_type": "markdown",
   "metadata": {},
   "source": [
    "The *Durban-Watson* tests is to detect the presence of autocorrelation, *Jarque-Bera* tests the assumption of normality, *Omnibus* tests the assumption of homogeneity of variance, and the *Condition Number* assess multicollinearity. Condition Number values over 20 are indicative of multicollinearity."
   ]
  },
  {
   "cell_type": "markdown",
   "metadata": {},
   "source": [
    "**model2: 'Stroop_3_R_W3 ~ Stroop_2_R_W3'**"
   ]
  },
  {
   "cell_type": "code",
   "execution_count": 52,
   "metadata": {},
   "outputs": [
    {
     "name": "stdout",
     "output_type": "stream",
     "text": [
      "Overall model F( 1, 72) =  20.746, p =  0.0000\n"
     ]
    }
   ],
   "source": [
    "# Seeing if the overall model is significant\n",
    "print(f\"Overall model F({model2_fit.df_model: .0f},{model2_fit.df_resid: .0f}) = {model2_fit.fvalue: .3f}, p = {model2_fit.f_pvalue: .4f}\")"
   ]
  },
  {
   "cell_type": "code",
   "execution_count": 53,
   "metadata": {},
   "outputs": [
    {
     "data": {
      "text/html": [
       "<table class=\"simpletable\">\n",
       "<caption>OLS Regression Results</caption>\n",
       "<tr>\n",
       "  <th>Dep. Variable:</th>      <td>Stroop_3_R_W3</td>  <th>  R-squared:         </th> <td>   0.224</td>\n",
       "</tr>\n",
       "<tr>\n",
       "  <th>Model:</th>                   <td>OLS</td>       <th>  Adj. R-squared:    </th> <td>   0.213</td>\n",
       "</tr>\n",
       "<tr>\n",
       "  <th>Method:</th>             <td>Least Squares</td>  <th>  F-statistic:       </th> <td>   20.75</td>\n",
       "</tr>\n",
       "<tr>\n",
       "  <th>Date:</th>             <td>Thu, 07 Mar 2019</td> <th>  Prob (F-statistic):</th> <td>2.09e-05</td>\n",
       "</tr>\n",
       "<tr>\n",
       "  <th>Time:</th>                 <td>23:52:15</td>     <th>  Log-Likelihood:    </th> <td> -292.83</td>\n",
       "</tr>\n",
       "<tr>\n",
       "  <th>No. Observations:</th>      <td>    74</td>      <th>  AIC:               </th> <td>   589.7</td>\n",
       "</tr>\n",
       "<tr>\n",
       "  <th>Df Residuals:</th>          <td>    72</td>      <th>  BIC:               </th> <td>   594.3</td>\n",
       "</tr>\n",
       "<tr>\n",
       "  <th>Df Model:</th>              <td>     1</td>      <th>                     </th>     <td> </td>   \n",
       "</tr>\n",
       "<tr>\n",
       "  <th>Covariance Type:</th>      <td>nonrobust</td>    <th>                     </th>     <td> </td>   \n",
       "</tr>\n",
       "</table>"
      ],
      "text/plain": [
       "<IPython.core.display.HTML object>"
      ]
     },
     "execution_count": 53,
     "metadata": {},
     "output_type": "execute_result"
    }
   ],
   "source": [
    "HTML(model2_fit.summary().tables[0].as_html())"
   ]
  },
  {
   "cell_type": "code",
   "execution_count": 54,
   "metadata": {},
   "outputs": [
    {
     "data": {
      "text/html": [
       "<table class=\"simpletable\">\n",
       "<tr>\n",
       "        <td></td>           <th>coef</th>     <th>std err</th>      <th>t</th>      <th>P>|t|</th>  <th>[0.025</th>    <th>0.975]</th>  \n",
       "</tr>\n",
       "<tr>\n",
       "  <th>Intercept</th>     <td>   23.1365</td> <td>    7.580</td> <td>    3.052</td> <td> 0.003</td> <td>    8.026</td> <td>   38.247</td>\n",
       "</tr>\n",
       "<tr>\n",
       "  <th>Stroop_2_R_W3</th> <td>    1.5274</td> <td>    0.335</td> <td>    4.555</td> <td> 0.000</td> <td>    0.859</td> <td>    2.196</td>\n",
       "</tr>\n",
       "</table>"
      ],
      "text/plain": [
       "<IPython.core.display.HTML object>"
      ]
     },
     "execution_count": 54,
     "metadata": {},
     "output_type": "execute_result"
    }
   ],
   "source": [
    "HTML(model2_fit.summary().tables[1].as_html())"
   ]
  },
  {
   "cell_type": "code",
   "execution_count": 55,
   "metadata": {},
   "outputs": [
    {
     "data": {
      "text/html": [
       "<table class=\"simpletable\">\n",
       "<tr>\n",
       "  <th>Omnibus:</th>       <td> 4.554</td> <th>  Durbin-Watson:     </th> <td>   1.483</td>\n",
       "</tr>\n",
       "<tr>\n",
       "  <th>Prob(Omnibus):</th> <td> 0.103</td> <th>  Jarque-Bera (JB):  </th> <td>   4.399</td>\n",
       "</tr>\n",
       "<tr>\n",
       "  <th>Skew:</th>          <td> 0.594</td> <th>  Prob(JB):          </th> <td>   0.111</td>\n",
       "</tr>\n",
       "<tr>\n",
       "  <th>Kurtosis:</th>      <td> 2.876</td> <th>  Cond. No.          </th> <td>    115.</td>\n",
       "</tr>\n",
       "</table>"
      ],
      "text/plain": [
       "<IPython.core.display.HTML object>"
      ]
     },
     "execution_count": 55,
     "metadata": {},
     "output_type": "execute_result"
    }
   ],
   "source": [
    "HTML(model2_fit.summary().tables[2].as_html())"
   ]
  },
  {
   "cell_type": "markdown",
   "metadata": {},
   "source": [
    "**model12: 'Stroop_3_R_W3 ~ Stroop_1_R_W3 + Stroop_2_R_W3'**"
   ]
  },
  {
   "cell_type": "code",
   "execution_count": 56,
   "metadata": {},
   "outputs": [
    {
     "name": "stdout",
     "output_type": "stream",
     "text": [
      "Overall model F( 2, 71) =  19.118, p =  0.0000\n"
     ]
    }
   ],
   "source": [
    "# Seeing if the overall model is significant\n",
    "print(f\"Overall model F({model12_fit.df_model: .0f},{model12_fit.df_resid: .0f}) = {model12_fit.fvalue: .3f}, p = {model12_fit.f_pvalue: .4f}\")"
   ]
  },
  {
   "cell_type": "code",
   "execution_count": 57,
   "metadata": {},
   "outputs": [
    {
     "data": {
      "text/html": [
       "<table class=\"simpletable\">\n",
       "<caption>OLS Regression Results</caption>\n",
       "<tr>\n",
       "  <th>Dep. Variable:</th>      <td>Stroop_3_R_W3</td>  <th>  R-squared:         </th> <td>   0.350</td>\n",
       "</tr>\n",
       "<tr>\n",
       "  <th>Model:</th>                   <td>OLS</td>       <th>  Adj. R-squared:    </th> <td>   0.332</td>\n",
       "</tr>\n",
       "<tr>\n",
       "  <th>Method:</th>             <td>Least Squares</td>  <th>  F-statistic:       </th> <td>   19.12</td>\n",
       "</tr>\n",
       "<tr>\n",
       "  <th>Date:</th>             <td>Thu, 07 Mar 2019</td> <th>  Prob (F-statistic):</th> <td>2.28e-07</td>\n",
       "</tr>\n",
       "<tr>\n",
       "  <th>Time:</th>                 <td>23:52:17</td>     <th>  Log-Likelihood:    </th> <td> -286.25</td>\n",
       "</tr>\n",
       "<tr>\n",
       "  <th>No. Observations:</th>      <td>    74</td>      <th>  AIC:               </th> <td>   578.5</td>\n",
       "</tr>\n",
       "<tr>\n",
       "  <th>Df Residuals:</th>          <td>    71</td>      <th>  BIC:               </th> <td>   585.4</td>\n",
       "</tr>\n",
       "<tr>\n",
       "  <th>Df Model:</th>              <td>     2</td>      <th>                     </th>     <td> </td>   \n",
       "</tr>\n",
       "<tr>\n",
       "  <th>Covariance Type:</th>      <td>nonrobust</td>    <th>                     </th>     <td> </td>   \n",
       "</tr>\n",
       "</table>"
      ],
      "text/plain": [
       "<IPython.core.display.HTML object>"
      ]
     },
     "execution_count": 57,
     "metadata": {},
     "output_type": "execute_result"
    }
   ],
   "source": [
    "HTML(model12_fit.summary().tables[0].as_html())"
   ]
  },
  {
   "cell_type": "code",
   "execution_count": 58,
   "metadata": {},
   "outputs": [
    {
     "data": {
      "text/html": [
       "<table class=\"simpletable\">\n",
       "<tr>\n",
       "        <td></td>           <th>coef</th>     <th>std err</th>      <th>t</th>      <th>P>|t|</th>  <th>[0.025</th>    <th>0.975]</th>  \n",
       "</tr>\n",
       "<tr>\n",
       "  <th>Intercept</th>     <td>    5.5340</td> <td>    8.440</td> <td>    0.656</td> <td> 0.514</td> <td>  -11.295</td> <td>   22.363</td>\n",
       "</tr>\n",
       "<tr>\n",
       "  <th>Stroop_1_R_W3</th> <td>    1.1051</td> <td>    0.297</td> <td>    3.715</td> <td> 0.000</td> <td>    0.512</td> <td>    1.698</td>\n",
       "</tr>\n",
       "<tr>\n",
       "  <th>Stroop_2_R_W3</th> <td>    0.8325</td> <td>    0.361</td> <td>    2.305</td> <td> 0.024</td> <td>    0.112</td> <td>    1.553</td>\n",
       "</tr>\n",
       "</table>"
      ],
      "text/plain": [
       "<IPython.core.display.HTML object>"
      ]
     },
     "execution_count": 58,
     "metadata": {},
     "output_type": "execute_result"
    }
   ],
   "source": [
    "HTML(model12_fit.summary().tables[1].as_html())"
   ]
  },
  {
   "cell_type": "code",
   "execution_count": 59,
   "metadata": {},
   "outputs": [
    {
     "data": {
      "text/html": [
       "<table class=\"simpletable\">\n",
       "<tr>\n",
       "  <th>Omnibus:</th>       <td> 8.194</td> <th>  Durbin-Watson:     </th> <td>   1.596</td>\n",
       "</tr>\n",
       "<tr>\n",
       "  <th>Prob(Omnibus):</th> <td> 0.017</td> <th>  Jarque-Bera (JB):  </th> <td>   7.965</td>\n",
       "</tr>\n",
       "<tr>\n",
       "  <th>Skew:</th>          <td> 0.792</td> <th>  Prob(JB):          </th> <td>  0.0186</td>\n",
       "</tr>\n",
       "<tr>\n",
       "  <th>Kurtosis:</th>      <td> 3.270</td> <th>  Cond. No.          </th> <td>    232.</td>\n",
       "</tr>\n",
       "</table>"
      ],
      "text/plain": [
       "<IPython.core.display.HTML object>"
      ]
     },
     "execution_count": 59,
     "metadata": {},
     "output_type": "execute_result"
    }
   ],
   "source": [
    "HTML(model12_fit.summary().tables[2].as_html())"
   ]
  },
  {
   "cell_type": "markdown",
   "metadata": {},
   "source": [
    "**model2: Get an instance of Influence with influence and outlier measures**"
   ]
  },
  {
   "cell_type": "code",
   "execution_count": 60,
   "metadata": {},
   "outputs": [],
   "source": [
    "infl12 = model12_fit.get_influence()"
   ]
  },
  {
   "cell_type": "code",
   "execution_count": 61,
   "metadata": {},
   "outputs": [
    {
     "data": {
      "text/html": [
       "<div>\n",
       "<style scoped>\n",
       "    .dataframe tbody tr th:only-of-type {\n",
       "        vertical-align: middle;\n",
       "    }\n",
       "\n",
       "    .dataframe tbody tr th {\n",
       "        vertical-align: top;\n",
       "    }\n",
       "\n",
       "    .dataframe thead th {\n",
       "        text-align: right;\n",
       "    }\n",
       "</style>\n",
       "<table border=\"1\" class=\"dataframe\">\n",
       "  <thead>\n",
       "    <tr style=\"text-align: right;\">\n",
       "      <th></th>\n",
       "      <th>dfb_Intercept</th>\n",
       "      <th>dfb_Stroop_1_R_W3</th>\n",
       "      <th>dfb_Stroop_2_R_W3</th>\n",
       "      <th>cooks_d</th>\n",
       "      <th>standard_resid</th>\n",
       "      <th>hat_diag</th>\n",
       "      <th>dffits_internal</th>\n",
       "      <th>student_resid</th>\n",
       "      <th>dffits</th>\n",
       "    </tr>\n",
       "  </thead>\n",
       "  <tbody>\n",
       "    <tr>\n",
       "      <th>0</th>\n",
       "      <td>-0.000318</td>\n",
       "      <td>0.096039</td>\n",
       "      <td>-0.093805</td>\n",
       "      <td>0.005760</td>\n",
       "      <td>0.612178</td>\n",
       "      <td>0.044080</td>\n",
       "      <td>0.131458</td>\n",
       "      <td>0.609462</td>\n",
       "      <td>0.130875</td>\n",
       "    </tr>\n",
       "    <tr>\n",
       "      <th>1</th>\n",
       "      <td>-0.203563</td>\n",
       "      <td>0.157260</td>\n",
       "      <td>0.058356</td>\n",
       "      <td>0.020978</td>\n",
       "      <td>0.880859</td>\n",
       "      <td>0.075025</td>\n",
       "      <td>0.250868</td>\n",
       "      <td>0.879452</td>\n",
       "      <td>0.250468</td>\n",
       "    </tr>\n",
       "    <tr>\n",
       "      <th>2</th>\n",
       "      <td>-0.014324</td>\n",
       "      <td>0.175413</td>\n",
       "      <td>-0.160033</td>\n",
       "      <td>0.016774</td>\n",
       "      <td>0.953319</td>\n",
       "      <td>0.052466</td>\n",
       "      <td>0.224325</td>\n",
       "      <td>0.952699</td>\n",
       "      <td>0.224179</td>\n",
       "    </tr>\n",
       "    <tr>\n",
       "      <th>3</th>\n",
       "      <td>-0.066519</td>\n",
       "      <td>0.073546</td>\n",
       "      <td>-0.019259</td>\n",
       "      <td>0.002680</td>\n",
       "      <td>-0.381455</td>\n",
       "      <td>0.052364</td>\n",
       "      <td>-0.089668</td>\n",
       "      <td>-0.379148</td>\n",
       "      <td>-0.089126</td>\n",
       "    </tr>\n",
       "    <tr>\n",
       "      <th>4</th>\n",
       "      <td>0.022060</td>\n",
       "      <td>-0.060264</td>\n",
       "      <td>0.038228</td>\n",
       "      <td>0.001583</td>\n",
       "      <td>-0.263081</td>\n",
       "      <td>0.064194</td>\n",
       "      <td>-0.068904</td>\n",
       "      <td>-0.261349</td>\n",
       "      <td>-0.068450</td>\n",
       "    </tr>\n",
       "  </tbody>\n",
       "</table>\n",
       "</div>"
      ],
      "text/plain": [
       "   dfb_Intercept  dfb_Stroop_1_R_W3  dfb_Stroop_2_R_W3   cooks_d  \\\n",
       "0      -0.000318           0.096039          -0.093805  0.005760   \n",
       "1      -0.203563           0.157260           0.058356  0.020978   \n",
       "2      -0.014324           0.175413          -0.160033  0.016774   \n",
       "3      -0.066519           0.073546          -0.019259  0.002680   \n",
       "4       0.022060          -0.060264           0.038228  0.001583   \n",
       "\n",
       "   standard_resid  hat_diag  dffits_internal  student_resid    dffits  \n",
       "0        0.612178  0.044080         0.131458       0.609462  0.130875  \n",
       "1        0.880859  0.075025         0.250868       0.879452  0.250468  \n",
       "2        0.953319  0.052466         0.224325       0.952699  0.224179  \n",
       "3       -0.381455  0.052364        -0.089668      -0.379148 -0.089126  \n",
       "4       -0.263081  0.064194        -0.068904      -0.261349 -0.068450  "
      ]
     },
     "execution_count": 61,
     "metadata": {},
     "output_type": "execute_result"
    }
   ],
   "source": [
    "df_infl12 = infl12.summary_frame()\n",
    "df_infl12.head()"
   ]
  },
  {
   "cell_type": "markdown",
   "metadata": {},
   "source": [
    "**Anova table for one or more fitted linear models**<br>\n",
    "Model statistics are given in the order of args. Models must have been fit using the formula api.\n",
    "\n",
    "Python for Data Science (https://pythonfordatascience.org/anova-2-way-n-way)\n",
    "\n",
    "There are 3 types of sum of squares that should be considered when conducting an ANOVA, by default Python and R uses Type 2, whereas SAS tends to use Type 3. The differences in the types of sum of squares is out of this page’s scope; but you should research the differences to decide which type you should use for your study."
   ]
  },
  {
   "cell_type": "code",
   "execution_count": 62,
   "metadata": {},
   "outputs": [
    {
     "data": {
      "text/html": [
       "<div>\n",
       "<style scoped>\n",
       "    .dataframe tbody tr th:only-of-type {\n",
       "        vertical-align: middle;\n",
       "    }\n",
       "\n",
       "    .dataframe tbody tr th {\n",
       "        vertical-align: top;\n",
       "    }\n",
       "\n",
       "    .dataframe thead th {\n",
       "        text-align: right;\n",
       "    }\n",
       "</style>\n",
       "<table border=\"1\" class=\"dataframe\">\n",
       "  <thead>\n",
       "    <tr style=\"text-align: right;\">\n",
       "      <th></th>\n",
       "      <th>sum_sq</th>\n",
       "      <th>df</th>\n",
       "      <th>F</th>\n",
       "      <th>PR(&gt;F)</th>\n",
       "    </tr>\n",
       "  </thead>\n",
       "  <tbody>\n",
       "    <tr>\n",
       "      <th>Stroop_2_R_W3</th>\n",
       "      <td>3415.462156</td>\n",
       "      <td>1.0</td>\n",
       "      <td>20.746005</td>\n",
       "      <td>0.000021</td>\n",
       "    </tr>\n",
       "    <tr>\n",
       "      <th>Residual</th>\n",
       "      <td>11853.524331</td>\n",
       "      <td>72.0</td>\n",
       "      <td>NaN</td>\n",
       "      <td>NaN</td>\n",
       "    </tr>\n",
       "  </tbody>\n",
       "</table>\n",
       "</div>"
      ],
      "text/plain": [
       "                     sum_sq    df          F    PR(>F)\n",
       "Stroop_2_R_W3   3415.462156   1.0  20.746005  0.000021\n",
       "Residual       11853.524331  72.0        NaN       NaN"
      ]
     },
     "execution_count": 62,
     "metadata": {},
     "output_type": "execute_result"
    }
   ],
   "source": [
    "import statsmodels.api as sm\n",
    "sm.stats.anova_lm(model2_fit, typ=2)"
   ]
  },
  {
   "cell_type": "code",
   "execution_count": 63,
   "metadata": {},
   "outputs": [
    {
     "data": {
      "text/html": [
       "<div>\n",
       "<style scoped>\n",
       "    .dataframe tbody tr th:only-of-type {\n",
       "        vertical-align: middle;\n",
       "    }\n",
       "\n",
       "    .dataframe tbody tr th {\n",
       "        vertical-align: top;\n",
       "    }\n",
       "\n",
       "    .dataframe thead th {\n",
       "        text-align: right;\n",
       "    }\n",
       "</style>\n",
       "<table border=\"1\" class=\"dataframe\">\n",
       "  <thead>\n",
       "    <tr style=\"text-align: right;\">\n",
       "      <th></th>\n",
       "      <th>sum_sq</th>\n",
       "      <th>df</th>\n",
       "      <th>F</th>\n",
       "      <th>PR(&gt;F)</th>\n",
       "    </tr>\n",
       "  </thead>\n",
       "  <tbody>\n",
       "    <tr>\n",
       "      <th>Stroop_1_R_W3</th>\n",
       "      <td>1929.150751</td>\n",
       "      <td>1.0</td>\n",
       "      <td>13.801345</td>\n",
       "      <td>0.000402</td>\n",
       "    </tr>\n",
       "    <tr>\n",
       "      <th>Stroop_2_R_W3</th>\n",
       "      <td>742.542935</td>\n",
       "      <td>1.0</td>\n",
       "      <td>5.312229</td>\n",
       "      <td>0.024104</td>\n",
       "    </tr>\n",
       "    <tr>\n",
       "      <th>Residual</th>\n",
       "      <td>9924.373580</td>\n",
       "      <td>71.0</td>\n",
       "      <td>NaN</td>\n",
       "      <td>NaN</td>\n",
       "    </tr>\n",
       "  </tbody>\n",
       "</table>\n",
       "</div>"
      ],
      "text/plain": [
       "                    sum_sq    df          F    PR(>F)\n",
       "Stroop_1_R_W3  1929.150751   1.0  13.801345  0.000402\n",
       "Stroop_2_R_W3   742.542935   1.0   5.312229  0.024104\n",
       "Residual       9924.373580  71.0        NaN       NaN"
      ]
     },
     "execution_count": 63,
     "metadata": {},
     "output_type": "execute_result"
    }
   ],
   "source": [
    "anov12 = sm.stats.anova_lm(model12_fit, typ=2)\n",
    "anov12"
   ]
  },
  {
   "cell_type": "markdown",
   "metadata": {},
   "source": [
    "i.e. each factor has an independent significant effect on the mean Stroop_3_R_W3"
   ]
  },
  {
   "cell_type": "markdown",
   "metadata": {},
   "source": [
    "**Calculating effect size**"
   ]
  },
  {
   "cell_type": "code",
   "execution_count": 64,
   "metadata": {},
   "outputs": [
    {
     "data": {
      "text/html": [
       "<div>\n",
       "<style scoped>\n",
       "    .dataframe tbody tr th:only-of-type {\n",
       "        vertical-align: middle;\n",
       "    }\n",
       "\n",
       "    .dataframe tbody tr th {\n",
       "        vertical-align: top;\n",
       "    }\n",
       "\n",
       "    .dataframe thead th {\n",
       "        text-align: right;\n",
       "    }\n",
       "</style>\n",
       "<table border=\"1\" class=\"dataframe\">\n",
       "  <thead>\n",
       "    <tr style=\"text-align: right;\">\n",
       "      <th></th>\n",
       "      <th>sum_sq</th>\n",
       "      <th>mean_sq</th>\n",
       "      <th>df</th>\n",
       "      <th>F</th>\n",
       "      <th>PR(&gt;F)</th>\n",
       "      <th>eta_sq</th>\n",
       "      <th>omega_sq</th>\n",
       "    </tr>\n",
       "  </thead>\n",
       "  <tbody>\n",
       "    <tr>\n",
       "      <th>Stroop_1_R_W3</th>\n",
       "      <td>1929.150751</td>\n",
       "      <td>1929.150751</td>\n",
       "      <td>1.0</td>\n",
       "      <td>13.801345</td>\n",
       "      <td>0.000402</td>\n",
       "      <td>0.153155</td>\n",
       "      <td>0.140499</td>\n",
       "    </tr>\n",
       "    <tr>\n",
       "      <th>Stroop_2_R_W3</th>\n",
       "      <td>742.542935</td>\n",
       "      <td>742.542935</td>\n",
       "      <td>1.0</td>\n",
       "      <td>5.312229</td>\n",
       "      <td>0.024104</td>\n",
       "      <td>0.058950</td>\n",
       "      <td>0.047328</td>\n",
       "    </tr>\n",
       "    <tr>\n",
       "      <th>Residual</th>\n",
       "      <td>9924.373580</td>\n",
       "      <td>139.779910</td>\n",
       "      <td>71.0</td>\n",
       "      <td>NaN</td>\n",
       "      <td>NaN</td>\n",
       "      <td>NaN</td>\n",
       "      <td>NaN</td>\n",
       "    </tr>\n",
       "  </tbody>\n",
       "</table>\n",
       "</div>"
      ],
      "text/plain": [
       "                    sum_sq      mean_sq    df          F    PR(>F)    eta_sq  \\\n",
       "Stroop_1_R_W3  1929.150751  1929.150751   1.0  13.801345  0.000402  0.153155   \n",
       "Stroop_2_R_W3   742.542935   742.542935   1.0   5.312229  0.024104  0.058950   \n",
       "Residual       9924.373580   139.779910  71.0        NaN       NaN       NaN   \n",
       "\n",
       "               omega_sq  \n",
       "Stroop_1_R_W3  0.140499  \n",
       "Stroop_2_R_W3  0.047328  \n",
       "Residual            NaN  "
      ]
     },
     "execution_count": 64,
     "metadata": {},
     "output_type": "execute_result"
    }
   ],
   "source": [
    "def anova_table(aov):\n",
    "    aov['mean_sq'] = aov[:]['sum_sq']/aov[:]['df']\n",
    "    \n",
    "    aov['eta_sq'] = aov[:-1]['sum_sq']/sum(aov['sum_sq'])\n",
    "    \n",
    "    aov['omega_sq'] = (aov[:-1]['sum_sq']-(aov[:-1]['df']*aov['mean_sq'][-1]))/(sum(aov['sum_sq'])+aov['mean_sq'][-1])\n",
    "    \n",
    "    cols = ['sum_sq', 'mean_sq', 'df', 'F', 'PR(>F)', 'eta_sq', 'omega_sq']\n",
    "    aov = aov[cols]\n",
    "    return aov\n",
    "\n",
    "anova_table(anov12)"
   ]
  },
  {
   "cell_type": "markdown",
   "metadata": {},
   "source": [
    "$\\omega^2$ is a better measure of effect size since it’s unbiased in it’s calculation. It takes into account the degrees of freedom, whereas $\\eta^2$ does not. Side note, $\\eta^2$ and $R^2$ are the same thing in the ANOVA framework. Each factor, Stroop_1 and Stroop_2, has a small effect on the mean Stroop_3_R_W3 reaction time"
   ]
  },
  {
   "cell_type": "markdown",
   "metadata": {},
   "source": [
    "**Comparing models**<br>\n",
    "When you use `anova(lm.1,lm.2,test=\"Chisq\")`, it performs the Chi-square test to compare lm.1 and lm.2 (i.e. it tests whether reduction in the residual sum of squares are statistically significant or not). Note that this makes sense only if lm.1 and lm.2 are nested models.<br>\n",
    "https://stat.ethz.ch/R-manual/R-patched/library/stats/html/anova.lm.html"
   ]
  },
  {
   "cell_type": "code",
   "execution_count": 65,
   "metadata": {},
   "outputs": [
    {
     "name": "stdout",
     "output_type": "stream",
     "text": [
      "   df_resid           ssr  df_diff     ss_diff         F    Pr(>F)\n",
      "0      72.0  10666.916514      0.0         NaN       NaN       NaN\n",
      "1      71.0   9924.373580      1.0  742.542935  5.312229  0.024104\n"
     ]
    },
    {
     "name": "stderr",
     "output_type": "stream",
     "text": [
      "/Users/arvid/anaconda3/envs/lvv-ri/lib/python3.7/site-packages/scipy/stats/_distn_infrastructure.py:877: RuntimeWarning: invalid value encountered in greater\n",
      "  return (self.a < x) & (x < self.b)\n",
      "/Users/arvid/anaconda3/envs/lvv-ri/lib/python3.7/site-packages/scipy/stats/_distn_infrastructure.py:877: RuntimeWarning: invalid value encountered in less\n",
      "  return (self.a < x) & (x < self.b)\n",
      "/Users/arvid/anaconda3/envs/lvv-ri/lib/python3.7/site-packages/scipy/stats/_distn_infrastructure.py:1831: RuntimeWarning: invalid value encountered in less_equal\n",
      "  cond2 = cond0 & (x <= self.a)\n"
     ]
    }
   ],
   "source": [
    "from statsmodels.stats.api import anova_lm\n",
    "table1_12 = anova_lm(model1_fit, model12_fit, test=\"F\")\n",
    "print(table1_12)"
   ]
  },
  {
   "cell_type": "code",
   "execution_count": 66,
   "metadata": {},
   "outputs": [
    {
     "name": "stdout",
     "output_type": "stream",
     "text": [
      "   df_resid           ssr  df_diff      ss_diff          F    Pr(>F)\n",
      "0      72.0  11853.524331      0.0          NaN        NaN       NaN\n",
      "1      71.0   9924.373580      1.0  1929.150751  13.801345  0.000402\n"
     ]
    }
   ],
   "source": [
    "table2_12 = anova_lm(model2_fit, model12_fit,  test=\"F\")\n",
    "print(table2_12)"
   ]
  },
  {
   "cell_type": "code",
   "execution_count": 67,
   "metadata": {},
   "outputs": [],
   "source": [
    "model = model12\n",
    "model_fit = model12_fit\n",
    "\n",
    "# fitted values (need a constant term for intercept)\n",
    "model_fitted_y = model_fit.fittedvalues\n",
    "\n",
    "# model residuals\n",
    "model_residuals = model_fit.resid\n",
    "\n",
    "# normalized residuals\n",
    "model_norm_residuals = model_fit.get_influence().resid_studentized_internal\n",
    "\n",
    "# absolute squared normalized residuals\n",
    "model_norm_residuals_abs_sqrt = np.sqrt(np.abs(model_norm_residuals))\n",
    "\n",
    "# absolute residuals\n",
    "model_abs_resid = np.abs(model_residuals)\n",
    "\n",
    "# leverage, from statsmodels internals\n",
    "model_leverage = model_fit.get_influence().hat_matrix_diag\n",
    "\n",
    "# cook's distance, from statsmodels internals\n",
    "model_cooks = model_fit.get_influence().cooks_distance[0]"
   ]
  },
  {
   "cell_type": "code",
   "execution_count": 68,
   "metadata": {},
   "outputs": [
    {
     "data": {
      "image/png": "[encoded data removed]",
      "text/plain": [
       "<Figure size 432x288 with 1 Axes>"
      ]
     },
     "metadata": {
      "needs_background": "light"
     },
     "output_type": "display_data"
    }
   ],
   "source": [
    "plt.hist(model_residuals, facecolor='w', edgecolor='k', lw=2, alpha=1.0)\n",
    "plt.title('Residuals')\n",
    "plt.show()"
   ]
  },
  {
   "cell_type": "markdown",
   "metadata": {},
   "source": [
    "**Residual plot**"
   ]
  },
  {
   "cell_type": "code",
   "execution_count": 69,
   "metadata": {},
   "outputs": [
    {
     "data": {
      "image/png": "[encoded data removed]",
      "text/plain": [
       "<Figure size 864x576 with 1 Axes>"
      ]
     },
     "metadata": {
      "needs_background": "light"
     },
     "output_type": "display_data"
    }
   ],
   "source": [
    "plot_lm_1 = plt.figure(1)\n",
    "plot_lm_1.set_figheight(8)\n",
    "plot_lm_1.set_figwidth(12)\n",
    "\n",
    "plot_lm_1.axes[0] = sns.residplot(model_fitted_y, 'Stroop_3_R_W3', data=cwit, \n",
    "                          lowess=True, \n",
    "                          scatter_kws={'alpha': 0.5}, \n",
    "                          line_kws={'color': 'red', 'lw': 1, 'alpha': 0.8})\n",
    "\n",
    "plot_lm_1.axes[0].set_title('Residuals vs Fitted')\n",
    "plot_lm_1.axes[0].set_xlabel('Fitted values')\n",
    "plot_lm_1.axes[0].set_ylabel('Residuals')\n",
    "\n",
    "# annotations\n",
    "abs_resid = model_abs_resid.sort_values(ascending=False)\n",
    "abs_resid_top_3 = abs_resid[:3]\n",
    "\n",
    "for i in abs_resid_top_3.index:\n",
    "    plot_lm_1.axes[0].annotate(i, \n",
    "                               xy=(model_fitted_y[i], \n",
    "                                   model_residuals[i]));"
   ]
  },
  {
   "cell_type": "markdown",
   "metadata": {},
   "source": [
    "**QQ-plot**"
   ]
  },
  {
   "cell_type": "code",
   "execution_count": 70,
   "metadata": {},
   "outputs": [
    {
     "data": {
      "image/png": "[encoded data removed]",
      "text/plain": [
       "<Figure size 864x576 with 1 Axes>"
      ]
     },
     "metadata": {
      "needs_background": "light"
     },
     "output_type": "display_data"
    }
   ],
   "source": [
    "QQ = ProbPlot(model_norm_residuals)\n",
    "plot_lm_2 = QQ.qqplot(line='45', alpha=0.5, color='#4C72B0', lw=1)\n",
    "\n",
    "plot_lm_2.set_figheight(8)\n",
    "plot_lm_2.set_figwidth(12)\n",
    "\n",
    "plot_lm_2.axes[0].set_title('Normal Q-Q')\n",
    "plot_lm_2.axes[0].set_xlabel('Theoretical Quantiles')\n",
    "plot_lm_2.axes[0].set_ylabel('Standardized Residuals');\n",
    "\n",
    "# annotations\n",
    "abs_norm_resid = np.flip(np.argsort(np.abs(model_norm_residuals)), 0)\n",
    "abs_norm_resid_top_3 = abs_norm_resid[:3]\n",
    "\n",
    "for r, i in enumerate(abs_norm_resid_top_3):\n",
    "    plot_lm_2.axes[0].annotate(i, \n",
    "                               xy=(np.flip(QQ.theoretical_quantiles, 0)[r],\n",
    "                                   model_norm_residuals[i]));"
   ]
  },
  {
   "cell_type": "markdown",
   "metadata": {},
   "source": [
    "**Scale-location plot**"
   ]
  },
  {
   "cell_type": "code",
   "execution_count": 71,
   "metadata": {},
   "outputs": [
    {
     "data": {
      "image/png": "[encoded data removed]",
      "text/plain": [
       "<Figure size 864x576 with 1 Axes>"
      ]
     },
     "metadata": {
      "needs_background": "light"
     },
     "output_type": "display_data"
    }
   ],
   "source": [
    "plot_lm_3 = plt.figure(3)\n",
    "plot_lm_3.set_figheight(8)\n",
    "plot_lm_3.set_figwidth(12)\n",
    "\n",
    "plt.scatter(model_fitted_y, model_norm_residuals_abs_sqrt, alpha=0.5)\n",
    "sns.regplot(model_fitted_y, model_norm_residuals_abs_sqrt, \n",
    "            scatter=False, \n",
    "            ci=False, \n",
    "            lowess=True,\n",
    "            line_kws={'color': 'red', 'lw': 1, 'alpha': 0.8})\n",
    "\n",
    "plot_lm_3.axes[0].set_title('Scale-Location')\n",
    "plot_lm_3.axes[0].set_xlabel('Fitted values')\n",
    "plot_lm_3.axes[0].set_ylabel('$\\sqrt{|Standardized Residuals|}$');\n",
    "\n",
    "# annotations\n",
    "abs_sq_norm_resid = np.flip(np.argsort(model_norm_residuals_abs_sqrt), 0)\n",
    "abs_sq_norm_resid_top_3 = abs_sq_norm_resid[:3]\n",
    "\n",
    "for i in abs_norm_resid_top_3:\n",
    "    plot_lm_3.axes[0].annotate(i, \n",
    "                               xy=(model_fitted_y[i], \n",
    "                                   model_norm_residuals_abs_sqrt[i]));"
   ]
  },
  {
   "cell_type": "markdown",
   "metadata": {},
   "source": [
    "**Leverage plot**"
   ]
  },
  {
   "cell_type": "code",
   "execution_count": 72,
   "metadata": {},
   "outputs": [
    {
     "data": {
      "image/png": "[encoded data removed]",
      "text/plain": [
       "<Figure size 864x576 with 1 Axes>"
      ]
     },
     "metadata": {
      "needs_background": "light"
     },
     "output_type": "display_data"
    }
   ],
   "source": [
    "plot_lm_4 = plt.figure(4)\n",
    "plot_lm_4.set_figheight(8)\n",
    "plot_lm_4.set_figwidth(12)\n",
    "\n",
    "plt.scatter(model_leverage, model_norm_residuals, alpha=0.5)\n",
    "sns.regplot(model_leverage, model_norm_residuals, \n",
    "            scatter=False, \n",
    "            ci=False, \n",
    "            lowess=True,\n",
    "            line_kws={'color': 'red', 'lw': 1, 'alpha': 0.8})\n",
    "\n",
    "plot_lm_4.axes[0].set_xlim(0, 0.20)\n",
    "plot_lm_4.axes[0].set_ylim(-3, 5)\n",
    "plot_lm_4.axes[0].set_title('Residuals vs Leverage')\n",
    "plot_lm_4.axes[0].set_xlabel('Leverage')\n",
    "plot_lm_4.axes[0].set_ylabel('Standardized Residuals')\n",
    "\n",
    "# annotations\n",
    "leverage_top_3 = np.flip(np.argsort(model_cooks), 0)[:3]\n",
    "\n",
    "for i in leverage_top_3:\n",
    "    plot_lm_4.axes[0].annotate(i, \n",
    "                               xy=(model_leverage[i], \n",
    "                                   model_norm_residuals[i]))\n",
    "    \n",
    "# shenanigans for cook's distance contours\n",
    "def graph(formula, x_range, label=None):\n",
    "    x = x_range\n",
    "    y = formula(x)\n",
    "    plt.plot(x, y, label=label, lw=1, ls='--', color='red')\n",
    "\n",
    "p = len(model_fit.params) # number of model parameters\n",
    "\n",
    "graph(lambda x: np.sqrt((0.5 * p * (1 - x)) / x), \n",
    "      np.linspace(0.001, 0.200, 50), \n",
    "      'Cook\\'s distance') # 0.5 line\n",
    "graph(lambda x: np.sqrt((1 * p * (1 - x)) / x), \n",
    "      np.linspace(0.001, 0.200, 50)) # 1 line\n",
    "plt.legend(loc='upper right');"
   ]
  },
  {
   "cell_type": "code",
   "execution_count": 73,
   "metadata": {},
   "outputs": [],
   "source": [
    "cwit['resid12'] =  np.array(model_residuals)"
   ]
  },
  {
   "cell_type": "code",
   "execution_count": 74,
   "metadata": {},
   "outputs": [
    {
     "data": {
      "text/html": [
       "<div>\n",
       "<style scoped>\n",
       "    .dataframe tbody tr th:only-of-type {\n",
       "        vertical-align: middle;\n",
       "    }\n",
       "\n",
       "    .dataframe tbody tr th {\n",
       "        vertical-align: top;\n",
       "    }\n",
       "\n",
       "    .dataframe thead th {\n",
       "        text-align: right;\n",
       "    }\n",
       "</style>\n",
       "<table border=\"1\" class=\"dataframe\">\n",
       "  <thead>\n",
       "    <tr style=\"text-align: right;\">\n",
       "      <th></th>\n",
       "      <th>Subject</th>\n",
       "      <th>Sex</th>\n",
       "      <th>Stroop_1_R_W3</th>\n",
       "      <th>Stroop_2_R_W3</th>\n",
       "      <th>Stroop_3_R_W3</th>\n",
       "      <th>Stroop_4_R_W3</th>\n",
       "      <th>resid12</th>\n",
       "    </tr>\n",
       "  </thead>\n",
       "  <tbody>\n",
       "    <tr>\n",
       "      <th>0</th>\n",
       "      <td>subj_01</td>\n",
       "      <td>F</td>\n",
       "      <td>34.0</td>\n",
       "      <td>19.0</td>\n",
       "      <td>66.0</td>\n",
       "      <td>92.0</td>\n",
       "      <td>7.076375</td>\n",
       "    </tr>\n",
       "    <tr>\n",
       "      <th>1</th>\n",
       "      <td>subj_02</td>\n",
       "      <td>M</td>\n",
       "      <td>41.0</td>\n",
       "      <td>29.0</td>\n",
       "      <td>85.0</td>\n",
       "      <td>90.0</td>\n",
       "      <td>10.015983</td>\n",
       "    </tr>\n",
       "    <tr>\n",
       "      <th>2</th>\n",
       "      <td>subj_03</td>\n",
       "      <td>M</td>\n",
       "      <td>35.0</td>\n",
       "      <td>19.0</td>\n",
       "      <td>71.0</td>\n",
       "      <td>79.0</td>\n",
       "      <td>10.971306</td>\n",
       "    </tr>\n",
       "    <tr>\n",
       "      <th>3</th>\n",
       "      <td>subj_04</td>\n",
       "      <td>M</td>\n",
       "      <td>21.0</td>\n",
       "      <td>20.0</td>\n",
       "      <td>41.0</td>\n",
       "      <td>96.0</td>\n",
       "      <td>-4.390219</td>\n",
       "    </tr>\n",
       "    <tr>\n",
       "      <th>4</th>\n",
       "      <td>subj_05</td>\n",
       "      <td>M</td>\n",
       "      <td>38.0</td>\n",
       "      <td>21.0</td>\n",
       "      <td>62.0</td>\n",
       "      <td>80.0</td>\n",
       "      <td>-3.008883</td>\n",
       "    </tr>\n",
       "  </tbody>\n",
       "</table>\n",
       "</div>"
      ],
      "text/plain": [
       "   Subject Sex  Stroop_1_R_W3  Stroop_2_R_W3  Stroop_3_R_W3  Stroop_4_R_W3  \\\n",
       "0  subj_01   F           34.0           19.0           66.0           92.0   \n",
       "1  subj_02   M           41.0           29.0           85.0           90.0   \n",
       "2  subj_03   M           35.0           19.0           71.0           79.0   \n",
       "3  subj_04   M           21.0           20.0           41.0           96.0   \n",
       "4  subj_05   M           38.0           21.0           62.0           80.0   \n",
       "\n",
       "     resid12  \n",
       "0   7.076375  \n",
       "1  10.015983  \n",
       "2  10.971306  \n",
       "3  -4.390219  \n",
       "4  -3.008883  "
      ]
     },
     "execution_count": 74,
     "metadata": {},
     "output_type": "execute_result"
    }
   ],
   "source": [
    "cwit.head()"
   ]
  },
  {
   "cell_type": "code",
   "execution_count": 75,
   "metadata": {},
   "outputs": [],
   "source": [
    "cwit_resid12 = pd.DataFrame([cwit['Subject'], cwit['Stroop_3_R_W3'], cwit['resid12']]).T"
   ]
  },
  {
   "cell_type": "code",
   "execution_count": 76,
   "metadata": {},
   "outputs": [
    {
     "data": {
      "text/html": [
       "<div>\n",
       "<style scoped>\n",
       "    .dataframe tbody tr th:only-of-type {\n",
       "        vertical-align: middle;\n",
       "    }\n",
       "\n",
       "    .dataframe tbody tr th {\n",
       "        vertical-align: top;\n",
       "    }\n",
       "\n",
       "    .dataframe thead th {\n",
       "        text-align: right;\n",
       "    }\n",
       "</style>\n",
       "<table border=\"1\" class=\"dataframe\">\n",
       "  <thead>\n",
       "    <tr style=\"text-align: right;\">\n",
       "      <th></th>\n",
       "      <th>Subject</th>\n",
       "      <th>Stroop_3_R_W3</th>\n",
       "      <th>resid12</th>\n",
       "    </tr>\n",
       "  </thead>\n",
       "  <tbody>\n",
       "    <tr>\n",
       "      <th>0</th>\n",
       "      <td>subj_01</td>\n",
       "      <td>66</td>\n",
       "      <td>7.07638</td>\n",
       "    </tr>\n",
       "    <tr>\n",
       "      <th>1</th>\n",
       "      <td>subj_02</td>\n",
       "      <td>85</td>\n",
       "      <td>10.016</td>\n",
       "    </tr>\n",
       "    <tr>\n",
       "      <th>2</th>\n",
       "      <td>subj_03</td>\n",
       "      <td>71</td>\n",
       "      <td>10.9713</td>\n",
       "    </tr>\n",
       "    <tr>\n",
       "      <th>3</th>\n",
       "      <td>subj_04</td>\n",
       "      <td>41</td>\n",
       "      <td>-4.39022</td>\n",
       "    </tr>\n",
       "    <tr>\n",
       "      <th>4</th>\n",
       "      <td>subj_05</td>\n",
       "      <td>62</td>\n",
       "      <td>-3.00888</td>\n",
       "    </tr>\n",
       "  </tbody>\n",
       "</table>\n",
       "</div>"
      ],
      "text/plain": [
       "   Subject Stroop_3_R_W3  resid12\n",
       "0  subj_01            66  7.07638\n",
       "1  subj_02            85   10.016\n",
       "2  subj_03            71  10.9713\n",
       "3  subj_04            41 -4.39022\n",
       "4  subj_05            62 -3.00888"
      ]
     },
     "execution_count": 76,
     "metadata": {},
     "output_type": "execute_result"
    }
   ],
   "source": [
    "cwit_resid12.head()"
   ]
  },
  {
   "cell_type": "code",
   "execution_count": 77,
   "metadata": {},
   "outputs": [],
   "source": [
    "#cwit_resid12.to_csv('../results/cwit_resid12.csv', index=False)"
   ]
  },
  {
   "cell_type": "code",
   "execution_count": null,
   "metadata": {},
   "outputs": [],
   "source": []
  }
 ],
 "metadata": {
  "kernelspec": {
   "display_name": "LVV-RI",
   "language": "python",
   "name": "lvv-ri"
  },
  "language_info": {
   "codemirror_mode": {
    "name": "ipython",
    "version": 3
   },
   "file_extension": ".py",
   "mimetype": "text/x-python",
   "name": "python",
   "nbconvert_exporter": "python",
   "pygments_lexer": "ipython3",
   "version": "3.7.2"
  },
  "toc": {
   "base_numbering": 1,
   "nav_menu": {},
   "number_sections": true,
   "sideBar": true,
   "skip_h1_title": false,
   "title_cell": "Table of Contents",
   "title_sidebar": "Contents",
   "toc_cell": false,
   "toc_position": {},
   "toc_section_display": true,
   "toc_window_display": false
  }
 },
 "nbformat": 4,
 "nbformat_minor": 2
}
