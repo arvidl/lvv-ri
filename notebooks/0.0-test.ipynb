{
 "cells": [
  {
   "cell_type": "markdown",
   "metadata": {},
   "source": [
    "**0.0-test.ipynb** for testing your `lvv-ri` environment\n",
    "\n",
    "Copyright (c) 2019, Arvid Lundervold"
   ]
  },
  {
   "cell_type": "markdown",
   "metadata": {},
   "source": [
    "# python, numpy, pandas, matplotlib, rpy2 and more"
   ]
  },
  {
   "cell_type": "markdown",
   "metadata": {},
   "source": [
    "If you successfully run through this notebook, then your Python environment is configured correctly. "
   ]
  },
  {
   "cell_type": "markdown",
   "metadata": {},
   "source": [
    "# How to use the Jupyter Notebook?"
   ]
  },
  {
   "cell_type": "markdown",
   "metadata": {},
   "source": [
    "[Jupyter Notebook](http://jupyter.org/) is a useful tool for experimenting with code. Everything of code and text is written in HTML, Markdown and Python.\n",
    "\n",
    "Use arrow keys to navigate between cells. Hit ENTER on a cell to switch to editing mode. ESC to get back."
   ]
  },
  {
   "cell_type": "code",
   "execution_count": 124,
   "metadata": {},
   "outputs": [
    {
     "name": "stdout",
     "output_type": "stream",
     "text": [
      "This is a Jupyter cell containing Python code. Hit 'Run' in the menu to execute the cell. \n"
     ]
    }
   ],
   "source": [
    "print(\"This is a Jupyter cell containing Python code. Hit 'Run' in the menu to execute the cell. \")"
   ]
  },
  {
   "cell_type": "markdown",
   "metadata": {},
   "source": [
    "You can also run cells by typing **Shift+Enter** or **Ctrl+Enter**. Try running the cell above by using both of these."
   ]
  },
  {
   "cell_type": "markdown",
   "metadata": {},
   "source": [
    "You will find more information via the Help menu above."
   ]
  },
  {
   "cell_type": "markdown",
   "metadata": {},
   "source": [
    "`lvv-ri` is using Jupyter Notebooks with both Python and R for the coding. <br>Here is a good tutorial on Jupyter Notebook: [Jupyter Notebook Tutorial: The Definitive Guide](https://www.datacamp.com/community/tutorials/tutorial-jupyter-notebook)."
   ]
  },
  {
   "cell_type": "markdown",
   "metadata": {},
   "source": [
    "# Import libraries"
   ]
  },
  {
   "cell_type": "markdown",
   "metadata": {},
   "source": [
    "These are libaries that will be frequently used in the course:"
   ]
  },
  {
   "cell_type": "code",
   "execution_count": 125,
   "metadata": {},
   "outputs": [],
   "source": [
    "# To diosplay plots directly in the notebook:\n",
    "%matplotlib inline"
   ]
  },
  {
   "cell_type": "code",
   "execution_count": 126,
   "metadata": {},
   "outputs": [],
   "source": [
    "# A frequently used plotting libraryp:\n",
    "import matplotlib\n",
    "import matplotlib.pyplot as plt"
   ]
  },
  {
   "cell_type": "code",
   "execution_count": 127,
   "metadata": {},
   "outputs": [],
   "source": [
    "# An extension of matplotlib making it easy to generate even nicer plots:\n",
    "import seaborn as sns"
   ]
  },
  {
   "cell_type": "code",
   "execution_count": 128,
   "metadata": {},
   "outputs": [],
   "source": [
    "# A numerical libray for efficient manipulation of matrices (and more):\n",
    "import numpy as np"
   ]
  },
  {
   "cell_type": "code",
   "execution_count": 129,
   "metadata": {},
   "outputs": [],
   "source": [
    "# To read, write and proecess tabular data:\n",
    "import pandas as pd"
   ]
  },
  {
   "cell_type": "code",
   "execution_count": 130,
   "metadata": {},
   "outputs": [],
   "source": [
    "# For machine learning:\n",
    "import sklearn"
   ]
  },
  {
   "cell_type": "code",
   "execution_count": 131,
   "metadata": {},
   "outputs": [],
   "source": [
    "# For using R:\n",
    "import rpy2\n",
    "from rpy2.robjects import r, pandas2ri\n",
    "pandas2ri.activate()\n",
    "from rpy2.robjects.lib.tidyr import DataFrame"
   ]
  },
  {
   "cell_type": "markdown",
   "metadata": {},
   "source": [
    "If errors like<br>\n",
    "```python\n",
    "RRuntimeError: Error in loadNamespace(name) : there is no package called 'tidyr'\n",
    "```\n",
    "see cell below:"
   ]
  },
  {
   "cell_type": "code",
   "execution_count": 132,
   "metadata": {},
   "outputs": [],
   "source": [
    "from rpy2.robjects.packages import importr\n",
    "utils = importr('utils')\n",
    "# If needed to install - uncomment the following\n",
    "#utils.install_packages('tidyr')\n",
    "#utils.install_packages('lazyeval')\n",
    "#utils.install_packages('lme4')\n",
    "#utils.install_packages('ggplot2')\n",
    "#utils.install_packages('GGally')\n",
    "#utils.install_packages('foreign')\n",
    "\n",
    "# Extra:\n",
    "#utils.install_packages('caret')\n",
    "#utils.install_packages('tidyverse')\n",
    "#utils.install_packages('devtools')\n",
    "#utils.install_packages('rlang')\n",
    "#utils.install_packages('Rccp')\n",
    "#utils.install_packages('tikzDevice')\n",
    "#utils.install_packages('stargazer')\n",
    "#utils.install_packages('readxl')\n",
    "#utils.install_packages('stringi')\n",
    "#utils.install_packages('r-cran-stringi')\n",
    "#utils.install_packages('foreign')"
   ]
  },
  {
   "cell_type": "code",
   "execution_count": 133,
   "metadata": {},
   "outputs": [],
   "source": [
    "%reload_ext rpy2.ipython"
   ]
  },
  {
   "cell_type": "code",
   "execution_count": 134,
   "metadata": {},
   "outputs": [
    {
     "data": {
      "text/plain": [
       "array(['x86_64, mingw32'], dtype='<U15')"
      ]
     },
     "execution_count": 134,
     "metadata": {},
     "output_type": "execute_result"
    }
   ],
   "source": [
    "%R R.version$system"
   ]
  },
  {
   "cell_type": "code",
   "execution_count": 135,
   "metadata": {},
   "outputs": [
    {
     "data": {
      "text/plain": [
       "array(['R version 3.4.1 (2017-06-30)'], dtype='<U28')"
      ]
     },
     "execution_count": 135,
     "metadata": {},
     "output_type": "execute_result"
    }
   ],
   "source": [
    "%R R.version$version.str"
   ]
  },
  {
   "cell_type": "code",
   "execution_count": 136,
   "metadata": {},
   "outputs": [],
   "source": [
    "%R library(foreign); #library(readxl)"
   ]
  },
  {
   "cell_type": "markdown",
   "metadata": {},
   "source": [
    "# Test libraries"
   ]
  },
  {
   "cell_type": "markdown",
   "metadata": {},
   "source": [
    "**REMARK:**  The aim of the following is to test the installation, not doing relevant `lvv-ri`analysis."
   ]
  },
  {
   "cell_type": "markdown",
   "metadata": {},
   "source": [
    "## `Numpy`"
   ]
  },
  {
   "cell_type": "code",
   "execution_count": 137,
   "metadata": {},
   "outputs": [],
   "source": [
    "import numpy as np"
   ]
  },
  {
   "cell_type": "code",
   "execution_count": 138,
   "metadata": {},
   "outputs": [
    {
     "name": "stdout",
     "output_type": "stream",
     "text": [
      "<class 'numpy.ndarray'>\n"
     ]
    }
   ],
   "source": [
    "a = np.array([1, 2, 3])\n",
    "print(type(a))"
   ]
  },
  {
   "cell_type": "code",
   "execution_count": 139,
   "metadata": {},
   "outputs": [
    {
     "data": {
      "text/plain": [
       "array([[0.58569298, 0.97146617, 0.82016551],\n",
       "       [0.3005846 , 0.19725929, 0.29212021],\n",
       "       [0.23741048, 0.7085699 , 0.33260982]])"
      ]
     },
     "execution_count": 139,
     "metadata": {},
     "output_type": "execute_result"
    }
   ],
   "source": [
    "e = np.random.random((3,3))\n",
    "e"
   ]
  },
  {
   "cell_type": "markdown",
   "metadata": {},
   "source": [
    "## `matplotlib`: a simple plot"
   ]
  },
  {
   "cell_type": "code",
   "execution_count": 140,
   "metadata": {},
   "outputs": [],
   "source": [
    "%matplotlib inline\n",
    "import matplotlib.pyplot as plt"
   ]
  },
  {
   "cell_type": "markdown",
   "metadata": {},
   "source": [
    "The following will give a figure displaying a sine function:"
   ]
  },
  {
   "cell_type": "code",
   "execution_count": 141,
   "metadata": {},
   "outputs": [
    {
     "data": {
      "image/png": "[encoded data removed]",
      "text/plain": [
       "<Figure size 576x288 with 1 Axes>"
      ]
     },
     "metadata": {
      "needs_background": "light"
     },
     "output_type": "display_data"
    }
   ],
   "source": [
    "# Data to be plotted (generated by Numpy)\n",
    "t = np.arange(0.0, 2.0, 0.01)\n",
    "s = 1 + np.sin(2 * np.pi * t)\n",
    "\n",
    "# Make a figure of given size\n",
    "f, ax = plt.subplots(figsize=(8,4))\n",
    "\n",
    "# Plot t versus s\n",
    "plt.plot(t, s)\n",
    "\n",
    "# Add a title and labels:\n",
    "plt.title('A simple plot')\n",
    "plt.xlabel('time (s)')\n",
    "plt.ylabel('voltage')\n",
    "\n",
    "# Show plot:\n",
    "plt.show()"
   ]
  },
  {
   "cell_type": "markdown",
   "metadata": {},
   "source": [
    "## `Seaborn`: a more advanced plot"
   ]
  },
  {
   "cell_type": "code",
   "execution_count": 142,
   "metadata": {},
   "outputs": [],
   "source": [
    "import seaborn as sns"
   ]
  },
  {
   "cell_type": "markdown",
   "metadata": {},
   "source": [
    "Source: [Link](https://seaborn.pydata.org/examples/scatterplot_categorical.html)"
   ]
  },
  {
   "cell_type": "code",
   "execution_count": 143,
   "metadata": {},
   "outputs": [
    {
     "data": {
      "image/png": "[encoded data removed]",
      "text/plain": [
       "<Figure size 576x576 with 1 Axes>"
      ]
     },
     "metadata": {},
     "output_type": "display_data"
    }
   ],
   "source": [
    "sns.set(style=\"whitegrid\", palette=\"muted\")\n",
    "\n",
    "# Load the iris dataset\n",
    "iris = sns.load_dataset(\"iris\")\n",
    "\n",
    "# \"Melt\" dataset to \"long-form\" or \"tidy\" representation\n",
    "iris = pd.melt(iris, \"species\", var_name=\"measurement\")\n",
    "\n",
    "# Make a figure with given size\n",
    "f, ax = plt.subplots(figsize=(8,8))\n",
    "\n",
    "# Draw a categorical scatterplot to show each observation\n",
    "sns.swarmplot(x=\"measurement\", y=\"value\", hue=\"species\", data=iris, size=5, ax=ax)\n",
    "\n",
    "plt.show()"
   ]
  },
  {
   "cell_type": "markdown",
   "metadata": {},
   "source": [
    "## `Pandas`"
   ]
  },
  {
   "cell_type": "code",
   "execution_count": 144,
   "metadata": {},
   "outputs": [],
   "source": [
    "import pandas as pd"
   ]
  },
  {
   "cell_type": "code",
   "execution_count": 147,
   "metadata": {},
   "outputs": [],
   "source": [
    "df = pd.read_csv('../data/lvv_ri_data.csv')"
   ]
  },
  {
   "cell_type": "code",
   "execution_count": 148,
   "metadata": {},
   "outputs": [
    {
     "data": {
      "text/html": [
       "<div>\n",
       "<style scoped>\n",
       "    .dataframe tbody tr th:only-of-type {\n",
       "        vertical-align: middle;\n",
       "    }\n",
       "\n",
       "    .dataframe tbody tr th {\n",
       "        vertical-align: top;\n",
       "    }\n",
       "\n",
       "    .dataframe thead th {\n",
       "        text-align: right;\n",
       "    }\n",
       "</style>\n",
       "<table border=\"1\" class=\"dataframe\">\n",
       "  <thead>\n",
       "    <tr style=\"text-align: right;\">\n",
       "      <th></th>\n",
       "      <th>Subject</th>\n",
       "      <th>Sex</th>\n",
       "      <th>AcquisitionYearsW1</th>\n",
       "      <th>AcquisitionYearsW2</th>\n",
       "      <th>AcquisitionYearsW3</th>\n",
       "      <th>Left-Lateral-Ventricle_W1</th>\n",
       "      <th>Left-Lateral-Ventricle_W2</th>\n",
       "      <th>Left-Lateral-Ventricle_W3</th>\n",
       "      <th>Right-Lateral-Ventricle_W1</th>\n",
       "      <th>Right-Lateral-Ventricle_W2</th>\n",
       "      <th>Right-Lateral-Ventricle_W3</th>\n",
       "      <th>EstimatedTotalIntraCranialVol_W3</th>\n",
       "      <th>Stroop_3_R_W3</th>\n",
       "    </tr>\n",
       "  </thead>\n",
       "  <tbody>\n",
       "    <tr>\n",
       "      <th>0</th>\n",
       "      <td>subj_01</td>\n",
       "      <td>F</td>\n",
       "      <td>56.63</td>\n",
       "      <td>60.35</td>\n",
       "      <td>62.62</td>\n",
       "      <td>5321.4</td>\n",
       "      <td>5063.6</td>\n",
       "      <td>5368.3</td>\n",
       "      <td>6855.2</td>\n",
       "      <td>6729.2</td>\n",
       "      <td>7233.2</td>\n",
       "      <td>1.232679e+06</td>\n",
       "      <td>66.0</td>\n",
       "    </tr>\n",
       "    <tr>\n",
       "      <th>1</th>\n",
       "      <td>subj_02</td>\n",
       "      <td>M</td>\n",
       "      <td>49.07</td>\n",
       "      <td>52.58</td>\n",
       "      <td>55.05</td>\n",
       "      <td>11038.6</td>\n",
       "      <td>11912.2</td>\n",
       "      <td>12313.3</td>\n",
       "      <td>10611.6</td>\n",
       "      <td>11774.8</td>\n",
       "      <td>12070.5</td>\n",
       "      <td>1.464692e+06</td>\n",
       "      <td>85.0</td>\n",
       "    </tr>\n",
       "    <tr>\n",
       "      <th>2</th>\n",
       "      <td>subj_03</td>\n",
       "      <td>M</td>\n",
       "      <td>74.61</td>\n",
       "      <td>78.14</td>\n",
       "      <td>80.59</td>\n",
       "      <td>29718.4</td>\n",
       "      <td>32265.1</td>\n",
       "      <td>35887.0</td>\n",
       "      <td>34241.0</td>\n",
       "      <td>37155.2</td>\n",
       "      <td>41221.4</td>\n",
       "      <td>1.385841e+06</td>\n",
       "      <td>71.0</td>\n",
       "    </tr>\n",
       "    <tr>\n",
       "      <th>3</th>\n",
       "      <td>subj_04</td>\n",
       "      <td>M</td>\n",
       "      <td>56.23</td>\n",
       "      <td>59.78</td>\n",
       "      <td>62.68</td>\n",
       "      <td>21830.1</td>\n",
       "      <td>23933.6</td>\n",
       "      <td>26164.2</td>\n",
       "      <td>15243.9</td>\n",
       "      <td>16505.1</td>\n",
       "      <td>18509.1</td>\n",
       "      <td>1.529445e+06</td>\n",
       "      <td>41.0</td>\n",
       "    </tr>\n",
       "    <tr>\n",
       "      <th>4</th>\n",
       "      <td>subj_05</td>\n",
       "      <td>M</td>\n",
       "      <td>63.22</td>\n",
       "      <td>67.00</td>\n",
       "      <td>69.53</td>\n",
       "      <td>17205.1</td>\n",
       "      <td>16970.1</td>\n",
       "      <td>15858.1</td>\n",
       "      <td>13962.1</td>\n",
       "      <td>13755.5</td>\n",
       "      <td>13143.9</td>\n",
       "      <td>1.371460e+06</td>\n",
       "      <td>62.0</td>\n",
       "    </tr>\n",
       "  </tbody>\n",
       "</table>\n",
       "</div>"
      ],
      "text/plain": [
       "   Subject Sex  AcquisitionYearsW1  AcquisitionYearsW2  AcquisitionYearsW3  \\\n",
       "0  subj_01   F               56.63               60.35               62.62   \n",
       "1  subj_02   M               49.07               52.58               55.05   \n",
       "2  subj_03   M               74.61               78.14               80.59   \n",
       "3  subj_04   M               56.23               59.78               62.68   \n",
       "4  subj_05   M               63.22               67.00               69.53   \n",
       "\n",
       "   Left-Lateral-Ventricle_W1  Left-Lateral-Ventricle_W2  \\\n",
       "0                     5321.4                     5063.6   \n",
       "1                    11038.6                    11912.2   \n",
       "2                    29718.4                    32265.1   \n",
       "3                    21830.1                    23933.6   \n",
       "4                    17205.1                    16970.1   \n",
       "\n",
       "   Left-Lateral-Ventricle_W3  Right-Lateral-Ventricle_W1  \\\n",
       "0                     5368.3                      6855.2   \n",
       "1                    12313.3                     10611.6   \n",
       "2                    35887.0                     34241.0   \n",
       "3                    26164.2                     15243.9   \n",
       "4                    15858.1                     13962.1   \n",
       "\n",
       "   Right-Lateral-Ventricle_W2  Right-Lateral-Ventricle_W3  \\\n",
       "0                      6729.2                      7233.2   \n",
       "1                     11774.8                     12070.5   \n",
       "2                     37155.2                     41221.4   \n",
       "3                     16505.1                     18509.1   \n",
       "4                     13755.5                     13143.9   \n",
       "\n",
       "   EstimatedTotalIntraCranialVol_W3  Stroop_3_R_W3  \n",
       "0                      1.232679e+06           66.0  \n",
       "1                      1.464692e+06           85.0  \n",
       "2                      1.385841e+06           71.0  \n",
       "3                      1.529445e+06           41.0  \n",
       "4                      1.371460e+06           62.0  "
      ]
     },
     "execution_count": 148,
     "metadata": {},
     "output_type": "execute_result"
    }
   ],
   "source": [
    "df.head()"
   ]
  },
  {
   "cell_type": "code",
   "execution_count": 149,
   "metadata": {},
   "outputs": [
    {
     "data": {
      "image/png": "[encoded data removed]",
      "text/plain": [
       "<Figure size 432x288 with 1 Axes>"
      ]
     },
     "metadata": {},
     "output_type": "display_data"
    }
   ],
   "source": [
    "df['AcquisitionYearsW1'].hist()\n",
    "plt.title(\"Histogram of age at inclusion\")\n",
    "plt.xlabel(\"Age\")\n",
    "plt.show()"
   ]
  },
  {
   "cell_type": "markdown",
   "metadata": {},
   "source": [
    "## `scikit-learn`: machine learning"
   ]
  },
  {
   "cell_type": "code",
   "execution_count": 150,
   "metadata": {},
   "outputs": [],
   "source": [
    "from sklearn import datasets\n",
    "from sklearn.model_selection import train_test_split\n",
    "from sklearn.ensemble import RandomForestClassifier\n",
    "from sklearn.metrics import accuracy_score"
   ]
  },
  {
   "cell_type": "code",
   "execution_count": 151,
   "metadata": {},
   "outputs": [],
   "source": [
    "data = datasets.load_breast_cancer()"
   ]
  },
  {
   "cell_type": "code",
   "execution_count": 152,
   "metadata": {},
   "outputs": [],
   "source": [
    "X = data['data']\n",
    "y = data['target']\n",
    "features = data['feature_names']\n",
    "labels = data['target_names']"
   ]
  },
  {
   "cell_type": "code",
   "execution_count": 153,
   "metadata": {},
   "outputs": [
    {
     "name": "stdout",
     "output_type": "stream",
     "text": [
      "['mean radius' 'mean texture' 'mean perimeter' 'mean area'\n",
      " 'mean smoothness' 'mean compactness' 'mean concavity'\n",
      " 'mean concave points' 'mean symmetry' 'mean fractal dimension'\n",
      " 'radius error' 'texture error' 'perimeter error' 'area error'\n",
      " 'smoothness error' 'compactness error' 'concavity error'\n",
      " 'concave points error' 'symmetry error' 'fractal dimension error'\n",
      " 'worst radius' 'worst texture' 'worst perimeter' 'worst area'\n",
      " 'worst smoothness' 'worst compactness' 'worst concavity'\n",
      " 'worst concave points' 'worst symmetry' 'worst fractal dimension']\n"
     ]
    }
   ],
   "source": [
    "print(features)"
   ]
  },
  {
   "cell_type": "code",
   "execution_count": 154,
   "metadata": {},
   "outputs": [
    {
     "name": "stdout",
     "output_type": "stream",
     "text": [
      "['malignant' 'benign']\n"
     ]
    }
   ],
   "source": [
    "print(labels)"
   ]
  },
  {
   "cell_type": "code",
   "execution_count": 155,
   "metadata": {},
   "outputs": [],
   "source": [
    "X_train, X_test, y_train, y_test = train_test_split(X, y)"
   ]
  },
  {
   "cell_type": "code",
   "execution_count": 156,
   "metadata": {},
   "outputs": [],
   "source": [
    "rf = RandomForestClassifier(n_estimators=100)"
   ]
  },
  {
   "cell_type": "code",
   "execution_count": 157,
   "metadata": {},
   "outputs": [
    {
     "data": {
      "text/plain": [
       "RandomForestClassifier(bootstrap=True, class_weight=None, criterion='gini',\n",
       "            max_depth=None, max_features='auto', max_leaf_nodes=None,\n",
       "            min_impurity_decrease=0.0, min_impurity_split=None,\n",
       "            min_samples_leaf=1, min_samples_split=2,\n",
       "            min_weight_fraction_leaf=0.0, n_estimators=100, n_jobs=None,\n",
       "            oob_score=False, random_state=None, verbose=0,\n",
       "            warm_start=False)"
      ]
     },
     "execution_count": 157,
     "metadata": {},
     "output_type": "execute_result"
    }
   ],
   "source": [
    "rf.fit(X_train, y_train)"
   ]
  },
  {
   "cell_type": "code",
   "execution_count": 158,
   "metadata": {},
   "outputs": [],
   "source": [
    "predictions = rf.predict(X_test)"
   ]
  },
  {
   "cell_type": "code",
   "execution_count": 159,
   "metadata": {},
   "outputs": [
    {
     "data": {
      "text/plain": [
       "93.00699300699301"
      ]
     },
     "execution_count": 159,
     "metadata": {},
     "output_type": "execute_result"
    }
   ],
   "source": [
    "accuracy_score(y_test, predictions) * 100"
   ]
  },
  {
   "cell_type": "markdown",
   "metadata": {},
   "source": [
    "## `rpy2`, `lmer` and `ggplot`: Analysis in R"
   ]
  },
  {
   "cell_type": "code",
   "execution_count": 160,
   "metadata": {},
   "outputs": [],
   "source": [
    "%%R\n",
    "\n",
    "# library(foreign)\n",
    "\n",
    "Rdf <- read.csv(file=\"../data/lvv_ri_data.csv\",head=TRUE, sep=\",\")"
   ]
  },
  {
   "cell_type": "code",
   "execution_count": 161,
   "metadata": {},
   "outputs": [
    {
     "data": {
      "text/plain": [
       "array(['Subject', 'Sex', 'AcquisitionYearsW1', 'AcquisitionYearsW2',\n",
       "       'AcquisitionYearsW3', 'Left.Lateral.Ventricle_W1',\n",
       "       'Left.Lateral.Ventricle_W2', 'Left.Lateral.Ventricle_W3',\n",
       "       'Right.Lateral.Ventricle_W1', 'Right.Lateral.Ventricle_W2',\n",
       "       'Right.Lateral.Ventricle_W3', 'EstimatedTotalIntraCranialVol_W3',\n",
       "       'Stroop_3_R_W3'], dtype='<U32')"
      ]
     },
     "execution_count": 161,
     "metadata": {},
     "output_type": "execute_result"
    }
   ],
   "source": [
    "%R names(Rdf)"
   ]
  },
  {
   "cell_type": "code",
   "execution_count": 162,
   "metadata": {},
   "outputs": [
    {
     "data": {
      "text/plain": [
       "array([74, 13], dtype=int32)"
      ]
     },
     "execution_count": 162,
     "metadata": {},
     "output_type": "execute_result"
    }
   ],
   "source": [
    "%R dim(Rdf)"
   ]
  },
  {
   "cell_type": "code",
   "execution_count": 183,
   "metadata": {},
   "outputs": [
    {
     "data": {
      "text/plain": [
       "array([ 66.,  85.,  71.,  41.,  62.,  89.,  46.,  57.,  48.,  50.,  59.,\n",
       "        56.,  40.,  51.,  57.,  54.,  52.,  78.,  54.,  53.,  47.,  46.,\n",
       "        45.,  41.,  57.,  71.,  73.,  41.,  57.,  56., 102.,  78.,  68.,\n",
       "        60.,  48.,  39.,  41.,  55.,  55.,  57.,  42.,  44.,  55.,  51.,\n",
       "        51.,  50.,  44.,  66.,  65.,  63.,  59.,  60.,  54.,  41.,  94.,\n",
       "        78.,  49.,  80.,  51.,  42.,  88.,  58.,  83.,  60.,  51.,  45.,\n",
       "        44.,  45.,  50.,  35.,  42.,  42.,  55.,  74.])"
      ]
     },
     "execution_count": 183,
     "metadata": {},
     "output_type": "execute_result"
    }
   ],
   "source": [
    "%R Rdf$Stroop_3_R_W3"
   ]
  },
  {
   "cell_type": "code",
   "execution_count": 184,
   "metadata": {},
   "outputs": [
    {
     "data": {
      "text/plain": [
       "array([14994.0972973])"
      ]
     },
     "execution_count": 184,
     "metadata": {},
     "output_type": "execute_result"
    }
   ],
   "source": [
    "%R mean(Rdf$Left.Lateral.Ventricle_W1)"
   ]
  },
  {
   "cell_type": "code",
   "execution_count": 185,
   "metadata": {},
   "outputs": [
    {
     "data": {
      "text/plain": [
       "array([8584.6772172])"
      ]
     },
     "execution_count": 185,
     "metadata": {},
     "output_type": "execute_result"
    }
   ],
   "source": [
    "%R sd(Rdf$Left.Lateral.Ventricle_W1)"
   ]
  },
  {
   "cell_type": "code",
   "execution_count": 186,
   "metadata": {},
   "outputs": [
    {
     "data": {
      "text/plain": [
       "array([46.66])"
      ]
     },
     "execution_count": 186,
     "metadata": {},
     "output_type": "execute_result"
    }
   ],
   "source": [
    "%R min(Rdf$AcquisitionYearsW1)"
   ]
  },
  {
   "cell_type": "code",
   "execution_count": 187,
   "metadata": {},
   "outputs": [
    {
     "data": {
      "text/plain": [
       "array([77.63])"
      ]
     },
     "execution_count": 187,
     "metadata": {},
     "output_type": "execute_result"
    }
   ],
   "source": [
    "%R max(Rdf$AcquisitionYearsW1)"
   ]
  },
  {
   "cell_type": "code",
   "execution_count": 173,
   "metadata": {},
   "outputs": [],
   "source": [
    "%%R\n",
    "\n",
    "RdfS <- na.omit(Rdf, select=c(Subject, Stroop_3_R_W3, Left.Lateral.Ventricle_W1, Left.Lateral.Ventricle_W2, Left.Lateral.Ventricle_W3))\n",
    "RfitLVV <- lm(Stroop_3_R_W3 ~ Left.Lateral.Ventricle_W1 + Left.Lateral.Ventricle_W2 + Left.Lateral.Ventricle_W3, data=RdfS)"
   ]
  },
  {
   "cell_type": "code",
   "execution_count": 174,
   "metadata": {},
   "outputs": [
    {
     "data": {
      "text/plain": [
       "array(['Subject', 'Sex', 'AcquisitionYearsW1', 'AcquisitionYearsW2',\n",
       "       'AcquisitionYearsW3', 'Left.Lateral.Ventricle_W1',\n",
       "       'Left.Lateral.Ventricle_W2', 'Left.Lateral.Ventricle_W3',\n",
       "       'Right.Lateral.Ventricle_W1', 'Right.Lateral.Ventricle_W2',\n",
       "       'Right.Lateral.Ventricle_W3', 'EstimatedTotalIntraCranialVol_W3',\n",
       "       'Stroop_3_R_W3'], dtype='<U32')"
      ]
     },
     "execution_count": 174,
     "metadata": {},
     "output_type": "execute_result"
    }
   ],
   "source": [
    "%R names(RdfSdf)"
   ]
  },
  {
   "cell_type": "code",
   "execution_count": 176,
   "metadata": {},
   "outputs": [
    {
     "data": {
      "text/html": [
       "\n",
       "    <span>ListVector with 6 elements.</span>\n",
       "    <table>\n",
       "      <tbody>\n",
       "      \n",
       "      <tr>\n",
       "      <th>\n",
       "        coefficients\n",
       "      </th>\n",
       "      <td>\n",
       "        \n",
       "    <span>FloatVector with 4 elements.</span>\n",
       "    <table>\n",
       "      <tbody>\n",
       "      <tr>\n",
       "      \n",
       "      <td>\n",
       "        52.349909\n",
       "      </td>\n",
       "      \n",
       "      <td>\n",
       "        0.001122\n",
       "      </td>\n",
       "      \n",
       "      <td>\n",
       "        -0.007949\n",
       "      </td>\n",
       "      \n",
       "      <td>\n",
       "        0.006735\n",
       "      </td>\n",
       "      \n",
       "      </tr>\n",
       "      </tbody>\n",
       "    </table>\n",
       "    \n",
       "      </td>\n",
       "      </tr>\n",
       "      \n",
       "      <tr>\n",
       "      <th>\n",
       "        residuals\n",
       "      </th>\n",
       "      <td>\n",
       "        \n",
       "    <span>FloatVector with 74 elements.</span>\n",
       "    <table>\n",
       "      <tbody>\n",
       "      <tr>\n",
       "      \n",
       "      <td>\n",
       "        11.773199\n",
       "      </td>\n",
       "      \n",
       "      <td>\n",
       "        32.021743\n",
       "      </td>\n",
       "      \n",
       "      <td>\n",
       "        0.073029\n",
       "      </td>\n",
       "      \n",
       "      <td>\n",
       "        -21.817724\n",
       "      </td>\n",
       "      \n",
       "      <td>\n",
       "        ...\n",
       "      </td>\n",
       "      \n",
       "      <td>\n",
       "        -11.487475\n",
       "      </td>\n",
       "      \n",
       "      <td>\n",
       "        -12.203326\n",
       "      </td>\n",
       "      \n",
       "      <td>\n",
       "        -1.590332\n",
       "      </td>\n",
       "      \n",
       "      <td>\n",
       "        11.706603\n",
       "      </td>\n",
       "      \n",
       "      </tr>\n",
       "      </tbody>\n",
       "    </table>\n",
       "    \n",
       "      </td>\n",
       "      </tr>\n",
       "      \n",
       "      <tr>\n",
       "      <th>\n",
       "        effects\n",
       "      </th>\n",
       "      <td>\n",
       "        \n",
       "    <span>FloatVector with 74 elements.</span>\n",
       "    <table>\n",
       "      <tbody>\n",
       "      <tr>\n",
       "      \n",
       "      <td>\n",
       "        -490.216293\n",
       "      </td>\n",
       "      \n",
       "      <td>\n",
       "        23.385087\n",
       "      </td>\n",
       "      \n",
       "      <td>\n",
       "        4.041654\n",
       "      </td>\n",
       "      \n",
       "      <td>\n",
       "        -52.526447\n",
       "      </td>\n",
       "      \n",
       "      <td>\n",
       "        ...\n",
       "      </td>\n",
       "      \n",
       "      <td>\n",
       "        -14.886548\n",
       "      </td>\n",
       "      \n",
       "      <td>\n",
       "        -15.719566\n",
       "      </td>\n",
       "      \n",
       "      <td>\n",
       "        -3.260121\n",
       "      </td>\n",
       "      \n",
       "      <td>\n",
       "        12.650482\n",
       "      </td>\n",
       "      \n",
       "      </tr>\n",
       "      </tbody>\n",
       "    </table>\n",
       "    \n",
       "      </td>\n",
       "      </tr>\n",
       "      \n",
       "      <tr>\n",
       "      <th>\n",
       "        rank\n",
       "      </th>\n",
       "      <td>\n",
       "        \n",
       "    <span>IntVector with 1 elements.</span>\n",
       "    <table>\n",
       "      <tbody>\n",
       "      <tr>\n",
       "      \n",
       "      <td>\n",
       "        4\n",
       "      </td>\n",
       "      \n",
       "      </tr>\n",
       "      </tbody>\n",
       "    </table>\n",
       "    \n",
       "      </td>\n",
       "      </tr>\n",
       "      \n",
       "      <tr>\n",
       "      <th>\n",
       "        fitted.values\n",
       "      </th>\n",
       "      <td>\n",
       "        \n",
       "    <span>FloatVector with 74 elements.</span>\n",
       "    <table>\n",
       "      <tbody>\n",
       "      <tr>\n",
       "      \n",
       "      <td>\n",
       "        54.226801\n",
       "      </td>\n",
       "      \n",
       "      <td>\n",
       "        52.978257\n",
       "      </td>\n",
       "      \n",
       "      <td>\n",
       "        70.926971\n",
       "      </td>\n",
       "      \n",
       "      <td>\n",
       "        62.817724\n",
       "      </td>\n",
       "      \n",
       "      <td>\n",
       "        ...\n",
       "      </td>\n",
       "      \n",
       "      <td>\n",
       "        53.487475\n",
       "      </td>\n",
       "      \n",
       "      <td>\n",
       "        54.203326\n",
       "      </td>\n",
       "      \n",
       "      <td>\n",
       "        56.590332\n",
       "      </td>\n",
       "      \n",
       "      <td>\n",
       "        62.293397\n",
       "      </td>\n",
       "      \n",
       "      </tr>\n",
       "      </tbody>\n",
       "    </table>\n",
       "    \n",
       "      </td>\n",
       "      </tr>\n",
       "      \n",
       "      <tr>\n",
       "      <th>\n",
       "        assign\n",
       "      </th>\n",
       "      <td>\n",
       "        \n",
       "    <span>IntVector with 4 elements.</span>\n",
       "    <table>\n",
       "      <tbody>\n",
       "      <tr>\n",
       "      \n",
       "      <td>\n",
       "        0\n",
       "      </td>\n",
       "      \n",
       "      <td>\n",
       "        1\n",
       "      </td>\n",
       "      \n",
       "      <td>\n",
       "        2\n",
       "      </td>\n",
       "      \n",
       "      <td>\n",
       "        3\n",
       "      </td>\n",
       "      \n",
       "      </tr>\n",
       "      </tbody>\n",
       "    </table>\n",
       "    \n",
       "      </td>\n",
       "      </tr>\n",
       "      \n",
       "      </tbody>\n",
       "    </table>\n",
       "    "
      ],
      "text/plain": [
       "R object with classes: ('list',) mapped to:\n",
       "<ListVector - Python:0x000002BD58573448 / R:0x000002BD624738A8>\n",
       "[Float..., Float..., Float..., IntVe..., Float..., IntVe...]\n",
       "  coefficients: <class 'rpy2.robjects.vectors.FloatVector'>\n",
       "  R object with classes: ('numeric',) mapped to:\n",
       "<FloatVector - Python:0x000002BD56F2DB88 / R:0x000002BD6363A268>\n",
       "[52.349909, 0.001122, -0.007949, 0.006735]\n",
       "  residuals: <class 'rpy2.robjects.vectors.FloatVector'>\n",
       "  R object with classes: ('numeric',) mapped to:\n",
       "<FloatVector - Python:0x000002BD5DF70708 / R:0x000002BD620D5E38>\n",
       "[11.773199, 32.021743, 0.073029, -21.817724, ..., -11.487475, -12.203326, -1.590332, 11.706603]\n",
       "  effects: <class 'rpy2.robjects.vectors.FloatVector'>\n",
       "  R object with classes: ('numeric',) mapped to:\n",
       "<FloatVector - Python:0x000002BD5855BFC8 / R:0x000002BD620D60B8>\n",
       "[-490.216293, 23.385087, 4.041654, -52.526447, ..., -14.886548, -15.719566, -3.260121, 12.650482]\n",
       "  rank: <class 'rpy2.robjects.vectors.IntVector'>\n",
       "  R object with classes: ('integer',) mapped to:\n",
       "<IntVector - Python:0x000002BD5855B8C8 / R:0x000002BD5C1DAE50>\n",
       "[4]\n",
       "  fitted.values: <class 'rpy2.robjects.vectors.FloatVector'>\n",
       "  R object with classes: ('numeric',) mapped to:\n",
       "<FloatVector - Python:0x000002BD5855BB08 / R:0x000002BD5C7D2120>\n",
       "[54.226801, 52.978257, 70.926971, 62.817724, ..., 53.487475, 54.203326, 56.590332, 62.293397]\n",
       "  assign: <class 'rpy2.robjects.vectors.IntVector'>\n",
       "  R object with classes: ('integer',) mapped to:\n",
       "<IntVector - Python:0x000002BD609FC688 / R:0x000002BD5CDD5338>\n",
       "[0, 1, 2, 3]"
      ]
     },
     "execution_count": 176,
     "metadata": {},
     "output_type": "execute_result"
    }
   ],
   "source": [
    "%R head(RfitLVV)"
   ]
  },
  {
   "cell_type": "code",
   "execution_count": 195,
   "metadata": {},
   "outputs": [
    {
     "name": "stdout",
     "output_type": "stream",
     "text": [
      "              (Intercept) Left.Lateral.Ventricle_W1 Left.Lateral.Ventricle_W2 \n",
      "\r\n",
      "             52.349908701               0.001121977              -0.007949177 \n",
      "\r\n",
      "Left.Lateral.Ventricle_W3 \n",
      "\r\n",
      "              0.006735438 \n",
      "\n",
      "[1] 4\n",
      "\n"
     ]
    }
   ],
   "source": [
    "from rpy2.robjects import r, pandas2ri\n",
    "pandas2ri.activate()\n",
    "\n",
    "pd_RfitLVV = r['RfitLVV']\n",
    "\n",
    "temp = pandas2ri.ri2py(pd_RfitLVV)\n",
    "print(temp[0])\n",
    "#print(temp[1])\n",
    "#print(temp[2])\n",
    "print(temp[3])\n",
    "#print(temp[4])\n",
    "#print(temp[5])\n",
    "#print(temp[6])\n",
    "#print(temp[7])\n",
    "#print(temp[8])"
   ]
  },
  {
   "cell_type": "code",
   "execution_count": 197,
   "metadata": {},
   "outputs": [
    {
     "name": "stdout",
     "output_type": "stream",
     "text": [
      " [1] \"coefficients\"  \"residuals\"     \"effects\"       \"rank\"         \n",
      "\r\n",
      " [5] \"fitted.values\" \"assign\"        \"qr\"            \"df.residual\"  \n",
      "\r\n",
      " [9] \"xlevels\"       \"call\"          \"terms\"         \"model\"        \n",
      "\n",
      "['coefficients' 'residuals' 'effects' 'rank' 'fitted.values' 'assign' 'qr'\n",
      " 'df.residual' 'xlevels' 'call' 'terms' 'model']\n"
     ]
    }
   ],
   "source": [
    "print(pd_RfitLVV.names)\n",
    "print(pandas2ri.ri2py(pd_RfitLVV.names))"
   ]
  },
  {
   "cell_type": "code",
   "execution_count": 179,
   "metadata": {},
   "outputs": [
    {
     "data": {
      "text/html": [
       "\n",
       "    <span>ListVector with 11 elements.</span>\n",
       "    <table>\n",
       "      <tbody>\n",
       "      \n",
       "      <tr>\n",
       "      <th>\n",
       "        call\n",
       "      </th>\n",
       "      <td>\n",
       "        \n",
       "    <span>Vector with 3 elements.</span>\n",
       "    <table>\n",
       "      <tbody>\n",
       "      <tr>\n",
       "      \n",
       "      <td>\n",
       "        RObject\n",
       "      </td>\n",
       "      \n",
       "      <td>\n",
       "        Vector\n",
       "      </td>\n",
       "      \n",
       "      <td>\n",
       "        RObject\n",
       "      </td>\n",
       "      \n",
       "      </tr>\n",
       "      </tbody>\n",
       "    </table>\n",
       "    \n",
       "      </td>\n",
       "      </tr>\n",
       "      \n",
       "      <tr>\n",
       "      <th>\n",
       "        terms\n",
       "      </th>\n",
       "      <td>\n",
       "        Stroop_3_R_W3 ~ Left.Lateral.Ventricle_W1 + Left.Lateral.Ventricle_W2 + \n",
       "\r\n",
       "    Left.Lateral.Ventricle_W3\n",
       "\r\n",
       "attr(,\"variables\")\n",
       "\r\n",
       "list(Stroop_3_R_W3, Left.Lateral.Ventricle_W1, Left.Lateral.Ventricle_W2, \n",
       "\r\n",
       "    Left.Lateral.Ventricle_W3)\n",
       "\r\n",
       "attr(,\"factors\")\n",
       "\r\n",
       "                          Left.Lateral.Ventricle_W1 Left.Lateral.Ventricle_W2\n",
       "\r\n",
       "Stroop_3_R_W3                                     0                         0\n",
       "\r\n",
       "Left.Lateral.Ventricle_W1                         1                         0\n",
       "\r\n",
       "Left.Lateral.Ventricle_W2                         0                         1\n",
       "\r\n",
       "Left.Lateral.Ventricle_W3                         0                         0\n",
       "\r\n",
       "                          Left.Lateral.Ventricle_W3\n",
       "\r\n",
       "Stroop_3_R_W3                                     0\n",
       "\r\n",
       "Left.Lateral.Ventricle_W1                         0\n",
       "\r\n",
       "Left.Lateral.Ventricle_W2                         0\n",
       "\r\n",
       "Left.Lateral.Ventricle_W3                         1\n",
       "\r\n",
       "attr(,\"term.labels\")\n",
       "\r\n",
       "[1] \"Left.Lateral.Ventricle_W1\" \"Left.Lateral.Ventricle_W2\"\n",
       "\r\n",
       "[3] \"Left.Lateral.Ventricle_W3\"\n",
       "\r\n",
       "attr(,\"order\")\n",
       "\r\n",
       "[1] 1 1 1\n",
       "\r\n",
       "attr(,\"intercept\")\n",
       "\r\n",
       "[1] 1\n",
       "\r\n",
       "attr(,\"response\")\n",
       "\r\n",
       "[1] 1\n",
       "\r\n",
       "attr(,\".Environment\")\n",
       "\r\n",
       "<environment: R_GlobalEnv>\n",
       "\r\n",
       "attr(,\"predvars\")\n",
       "\r\n",
       "list(Stroop_3_R_W3, Left.Lateral.Ventricle_W1, Left.Lateral.Ventricle_W2, \n",
       "\r\n",
       "    Left.Lateral.Ventricle_W3)\n",
       "\r\n",
       "attr(,\"dataClasses\")\n",
       "\r\n",
       "            Stroop_3_R_W3 Left.Lateral.Ventricle_W1 Left.Lateral.Ventricle_W2 \n",
       "\r\n",
       "                \"numeric\"                 \"numeric\"                 \"numeric\" \n",
       "\r\n",
       "Left.Lateral.Ventricle_W3 \n",
       "\r\n",
       "                \"numeric\" \n",
       "\n",
       "      </td>\n",
       "      </tr>\n",
       "      \n",
       "      <tr>\n",
       "      <th>\n",
       "        residuals\n",
       "      </th>\n",
       "      <td>\n",
       "        \n",
       "    <span>FloatVector with 74 elements.</span>\n",
       "    <table>\n",
       "      <tbody>\n",
       "      <tr>\n",
       "      \n",
       "      <td>\n",
       "        11.773199\n",
       "      </td>\n",
       "      \n",
       "      <td>\n",
       "        32.021743\n",
       "      </td>\n",
       "      \n",
       "      <td>\n",
       "        0.073029\n",
       "      </td>\n",
       "      \n",
       "      <td>\n",
       "        -21.817724\n",
       "      </td>\n",
       "      \n",
       "      <td>\n",
       "        ...\n",
       "      </td>\n",
       "      \n",
       "      <td>\n",
       "        -11.487475\n",
       "      </td>\n",
       "      \n",
       "      <td>\n",
       "        -12.203326\n",
       "      </td>\n",
       "      \n",
       "      <td>\n",
       "        -1.590332\n",
       "      </td>\n",
       "      \n",
       "      <td>\n",
       "        11.706603\n",
       "      </td>\n",
       "      \n",
       "      </tr>\n",
       "      </tbody>\n",
       "    </table>\n",
       "    \n",
       "      </td>\n",
       "      </tr>\n",
       "      \n",
       "      <tr>\n",
       "      <th>\n",
       "        ...\n",
       "      </th>\n",
       "      <td>\n",
       "        ...\n",
       "      </td>\n",
       "      </tr>\n",
       "      \n",
       "      <tr>\n",
       "      <th>\n",
       "        adj.r.squared\n",
       "      </th>\n",
       "      <td>\n",
       "        \n",
       "    <span>FloatVector with 1 elements.</span>\n",
       "    <table>\n",
       "      <tbody>\n",
       "      <tr>\n",
       "      \n",
       "      <td>\n",
       "        0.184048\n",
       "      </td>\n",
       "      \n",
       "      </tr>\n",
       "      </tbody>\n",
       "    </table>\n",
       "    \n",
       "      </td>\n",
       "      </tr>\n",
       "      \n",
       "      <tr>\n",
       "      <th>\n",
       "        fstatistic\n",
       "      </th>\n",
       "      <td>\n",
       "        \n",
       "    <span>FloatVector with 3 elements.</span>\n",
       "    <table>\n",
       "      <tbody>\n",
       "      <tr>\n",
       "      \n",
       "      <td>\n",
       "        6.488669\n",
       "      </td>\n",
       "      \n",
       "      <td>\n",
       "        3.000000\n",
       "      </td>\n",
       "      \n",
       "      <td>\n",
       "        70.000000\n",
       "      </td>\n",
       "      \n",
       "      </tr>\n",
       "      </tbody>\n",
       "    </table>\n",
       "    \n",
       "      </td>\n",
       "      </tr>\n",
       "      \n",
       "      <tr>\n",
       "      <th>\n",
       "        cov.unscaled\n",
       "      </th>\n",
       "      <td>\n",
       "        \n",
       "    <span>Matrix with 16 elements.</span>\n",
       "    <table>\n",
       "      <tbody>\n",
       "      <tr>\n",
       "      \n",
       "      <td>\n",
       "        0.055522\n",
       "      </td>\n",
       "      \n",
       "      <td>\n",
       "        -0.000004\n",
       "      </td>\n",
       "      \n",
       "      <td>\n",
       "        0.000001\n",
       "      </td>\n",
       "      \n",
       "      <td>\n",
       "        0.000000\n",
       "      </td>\n",
       "      \n",
       "      <td>\n",
       "        ...\n",
       "      </td>\n",
       "      \n",
       "      <td>\n",
       "        0.000000\n",
       "      </td>\n",
       "      \n",
       "      <td>\n",
       "        0.000000\n",
       "      </td>\n",
       "      \n",
       "      <td>\n",
       "        -0.000000\n",
       "      </td>\n",
       "      \n",
       "      <td>\n",
       "        0.000000\n",
       "      </td>\n",
       "      \n",
       "      </tr>\n",
       "      </tbody>\n",
       "    </table>\n",
       "    \n",
       "      </td>\n",
       "      </tr>\n",
       "      \n",
       "      </tbody>\n",
       "    </table>\n",
       "    "
      ],
      "text/plain": [
       "R object with classes: ('summary.lm',) mapped to:\n",
       "<ListVector - Python:0x000002BD57109248 / R:0x000002BD5C9EDCD8>\n",
       "[Vector, Formula, FloatVector, Matrix, ..., FloatVector, FloatVector, FloatVector, Matrix]\n",
       "  call: <class 'rpy2.robjects.vectors.Vector'>\n",
       "  R object with classes: ('lm',) mapped to:\n",
       "<Vector - Python:0x000002BD6067F2C8 / R:0x000002BD5C3DCE20>\n",
       "[RObject, Vector, RObject]\n",
       "  terms: <class 'rpy2.robjects.Formula'>\n",
       "  R object with classes: ('terms', 'formula') mapped to:\n",
       "<Formula - Python:0x000002BD60665E08 / R:0x000002BD5C353728>\n",
       "  residuals: <class 'rpy2.robjects.vectors.FloatVector'>\n",
       "  R object with classes: ('numeric',) mapped to:\n",
       "<FloatVector - Python:0x000002BD585732C8 / R:0x000002BD620D5E38>\n",
       "[11.773199, 32.021743, 0.073029, -21.817724, ..., -11.487475, -12.203326, -1.590332, 11.706603]\n",
       "  coefficients: <class 'rpy2.robjects.vectors.Matrix'>\n",
       "  R object with classes: ('matrix',) mapped to:\n",
       "<Matrix - Python:0x000002BD609DFA08 / R:0x000002BD5C9ED670>\n",
       "[52.349909, 0.001122, -0.007949, 0.006735, ..., 0.000000, 0.426450, 0.001510, 0.000144]\n",
       "...\n",
       "  sigma: <class 'rpy2.robjects.vectors.FloatVector'>\n",
       "  R object with classes: ('numeric',) mapped to:\n",
       "<FloatVector - Python:0x000002BD5DF707C8 / R:0x000002BD5C6C4DD0>\n",
       "[0.217580]\n",
       "  df: <class 'rpy2.robjects.vectors.FloatVector'>\n",
       "  R object with classes: ('numeric',) mapped to:\n",
       "<FloatVector - Python:0x000002BD5DF70788 / R:0x000002BD5C6C4DA0>\n",
       "[0.184048]\n",
       "  r.squared: <class 'rpy2.robjects.vectors.FloatVector'>\n",
       "  R object with classes: ('numeric',) mapped to:\n",
       "<FloatVector - Python:0x000002BD58562748 / R:0x000002BD5D1C46E8>\n",
       "[6.488669, 3.000000, 70.000000]\n",
       "  adj.r.squared: <class 'rpy2.robjects.vectors.Matrix'>\n",
       "  R object with classes: ('matrix',) mapped to:\n",
       "<Matrix - Python:0x000002BD58562648 / R:0x000002BD5C9EEA78>\n",
       "[0.055522, -0.000004, 0.000001, 0.000000, ..., 0.000000, 0.000000, -0.000000, 0.000000]"
      ]
     },
     "execution_count": 179,
     "metadata": {},
     "output_type": "execute_result"
    }
   ],
   "source": [
    "%R summary(RfitLVV)"
   ]
  },
  {
   "cell_type": "code",
   "execution_count": 181,
   "metadata": {},
   "outputs": [
    {
     "data": {
      "text/html": [
       "<div>\n",
       "<style scoped>\n",
       "    .dataframe tbody tr th:only-of-type {\n",
       "        vertical-align: middle;\n",
       "    }\n",
       "\n",
       "    .dataframe tbody tr th {\n",
       "        vertical-align: top;\n",
       "    }\n",
       "\n",
       "    .dataframe thead th {\n",
       "        text-align: right;\n",
       "    }\n",
       "</style>\n",
       "<table border=\"1\" class=\"dataframe\">\n",
       "  <thead>\n",
       "    <tr style=\"text-align: right;\">\n",
       "      <th></th>\n",
       "      <th>Df</th>\n",
       "      <th>Sum Sq</th>\n",
       "      <th>Mean Sq</th>\n",
       "      <th>F value</th>\n",
       "      <th>Pr(&gt;F)</th>\n",
       "    </tr>\n",
       "  </thead>\n",
       "  <tbody>\n",
       "    <tr>\n",
       "      <th>0</th>\n",
       "      <td>1</td>\n",
       "      <td>546.862290</td>\n",
       "      <td>546.862290</td>\n",
       "      <td>3.204246</td>\n",
       "      <td>0.077772</td>\n",
       "    </tr>\n",
       "    <tr>\n",
       "      <th>1</th>\n",
       "      <td>1</td>\n",
       "      <td>16.334967</td>\n",
       "      <td>16.334967</td>\n",
       "      <td>0.095712</td>\n",
       "      <td>0.757956</td>\n",
       "    </tr>\n",
       "    <tr>\n",
       "      <th>2</th>\n",
       "      <td>1</td>\n",
       "      <td>2759.027640</td>\n",
       "      <td>2759.027640</td>\n",
       "      <td>16.166049</td>\n",
       "      <td>0.000144</td>\n",
       "    </tr>\n",
       "    <tr>\n",
       "      <th>3</th>\n",
       "      <td>70</td>\n",
       "      <td>11946.761588</td>\n",
       "      <td>170.668023</td>\n",
       "      <td>NaN</td>\n",
       "      <td>NaN</td>\n",
       "    </tr>\n",
       "  </tbody>\n",
       "</table>\n",
       "</div>"
      ],
      "text/plain": [
       "   Df        Sum Sq      Mean Sq    F value    Pr(>F)\n",
       "0   1    546.862290   546.862290   3.204246  0.077772\n",
       "1   1     16.334967    16.334967   0.095712  0.757956\n",
       "2   1   2759.027640  2759.027640  16.166049  0.000144\n",
       "3  70  11946.761588   170.668023        NaN       NaN"
      ]
     },
     "execution_count": 181,
     "metadata": {},
     "output_type": "execute_result"
    }
   ],
   "source": [
    "%R anova(RfitLVV)"
   ]
  },
  {
   "cell_type": "code",
   "execution_count": 91,
   "metadata": {},
   "outputs": [
    {
     "data": {
      "image/png": "[encoded data removed]"
     },
     "metadata": {},
     "output_type": "display_data"
    }
   ],
   "source": [
    "%R plot(RfitLVV$resid)"
   ]
  },
  {
   "cell_type": "code",
   "execution_count": 92,
   "metadata": {},
   "outputs": [
    {
     "data": {
      "image/png": "[encoded data removed]"
     },
     "metadata": {},
     "output_type": "display_data"
    },
    {
     "data": {
      "text/html": [
       "\n",
       "    <span>ListVector with 6 elements.</span>\n",
       "    <table>\n",
       "      <tbody>\n",
       "      \n",
       "      <tr>\n",
       "      <th>\n",
       "        breaks\n",
       "      </th>\n",
       "      <td>\n",
       "        \n",
       "    <span>FloatVector with 8 elements.</span>\n",
       "    <table>\n",
       "      <tbody>\n",
       "      <tr>\n",
       "      \n",
       "      <td>\n",
       "        -30.000000\n",
       "      </td>\n",
       "      \n",
       "      <td>\n",
       "        -20.000000\n",
       "      </td>\n",
       "      \n",
       "      <td>\n",
       "        -10.000000\n",
       "      </td>\n",
       "      \n",
       "      <td>\n",
       "        0.000000\n",
       "      </td>\n",
       "      \n",
       "      <td>\n",
       "        10.000000\n",
       "      </td>\n",
       "      \n",
       "      <td>\n",
       "        20.000000\n",
       "      </td>\n",
       "      \n",
       "      <td>\n",
       "        30.000000\n",
       "      </td>\n",
       "      \n",
       "      <td>\n",
       "        40.000000\n",
       "      </td>\n",
       "      \n",
       "      </tr>\n",
       "      </tbody>\n",
       "    </table>\n",
       "    \n",
       "      </td>\n",
       "      </tr>\n",
       "      \n",
       "      <tr>\n",
       "      <th>\n",
       "        counts\n",
       "      </th>\n",
       "      <td>\n",
       "        \n",
       "    <span>IntVector with 7 elements.</span>\n",
       "    <table>\n",
       "      <tbody>\n",
       "      <tr>\n",
       "      \n",
       "      <td>\n",
       "        2\n",
       "      </td>\n",
       "      \n",
       "      <td>\n",
       "        13\n",
       "      </td>\n",
       "      \n",
       "      <td>\n",
       "        26\n",
       "      </td>\n",
       "      \n",
       "      <td>\n",
       "        20\n",
       "      </td>\n",
       "      \n",
       "      <td>\n",
       "        6\n",
       "      </td>\n",
       "      \n",
       "      <td>\n",
       "        4\n",
       "      </td>\n",
       "      \n",
       "      <td>\n",
       "        3\n",
       "      </td>\n",
       "      \n",
       "      </tr>\n",
       "      </tbody>\n",
       "    </table>\n",
       "    \n",
       "      </td>\n",
       "      </tr>\n",
       "      \n",
       "      <tr>\n",
       "      <th>\n",
       "        density\n",
       "      </th>\n",
       "      <td>\n",
       "        \n",
       "    <span>FloatVector with 7 elements.</span>\n",
       "    <table>\n",
       "      <tbody>\n",
       "      <tr>\n",
       "      \n",
       "      <td>\n",
       "        0.002703\n",
       "      </td>\n",
       "      \n",
       "      <td>\n",
       "        0.017568\n",
       "      </td>\n",
       "      \n",
       "      <td>\n",
       "        0.035135\n",
       "      </td>\n",
       "      \n",
       "      <td>\n",
       "        0.027027\n",
       "      </td>\n",
       "      \n",
       "      <td>\n",
       "        0.008108\n",
       "      </td>\n",
       "      \n",
       "      <td>\n",
       "        0.005405\n",
       "      </td>\n",
       "      \n",
       "      <td>\n",
       "        0.004054\n",
       "      </td>\n",
       "      \n",
       "      </tr>\n",
       "      </tbody>\n",
       "    </table>\n",
       "    \n",
       "      </td>\n",
       "      </tr>\n",
       "      \n",
       "      <tr>\n",
       "      <th>\n",
       "        mids\n",
       "      </th>\n",
       "      <td>\n",
       "        \n",
       "    <span>FloatVector with 7 elements.</span>\n",
       "    <table>\n",
       "      <tbody>\n",
       "      <tr>\n",
       "      \n",
       "      <td>\n",
       "        -25.000000\n",
       "      </td>\n",
       "      \n",
       "      <td>\n",
       "        -15.000000\n",
       "      </td>\n",
       "      \n",
       "      <td>\n",
       "        -5.000000\n",
       "      </td>\n",
       "      \n",
       "      <td>\n",
       "        5.000000\n",
       "      </td>\n",
       "      \n",
       "      <td>\n",
       "        15.000000\n",
       "      </td>\n",
       "      \n",
       "      <td>\n",
       "        25.000000\n",
       "      </td>\n",
       "      \n",
       "      <td>\n",
       "        35.000000\n",
       "      </td>\n",
       "      \n",
       "      </tr>\n",
       "      </tbody>\n",
       "    </table>\n",
       "    \n",
       "      </td>\n",
       "      </tr>\n",
       "      \n",
       "      <tr>\n",
       "      <th>\n",
       "        xname\n",
       "      </th>\n",
       "      <td>\n",
       "        \n",
       "    <span>StrVector with 1 elements.</span>\n",
       "    <table>\n",
       "      <tbody>\n",
       "      <tr>\n",
       "      \n",
       "      <td>\n",
       "        'RfitLVV$resid'\n",
       "      </td>\n",
       "      \n",
       "      </tr>\n",
       "      </tbody>\n",
       "    </table>\n",
       "    \n",
       "      </td>\n",
       "      </tr>\n",
       "      \n",
       "      <tr>\n",
       "      <th>\n",
       "        equidist\n",
       "      </th>\n",
       "      <td>\n",
       "        \n",
       "    <span>BoolVector with 1 elements.</span>\n",
       "    <table>\n",
       "      <tbody>\n",
       "      <tr>\n",
       "      \n",
       "      <td>\n",
       "               1\n",
       "      </td>\n",
       "      \n",
       "      </tr>\n",
       "      </tbody>\n",
       "    </table>\n",
       "    \n",
       "      </td>\n",
       "      </tr>\n",
       "      \n",
       "      </tbody>\n",
       "    </table>\n",
       "    "
      ],
      "text/plain": [
       "R object with classes: ('histogram',) mapped to:\n",
       "<ListVector - Python:0x000002BD5DCA9508 / R:0x000002BD63657420>\n",
       "[Float..., IntVe..., Float..., Float..., StrVe..., BoolV...]\n",
       "  breaks: <class 'rpy2.robjects.vectors.FloatVector'>\n",
       "  R object with classes: ('numeric',) mapped to:\n",
       "<FloatVector - Python:0x000002BD5DCB8588 / R:0x000002BD62328508>\n",
       "[-30.000000, -20.000000, -10.000000, 0.000000, 10.000000, 20.000000, 30.000000, 40.000000]\n",
       "  counts: <class 'rpy2.robjects.vectors.IntVector'>\n",
       "  R object with classes: ('integer',) mapped to:\n",
       "<IntVector - Python:0x000002BD606655C8 / R:0x000002BD63001698>\n",
       "[2, 13, 26, 20, 6, 4, 3]\n",
       "  density: <class 'rpy2.robjects.vectors.FloatVector'>\n",
       "  R object with classes: ('numeric',) mapped to:\n",
       "<FloatVector - Python:0x000002BD5E05E088 / R:0x000002BD62E0F480>\n",
       "[0.002703, 0.017568, 0.035135, 0.027027, 0.008108, 0.005405, 0.004054]\n",
       "  mids: <class 'rpy2.robjects.vectors.FloatVector'>\n",
       "  R object with classes: ('numeric',) mapped to:\n",
       "<FloatVector - Python:0x000002BD60665608 / R:0x000002BD62E0F2E0>\n",
       "[-25.000000, -15.000000, -5.000000, 5.000000, 15.000000, 25.000000, 35.000000]\n",
       "  xname: <class 'rpy2.robjects.vectors.StrVector'>\n",
       "  R object with classes: ('character',) mapped to:\n",
       "<StrVector - Python:0x000002BD5E063648 / R:0x000002BD62FE1D38>\n",
       "['RfitLVV$resid']\n",
       "  equidist: <class 'rpy2.robjects.vectors.BoolVector'>\n",
       "  R object with classes: ('logical',) mapped to:\n",
       "<BoolVector - Python:0x000002BD5E061688 / R:0x000002BD56DF0F20>\n",
       "[       1]"
      ]
     },
     "execution_count": 92,
     "metadata": {},
     "output_type": "execute_result"
    }
   ],
   "source": [
    "%R hist(RfitLVV$resid)"
   ]
  },
  {
   "cell_type": "markdown",
   "metadata": {},
   "source": [
    "\n",
    "A group of diagnostic plots (residual, qq, scale-location, leverage) to assess model performance when applied to a fitted linear regression model.\n",
    "\n",
    "https://data.library.virginia.edu/diagnostic-plots/"
   ]
  },
  {
   "cell_type": "code",
   "execution_count": 198,
   "metadata": {},
   "outputs": [
    {
     "data": {
      "image/png": "[encoded data removed]"
     },
     "metadata": {},
     "output_type": "display_data"
    }
   ],
   "source": [
    "%R par(mfrow=c(2,2));  plot(RfitLVV)  # Plot four panels on the same figure"
   ]
  },
  {
   "cell_type": "code",
   "execution_count": 199,
   "metadata": {},
   "outputs": [
    {
     "data": {
      "text/html": [
       "<div>\n",
       "<style scoped>\n",
       "    .dataframe tbody tr th:only-of-type {\n",
       "        vertical-align: middle;\n",
       "    }\n",
       "\n",
       "    .dataframe tbody tr th {\n",
       "        vertical-align: top;\n",
       "    }\n",
       "\n",
       "    .dataframe thead th {\n",
       "        text-align: right;\n",
       "    }\n",
       "</style>\n",
       "<table border=\"1\" class=\"dataframe\">\n",
       "  <thead>\n",
       "    <tr style=\"text-align: right;\">\n",
       "      <th></th>\n",
       "      <th>0</th>\n",
       "      <th>1</th>\n",
       "      <th>2</th>\n",
       "      <th>3</th>\n",
       "      <th>4</th>\n",
       "      <th>5</th>\n",
       "      <th>6</th>\n",
       "    </tr>\n",
       "  </thead>\n",
       "  <tbody>\n",
       "    <tr>\n",
       "      <th>Subject</th>\n",
       "      <td>subj_01</td>\n",
       "      <td>subj_02</td>\n",
       "      <td>subj_03</td>\n",
       "      <td>subj_04</td>\n",
       "      <td>subj_05</td>\n",
       "      <td>subj_06</td>\n",
       "      <td>subj_07</td>\n",
       "    </tr>\n",
       "    <tr>\n",
       "      <th>Sex</th>\n",
       "      <td>F</td>\n",
       "      <td>M</td>\n",
       "      <td>M</td>\n",
       "      <td>M</td>\n",
       "      <td>M</td>\n",
       "      <td>F</td>\n",
       "      <td>M</td>\n",
       "    </tr>\n",
       "    <tr>\n",
       "      <th>AcquisitionYearsW1</th>\n",
       "      <td>56.63</td>\n",
       "      <td>49.07</td>\n",
       "      <td>74.61</td>\n",
       "      <td>56.23</td>\n",
       "      <td>63.22</td>\n",
       "      <td>60.51</td>\n",
       "      <td>58.87</td>\n",
       "    </tr>\n",
       "    <tr>\n",
       "      <th>AcquisitionYearsW2</th>\n",
       "      <td>60.35</td>\n",
       "      <td>52.58</td>\n",
       "      <td>78.14</td>\n",
       "      <td>59.78</td>\n",
       "      <td>67</td>\n",
       "      <td>64.29</td>\n",
       "      <td>62.42</td>\n",
       "    </tr>\n",
       "    <tr>\n",
       "      <th>AcquisitionYearsW3</th>\n",
       "      <td>62.62</td>\n",
       "      <td>55.05</td>\n",
       "      <td>80.59</td>\n",
       "      <td>62.68</td>\n",
       "      <td>69.53</td>\n",
       "      <td>66.82</td>\n",
       "      <td>64.87</td>\n",
       "    </tr>\n",
       "    <tr>\n",
       "      <th>Left-Lateral-Ventricle_W1</th>\n",
       "      <td>5321.4</td>\n",
       "      <td>11038.6</td>\n",
       "      <td>29718.4</td>\n",
       "      <td>21830.1</td>\n",
       "      <td>17205.1</td>\n",
       "      <td>14800.4</td>\n",
       "      <td>19864.5</td>\n",
       "    </tr>\n",
       "    <tr>\n",
       "      <th>Left-Lateral-Ventricle_W2</th>\n",
       "      <td>5063.6</td>\n",
       "      <td>11912.2</td>\n",
       "      <td>32265.1</td>\n",
       "      <td>23933.6</td>\n",
       "      <td>16970.1</td>\n",
       "      <td>18814.5</td>\n",
       "      <td>20962.8</td>\n",
       "    </tr>\n",
       "    <tr>\n",
       "      <th>Left-Lateral-Ventricle_W3</th>\n",
       "      <td>5368.3</td>\n",
       "      <td>12313.3</td>\n",
       "      <td>35887</td>\n",
       "      <td>26164.2</td>\n",
       "      <td>15858.1</td>\n",
       "      <td>19464.2</td>\n",
       "      <td>22141.1</td>\n",
       "    </tr>\n",
       "    <tr>\n",
       "      <th>Right-Lateral-Ventricle_W1</th>\n",
       "      <td>6855.2</td>\n",
       "      <td>10611.6</td>\n",
       "      <td>34241</td>\n",
       "      <td>15243.9</td>\n",
       "      <td>13962.1</td>\n",
       "      <td>12281.2</td>\n",
       "      <td>12133.7</td>\n",
       "    </tr>\n",
       "    <tr>\n",
       "      <th>Right-Lateral-Ventricle_W2</th>\n",
       "      <td>6729.2</td>\n",
       "      <td>11774.8</td>\n",
       "      <td>37155.2</td>\n",
       "      <td>16505.1</td>\n",
       "      <td>13755.5</td>\n",
       "      <td>16135.2</td>\n",
       "      <td>13055.5</td>\n",
       "    </tr>\n",
       "    <tr>\n",
       "      <th>Right-Lateral-Ventricle_W3</th>\n",
       "      <td>7233.2</td>\n",
       "      <td>12070.5</td>\n",
       "      <td>41221.4</td>\n",
       "      <td>18509.1</td>\n",
       "      <td>13143.9</td>\n",
       "      <td>17163.3</td>\n",
       "      <td>13651.7</td>\n",
       "    </tr>\n",
       "    <tr>\n",
       "      <th>EstimatedTotalIntraCranialVol_W3</th>\n",
       "      <td>1.23268e+06</td>\n",
       "      <td>1.46469e+06</td>\n",
       "      <td>1.38584e+06</td>\n",
       "      <td>1.52945e+06</td>\n",
       "      <td>1.37146e+06</td>\n",
       "      <td>1.42997e+06</td>\n",
       "      <td>1.76611e+06</td>\n",
       "    </tr>\n",
       "    <tr>\n",
       "      <th>Stroop_3_R_W3</th>\n",
       "      <td>66</td>\n",
       "      <td>85</td>\n",
       "      <td>71</td>\n",
       "      <td>41</td>\n",
       "      <td>62</td>\n",
       "      <td>89</td>\n",
       "      <td>46</td>\n",
       "    </tr>\n",
       "  </tbody>\n",
       "</table>\n",
       "</div>"
      ],
      "text/plain": [
       "                                            0            1            2  \\\n",
       "Subject                               subj_01      subj_02      subj_03   \n",
       "Sex                                         F            M            M   \n",
       "AcquisitionYearsW1                      56.63        49.07        74.61   \n",
       "AcquisitionYearsW2                      60.35        52.58        78.14   \n",
       "AcquisitionYearsW3                      62.62        55.05        80.59   \n",
       "Left-Lateral-Ventricle_W1              5321.4      11038.6      29718.4   \n",
       "Left-Lateral-Ventricle_W2              5063.6      11912.2      32265.1   \n",
       "Left-Lateral-Ventricle_W3              5368.3      12313.3        35887   \n",
       "Right-Lateral-Ventricle_W1             6855.2      10611.6        34241   \n",
       "Right-Lateral-Ventricle_W2             6729.2      11774.8      37155.2   \n",
       "Right-Lateral-Ventricle_W3             7233.2      12070.5      41221.4   \n",
       "EstimatedTotalIntraCranialVol_W3  1.23268e+06  1.46469e+06  1.38584e+06   \n",
       "Stroop_3_R_W3                              66           85           71   \n",
       "\n",
       "                                            3            4            5  \\\n",
       "Subject                               subj_04      subj_05      subj_06   \n",
       "Sex                                         M            M            F   \n",
       "AcquisitionYearsW1                      56.23        63.22        60.51   \n",
       "AcquisitionYearsW2                      59.78           67        64.29   \n",
       "AcquisitionYearsW3                      62.68        69.53        66.82   \n",
       "Left-Lateral-Ventricle_W1             21830.1      17205.1      14800.4   \n",
       "Left-Lateral-Ventricle_W2             23933.6      16970.1      18814.5   \n",
       "Left-Lateral-Ventricle_W3             26164.2      15858.1      19464.2   \n",
       "Right-Lateral-Ventricle_W1            15243.9      13962.1      12281.2   \n",
       "Right-Lateral-Ventricle_W2            16505.1      13755.5      16135.2   \n",
       "Right-Lateral-Ventricle_W3            18509.1      13143.9      17163.3   \n",
       "EstimatedTotalIntraCranialVol_W3  1.52945e+06  1.37146e+06  1.42997e+06   \n",
       "Stroop_3_R_W3                              41           62           89   \n",
       "\n",
       "                                            6  \n",
       "Subject                               subj_07  \n",
       "Sex                                         M  \n",
       "AcquisitionYearsW1                      58.87  \n",
       "AcquisitionYearsW2                      62.42  \n",
       "AcquisitionYearsW3                      64.87  \n",
       "Left-Lateral-Ventricle_W1             19864.5  \n",
       "Left-Lateral-Ventricle_W2             20962.8  \n",
       "Left-Lateral-Ventricle_W3             22141.1  \n",
       "Right-Lateral-Ventricle_W1            12133.7  \n",
       "Right-Lateral-Ventricle_W2            13055.5  \n",
       "Right-Lateral-Ventricle_W3            13651.7  \n",
       "EstimatedTotalIntraCranialVol_W3  1.76611e+06  \n",
       "Stroop_3_R_W3                              46  "
      ]
     },
     "execution_count": 199,
     "metadata": {},
     "output_type": "execute_result"
    }
   ],
   "source": [
    "df = pd.read_csv('../data/lvv_ri_data.csv')\n",
    "df.head(7).T"
   ]
  },
  {
   "cell_type": "markdown",
   "metadata": {},
   "source": [
    "Reading a Pandas dataframe (df) into R (data)"
   ]
  },
  {
   "cell_type": "code",
   "execution_count": 200,
   "metadata": {},
   "outputs": [],
   "source": [
    "%%R -i df\n",
    "\n",
    "data = df"
   ]
  },
  {
   "cell_type": "code",
   "execution_count": 201,
   "metadata": {},
   "outputs": [
    {
     "data": {
      "text/plain": [
       "array(['Subject', 'Sex', 'AcquisitionYearsW1', 'AcquisitionYearsW2',\n",
       "       'AcquisitionYearsW3', 'Left.Lateral.Ventricle_W1',\n",
       "       'Left.Lateral.Ventricle_W2', 'Left.Lateral.Ventricle_W3',\n",
       "       'Right.Lateral.Ventricle_W1', 'Right.Lateral.Ventricle_W2',\n",
       "       'Right.Lateral.Ventricle_W3', 'EstimatedTotalIntraCranialVol_W3',\n",
       "       'Stroop_3_R_W3'], dtype='<U32')"
      ]
     },
     "execution_count": 201,
     "metadata": {},
     "output_type": "execute_result"
    }
   ],
   "source": [
    "%R names(data)"
   ]
  },
  {
   "cell_type": "code",
   "execution_count": 202,
   "metadata": {},
   "outputs": [
    {
     "data": {
      "image/png": "[encoded data removed]"
     },
     "metadata": {},
     "output_type": "display_data"
    }
   ],
   "source": [
    "%%R -i df\n",
    "\n",
    "library(ggplot2)\n",
    "library(GGally)\n",
    "\n",
    "data = df\n",
    "data$Gender = data$Sex\n",
    "\n",
    "pm <- ggpairs(\n",
    "    data, mapping = aes(color = Gender), \n",
    "    title = \"Pairs plot by gender\",\n",
    "    legend = 1,\n",
    "    columns = c('AcquisitionYearsW1',\n",
    "                'Left.Lateral.Ventricle_W1',\n",
    "                'Left.Lateral.Ventricle_W2', \n",
    "                'Left.Lateral.Ventricle_W3', \n",
    "                'EstimatedTotalIntraCranialVol_W3', \n",
    "                'Stroop_3_R_W3'),\n",
    "  lower = list(\n",
    "    continuous = 'smooth'\n",
    "  ))   \n",
    "\n",
    "\n",
    "pm = pm + theme(axis.text.x = element_text(angle = 90, hjust = 1))\n",
    "\n",
    "pm = pm + theme(\n",
    "  axis.text = element_text(size = 10),\n",
    "  axis.title = element_text(size = 10),\n",
    "  legend.background = element_rect(fill = \"white\"),\n",
    "  panel.grid.major = element_line(colour = NA),\n",
    "#  panel.grid.minor = element_blank(),\n",
    "  panel.grid.minor = element_line(size = 0.25, linetype = 'solid', colour = \"white\"),\n",
    "  panel.background = element_rect(fill = \"grey95\"),\n",
    "  plot.title = element_text(size=24)\n",
    ")\n",
    "\n",
    "print(pm)"
   ]
  },
  {
   "cell_type": "markdown",
   "metadata": {},
   "source": [
    "Converting the R dataframes to Pandas DataFrames using `rpy2` <br>"
   ]
  },
  {
   "cell_type": "code",
   "execution_count": 189,
   "metadata": {},
   "outputs": [],
   "source": [
    "from rpy2.robjects import r, pandas2ri\n",
    "pandas2ri.activate()\n",
    "\n",
    "pd_data = r['data']"
   ]
  },
  {
   "cell_type": "code",
   "execution_count": 191,
   "metadata": {},
   "outputs": [
    {
     "data": {
      "text/html": [
       "<div>\n",
       "<style scoped>\n",
       "    .dataframe tbody tr th:only-of-type {\n",
       "        vertical-align: middle;\n",
       "    }\n",
       "\n",
       "    .dataframe tbody tr th {\n",
       "        vertical-align: top;\n",
       "    }\n",
       "\n",
       "    .dataframe thead th {\n",
       "        text-align: right;\n",
       "    }\n",
       "</style>\n",
       "<table border=\"1\" class=\"dataframe\">\n",
       "  <thead>\n",
       "    <tr style=\"text-align: right;\">\n",
       "      <th></th>\n",
       "      <th>0</th>\n",
       "      <th>1</th>\n",
       "      <th>2</th>\n",
       "      <th>3</th>\n",
       "      <th>4</th>\n",
       "    </tr>\n",
       "  </thead>\n",
       "  <tbody>\n",
       "    <tr>\n",
       "      <th>Subject</th>\n",
       "      <td>subj_01</td>\n",
       "      <td>subj_02</td>\n",
       "      <td>subj_03</td>\n",
       "      <td>subj_04</td>\n",
       "      <td>subj_05</td>\n",
       "    </tr>\n",
       "    <tr>\n",
       "      <th>Sex</th>\n",
       "      <td>F</td>\n",
       "      <td>M</td>\n",
       "      <td>M</td>\n",
       "      <td>M</td>\n",
       "      <td>M</td>\n",
       "    </tr>\n",
       "    <tr>\n",
       "      <th>AcquisitionYearsW1</th>\n",
       "      <td>56.63</td>\n",
       "      <td>49.07</td>\n",
       "      <td>74.61</td>\n",
       "      <td>56.23</td>\n",
       "      <td>63.22</td>\n",
       "    </tr>\n",
       "    <tr>\n",
       "      <th>AcquisitionYearsW2</th>\n",
       "      <td>60.35</td>\n",
       "      <td>52.58</td>\n",
       "      <td>78.14</td>\n",
       "      <td>59.78</td>\n",
       "      <td>67</td>\n",
       "    </tr>\n",
       "    <tr>\n",
       "      <th>AcquisitionYearsW3</th>\n",
       "      <td>62.62</td>\n",
       "      <td>55.05</td>\n",
       "      <td>80.59</td>\n",
       "      <td>62.68</td>\n",
       "      <td>69.53</td>\n",
       "    </tr>\n",
       "    <tr>\n",
       "      <th>Left.Lateral.Ventricle_W1</th>\n",
       "      <td>5321.4</td>\n",
       "      <td>11038.6</td>\n",
       "      <td>29718.4</td>\n",
       "      <td>21830.1</td>\n",
       "      <td>17205.1</td>\n",
       "    </tr>\n",
       "    <tr>\n",
       "      <th>Left.Lateral.Ventricle_W2</th>\n",
       "      <td>5063.6</td>\n",
       "      <td>11912.2</td>\n",
       "      <td>32265.1</td>\n",
       "      <td>23933.6</td>\n",
       "      <td>16970.1</td>\n",
       "    </tr>\n",
       "    <tr>\n",
       "      <th>Left.Lateral.Ventricle_W3</th>\n",
       "      <td>5368.3</td>\n",
       "      <td>12313.3</td>\n",
       "      <td>35887</td>\n",
       "      <td>26164.2</td>\n",
       "      <td>15858.1</td>\n",
       "    </tr>\n",
       "    <tr>\n",
       "      <th>Right.Lateral.Ventricle_W1</th>\n",
       "      <td>6855.2</td>\n",
       "      <td>10611.6</td>\n",
       "      <td>34241</td>\n",
       "      <td>15243.9</td>\n",
       "      <td>13962.1</td>\n",
       "    </tr>\n",
       "    <tr>\n",
       "      <th>Right.Lateral.Ventricle_W2</th>\n",
       "      <td>6729.2</td>\n",
       "      <td>11774.8</td>\n",
       "      <td>37155.2</td>\n",
       "      <td>16505.1</td>\n",
       "      <td>13755.5</td>\n",
       "    </tr>\n",
       "    <tr>\n",
       "      <th>Right.Lateral.Ventricle_W3</th>\n",
       "      <td>7233.2</td>\n",
       "      <td>12070.5</td>\n",
       "      <td>41221.4</td>\n",
       "      <td>18509.1</td>\n",
       "      <td>13143.9</td>\n",
       "    </tr>\n",
       "    <tr>\n",
       "      <th>EstimatedTotalIntraCranialVol_W3</th>\n",
       "      <td>1.23268e+06</td>\n",
       "      <td>1.46469e+06</td>\n",
       "      <td>1.38584e+06</td>\n",
       "      <td>1.52945e+06</td>\n",
       "      <td>1.37146e+06</td>\n",
       "    </tr>\n",
       "    <tr>\n",
       "      <th>Stroop_3_R_W3</th>\n",
       "      <td>66</td>\n",
       "      <td>85</td>\n",
       "      <td>71</td>\n",
       "      <td>41</td>\n",
       "      <td>62</td>\n",
       "    </tr>\n",
       "    <tr>\n",
       "      <th>Gender</th>\n",
       "      <td>F</td>\n",
       "      <td>M</td>\n",
       "      <td>M</td>\n",
       "      <td>M</td>\n",
       "      <td>M</td>\n",
       "    </tr>\n",
       "  </tbody>\n",
       "</table>\n",
       "</div>"
      ],
      "text/plain": [
       "                                            0            1            2  \\\n",
       "Subject                               subj_01      subj_02      subj_03   \n",
       "Sex                                         F            M            M   \n",
       "AcquisitionYearsW1                      56.63        49.07        74.61   \n",
       "AcquisitionYearsW2                      60.35        52.58        78.14   \n",
       "AcquisitionYearsW3                      62.62        55.05        80.59   \n",
       "Left.Lateral.Ventricle_W1              5321.4      11038.6      29718.4   \n",
       "Left.Lateral.Ventricle_W2              5063.6      11912.2      32265.1   \n",
       "Left.Lateral.Ventricle_W3              5368.3      12313.3        35887   \n",
       "Right.Lateral.Ventricle_W1             6855.2      10611.6        34241   \n",
       "Right.Lateral.Ventricle_W2             6729.2      11774.8      37155.2   \n",
       "Right.Lateral.Ventricle_W3             7233.2      12070.5      41221.4   \n",
       "EstimatedTotalIntraCranialVol_W3  1.23268e+06  1.46469e+06  1.38584e+06   \n",
       "Stroop_3_R_W3                              66           85           71   \n",
       "Gender                                      F            M            M   \n",
       "\n",
       "                                            3            4  \n",
       "Subject                               subj_04      subj_05  \n",
       "Sex                                         M            M  \n",
       "AcquisitionYearsW1                      56.23        63.22  \n",
       "AcquisitionYearsW2                      59.78           67  \n",
       "AcquisitionYearsW3                      62.68        69.53  \n",
       "Left.Lateral.Ventricle_W1             21830.1      17205.1  \n",
       "Left.Lateral.Ventricle_W2             23933.6      16970.1  \n",
       "Left.Lateral.Ventricle_W3             26164.2      15858.1  \n",
       "Right.Lateral.Ventricle_W1            15243.9      13962.1  \n",
       "Right.Lateral.Ventricle_W2            16505.1      13755.5  \n",
       "Right.Lateral.Ventricle_W3            18509.1      13143.9  \n",
       "EstimatedTotalIntraCranialVol_W3  1.52945e+06  1.37146e+06  \n",
       "Stroop_3_R_W3                              41           62  \n",
       "Gender                                      M            M  "
      ]
     },
     "execution_count": 191,
     "metadata": {},
     "output_type": "execute_result"
    }
   ],
   "source": [
    "pd_data.head().T"
   ]
  },
  {
   "cell_type": "code",
   "execution_count": null,
   "metadata": {},
   "outputs": [],
   "source": []
  }
 ],
 "metadata": {
  "kernelspec": {
   "display_name": "LVV-RI",
   "language": "python",
   "name": "lvv-ri"
  },
  "language_info": {
   "codemirror_mode": {
    "name": "ipython",
    "version": 3
   },
   "file_extension": ".py",
   "mimetype": "text/x-python",
   "name": "python",
   "nbconvert_exporter": "python",
   "pygments_lexer": "ipython3",
   "version": "3.6.7"
  },
  "toc": {
   "base_numbering": 1,
   "nav_menu": {},
   "number_sections": true,
   "sideBar": true,
   "skip_h1_title": false,
   "title_cell": "Table of Contents",
   "title_sidebar": "Contents",
   "toc_cell": false,
   "toc_position": {},
   "toc_section_display": true,
   "toc_window_display": false
  }
 },
 "nbformat": 4,
 "nbformat_minor": 2
}
